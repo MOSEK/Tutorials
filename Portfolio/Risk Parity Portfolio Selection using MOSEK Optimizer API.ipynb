{
 "cells": [
  {
   "cell_type": "markdown",
   "metadata": {},
   "source": [
    "![MOSEK ApS](https://mosek.com/files/mosek_logo_color.png )\n",
    "\n",
    "\n",
    "## Risk Parity Portfolio Selection using MOSEK Optimizer API\n",
    "\n",
    "\n",
    "Portfolio selection (or portfolio management) is the art and science of making decisions about investment mix and policy, matching investments to objectives, asset allocation for individuals and institutions, and balancing risk against performance.\n",
    "\n",
    "The aim of this tutorial is two-fold:\n",
    "\n",
    "1. to show some modeling techniques to define portfolio selections problems;\n",
    "2. to show how to efficiently implement those problems using MOSEK Optimizer API.\n",
    "\n",
    "\n",
    "This tutorial is largerly based on:\n",
    "\n",
    "    [1] Bai, X., Scheinberg, K., Tutuncu, R. (2013). Least-squares approach to risk parity in portfolio selection\n",
    "\n",
    "The code is written in Python2 and uses the [MOSEK Optimizer API](https://mosek.com/resources/doc) version 7.1."
   ]
  },
  {
   "cell_type": "markdown",
   "metadata": {},
   "source": [
    "# Risk Parity\n",
    "\n",
    "Consider the problem of an investor, who has to invest his money in $n$ different assets. Which allocation strategy should he use to obtain the maximum $\\textit{benefit}$ from his investment?\n",
    "\n",
    "Let $x_i$ be the percentage of money invested in assets $i$, and $\\mu_i$ its expected return. Let assume we know the covariance matrix $\\Sigma$ that link the assets together. We can then define two global measures of the portfolio performance:\n",
    "\n",
    "$$\n",
    "\\mu =\\sum_{i=1}^n \\mu_i x_i, \n",
    "$$\n",
    "\n",
    "and \n",
    "\n",
    "$$\n",
    "\\sigma^2 = \\sum_{i=1}^n \\sum_{j=1}^n \\Sigma_{i,j}x_i x_j = x^T \\Sigma x.\n",
    "$$\n",
    "\n",
    "For different choices of $x_i$ the investor will get different combinations of $\\mu$ and $\\sigma^2$. The set of all possible ($\\sigma^2$, $\\mu$) combinations is called the $\\textit{attainable set}$.\n",
    "\n",
    "With $\\textit{risk}$ is intended a measurement of the likelihood that an investment will go up and down in value, and how often and by how much. The theory assumes that investors prefer to minimize risk; in fact, it assumes that given the choice of two portfolios with equal returns, investors will choose the one with the least risk.\n",
    "\n",
    "In a fully-invested portfolio, every asset $i$ has his contribution in terms of risk. Let $RC_i(x)$ be this contribution, we have that the total risk of the invested portfolio is:\n",
    "\n",
    "$$\n",
    "\\mathcal{R}(x) = \\sum_{i=1}^n RC_i(x)\n",
    "$$\n",
    "\n",
    "where\n",
    "\n",
    "$$\n",
    "RC_i(x) = x_i \\frac{\\partial \\mathcal{R}(x)}{\\partial x_i}\n",
    "$$\n",
    "\n",
    "Let $b=(b_1,..,b_n)$ be a vector of $\\textbf{budgets}$ such as $b_i > 0$ and $\\sum_{i=1}^n b_i = 1$. We define a **risk parity** (or risk budgeting) portfolio as the solution of the following set of equations:\n",
    "\n",
    "$$\n",
    "\\begin{aligned}\n",
    "&\\begin{cases}\n",
    "RC_1(x) = b_1 \\mathcal{R}(x)\\\\\n",
    "..\\\\\n",
    "RC_i(x) = b_i \\mathcal{R}(x)\\\\\n",
    "..\\\\\n",
    "RC_n(x) = b_n \\mathcal{R}(x)\n",
    "\\end{cases}\n",
    "\\end{aligned}\n",
    "$$\n",
    "\n",
    "From the above equations, we can write the risk parity constraint as:\n",
    "\n",
    "$$\n",
    "\\frac{x_i}{b_i} \\frac{\\partial \\mathcal{R}(x)}{\\partial x_i} = \\frac{x_j}{b_j} \\frac{\\partial \\mathcal{R}(x)}{\\partial x_j} \\hspace{1em} \\forall i,j\n",
    "$$\n",
    "\n",
    "The Risk Parity portfolio is defined by this system of equations:\n",
    "\n",
    "$$\n",
    "\\begin{aligned}\n",
    "&\\frac{x_i}{b_i} \\frac{\\partial \\mathcal{R}(x)}{\\partial x_i} = \\frac{x_j}{b_j} \\frac{\\partial \\mathcal{R}(x)}{\\partial x_j} && \\forall i,j\\\\\n",
    "&x_i \\geq 0,  &&b_i > 0 \\\\\n",
    "&\\sum_{i=1}^n x_i = 1,  &&\\sum_{i=1}^n b_i = 1\n",
    "\\end{aligned}\n",
    "$$\n",
    "\n",
    "If we set\n",
    "\n",
    "$$\n",
    "\\mathcal{R}(x) = \\sqrt{x^T\\Sigma x}\n",
    "$$\n",
    "\n",
    "solving the following problem that incorporates a logarithmic barrier in the objective function is equivalent to find a Risk Parity solution:\n",
    "\n",
    "$$\n",
    "\\begin{equation}\n",
    "\\begin{array}{l}\n",
    "    \\min_x \\frac{1}{2} x^T \\Sigma x - c \\sum_{i=1}^{n} b_i ln(x_i)\\\\\n",
    "    \\text{s.t.}\\\\\n",
    "    x > 0 \n",
    "        \\end{array}\n",
    "\\end{equation}\n",
    "$$\n",
    "\n",
    "where $b_i > 0$, $\\sum_i b_i = 1$ and $c$ is a positive constant.\n",
    "\n",
    "### Proof\n",
    "\n",
    "Since $\\Sigma$ is positive semidefinite and the logarithm function is strictly concave, the objective function is $\\textbf{strictly convex}$. From the first order condition, the unique solution is in corrispondence of the point where the gradient of the objective function is zero:\n",
    "\n",
    "$$\n",
    "\\Sigma x - c b_i x^{-1} = 0\n",
    "$$\n",
    "\n",
    "Hence, at optimality we have\n",
    "\n",
    "$$\n",
    "(\\Sigma x)_i = \\frac{c b_i}{x_i} \\Rightarrow \\frac{x_i(\\Sigma x)_i}{b_i} = \\frac{x_j(\\Sigma x)_j}{b_j}, \\quad \\forall i,j,\n",
    "$$\n",
    "\n",
    "since \n",
    "\n",
    "$$\n",
    "\\frac{\\partial \\mathcal{R}(x)}{\\partial x_i} = (\\Sigma x)_i.\n",
    "$$\n"
   ]
  },
  {
   "cell_type": "markdown",
   "metadata": {},
   "source": [
    "# MOSEK Implementation"
   ]
  },
  {
   "cell_type": "markdown",
   "metadata": {},
   "source": [
    "First of all, we have to import the MOSEK library into the project. Before setting up the optimization problem, a MOSEK $\\textbf{environment}$ must be created. All tasks in the program should share the same environment (go to <a href=\"http://docs.mosek.com/7.1/pythonapi/index.html\">MOSEK Optimizer API Documentation</a> for further information)."
   ]
  },
  {
   "cell_type": "code",
   "execution_count": 1,
   "metadata": {
    "collapsed": true
   },
   "outputs": [],
   "source": [
    "import mosek\n",
    "import numpy as np\n",
    "\n",
    "env = mosek.Env()"
   ]
  },
  {
   "cell_type": "markdown",
   "metadata": {},
   "source": [
    "Next, an empty $\\textbf{task}$ object is created:"
   ]
  },
  {
   "cell_type": "code",
   "execution_count": 2,
   "metadata": {
    "collapsed": true
   },
   "outputs": [],
   "source": [
    "task = env.Task()"
   ]
  },
  {
   "cell_type": "markdown",
   "metadata": {},
   "source": [
    "Now, we create some sample data. In this case we have 10 assets and we randomly generate a semidefinite-positive covariance matrix and the budget vector."
   ]
  },
  {
   "cell_type": "code",
   "execution_count": 3,
   "metadata": {
    "collapsed": false
   },
   "outputs": [],
   "source": [
    "n = 10\n",
    "\n",
    "A = np.random.sample([n,n])\n",
    "\n",
    "#Q is our covariance matrix\n",
    "Q = np.dot(A,A.transpose())\n",
    "\n",
    "#b is the vector of budgets \n",
    "b = np.random.sample(n)\n",
    "b = b/np.sum(b)"
   ]
  },
  {
   "cell_type": "markdown",
   "metadata": {},
   "source": [
    "For this type of problem, we have $n$ variables and $1$ constraint. So we set them into the task:"
   ]
  },
  {
   "cell_type": "code",
   "execution_count": 4,
   "metadata": {
    "collapsed": false
   },
   "outputs": [],
   "source": [
    "numvar = n\n",
    "numcon = 1\n",
    "\n",
    "task.appendvars(numvar)\n",
    "task.appendcons(numcon)"
   ]
  },
  {
   "cell_type": "markdown",
   "metadata": {},
   "source": [
    "We have to write the constraint $x>0$. The bounds on variables are stored in the arrays:"
   ]
  },
  {
   "cell_type": "code",
   "execution_count": 5,
   "metadata": {
    "collapsed": false
   },
   "outputs": [],
   "source": [
    "# Bound keys for variables \n",
    "bkx = [mosek.boundkey.lo] * n\n",
    "    \n",
    "# Bound values for variables \n",
    "blx = np.zeros(n)\n",
    "bux = [np.infty] * n"
   ]
  },
  {
   "cell_type": "markdown",
   "metadata": {},
   "source": [
    "Now we have to set the bounds for every variable $x_j$:"
   ]
  },
  {
   "cell_type": "code",
   "execution_count": 6,
   "metadata": {
    "collapsed": true
   },
   "outputs": [],
   "source": [
    "task.putvarboundslice(0, numvar, bkx, blx, bux)"
   ]
  },
  {
   "cell_type": "markdown",
   "metadata": {},
   "source": [
    "The next step is to write down the objective function. Since the covariance matrix $\\Sigma$ is symmetric, we can use only his upper-triangle:"
   ]
  },
  {
   "cell_type": "code",
   "execution_count": 7,
   "metadata": {
    "collapsed": true
   },
   "outputs": [],
   "source": [
    "#extract the indexes of the upper-triangle of the covariance matrix\n",
    "indexes = np.tril_indices(numvar)\n",
    "qsubi = indexes[0]\n",
    "qsubj = indexes[1]\n",
    "\n",
    "#create the upper-triangle matrix with the indexes previously extracted\n",
    "qval = np.tril(Q)[indexes]"
   ]
  },
  {
   "cell_type": "markdown",
   "metadata": {},
   "source": [
    "Now, we can add the first part of the objective function to the task:"
   ]
  },
  {
   "cell_type": "code",
   "execution_count": 8,
   "metadata": {
    "collapsed": false
   },
   "outputs": [],
   "source": [
    "task.putqobj(qsubi,qsubj,qval)"
   ]
  },
  {
   "cell_type": "markdown",
   "metadata": {},
   "source": [
    "Now, we have to add the logarithmic term to the objective function. MOSEK provides a simple interface for separable convex optimization problems, named `SCopt`, in which our problem perfecly fits. See [official docs](http://docs.mosek.com/7.1/pythonapi/Separable_convex_SCopt_interface.html).\n",
    "\n",
    "In `SCopt` each function must be expressed as sum of separable terms, i.e. simple univariate functions. IN the case of the logarithm, we can input a term of the form\n",
    "\n",
    "$$\n",
    "    f \\ln(g\\cdot x + h),\n",
    "$$\n",
    "\n",
    "where $f,g,h$ are constants choosen in a way the function must be concave. In our case $f=-b$, $g=1$ and $h=0$.\n",
    "\n",
    "In terms of implementation we do"
   ]
  },
  {
   "cell_type": "code",
   "execution_count": 9,
   "metadata": {
    "collapsed": false
   },
   "outputs": [],
   "source": [
    "#define logarithm for all n variables\n",
    "opro = [mosek.scopr.log] * n \n",
    "\n",
    "#define the variable indexes\n",
    "oprjo = np.array([i for i in range(n)])\n",
    "\n",
    "#define the multiplicative term (in this case we assume c=1)\n",
    "oprfo = -b\n",
    "\n",
    "#define the exponential terms\n",
    "oprgo = np.ones(n)\n",
    "\n",
    "#define the additive terms\n",
    "oprho = np.zeros(n)"
   ]
  },
  {
   "cell_type": "markdown",
   "metadata": {},
   "source": [
    "We can now build the separable term using the function:"
   ]
  },
  {
   "cell_type": "code",
   "execution_count": 10,
   "metadata": {
    "collapsed": false
   },
   "outputs": [],
   "source": [
    "task.putSCeval(opro, oprjo, oprfo, oprgo, oprho)"
   ]
  },
  {
   "cell_type": "markdown",
   "metadata": {},
   "source": [
    "Now we have to tell to the optimizer that this is a minimization problem:\n"
   ]
  },
  {
   "cell_type": "code",
   "execution_count": 11,
   "metadata": {
    "collapsed": true
   },
   "outputs": [],
   "source": [
    "# Input the objective sense (minimize/maximize) \n",
    "task.putobjsense(mosek.objsense.minimize) "
   ]
  },
  {
   "cell_type": "markdown",
   "metadata": {},
   "source": [
    "Finally, we call the optimization routine:"
   ]
  },
  {
   "cell_type": "code",
   "execution_count": 12,
   "metadata": {
    "collapsed": false
   },
   "outputs": [
    {
     "data": {
      "text/plain": [
       "ok"
      ]
     },
     "execution_count": 12,
     "metadata": {},
     "output_type": "execute_result"
    }
   ],
   "source": [
    "task.optimize()"
   ]
  },
  {
   "cell_type": "markdown",
   "metadata": {},
   "source": [
    "# Results"
   ]
  },
  {
   "cell_type": "markdown",
   "metadata": {},
   "source": [
    "We can access to the optimal solution found through two simple instructions:"
   ]
  },
  {
   "cell_type": "code",
   "execution_count": 13,
   "metadata": {
    "collapsed": false
   },
   "outputs": [],
   "source": [
    "xx = np.zeros(numvar, float)\n",
    "task.getxx(mosek.soltype.itr,xx)"
   ]
  },
  {
   "cell_type": "markdown",
   "metadata": {},
   "source": [
    "If we also want that $\\sum_{i=1}^n x_i = 1$ we normalize the solution:"
   ]
  },
  {
   "cell_type": "code",
   "execution_count": 14,
   "metadata": {
    "collapsed": false
   },
   "outputs": [],
   "source": [
    "xx = xx/np.sum(xx)"
   ]
  },
  {
   "cell_type": "markdown",
   "metadata": {},
   "source": [
    "Now we can see the Risk Parity solution in a bar chart:"
   ]
  },
  {
   "cell_type": "code",
   "execution_count": 15,
   "metadata": {
    "collapsed": false
   },
   "outputs": [
    {
     "name": "stderr",
     "output_type": "stream",
     "text": [
      "/home/aszek/anaconda2/lib/python2.7/site-packages/numpy/core/_methods.py:26: VisibleDeprecationWarning: using a non-integer number instead of an integer will result in an error in the future\n",
      "  return umr_maximum(a, axis, None, out, keepdims)\n"
     ]
    },
    {
     "data": {
      "image/png": "[encoded data removed]",
      "text/plain": [
       "<matplotlib.figure.Figure at 0x7f296c1288d0>"
      ]
     },
     "metadata": {},
     "output_type": "display_data"
    }
   ],
   "source": [
    "%matplotlib inline\n",
    "import matplotlib.pyplot as plt\n",
    "\n",
    "def plot_bar(xx, c, title, xlabel, ylabel):\n",
    "    n = len(xx)\n",
    "    ind = np.arange(n)\n",
    "    width = 1\n",
    "    fig, ax = plt.subplots()\n",
    "    plt.xlabel(xlabel)\n",
    "    plt.ylabel(ylabel)\n",
    "    plt.title(title)\n",
    "    ax.set_xticks(ind + 0.5)\n",
    "    ax.set_xticklabels(ind)\n",
    "    rects1 = ax.bar(ind, xx, width, color=c)\n",
    "    bound = np.abs( np.max( np.abs(np.min(xx)), np.abs(np.max(xx))) )\n",
    "    #if np.min(xx)<0:\n",
    "    plt.axis( [0, n, -1.1*bound, 1.1*bound])# if np.min(xx)<0. else [0, n, 0, 1.1*bound])\n",
    "    plt.show()\n",
    "                 \n",
    "# the histogram of the data\n",
    "plot_bar(xx, 'r', 'Risk Parity Solution', 'Assets', 'Weight')\n"
   ]
  },
  {
   "cell_type": "markdown",
   "metadata": {},
   "source": [
    "A Risk Parity solution satisfies the following equation:\n",
    "    \n",
    "$$\n",
    "\\frac{RC_i(x)}{x^T \\Sigma x} = b_i \\quad \\forall i \\in \\{1,..,n\\}\n",
    "$$"
   ]
  },
  {
   "cell_type": "markdown",
   "metadata": {
    "collapsed": true
   },
   "source": [
    "To verify that this is really a Risk Parity solution, we now compute the marginal risk contributions for all assets:"
   ]
  },
  {
   "cell_type": "code",
   "execution_count": 16,
   "metadata": {
    "collapsed": false
   },
   "outputs": [
    {
     "data": {
      "image/png": "[encoded data removed]",
      "text/plain": [
       "<matplotlib.figure.Figure at 0x7f2959656b90>"
      ]
     },
     "metadata": {},
     "output_type": "display_data"
    },
    {
     "data": {
      "image/png": "[encoded data removed]",
      "text/plain": [
       "<matplotlib.figure.Figure at 0x7f2959664fd0>"
      ]
     },
     "metadata": {},
     "output_type": "display_data"
    },
    {
     "data": {
      "image/png": "[encoded data removed]",
      "text/plain": [
       "<matplotlib.figure.Figure at 0x7f2958428bd0>"
      ]
     },
     "metadata": {},
     "output_type": "display_data"
    }
   ],
   "source": [
    "\n",
    "aux = Q.dot(xx)\n",
    "volatility = xx.dot(aux)\n",
    "\n",
    "RC = (xx*aux)/volatility\n",
    "    \n",
    "#print budget vector\n",
    "plot_bar(b, 'b', 'Budget Vector b', 'Assets', 'Budget Value')\n",
    "\n",
    "#print marginal risk contribution\n",
    "plot_bar(RC, 'r', 'Risk Contribution', 'Assets', 'Marginal Risk Contribution')\n",
    "\n",
    "#print the differences between the two above\n",
    "plot_bar(RC-b, 'y', 'Risk Parity Deviation', 'Assets', 'Deviation')\n",
    "\n"
   ]
  },
  {
   "cell_type": "markdown",
   "metadata": {},
   "source": [
    "# Summary\n",
    "\n",
    "In this notebook we showed how to cast in convex for the basic Risk Parity Portfolio problem. We then use the MOSEK SCopt Python interface to solve the problem. A simpler numerical example shows that the problem can be easily solved.\n",
    "\n",
    "Further improvements may come from exploting sparsity in the covariance matrix. Additional constraints may be included, but the equivalence between of the convex formulation may not hold.\n"
   ]
  },
  {
   "cell_type": "markdown",
   "metadata": {},
   "source": [
    "<a rel=\"license\" href=\"http://creativecommons.org/licenses/by/4.0/\"><img alt=\"Creative Commons License\" style=\"border-width:0\" src=\"https://i.creativecommons.org/l/by/4.0/80x15.png\" /></a><br />This work is licensed under a <a rel=\"license\" href=\"http://creativecommons.org/licenses/by/4.0/\">Creative Commons Attribution 4.0 International License</a>. The **MOSEK** logo and name are trademarks of <a href=\"http://mosek.com\">Mosek ApS</a>. The code is provided as-is. Compatibility with future release of **MOSEK** or the `Fusion API` are not guaranteed. For more information contact our [support](mailto:support@mosek.com). "
   ]
  }
 ],
 "metadata": {
  "kernelspec": {
   "display_name": "Python [default]",
   "language": "python",
   "name": "python2"
  },
  "language_info": {
   "codemirror_mode": {
    "name": "ipython",
    "version": 2
   },
   "file_extension": ".py",
   "mimetype": "text/x-python",
   "name": "python",
   "nbconvert_exporter": "python",
   "pygments_lexer": "ipython2",
   "version": "2.7.12"
  }
 },
 "nbformat": 4,
 "nbformat_minor": 0
}
