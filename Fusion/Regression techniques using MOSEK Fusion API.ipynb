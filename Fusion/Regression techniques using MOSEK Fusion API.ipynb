{
 "cells": [
  {
   "cell_type": "markdown",
   "metadata": {},
   "source": [
    "![MOSEK ApS](https://www.mosek.com/static/images/branding/webgraphmoseklogocolor.png )\n",
    "\n",
    "# Linear Regression techniques using MOSEK Fusion API\n",
    "\n",
    "\n",
    "Regression is one of the most used techniques in finance, statistic, biology and in general any application where it is necessary to construct models that approximate input data.\n",
    "\n",
    "The aim of this tutorial is two-fold:\n",
    "\n",
    "1. to show some modeling techniques to define regression problems;\n",
    "2. to show how to efficiently implement those problems using MOSEK Fusion API.\n",
    "\n",
    "\n",
    "This tutorial is largerly based on:\n",
    "\n",
    "    [1] Schmelzer, T., Hauser, R., Andersen, E., & Dahl, J. (2013). Regression techniques for Portfolio Optimisation using MOSEK. arXiv preprint arXiv:1310.3397.\n",
    "    [2] Boyd, S., & Vandenberghe, L. (2004). Convex optimization. Cambridge university press.\n",
    "\n",
    "\n",
    "The code is written in Python3 and uses the [MOSEK Fusion API](https://mosek.com/resources/doc) version 8."
   ]
  },
  {
   "cell_type": "markdown",
   "metadata": {},
   "source": [
    "# The basics\n",
    "\n",
    "Our aim is to define a linear model that explain the relation of a set of $m$ given variables $x_1,\\ldots,x_m$ (the *inputs*) and a dependent variable $y$ (the *output*). To this extent we assume that there exists a set of weights $w\\in \\mathbb{R}^{m}$ such that ideally\n",
    "\n",
    "$$\n",
    "y = x^T w,\n",
    "$$\n",
    "\n",
    "where $x=(x_1,\\ldots,x_m)$.\n",
    "\n",
    "In practice, we are given $n$ observations of the relation that links $x$ and $y$. We store them row-wise in a matrix $X\\in \\mathbb{R}^{n\\times m}$. Corresponding outputs $y=(y_i,\\ldots,y_n)$ are known as well. If the relation we want to describe is truly linear we can hope to solve the linear system\n",
    "\n",
    "$$\n",
    "X w =y.\n",
    "$$\n",
    "\n",
    "But usually this is not the case because\n",
    "\n",
    "\n",
    "* in the real-world perfect linear model are fairly rare;\n",
    "* $y_i$'s may be corrupted or noisy;\n",
    "* we may want to include conditions on $w$, i.e. asking that $w\\in W$ with $W$ some well define convex set.\n",
    "\n",
    "Since our main interest is on conic optimization, we assume $W$ to be a conic representable set. \n",
    "For sake of simplicity we consider $W=\\{w\\in \\mathbb{R}^m \\}$. \n",
    "\n",
    "What we can do is to reduce the error that the linear model introduces. We define \n",
    "\n",
    "$$\n",
    "r = Xw - y,\n",
    "$$\n",
    "\n",
    "as the *vector of residual*. Our aim is thus to reduce as much as possible some error function $\\phi(\\cdot)$ on $r$, i.e.\n",
    "\n",
    "$$\n",
    "\\begin{array}{ll}\n",
    " \\min & \\phi(r)\\\\ s.t.&\\\\\n",
    "  & r = Xw - y, \\\\\n",
    "  & w\\in W.\n",
    "\\end{array}\n",
    "$$\n",
    "\n",
    "The choice of the function $\\phi(\\cdot)$ determines the way errors on the residuals are weighted. Typical choices are:\n",
    "\n",
    "* $l_p-$norm \n",
    "* *Chebyshev* norm (also known as *Min-max*)\n",
    "* *Deadzone-linear* \n",
    "* *$k$-largest residuals*\n",
    "\n",
    "In the following we will provide the penalty functions definition and implementations. We first start including relevant modules and with some helper functions."
   ]
  },
  {
   "cell_type": "code",
   "execution_count": 1,
   "metadata": {
    "collapsed": false,
    "scrolled": true
   },
   "outputs": [],
   "source": [
    "from mosek.fusion import *\n",
    "\n",
    "%matplotlib inline\n",
    "import matplotlib.pyplot as plt\n",
    "plt.rc('savefig',dpi=120)\n",
    "\n",
    "def plot(title,err,nbins,color):\n",
    "    plt.xlim([min(err),max(err)])\n",
    "    plt.title(title)\n",
    "    plt.grid()\n",
    "    plt.hist( err,nbins,facecolor=color,histtype='stepfilled')\n",
    "    plt.show()\n",
    "\n",
    "def ddot(x,y): return sum([ xx*yy for xx,yy in zip(x,y)])\n",
    "def error(X,w,y): return [ ddot(X[i], w ) - y[i] for i in range(len(y)) ]\n",
    "\n",
    "def print_err(name,ee):\n",
    "    n= len(y)\n",
    "    absee= [ abs(e) for e in ee]\n",
    "    print(\"%s avg= %f ; |min| = %f ; |max| = %f ; |avg| = %f\"%(name, sum(ee)/n, min(absee), max(absee), sum(absee)/n))\n",
    "\n",
    "nbuckets = 20"
   ]
  },
  {
   "cell_type": "markdown",
   "metadata": {},
   "source": [
    "We also need some dat to make a simple regression. "
   ]
  },
  {
   "cell_type": "code",
   "execution_count": 2,
   "metadata": {
    "collapsed": false
   },
   "outputs": [],
   "source": [
    "import random as rnd \n",
    "\n",
    "n = 500\n",
    "m = 2\n",
    "e= 1\n",
    "\n",
    "X = [ [rnd.gauss(0.0,e) for j in range(m)] for i in range(n)]\n",
    "y = [ sum(X[i])+rnd.gauss(0.0,e/2.) for i in range(n)]\n"
   ]
  },
  {
   "cell_type": "markdown",
   "metadata": {},
   "source": [
    "## $l_p$ norm\n",
    "\n",
    "The $l_p$ norm\n",
    "\n",
    "$$\\phi(r) = \\| r \\|_p = \\left( \\sum_i |r_i|^p \\right)^{1/p}$$\n",
    "\n",
    "Typical choices are \n",
    "\n",
    "\n",
    "* $p=1$, i.e. the some of absolute values, i.e.\n",
    "\n",
    "$$\n",
    "\\phi(r) = \\sum_i |r_i|\n",
    "$$\n",
    "\n",
    "* $p=2$, i.e. the Euclidean norm,\n",
    "\n",
    "$$\n",
    "\\phi(r) = \\sqrt{ \\sum_i r_i^2 } \n",
    "$$\n",
    "\n",
    "The conic model for the $l_1$ norm is\n",
    "\n",
    "$$\n",
    "\\begin{array}{lll}\n",
    "\\min & \\sum_i t_i\\\\\n",
    "s.t. &\\\\\n",
    "& t_i \\geq | x_i^T w - y_i|,& \\forall i=1,\\ldots,n\\\\\n",
    "& w\\geq 0\n",
    "\\end{array}\n",
    "$$\n",
    "\n",
    "The absolute value can be converted in a pair of linear constraints, yielding the following compact formulation:\n",
    "\n",
    "$$\n",
    "\\begin{array}{ll}\n",
    "\\min & \\sum_i t_i\\\\\n",
    "s.t. &\\\\\n",
    "& t \\geq Xw - y\\\\\n",
    "& t \\geq y - Xw\\\\\n",
    "& w\\geq 0.\n",
    "\\end{array}\n",
    "$$\n",
    "\n",
    "Implementing the model in Fusion only takes few lines:"
   ]
  },
  {
   "cell_type": "code",
   "execution_count": 3,
   "metadata": {
    "collapsed": false
   },
   "outputs": [],
   "source": [
    "def lsq_l1_norm(X,y,n,m):\n",
    "       \n",
    "    with Model() as M:\n",
    "           \n",
    "        w = M.variable(m, Domain.unbounded())\n",
    "        t = M.variable(n, Domain.unbounded())\n",
    "            \n",
    "    \n",
    "        M.constraint( Expr.sub(Expr.mul(X,w),t), Domain.lessThan(y))\n",
    "        M.constraint( Expr.add(t,Expr.mul(X,w)), Domain.greaterThan(y))\n",
    "            \n",
    "        M.objective(ObjectiveSense.Minimize, Expr.sum(t))\n",
    "    \n",
    "        M.solve()\n",
    "    \n",
    "        return w.level()"
   ]
  },
  {
   "cell_type": "markdown",
   "metadata": {},
   "source": [
    "Similarly, the $l_2$ norm model reads\n",
    "\n",
    "$$\n",
    "\\begin{array}{ll}\n",
    "\\min_{w,t} & t\\\\\n",
    "s.t. &\\\\\n",
    "& t \\geq \\| X w - y||_2.\n",
    "\\end{array}\n",
    "$$\n",
    "\n",
    "Thanks to the use of second order cones, we can minimize directly the $2$-norm with no issue from non-differentiability at the origin:\n",
    "\n",
    "$$\n",
    "\\begin{array}{ll}\n",
    "\\min_{w,t} & t\\\\\n",
    "s.t. &\\\\\n",
    "& (t, X w - y) \\in \\mathcal{Q^{n+1}}.\n",
    "\\end{array}\n",
    "$$\n"
   ]
  },
  {
   "cell_type": "code",
   "execution_count": 4,
   "metadata": {
    "collapsed": false
   },
   "outputs": [],
   "source": [
    "def lsq_l2_norm(X,y,n,m):\n",
    "    \n",
    "    with Model() as M:\n",
    "           \n",
    "        w = M.variable(m, Domain.unbounded())\n",
    "        t = M.variable(1, Domain.unbounded())\n",
    "    \n",
    "        M.constraint(Expr.vstack(t, Expr.sub( Expr.mul(X,w), y)), Domain.inQCone(1,n+1))\n",
    "            \n",
    "        M.objective(ObjectiveSense.Minimize, t)\n",
    "       \n",
    "        M.solve()\n",
    "    \n",
    "        return w.level()"
   ]
  },
  {
   "cell_type": "markdown",
   "metadata": {},
   "source": [
    "Notice how we use the method `Var.repeat` to logically repeat $t$ and obtain a vector with $n$ components."
   ]
  },
  {
   "cell_type": "code",
   "execution_count": 5,
   "metadata": {
    "collapsed": false
   },
   "outputs": [
    {
     "name": "stdout",
     "output_type": "stream",
     "text": [
      "l1 :  avg= -0.048031 ; |min| = 0.000000 ; |max| = 1.322007 ; |avg| = 0.380129\n",
      "l2 :  avg= -0.047901 ; |min| = 0.000240 ; |max| = 1.315056 ; |avg| = 0.380249\n"
     ]
    },
    {
     "data": {
      "image/png": "[encoded data removed]",
      "text/plain": [
       "<matplotlib.figure.Figure at 0x7fbfd86b2290>"
      ]
     },
     "metadata": {},
     "output_type": "display_data"
    },
    {
     "data": {
      "image/png": "[encoded data removed]",
      "text/plain": [
       "<matplotlib.figure.Figure at 0x7fbfaf802ad0>"
      ]
     },
     "metadata": {},
     "output_type": "display_data"
    }
   ],
   "source": [
    "w1  = lsq_l1_norm(X,y,n,m)\n",
    "w2  = lsq_l2_norm(X,y,n,m)\n",
    "\n",
    "err1 = error(X,w1,y)\n",
    "err2 = error(X,w2,y)\n",
    "\n",
    "print_err('l1 : ', err1)\n",
    "print_err('l2 : ', err2)\n",
    "\n",
    "plot('1-Norm error',err1,nbuckets,'blue')\n",
    "plot('2-Norm error',err2,nbuckets,'red')\n"
   ]
  },
  {
   "cell_type": "markdown",
   "metadata": {},
   "source": [
    "## The $3/2$ regression \n",
    "\n",
    "We consider a penalty function of the form\n",
    "\n",
    "$$\\phi(r) = \\sum_i | r_i |^{3/2}.$$\n",
    "\n",
    "This is a typical case where conic quadratic optimization shines. The model is therefore:\n",
    "\n",
    "$$\n",
    " \\begin{array}{lll}\n",
    "  \\min & \\sum_i t_i                        &             \\\\\n",
    "      & (t_i, [Xw-y]_i)\\in \\mathcal{Q^2}  & i=1,\\ldots,m, \\\\\n",
    "      & (s_i,z_i, t_i) \\in \\mathcal{Q_r^3}& i=1,\\ldots,m,\\\\\n",
    "      & (1/8,t_i, s_i) \\in \\mathcal{Q_r^3}& i=1,\\ldots,m.\n",
    " \\end{array}\n",
    "$$\n",
    "\n",
    "A compact Fusion implementation is "
   ]
  },
  {
   "cell_type": "code",
   "execution_count": 6,
   "metadata": {
    "collapsed": true
   },
   "outputs": [],
   "source": [
    "def lsq_32_reg(X,y,n,m):\n",
    "    \n",
    "    with Model() as M:\n",
    "        w = M.variable('w', m)\n",
    "        \n",
    "        t = M.variable('t', m, Domain.unbounded())\n",
    "        s = M.variable('s', m, Domain.unbounded())\n",
    "        z = M.variable('z', m, Domain.unbounded())\n",
    "    \n",
    "\n",
    "        M.constraint(Expr.vstack( t, Expr.sub(Expr.mul(X,w), y)), Domain.inQCone())        \n",
    "        M.constraint(Expr.hstack(s, z, t), Domain.inRotatedQCone())\n",
    "        M.constraint(Expr.hstack(Expr.constTerm(m,1./8.),t, s), Domain.inRotatedQCone())\n",
    "    \n",
    "        M.objective(ObjectiveSense.Minimize, Expr.sum(t))\n",
    "\n",
    "        M.solve()\n",
    "    \n",
    "        return w.level()"
   ]
  },
  {
   "cell_type": "markdown",
   "metadata": {},
   "source": [
    "Note in particular how we can define set of cones from horizontally stacked vectors: Fusion will generate a cone for each rows!"
   ]
  },
  {
   "cell_type": "code",
   "execution_count": 7,
   "metadata": {
    "collapsed": false
   },
   "outputs": [
    {
     "name": "stdout",
     "output_type": "stream",
     "text": [
      "3/2 linear regression:  avg= -0.047901 ; |min| = 0.000240 ; |max| = 1.315056 ; |avg| = 0.380249\n"
     ]
    },
    {
     "data": {
      "image/png": "[encoded data removed]",
      "text/plain": [
       "<matplotlib.figure.Figure at 0x7fbfc8028110>"
      ]
     },
     "metadata": {},
     "output_type": "display_data"
    }
   ],
   "source": [
    "w3_2  = lsq_32_reg(X,y,n,m)\n",
    "\n",
    "\n",
    "err3_2 = error(X,w3_2,y)\n",
    "\n",
    "\n",
    "print_err('3/2 linear regression: ', err3_2)\n",
    "\n",
    "plot('3/2 linear regression',err3_2,nbuckets,'cyan')"
   ]
  },
  {
   "cell_type": "markdown",
   "metadata": {},
   "source": [
    "# Deadzone-linear\n",
    "\n",
    "This approach steams from the $l_1$ norm approximation, but ignoring small errors. Given a threshold $a\\geq 0$, we define \n",
    "\n",
    "$$ \\phi(r) = \\sum_i \\max(0, |r_i|-a )$$\n",
    "\n",
    "\n",
    "The conic optimization model takes the form:\n",
    "\n",
    "$$\n",
    "\\begin{array}{lll}\n",
    "\\min &  \\sum_i t_i\\\\\n",
    "s.t. &\\\\\n",
    "& t_i \\geq | x_i^T w - y_i|-a,& \\forall i=1,\\ldots,n\\\\\n",
    "& t\\geq 0 \n",
    "\\end{array}\n",
    "$$ \n",
    "\n",
    "Again, removing the absolute value we obtain in compact form:\n",
    "\n",
    "$$\n",
    "\\begin{array}{ll}\n",
    "\\min & t\\\\\n",
    "s.t. &\\\\\n",
    "& t\\cdot e \\geq Xw - y - a\\\\\n",
    "& t \\cdot e \\geq y - Xw - a.\n",
    "\\end{array}\n",
    "$$\n",
    "\n",
    "where $e$ is a vector of all ones.\n"
   ]
  },
  {
   "cell_type": "code",
   "execution_count": 8,
   "metadata": {
    "collapsed": true
   },
   "outputs": [],
   "source": [
    "def lsq_deadzone_linear(X,y,n,m,a):\n",
    "    \n",
    "    if a<0.: return None\n",
    "    \n",
    "    with Model() as M:\n",
    "           \n",
    "        w = M.variable(m)\n",
    "        t = M.variable(n)\n",
    "        \n",
    "        y_plus_a  = [y[i]+a for i in range(n)]\n",
    "        y_minus_a = [y[i]-a for i in range(n)]\n",
    "    \n",
    "       \n",
    "        M.constraint( Expr.sub( Expr.mul(X,w), t), Domain.lessThan(y_plus_a))\n",
    "        M.constraint( Expr.add( t, Expr.mul(X,w)), Domain.greaterThan(y_minus_a))\n",
    "        \n",
    "        M.objective(ObjectiveSense.Minimize, Expr.sum(t))\n",
    "    \n",
    "        M.solve()\n",
    "    \n",
    "        return w.level()"
   ]
  },
  {
   "cell_type": "code",
   "execution_count": 9,
   "metadata": {
    "collapsed": false
   },
   "outputs": [
    {
     "name": "stdout",
     "output_type": "stream",
     "text": [
      "Dead-zone linear regression:  avg= -0.048031 ; |min| = 0.000000 ; |max| = 1.322007 ; |avg| = 0.380129\n"
     ]
    },
    {
     "data": {
      "image/png": "[encoded data removed]",
      "text/plain": [
       "<matplotlib.figure.Figure at 0x7fbfc8018090>"
      ]
     },
     "metadata": {},
     "output_type": "display_data"
    }
   ],
   "source": [
    "wdzl  = lsq_deadzone_linear(X,y,n,m,1.)\n",
    "\n",
    "\n",
    "errdzl = error(X,wdzl,y)\n",
    "\n",
    "\n",
    "print_err('Dead-zone linear regression: ', errdzl)\n",
    "\n",
    "plot('Dead-zone linear regression',errdzl,10,'green')"
   ]
  },
  {
   "cell_type": "markdown",
   "metadata": {},
   "source": [
    "## Chebyshev Approximation\n",
    "\n",
    "Sometimes referred as the *minmax* approximation, it uses \n",
    "\n",
    "$$\\phi(r) = \\max_i( |r_i| ) = \\|r\\|_{\\infty}$$\n",
    "\n",
    "as penalty function. It is a limit case of $l_p-$norm as $p\\rightarrow \\infty$. The effect is to only look at the largest error in absolute value. The formulation of our problem is therefore\n",
    "\n",
    "$$\n",
    "\\begin{array}{lll}\n",
    "\\min & t\\\\\n",
    "s.t. &\\\\\n",
    "& t \\geq | x_i^T w - y_i|,& \\forall i=1,\\ldots,n.\n",
    "\\end{array}\n",
    "$$\n",
    "\n",
    "The absolute value can be converted in a pair of linear constraints, yielding the following compact formulation:\n",
    "\n",
    "$$\n",
    "\\begin{array}{ll}\n",
    "\\min & t\\\\\n",
    "s.t. &\\\\\n",
    "& t\\cdot e \\geq Xw - y\\\\\n",
    "& t\\cdot e \\geq y - Xw.\n",
    "\\end{array}\n",
    "$$\n",
    "\n",
    "where $e$ is a vector of all ones. This formulation is easily implemented in Fusion:\n"
   ]
  },
  {
   "cell_type": "code",
   "execution_count": 10,
   "metadata": {
    "collapsed": false
   },
   "outputs": [],
   "source": [
    "def lsq_minmax_norm(X,y,n,m):\n",
    "    \n",
    "    with Model() as M:\n",
    "           \n",
    "        w = M.variable(m)\n",
    "        t = M.variable(1, Domain.unbounded())\n",
    "    \n",
    "        one_t= Var.repeat(t,n)\n",
    "    \n",
    "        M.constraint( Expr.sub( Expr.mul(X,w), one_t), Domain.lessThan(y))\n",
    "        M.constraint( Expr.add( one_t, Expr.mul(X,w)), Domain.greaterThan(y))\n",
    "        \n",
    "        M.objective(ObjectiveSense.Minimize, t)\n",
    "    \n",
    "        M.solve()\n",
    "    \n",
    "        return w.level()"
   ]
  },
  {
   "cell_type": "markdown",
   "metadata": {},
   "source": [
    "Notice how we use `Variable.repeat` to logically repeat $t$."
   ]
  },
  {
   "cell_type": "code",
   "execution_count": 11,
   "metadata": {
    "collapsed": false
   },
   "outputs": [
    {
     "name": "stdout",
     "output_type": "stream",
     "text": [
      "Minimax regression:  avg= -0.047186 ; |min| = 0.000380 ; |max| = 1.251415 ; |avg| = 0.383337\n"
     ]
    },
    {
     "data": {
      "image/png": "[encoded data removed]",
      "text/plain": [
       "<matplotlib.figure.Figure at 0x7fbfac61c310>"
      ]
     },
     "metadata": {},
     "output_type": "display_data"
    }
   ],
   "source": [
    "wmm = lsq_minmax_norm(X,y,n,m)\n",
    "\n",
    "\n",
    "errmm = error(X,wmm,y)\n",
    "\n",
    "\n",
    "print_err('Minimax regression: ', errmm)\n",
    "\n",
    "plot('Minimax regression',errmm,10,'orange')\n",
    "\n"
   ]
  },
  {
   "cell_type": "markdown",
   "metadata": {},
   "source": [
    "# Sum of the largest $k$ residuals\n",
    "\n",
    "The penalty function $\\phi$ is defined as \n",
    "\n",
    "$$\\phi(u) = \\sum_{i=1}^k | r_{[i]} |, $$\n",
    "\n",
    "where the notation $r_{[i]}$ indicates the $i$-th element of $r$ sorted. It can be shown that the corresponding regression problem is indeed a linear program:\n",
    "\n",
    "\n",
    "$$\n",
    "\\begin{array}{ll}\n",
    "\\min & z\\\\\n",
    "& r = Xw -y \\\\\n",
    "& t \\geq r\\\\\n",
    "& t \\geq -r\\\\\n",
    "& kt + \\mathbb{1}^t u \\leq z\\\\\n",
    "& s \\mathbb{1} + u \\geq t\\\\\n",
    "& u\\geq 0,\\\\\n",
    "& u\\in \\mathbb{R}^n,t\\in \\mathbb{R}.\n",
    "\\end{array}\n",
    "$$\n",
    "\n",
    "More details can be found in `[2]`. The code follows:\n"
   ]
  },
  {
   "cell_type": "code",
   "execution_count": 12,
   "metadata": {
    "collapsed": false
   },
   "outputs": [],
   "source": [
    "def lsq_k_largest(X,y,n,m,k):\n",
    "    \n",
    "    with Model() as M:\n",
    "        \n",
    "        w = M.variable(m, Domain.unbounded())\n",
    "        r = M.variable(n, Domain.unbounded())\n",
    "        t = M.variable(n, Domain.greaterThan(0.))\n",
    "        z = M.variable(1, Domain.unbounded())\n",
    "        s = M.variable(1, Domain.unbounded())\n",
    "        u = M.variable(n, Domain.greaterThan(0.))\n",
    "                  \n",
    "        M.constraint(Expr.sub(Expr.mul(X,w),r), Domain.equalsTo(y))\n",
    "        \n",
    "        M.constraint( Expr.sub(t,r), Domain.greaterThan(0.))\n",
    "        M.constraint( Expr.add(t,r), Domain.greaterThan(0.))\n",
    "        \n",
    "        M.constraint( Expr.add([Expr.mul(float(k),s),Expr.sum(u),Expr.neg(z)]), Domain.lessThan(0.))\n",
    "        \n",
    "        M.constraint( Expr.sub(Expr.add(Var.repeat(s,n),u), t), Domain.greaterThan(0.))\n",
    "        \n",
    "        M.objective(ObjectiveSense.Minimize, z)\n",
    "        M.solve()\n",
    "    \n",
    "        return w.level()"
   ]
  },
  {
   "cell_type": "code",
   "execution_count": 13,
   "metadata": {
    "collapsed": false
   },
   "outputs": [
    {
     "name": "stdout",
     "output_type": "stream",
     "text": [
      "K-largest regression:  avg= -0.047703 ; |min| = 0.004052 ; |max| = 1.263374 ; |avg| = 0.382431\n"
     ]
    },
    {
     "data": {
      "image/png": "[encoded data removed]",
      "text/plain": [
       "<matplotlib.figure.Figure at 0x7fbfac625310>"
      ]
     },
     "metadata": {},
     "output_type": "display_data"
    }
   ],
   "source": [
    "wkl = lsq_k_largest(X,y,n,m,10.)\n",
    "\n",
    "\n",
    "errkl = error(X,wkl,y)\n",
    "\n",
    "\n",
    "print_err('K-largest regression: ', errkl)\n",
    "\n",
    "plot('K-largest regression',errkl,10,'yellow')\n",
    "\n"
   ]
  },
  {
   "cell_type": "markdown",
   "metadata": {},
   "source": [
    "# Some observations\n",
    "\n",
    "## Modeling\n",
    "\n",
    "All the regression models presented in this tutorial lead to either a linear or a second-order conic optimization problem. That means that\n",
    "\n",
    "* they can be solved in polynomial time by standard optimization algorithms;\n",
    "\n",
    "* add additional (conic)constraints on the weights can be easily included;\n",
    "\n",
    "* sparsity in the input, i.e. in $X$, can be easily handled and usually leads to great savings in time and memory;\n",
    "\n",
    "* it is a good rule of thumb to try to solve also the dual formulation, which can be sometimes faster.\n",
    "\n",
    "For large scale models, it may be necesary to move from **Fusion** to the lower-level API in order to save memory and reduce model building time.\n",
    "\n",
    "\n",
    "## Computational time\n",
    "\n",
    "To conclude, let us see the differences in terms of running time:"
   ]
  },
  {
   "cell_type": "code",
   "execution_count": 14,
   "metadata": {
    "collapsed": false
   },
   "outputs": [
    {
     "name": "stdout",
     "output_type": "stream",
     "text": [
      "10 loops, best of 3: 76.9 ms per loop\n",
      "10 loops, best of 3: 29.2 ms per loop\n",
      "10 loops, best of 3: 33.3 ms per loop\n",
      "10 loops, best of 3: 124 ms per loop\n",
      "10 loops, best of 3: 239 ms per loop\n",
      "10 loops, best of 3: 78.4 ms per loop\n"
     ]
    }
   ],
   "source": [
    "%timeit w1  = lsq_l1_norm(X,y,n,m)\n",
    "%timeit w2  = lsq_l2_norm(X,y,n,m)\n",
    "%timeit w32 = lsq_32_reg(X,y,n,m)\n",
    "%timeit wmm = lsq_minmax_norm(X,y,n,m)\n",
    "%timeit wkl = lsq_k_largest(X,y,n,m, 10)\n",
    "%timeit wdzl= lsq_deadzone_linear(X,y,n,m, 0.15)"
   ]
  },
  {
   "cell_type": "markdown",
   "metadata": {},
   "source": [
    "As expected, the running time is roughly the same for all formulations."
   ]
  },
  {
   "cell_type": "markdown",
   "metadata": {},
   "source": [
    "# Conclusions\n",
    "\n",
    "In this tutorial we have presented some typical linear regression techiniques. They lead to conic optimization problems that are \n",
    "\n",
    "* easy to formulate using MOSEK Fusion API;\n",
    "\n",
    "* solvable by robust and state-of-the-art algorithms in polynomial time;\n",
    "\n",
    "* flexible as more constraints can be included.\n",
    "\n"
   ]
  },
  {
   "cell_type": "markdown",
   "metadata": {},
   "source": [
    "<a rel=\"license\" href=\"http://creativecommons.org/licenses/by/4.0/\"><img alt=\"Creative Commons License\" style=\"border-width:0\" src=\"https://i.creativecommons.org/l/by/4.0/80x15.png\" /></a><br />This work is licensed under a <a rel=\"license\" href=\"http://creativecommons.org/licenses/by/4.0/\">Creative Commons Attribution 4.0 International License</a>. The **MOSEK** logo and name are trademarks of <a href=\"http://mosek.com\">Mosek ApS</a>. The code is provided as-is. Compatibility with future release of **MOSEK** or the `Fusion API` are not guaranteed. For more information contact our [support](mailto:support@mosek.com). "
   ]
  }
 ],
 "metadata": {
  "anaconda-cloud": {},
  "kernelspec": {
   "display_name": "Python [conda root]",
   "language": "python",
   "name": "conda-root-py"
  },
  "language_info": {
   "codemirror_mode": {
    "name": "ipython",
    "version": 2
   },
   "file_extension": ".py",
   "mimetype": "text/x-python",
   "name": "python",
   "nbconvert_exporter": "python",
   "pygments_lexer": "ipython2",
   "version": "2.7.12"
  }
 },
 "nbformat": 4,
 "nbformat_minor": 0
}
