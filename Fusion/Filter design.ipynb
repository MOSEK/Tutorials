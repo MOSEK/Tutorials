{
 "metadata": {
  "anaconda-cloud": {},
  "kernelspec": {
   "display_name": "Python [conda root]",
   "language": "python",
   "name": "conda-root-py"
  },
  "language_info": {
   "codemirror_mode": {
    "name": "ipython",
    "version": 2
   },
   "file_extension": ".py",
   "mimetype": "text/x-python",
   "name": "python",
   "nbconvert_exporter": "python",
   "pygments_lexer": "ipython2",
   "version": "2.7.12"
  },
  "name": "",
  "signature": "sha256:8678e279ed580d7dd1568737995ca2378d57af5eb4e7de1bb679661c2010cb70"
 },
 "nbformat": 3,
 "nbformat_minor": 0,
 "worksheets": [
  {
   "cells": [
    {
     "cell_type": "markdown",
     "metadata": {},
     "source": [
      "![MOSEK ApS](https://www.mosek.com/static/images/branding/webgraphmoseklogocolor.png )"
     ]
    },
    {
     "cell_type": "markdown",
     "metadata": {},
     "source": [
      "# Optimization problem over nonnegative trigonometric polynomials. #\n",
      "\n",
      "We consider the trigonometric polynomial\n",
      " \n",
      "$$H(\\omega) = x_0 + 2 \\sum_{k=1}^n [ \\Re(x_k) \\cos(\\omega k) + \\Im(x_k) \\sin(\\omega k) ],$$\n",
      "\n",
      "where $H(\\omega)$ is a real valued function paramtrized by the complex vector $x\\in {\\bf C}^{n+1}$, and where $\\Im(x_0)=0$.\n",
      "\n",
      "The example shows how to construct a *non-negative* polynomial $H(\\omega)\\geq 0, \\: \\forall \\omega$ that satisfies,\n",
      "  \n",
      "$$1 - \\delta \\leq  H(\\omega) \\leq 1 + \\delta, \\quad  \\forall \\omega \\in [0, \\omega_p]$$\n",
      "\n",
      "while minimizing $\\sup_{\\omega\\in [\\omega_s,\\pi]} H(\\omega)$ over the variables $x$.\n",
      "\n",
      "In the signal processing literature such a trigonometric polynomial is known as (the squared amplitude response of) a Chebyshev lowpass filter. \n",
      "\n",
      "A squared amplitude response $H(\\omega)$ is always symmetric around $0$, so $\\Im(x_k)=0$, and we consider only\n",
      "\n",
      "$$H(\\omega) = x_0 + 2 \\sum_{k=1}^n x_k \\cos(\\omega k) $$\n",
      "\n",
      "over the real vector $x\\in {\\bf R}^{n+1}$. However, the concepts in the example are readily applied to the case with $x\\in {\\bf C}^{n+1}$.\n",
      "\n",
      "References:\n",
      "  1. \"Squared Functional Systems and Optimization Problems\",  Y. Nesterov, 2004.\n",
      "  \n",
      "  2. \"Convex Optimization of Non-negative Polynomials: Structured Algorithms and Applications\", Ph.D thesis, Y. Hachez, 2003.\n"
     ]
    },
    {
     "cell_type": "code",
     "collapsed": false,
     "input": [
      "import mosek\n",
      "from   mosek.fusion import *\n",
      "from   math import cos, pi\n",
      "import numpy as np\n",
      "import sys"
     ],
     "language": "python",
     "metadata": {},
     "outputs": [],
     "prompt_number": 1
    },
    {
     "cell_type": "markdown",
     "metadata": {},
     "source": [
      "### Nonnegativity everywhere ###\n",
      "\n",
      "Nesterov proved in [1] that $H(\\omega) \\geq 0, \\: \\forall \\omega$ if and only if \n",
      "$$x_i = \\langle T_i^{n+1}, X \\rangle, \\quad X \\in {\\mathcal H}^{n+1}_+,$$\n",
      "where ${\\mathcal H}_+$ is the cone of Hermitian semidefinite matrices and $T_i$ is a Toeplitz matrix\n",
      "$$[T_i]_{kl} = \\left \\{ \\begin{array}{ll}1, & k-l=i\\\\0 & \\text{otherwise}.\\end{array} \\right .$$\n",
      "For example, for $n=2$ we have\n",
      "$$\n",
      "   T_0 = \\left[\\begin{array}{ccc}\n",
      "   1 & 0 & 0\\\\0 & 1 & 0\\\\0 & 0 & 1\n",
      "   \\end{array}\n",
      "   \\right], \\quad\n",
      "   T_1 = \\left[\\begin{array}{ccc}\n",
      "   0 & 0 & 0\\\\1 & 0 & 0\\\\0 & 1 & 0\n",
      "   \\end{array}\n",
      "   \\right],\n",
      "   \\quad\n",
      "   T_2 = \\left[\\begin{array}{ccc}\n",
      "   0 & 0 & 0\\\\0 & 0 & 0\\\\1 & 0 & 0\n",
      "   \\end{array}\n",
      "   \\right].\n",
      "$$\n",
      "In our case we have $\\Im(x_i)=0$, i.e., $X\\in {\\mathcal S}^{n+1}_+$ is a real symmetric semidefinite matrix.\n",
      "\n",
      "We define the *cone on nonnegative trigonometric polynomials* as\n",
      "$$\n",
      "   K^n_{0,\\pi} = \\{ x\\in \\mathbf{R} \\times \\mathbf{C}^n \\mid x_i = \\langle X, T_i\\rangle, \\: i=0,\\dots,n, \\: X\\in\\mathcal{H}_+^{n+1} \\}.\n",
      "$$"
     ]
    },
    {
     "cell_type": "code",
     "collapsed": false,
     "input": [
      "def T_dot_X(n, i, X, a=1.0):\n",
      "    if i>=n or i<=-n: return Expr.constTerm(0.0)\n",
      "    else: return Expr.dot(Matrix.diag(n, a, -i), X)"
     ],
     "language": "python",
     "metadata": {},
     "outputs": [],
     "prompt_number": 2
    },
    {
     "cell_type": "code",
     "collapsed": false,
     "input": [
      "def trigpoly_0_pi(M, x):\n",
      "    '''x[i] == <T(n+1,i),X>'''\n",
      "    n = int(x.size()-1)\n",
      "    X = M.variable(\"X\", Domain.inPSDCone(n+1))\n",
      "    \n",
      "    for i in range(n+1):\n",
      "        M.constraint(Expr.sub(T_dot_X(n+1,i,X), x.index(i)), Domain.equalsTo(0.0))"
     ],
     "language": "python",
     "metadata": {},
     "outputs": [],
     "prompt_number": 3
    },
    {
     "cell_type": "markdown",
     "metadata": {},
     "source": [
      "Note that we have dropped the imaginary part of $X$."
     ]
    },
    {
     "cell_type": "markdown",
     "metadata": {},
     "source": [
      "### Nonnegativity on $[0,a]$ ###\n",
      "\n",
      "Similarly, $H(\\omega)$ is nonnegative on $[0,a]$ if and only if\n",
      "\n",
      "$$x_i =\n",
      "\\langle X_1, T_i^{n+1} \\rangle + \n",
      "\\langle X_2, T_{i+1}^n \\rangle +\n",
      "\\langle X_2, T_{i-1}^n \\rangle -\n",
      "2 \\cos(a)\\langle X_2, T_{i}^n \\rangle, \\quad \n",
      "X_1 \\in {\\mathcal H}^{n+1}_+, \\:\n",
      "X_2 \\in {\\mathcal H}^n_+,\n",
      "$$\n",
      "or equivalently\n",
      "$$\n",
      "  K^n_{0,a} = \\{ x\\in \\mathbf{R}\\times \\mathbf{C}^n \\mid\n",
      "   x_i = \\langle X_1, T_i^{n+1} \\rangle +\n",
      "   \\langle X_2 , T_{i+1}^n \\rangle +\n",
      "   \\langle X_2 , T_{i-1}^n \\rangle -\n",
      "   2\\cos(a)\\langle X_2 , T_i^n\\rangle, \\: X_1\\in \\mathcal{H}_+^{n+1}, X_2\\in\\mathcal{H}_+^n \\}.\n",
      "$$"
     ]
    },
    {
     "cell_type": "code",
     "collapsed": false,
     "input": [
      "def trigpoly_0_a(M, x, a):\n",
      "    '''x[i] == <T(n+1,i),X1> + <T(n,i+1),X2> + <T(n,i-1),X2> - 2*cos(a)*<T(n,i),X2>'''\n",
      "    n = int(x.size()-1)\n",
      "    X1 = M.variable(Domain.inPSDCone(n+1))\n",
      "    X2 = M.variable(Domain.inPSDCone(n))\n",
      "\n",
      "    for i in range(n+1):\n",
      "        M.constraint(Expr.sub(Expr.add([ T_dot_X(n+1,i,X1), \n",
      "                                         T_dot_X(n,i+1,X2), \n",
      "                                         T_dot_X(n,i-1,X2), \n",
      "                                         T_dot_X(n,i,X2,-2*cos(a))]),\n",
      "                              x.index(i)), Domain.equalsTo(0.0))"
     ],
     "language": "python",
     "metadata": {},
     "outputs": [],
     "prompt_number": 4
    },
    {
     "cell_type": "markdown",
     "metadata": {},
     "source": [
      "Note that we have dropped the imaginary part of $X_1$ and $X_2$."
     ]
    },
    {
     "cell_type": "markdown",
     "metadata": {},
     "source": [
      "### Nonnegativity on $[a,\\pi]$ ###\n",
      "\n",
      "Finally, $H(\\omega)$ is nonnegative on $[a,\\pi]$ if and only if\n",
      "\n",
      "$$x_i = \n",
      "\\langle X_1, T_i^{n+1} \\rangle -\n",
      "\\langle X_2, T_{i+1}^n \\rangle -\n",
      "\\langle X_2, T_{i-1}^n \\rangle +\n",
      "2 \\cos(a)\\langle X_2, T_{i}^n \\rangle, \\quad \n",
      "X_1 \\in {\\mathcal S}^{n+1}_+, \\:\n",
      "X_2 \\in {\\mathcal S}^n_+,\n",
      "$$\n",
      "or equivalently\n",
      "$$\n",
      "  K^n_{a,\\pi} = \\{ x\\in \\mathbf{R}\\times \\mathbf{C}^n \\mid\n",
      "   x_i = \\langle X_1, T_i^{n+1} \\rangle -\n",
      "   \\langle X_2 , T_{i+1}^n \\rangle -\n",
      "   \\langle X_2 , T_{i-1}^n \\rangle +\n",
      "   2\\cos(a)\\langle X_2 , T_i^n\\rangle, \\: X_1\\in \\mathcal{H}_+^{n+1}, X_2\\in\\mathcal{H}_+^n \\}.\n",
      "$$"
     ]
    },
    {
     "cell_type": "code",
     "collapsed": false,
     "input": [
      "def trigpoly_a_pi(M, x, a):\n",
      "    '''x[i] == <T(n+1,i),X1> - <T(n,i+1),X2> - <T(n,i-1),X2> + 2*cos(a)*<T(n,i),X2>'''\n",
      "    n = int(x.size()-1)\n",
      "    X1 = M.variable(Domain.inPSDCone(n+1))\n",
      "    X2 = M.variable(Domain.inPSDCone(n))\n",
      "\n",
      "    for i in range(n+1):\n",
      "        M.constraint(Expr.add([ T_dot_X(n+1,i,X1), \n",
      "                                T_dot_X(n,i+1,X2,-1.0), \n",
      "                                T_dot_X(n,i-1,X2,-1.0), \n",
      "                                T_dot_X(n,i,X2,2*cos(a)),\n",
      "                                Expr.neg(x.index(i))    ]),\n",
      "                     Domain.equalsTo(0.0))"
     ],
     "language": "python",
     "metadata": {},
     "outputs": [],
     "prompt_number": 5
    },
    {
     "cell_type": "markdown",
     "metadata": {},
     "source": [
      "Note that we have dropped the imaginary part of $X_1$ and $X_2$."
     ]
    },
    {
     "cell_type": "markdown",
     "metadata": {},
     "source": [
      "## An epigraph formulation ##\n",
      "The *epigraph* $H(\\omega) \\leq t$ can now be characterized simply as \n",
      "$-u \\in K^n_{[a,b]}, \\: u=(x_0-t, \\, x_{1:n}).$"
     ]
    },
    {
     "cell_type": "code",
     "collapsed": false,
     "input": [
      "def epigraph(M, x, t, a, b):\n",
      "    '''Models 0 <= H(w) <= t, for all w in [a, b], where\n",
      "         H(w) = x0 + 2*x1*cos(w) + 2*x2*cos(2*w) + ... + 2*xn*cos(n*w)'''\n",
      "    n  = int(x.size()-1)    \n",
      "    u = M.variable(n+1, Domain.unbounded())\n",
      "    M.constraint(Expr.sub(t,Expr.add(x.index(0), u.index(0))), Domain.equalsTo(0.0)) \n",
      "    M.constraint(Expr.add(x.slice(1,n+1), u.slice(1,n+1)), Domain.equalsTo(0.0))\n",
      "    \n",
      "    if a==0.0 and b==pi:\n",
      "        trigpoly_0_pi(M, u)\n",
      "    elif a==0.0 and b<pi:\n",
      "        trigpoly_0_a(M, u, b)\n",
      "    elif a<pi and b==pi:\n",
      "        trigpoly_a_pi(M, u, a)\n",
      "    else:\n",
      "        raise ValueError(\"invalid interval.\")"
     ],
     "language": "python",
     "metadata": {},
     "outputs": [],
     "prompt_number": 6
    },
    {
     "cell_type": "markdown",
     "metadata": {},
     "source": [
      "## A hypograph formulation ##\n",
      "Similarly, the *hypograph* $H(\\omega) \\geq t$ can be characterized as \n",
      "$u \\in K^n_{[a,b]}, \\: u=(x_0-t, \\, x_{1:n}).$"
     ]
    },
    {
     "cell_type": "code",
     "collapsed": false,
     "input": [
      "def hypograph(M, x, t, a, b):\n",
      "    '''Models 0 <= t <= H(w), for all w in [a, b], where\n",
      "         H(w) = x0 + 2*x1*cos(w) + 2*x2*cos(2*w) + ... + 2*xn*cos(n*w)'''\n",
      "\n",
      "    n  = int(x.size()-1)    \n",
      "    u0 = M.variable(1, Domain.unbounded())    \n",
      "    M.constraint(Expr.sub(t,Expr.sub(x.index(0), u0)), Domain.equalsTo(0.0))\n",
      "    u = Var.vstack( u0, x.slice(1, n+1) )\n",
      "\n",
      "    if a==0.0 and b==pi:\n",
      "        trigpoly_0_pi(M, u)\n",
      "    elif a==0.0 and b<pi:\n",
      "        trigpoly_0_a(M, u,  b)\n",
      "    elif a<pi and b==pi:\n",
      "        trigpoly_a_pi(M, u, a)\n",
      "    else:\n",
      "        raise ValueError(\"invalid interval.\")"
     ],
     "language": "python",
     "metadata": {},
     "outputs": [],
     "prompt_number": 7
    },
    {
     "cell_type": "heading",
     "level": 2,
     "metadata": {},
     "source": [
      "Putting it together ##"
     ]
    },
    {
     "cell_type": "code",
     "collapsed": false,
     "input": [
      "n = 10\n",
      "M = Model(\"trigpoly\")\n",
      "x = M.variable(\"x\", n+1, Domain.unbounded())"
     ],
     "language": "python",
     "metadata": {},
     "outputs": [],
     "prompt_number": 8
    },
    {
     "cell_type": "heading",
     "level": 3,
     "metadata": {},
     "source": [
      "Global nonnegativity ###"
     ]
    },
    {
     "cell_type": "code",
     "collapsed": false,
     "input": [
      "# H(w) >= 0\n",
      "trigpoly_0_pi(M, x)"
     ],
     "language": "python",
     "metadata": {},
     "outputs": [],
     "prompt_number": 9
    },
    {
     "cell_type": "heading",
     "level": 3,
     "metadata": {},
     "source": [
      "Passband specifications ###"
     ]
    },
    {
     "cell_type": "code",
     "collapsed": false,
     "input": [
      "wp = pi/4\n",
      "delta = 0.05\n",
      "\n",
      "# H(w) <= (1+delta), w in [0, wp]    \n",
      "epigraph(M, x, 1.0+delta, 0.0, wp)\n",
      "\n",
      "# (1-delta) <= H(w), w in [0, wp]\n",
      "hypograph(M, x, 1.0-delta, 0.0, wp)"
     ],
     "language": "python",
     "metadata": {},
     "outputs": [],
     "prompt_number": 10
    },
    {
     "cell_type": "heading",
     "level": 3,
     "metadata": {},
     "source": [
      "Stopband specifications ###"
     ]
    },
    {
     "cell_type": "code",
     "collapsed": false,
     "input": [
      "ws = wp + pi/8\n",
      "\n",
      "# H(w) < t, w in [ws, pi]\n",
      "t = M.variable(\"t\", 1, Domain.greaterThan(0.0))\n",
      "epigraph(M, x, t, ws, pi)"
     ],
     "language": "python",
     "metadata": {},
     "outputs": [],
     "prompt_number": 11
    },
    {
     "cell_type": "heading",
     "level": 3,
     "metadata": {},
     "source": [
      "Setting the objective ###"
     ]
    },
    {
     "cell_type": "code",
     "collapsed": false,
     "input": [
      "M.objective(ObjectiveSense.Minimize, t)"
     ],
     "language": "python",
     "metadata": {},
     "outputs": [],
     "prompt_number": 12
    },
    {
     "cell_type": "code",
     "collapsed": false,
     "input": [
      "M.setLogHandler(sys.stdout)"
     ],
     "language": "python",
     "metadata": {},
     "outputs": [],
     "prompt_number": 13
    },
    {
     "cell_type": "code",
     "collapsed": false,
     "input": [
      "M.solve()"
     ],
     "language": "python",
     "metadata": {},
     "outputs": [
      {
       "output_type": "stream",
       "stream": "stdout",
       "text": [
        "Problem\n"
       ]
      },
      {
       "output_type": "stream",
       "stream": "stdout",
       "text": [
        "  Name                   : trigpoly        \n"
       ]
      },
      {
       "output_type": "stream",
       "stream": "stdout",
       "text": [
        "  Objective sense        : min             \n"
       ]
      },
      {
       "output_type": "stream",
       "stream": "stdout",
       "text": [
        "  Type                   : CONIC (conic optimization problem)\n"
       ]
      },
      {
       "output_type": "stream",
       "stream": "stdout",
       "text": [
        "  Constraints            : 67              \n"
       ]
      },
      {
       "output_type": "stream",
       "stream": "stdout",
       "text": [
        "  Cones                  : 0               \n"
       ]
      },
      {
       "output_type": "stream",
       "stream": "stdout",
       "text": [
        "  Scalar variables       : 35              \n"
       ]
      },
      {
       "output_type": "stream",
       "stream": "stdout",
       "text": [
        "  Matrix variables       : 7               \n"
       ]
      },
      {
       "output_type": "stream",
       "stream": "stdout",
       "text": [
        "  Integer variables      : 0               \n"
       ]
      },
      {
       "output_type": "stream",
       "stream": "stdout",
       "text": [
        "\n"
       ]
      },
      {
       "output_type": "stream",
       "stream": "stdout",
       "text": [
        "Optimizer started.\n"
       ]
      },
      {
       "output_type": "stream",
       "stream": "stdout",
       "text": [
        "Presolve started.\n"
       ]
      },
      {
       "output_type": "stream",
       "stream": "stdout",
       "text": [
        "Linear dependency checker started.\n"
       ]
      },
      {
       "output_type": "stream",
       "stream": "stdout",
       "text": [
        "Linear dependency checker terminated.\n"
       ]
      },
      {
       "output_type": "stream",
       "stream": "stdout",
       "text": [
        "Eliminator started.\n"
       ]
      },
      {
       "output_type": "stream",
       "stream": "stdout",
       "text": [
        "Freed constraints in eliminator : 23\n"
       ]
      },
      {
       "output_type": "stream",
       "stream": "stdout",
       "text": [
        "Eliminator terminated.\n"
       ]
      },
      {
       "output_type": "stream",
       "stream": "stdout",
       "text": [
        "Eliminator - tries                  : 1                 time                   : 0.00            \n"
       ]
      },
      {
       "output_type": "stream",
       "stream": "stdout",
       "text": [
        "Lin. dep.  - tries                  : 1                 time                   : 0.00            \n"
       ]
      },
      {
       "output_type": "stream",
       "stream": "stdout",
       "text": [
        "Lin. dep.  - number                 : 0               \n"
       ]
      },
      {
       "output_type": "stream",
       "stream": "stdout",
       "text": [
        "Presolve terminated. Time: 0.00    \n"
       ]
      },
      {
       "output_type": "stream",
       "stream": "stdout",
       "text": [
        "Problem\n"
       ]
      },
      {
       "output_type": "stream",
       "stream": "stdout",
       "text": [
        "  Name                   : trigpoly        \n"
       ]
      },
      {
       "output_type": "stream",
       "stream": "stdout",
       "text": [
        "  Objective sense        : min             \n"
       ]
      },
      {
       "output_type": "stream",
       "stream": "stdout",
       "text": [
        "  Type                   : CONIC (conic optimization problem)\n"
       ]
      },
      {
       "output_type": "stream",
       "stream": "stdout",
       "text": [
        "  Constraints            : 67              \n"
       ]
      },
      {
       "output_type": "stream",
       "stream": "stdout",
       "text": [
        "  Cones                  : 0               \n"
       ]
      },
      {
       "output_type": "stream",
       "stream": "stdout",
       "text": [
        "  Scalar variables       : 35              \n"
       ]
      },
      {
       "output_type": "stream",
       "stream": "stdout",
       "text": [
        "  Matrix variables       : 7               \n"
       ]
      },
      {
       "output_type": "stream",
       "stream": "stdout",
       "text": [
        "  Integer variables      : 0               \n"
       ]
      },
      {
       "output_type": "stream",
       "stream": "stdout",
       "text": [
        "\n"
       ]
      },
      {
       "output_type": "stream",
       "stream": "stdout",
       "text": [
        "Optimizer  - threads                : 20              \n"
       ]
      },
      {
       "output_type": "stream",
       "stream": "stdout",
       "text": [
        "Optimizer  - solved problem         : the primal      \n"
       ]
      },
      {
       "output_type": "stream",
       "stream": "stdout",
       "text": [
        "Optimizer  - Constraints            : 44\n"
       ]
      },
      {
       "output_type": "stream",
       "stream": "stdout",
       "text": [
        "Optimizer  - Cones                  : 1\n"
       ]
      },
      {
       "output_type": "stream",
       "stream": "stdout",
       "text": [
        "Optimizer  - Scalar variables       : 13                conic                  : 12              \n"
       ]
      },
      {
       "output_type": "stream",
       "stream": "stdout",
       "text": [
        "Optimizer  - Semi-definite variables: 7                 scalarized             : 429             \n"
       ]
      },
      {
       "output_type": "stream",
       "stream": "stdout",
       "text": [
        "Factor     - setup time             : 0.00              dense det. time        : 0.00            \n"
       ]
      },
      {
       "output_type": "stream",
       "stream": "stdout",
       "text": [
        "Factor     - ML order time          : 0.00              GP order time          : 0.00            \n"
       ]
      },
      {
       "output_type": "stream",
       "stream": "stdout",
       "text": [
        "Factor     - nonzeros before factor : 990               after factor           : 990             \n"
       ]
      },
      {
       "output_type": "stream",
       "stream": "stdout",
       "text": [
        "Factor     - dense dim.             : 0                 flops                  : 1.19e+05        \n"
       ]
      },
      {
       "output_type": "stream",
       "stream": "stdout",
       "text": [
        "ITE PFEAS    DFEAS    GFEAS    PRSTATUS   POBJ              DOBJ              MU       TIME  \n"
       ]
      },
      {
       "output_type": "stream",
       "stream": "stdout",
       "text": [
        "0   1.9e+01  1.0e+00  1.0e+00  0.00e+00   0.000000000e+00   0.000000000e+00   1.0e+00  0.03  \n"
       ]
      },
      {
       "output_type": "stream",
       "stream": "stdout",
       "text": [
        "1   6.0e+00  3.2e-01  6.5e-01  1.56e+00   -6.168509433e-03  -1.704940542e-02  3.2e-01  0.04  \n"
       ]
      },
      {
       "output_type": "stream",
       "stream": "stdout",
       "text": [
        "2   1.5e+00  8.0e-02  5.2e-01  1.59e+00   -3.629686898e-02  -5.729238420e-02  8.0e-02  0.04  \n"
       ]
      },
      {
       "output_type": "stream",
       "stream": "stdout",
       "text": [
        "3   3.1e-01  1.7e-02  2.4e-01  1.64e+00   -4.704273187e-03  -7.156318767e-03  1.7e-02  0.05  \n"
       ]
      },
      {
       "output_type": "stream",
       "stream": "stdout",
       "text": [
        "4   1.0e-01  5.6e-03  6.6e-02  1.91e-01   1.247879338e-03   3.220303293e-03   5.6e-03  0.05  \n"
       ]
      },
      {
       "output_type": "stream",
       "stream": "stdout",
       "text": [
        "5   5.8e-02  3.1e-03  1.8e-01  4.28e-01   4.186115053e-02   3.996134158e-02   3.1e-03  0.05  \n"
       ]
      },
      {
       "output_type": "stream",
       "stream": "stdout",
       "text": [
        "6   1.1e-02  5.9e-04  6.2e-02  4.33e-01   6.583025991e-02   6.538915159e-02   5.9e-04  0.05  \n"
       ]
      },
      {
       "output_type": "stream",
       "stream": "stdout",
       "text": [
        "7   2.7e-03  1.4e-04  2.8e-02  9.75e-01   7.102893174e-02   7.092631673e-02   1.4e-04  0.05  \n"
       ]
      },
      {
       "output_type": "stream",
       "stream": "stdout",
       "text": [
        "8   4.6e-04  2.4e-05  7.7e-03  1.01e+00   7.246509927e-02   7.245345168e-02   2.4e-05  0.05  \n"
       ]
      },
      {
       "output_type": "stream",
       "stream": "stdout",
       "text": [
        "9   3.3e-05  1.8e-06  2.1e-03  1.00e+00   7.271267688e-02   7.271184530e-02   1.8e-06  0.05  \n"
       ]
      },
      {
       "output_type": "stream",
       "stream": "stdout",
       "text": [
        "10  3.6e-06  1.9e-07  6.8e-04  1.00e+00   7.272951727e-02   7.272942593e-02   1.9e-07  0.06  \n"
       ]
      },
      {
       "output_type": "stream",
       "stream": "stdout",
       "text": [
        "11  5.8e-07  3.1e-08  2.7e-04  1.00e+00   7.273126748e-02   7.273125304e-02   3.1e-08  0.06  \n"
       ]
      },
      {
       "output_type": "stream",
       "stream": "stdout",
       "text": [
        "12  7.0e-08  3.9e-09  9.3e-05  1.00e+00   7.273156244e-02   7.273156074e-02   3.7e-09  0.06  \n"
       ]
      },
      {
       "output_type": "stream",
       "stream": "stdout",
       "text": [
        "13  6.3e-09  2.2e-09  2.8e-05  1.00e+00   7.273159968e-02   7.273159953e-02   3.4e-10  0.06  \n"
       ]
      },
      {
       "output_type": "stream",
       "stream": "stdout",
       "text": [
        "Optimizer terminated. Time: 0.06    \n"
       ]
      },
      {
       "output_type": "stream",
       "stream": "stdout",
       "text": [
        "\n"
       ]
      }
     ],
     "prompt_number": 14
    },
    {
     "cell_type": "code",
     "collapsed": false,
     "input": [
      "x.level()"
     ],
     "language": "python",
     "metadata": {},
     "outputs": [
      {
       "metadata": {},
       "output_type": "pyout",
       "prompt_number": 15,
       "text": [
        "array([ 0.33580937,  0.25254317,  0.1388759 ,  0.02044169, -0.04797007,\n",
        "       -0.05156956, -0.01627207,  0.01837092,  0.02948826,  0.02271378,\n",
        "       -0.00952669])"
       ]
      }
     ],
     "prompt_number": 15
    },
    {
     "cell_type": "code",
     "collapsed": false,
     "input": [
      "t.level()"
     ],
     "language": "python",
     "metadata": {},
     "outputs": [
      {
       "metadata": {},
       "output_type": "pyout",
       "prompt_number": 16,
       "text": [
        "array([ 0.0727316])"
       ]
      }
     ],
     "prompt_number": 16
    },
    {
     "cell_type": "heading",
     "level": 3,
     "metadata": {},
     "source": [
      "Plotting the amplitude response ###"
     ]
    },
    {
     "cell_type": "code",
     "collapsed": false,
     "input": [
      "xx = x.level()\n",
      "def H(w): return xx[0] + 2*sum([xx[i]*cos(i*w) for i in range(1,len(xx))])\n",
      "w  = np.linspace(0, pi, 100)\n",
      "%matplotlib inline\n",
      "import matplotlib.pyplot as plt\n",
      "plt.plot(w, [H(wi) for wi in w], 'k')\n",
      "plt.show()\n"
     ],
     "language": "python",
     "metadata": {},
     "outputs": [
      {
       "metadata": {},
       "output_type": "display_data",
       "png": "[encoded data removed]",
       "text": [
        "<matplotlib.figure.Figure at 0x7f18180996d0>"
       ]
      }
     ],
     "prompt_number": 17
    },
    {
     "cell_type": "markdown",
     "metadata": {
      "collapsed": true
     },
     "source": [
      "<a rel=\"license\" href=\"http://creativecommons.org/licenses/by/4.0/\"><img alt=\"Creative Commons License\" style=\"border-width:0\" src=\"https://i.creativecommons.org/l/by/4.0/80x15.png\" /></a><br />This work is licensed under a <a rel=\"license\" href=\"http://creativecommons.org/licenses/by/4.0/\">Creative Commons Attribution 4.0 International License</a>. The **MOSEK** logo and name are trademarks of <a href=\"http://mosek.com\">Mosek ApS</a>. The code is provided as-is. Compatibility with future release of **MOSEK** or the `Fusion API` are not guaranteed. For more information contact our [support](mailto:support@mosek.com). \n",
      "\n"
     ]
    },
    {
     "cell_type": "code",
     "collapsed": true,
     "input": [],
     "language": "python",
     "metadata": {},
     "outputs": [],
     "prompt_number": null
    }
   ],
   "metadata": {}
  }
 ]
}