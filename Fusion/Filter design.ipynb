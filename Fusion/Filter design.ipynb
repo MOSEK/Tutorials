{
 "cells": [
  {
   "cell_type": "markdown",
   "metadata": {},
   "source": [
    "## Optimization problem over nonnegative trigonometric polynomials. ##\n",
    "\n",
    "We consider the trigonometric polynomial\n",
    " \n",
    "$$H(\\omega) = x_0 + 2 \\sum_{k=1}^n [ \\Re(x_k) \\cos(\\omega k) + \\Im(x_k) \\sin(\\omega k) ],$$\n",
    "\n",
    "where $H(\\omega)$ is a real valued function paramtrized by the complex vector $x\\in {\\bf C}^{n+1}$, and where $\\Im(x_0)=0$.\n",
    "\n",
    "The example shows how to construct a *non-negative* polynomial $H(\\omega)\\geq 0, \\: \\forall \\omega$ that satisfies,\n",
    "  \n",
    "$$1 - \\delta \\leq  H(\\omega) \\leq 1 + \\delta, \\quad  \\forall \\omega \\in [0, \\omega_p]$$\n",
    "\n",
    "while minimizing $\\sup_{\\omega\\in [\\omega_s,\\pi]} H(\\omega)$ over the variables $x$.\n",
    "\n",
    "In the signal processing literature such a trigonometric polynomial is known as (the squared amplitude respons of) a Chebyshev lowpass filter. \n",
    "\n",
    "A squared amplitude response $H(\\omega)$ is always symmetric around $0$, so $\\Im(x_k)=0$, and we consider only\n",
    "\n",
    "$$H(\\omega) = x_0 + 2 \\sum_{k=1}^n x_k \\cos(\\omega k) $$\n",
    "\n",
    "over the real vector $x\\in {\\bf R}^{n+1}$. The concepts in the example are readily applied to the case with $x\\in {\\bf C}^{n+1}$, however.\n",
    "\n",
    "References:\n",
    "  1. \"Squared Functional Systems and Optimization Problems\",  Y. Nesterov, 2004.\n",
    "  \n",
    "  2. \"Convex Optimization of Non-negative Polynomials: Structured Algorithms and Applications\", Ph.D thesis, Y. Hachez, 2003.\n"
   ]
  },
  {
   "cell_type": "code",
   "execution_count": 1,
   "metadata": {
    "collapsed": false
   },
   "outputs": [],
   "source": [
    "import mosek\n",
    "from   mosek.fusion import *\n",
    "from   math import cos, pi\n",
    "import numpy as np"
   ]
  },
  {
   "cell_type": "markdown",
   "metadata": {},
   "source": [
    "### Nonnegativity everywhere ###\n",
    "\n",
    "Nesterov proved in [1] that $H(\\omega) \\geq 0, \\: \\forall \\omega$ if and only if \n",
    "$$x_i = \\langle T_i^{n+1}, X \\rangle, \\quad X \\in {\\mathcal H}^{n+1}_+,$$\n",
    "where ${\\mathcal H}_+$ is the cone of Hermitian semidefinite matrices and $T_i$ is a Toeplitz matrix\n",
    "$$[T_i]_{kl} = \\left \\{ \\begin{array}{ll}1, & k-l=i\\\\0 & \\text{otherwise}.\\end{array} \\right .$$\n",
    "For example, for $n=2$ we have\n",
    "$$\n",
    "   T_0 = \\left[\\begin{array}{ccc}\n",
    "   1 & 0 & 0\\\\0 & 1 & 0\\\\0 & 0 & 1\n",
    "   \\end{array}\n",
    "   \\right], \\quad\n",
    "   T_1 = \\left[\\begin{array}{ccc}\n",
    "   0 & 0 & 0\\\\1 & 0 & 0\\\\0 & 1 & 0\n",
    "   \\end{array}\n",
    "   \\right],\n",
    "   \\quad\n",
    "   T_2 = \\left[\\begin{array}{ccc}\n",
    "   0 & 0 & 0\\\\0 & 0 & 0\\\\1 & 0 & 0\n",
    "   \\end{array}\n",
    "   \\right].\n",
    "$$\n",
    "In our case we have $\\Im(x_i)=0$, i.e., $X\\in {\\mathcal S}^{n+1}_+$ is a real symmetric semidefinite matrix.\n",
    "\n",
    "We define the *cone on nonnegative trigonometric polynomials* as\n",
    "$$\n",
    "   K^n_{0,\\pi} = \\{ x\\in \\mathbf{R} \\times \\mathbf{C}^n \\mid x_i = \\langle X, T_i\\rangle, \\: i=0,\\dots,n, \\: X\\in\\mathcal{H}_+^{n+1} \\}.\n",
    "$$"
   ]
  },
  {
   "cell_type": "code",
   "execution_count": 2,
   "metadata": {
    "collapsed": false
   },
   "outputs": [],
   "source": [
    "def T_dot_X(n, i, X, a=1.0):\n",
    "    return Expr.dot(Matrix.diag(n, a, -i), X)"
   ]
  },
  {
   "cell_type": "code",
   "execution_count": 3,
   "metadata": {
    "collapsed": false
   },
   "outputs": [],
   "source": [
    "def trigpoly_0_pi(M, x):\n",
    "    '''x[i] == <T(n+1,i),X>'''\n",
    "    n = int(x.size()-1)\n",
    "    X = M.variable(\"X\", Domain.inPSDCone(n+1))\n",
    "    for i in range(n+1):\n",
    "        M.constraint(Expr.sub(T_dot_X(n+1,i,X), x.index(i)), Domain.equalsTo(0.0))"
   ]
  },
  {
   "cell_type": "markdown",
   "metadata": {},
   "source": [
    "Note that we have dropped the imaginary part of $X$."
   ]
  },
  {
   "cell_type": "markdown",
   "metadata": {},
   "source": [
    "### Nonnegativity on $[0,a]$ ###\n",
    "\n",
    "Similarly, $H(\\omega)$ is nonnegative on $[0,a]$ if and only if\n",
    "\n",
    "$$x_i =\n",
    "\\langle X_1, T_i^{n+1} \\rangle + \n",
    "\\langle X_2, T_{i+1}^n \\rangle +\n",
    "\\langle X_2, T_{i-1}^n \\rangle -\n",
    "2 \\cos(a)\\langle X_2, T_{i}^n \\rangle, \\quad \n",
    "X_1 \\in {\\mathcal H}^{n+1}_+, \\:\n",
    "X_2 \\in {\\mathcal H}^n_+,\n",
    "$$\n",
    "or equivalently\n",
    "$$\n",
    "  K^n_{0,a} = \\{ x\\in \\mathbf{R}\\times \\mathbf{C}^n \\mid\n",
    "   x_i = \\langle X_1, T_i^{n+1} \\rangle +\n",
    "   \\langle X_2 , T_{i+1}^n \\rangle +\n",
    "   \\langle X_2 , T_{i-1}^n \\rangle -\n",
    "   2\\cos(\\alpha)\\langle X_2 , T_i^n\\rangle, \\: X_1\\in \\mathcal{H}_+^{n+1}, X_2\\in\\mathcal{H}_+^n \\}.\n",
    "$$"
   ]
  },
  {
   "cell_type": "code",
   "execution_count": 4,
   "metadata": {
    "collapsed": false
   },
   "outputs": [],
   "source": [
    "def trigpoly_0_a(M, x, a):\n",
    "    '''x[i] == <T(n+1,i),X1> + <T(n,i+1),X2> + <T(n,i-1),X2> - 2*cos(a)*<T(n,i),X2>'''\n",
    "    n = int(x.size()-1)\n",
    "    X1 = M.variable(Domain.inPSDCone(n+1))\n",
    "    X2 = M.variable(Domain.inPSDCone(n))\n",
    "\n",
    "    for i in range(n+1):\n",
    "        M.constraint(Expr.sub(Expr.add([ T_dot_X(n+1,i,X1), \n",
    "                                         T_dot_X(n,i+1,X2), \n",
    "                                         T_dot_X(n,i-1,X2), \n",
    "                                         T_dot_X(n,i,X2,-2*cos(a))]),\n",
    "                              x.index(i)), Domain.equalsTo(0.0))"
   ]
  },
  {
   "cell_type": "markdown",
   "metadata": {},
   "source": [
    "Note that we have dropped the imaginary part of $X_1$ and $X_2$."
   ]
  },
  {
   "cell_type": "markdown",
   "metadata": {},
   "source": [
    "### Nonnegativity on $[a,\\pi]$ ###\n",
    "\n",
    "Finally, $H(\\omega)$ is nonnegative on $[a,\\pi]$ if and only if\n",
    "\n",
    "$$x_i = \n",
    "\\langle X_1, T_i^{n+1} \\rangle -\n",
    "\\langle X_2, T_{i+1}^n \\rangle -\n",
    "\\langle X_2, T_{i-1}^n \\rangle +\n",
    "2 \\cos(a)\\langle X_2, T_{i}^n \\rangle, \\quad \n",
    "X_1 \\in {\\mathcal S}^{n+1}_+, \\:\n",
    "X_2 \\in {\\mathcal S}^n_+,\n",
    "$$\n",
    "or equivalently\n",
    "$$\n",
    "  K^n_{a,\\pi} = \\{ x\\in \\mathbf{R}\\times \\mathbf{C}^n \\mid\n",
    "   x_i = \\langle X_1, T_i^{n+1} \\rangle -\n",
    "   \\langle X_2 , T_{i+1}^n \\rangle -\n",
    "   \\langle X_2 , T_{i-1}^n \\rangle +\n",
    "   2\\cos(\\alpha)\\langle X_2 , T_i^n\\rangle, \\: X_1\\in \\mathcal{H}_+^{n+1}, X_2\\in\\mathcal{H}_+^n \\}.\n",
    "$$"
   ]
  },
  {
   "cell_type": "code",
   "execution_count": 5,
   "metadata": {
    "collapsed": false
   },
   "outputs": [],
   "source": [
    "def trigpoly_a_pi(M, x, a):\n",
    "    '''x[i] == <T(n+1,i),X1> - <T(n,i+1),X2> - <T(n,i-1),X2> + 2*cos(a)*<T(n,i),X2>'''\n",
    "    n = int(x.size()-1)\n",
    "    X1 = M.variable(Domain.inPSDCone(n+1))\n",
    "    X2 = M.variable(Domain.inPSDCone(n))\n",
    "\n",
    "    for i in range(n+1):\n",
    "        M.constraint(Expr.sub(Expr.add([ T_dot_X(n+1,i,X1), \n",
    "                                         T_dot_X(n,i+1,X2,-1.0), \n",
    "                                         T_dot_X(n,i-1,X2,-1.0), \n",
    "                                         T_dot_X(n,i,X2,2*cos(a))]),\n",
    "                              x.index(i)), Domain.equalsTo(0.0))"
   ]
  },
  {
   "cell_type": "markdown",
   "metadata": {},
   "source": [
    "Note that we have dropped the imaginary part of $X_1$ and $X_2$."
   ]
  },
  {
   "cell_type": "markdown",
   "metadata": {},
   "source": [
    "## An epigraph formulation ##\n",
    "The *epigraph* $H(\\omega) \\leq t$ can now be characterized simply as \n",
    "$-u \\in K^n_{[a,b]}, \\: u=(x_0-t, \\, x_{1:n}).$"
   ]
  },
  {
   "cell_type": "code",
   "execution_count": 6,
   "metadata": {
    "collapsed": false
   },
   "outputs": [],
   "source": [
    "def epigraph(M, x, t, a, b):\n",
    "    '''Models 0 <= H(w) <= t, for all w in [a, b], where\n",
    "         H(w) = x0 + 2*x1*cos(w) + 2*x2*cos(2*w) + ... + 2*xn*cos(n*w)'''\n",
    "    n  = int(x.size()-1)    \n",
    "    u = M.variable(n+1, Domain.unbounded())\n",
    "    M.constraint(Expr.sub(t,Expr.add(x.index(0), u.index(0))), Domain.equalsTo(0.0)) \n",
    "    M.constraint(Expr.add(x.slice(1,n+1), u.slice(1,n+1)), Domain.equalsTo(0.0))\n",
    "    \n",
    "    if a==0.0 and b==pi:\n",
    "        trigpoly_0_pi(M, u)\n",
    "    elif a==0.0 and b<pi:\n",
    "        trigpoly_0_a(M, u, b)\n",
    "    elif a<pi and b==pi:\n",
    "        trigpoly_a_pi(M, u, a)\n",
    "    else:\n",
    "        raise ValueError(\"invalid interval.\")"
   ]
  },
  {
   "cell_type": "markdown",
   "metadata": {},
   "source": [
    "## A hypograph formulation ##\n",
    "Similarly, the *hypograph* $H(\\omega) \\geq t$ can be characterized as \n",
    "$u \\in K^n_{[a,b]}, \\: u=(x_0-t, \\, x_{1:n}).$"
   ]
  },
  {
   "cell_type": "code",
   "execution_count": 7,
   "metadata": {
    "collapsed": false
   },
   "outputs": [],
   "source": [
    "def hypograph(M, x, t, a, b):\n",
    "    '''Models 0 <= t <= H(w), for all w in [a, b], where\n",
    "         H(w) = x0 + 2*x1*cos(w) + 2*x2*cos(2*w) + ... + 2*xn*cos(n*w)'''\n",
    "\n",
    "    n  = int(x.size()-1)    \n",
    "    u0 = M.variable(1, Domain.unbounded())    \n",
    "    M.constraint(Expr.sub(t,Expr.sub(x.index(0), u0)), Domain.equalsTo(0.0))\n",
    "    u = Var.vstack( u0, x.slice(1, n+1) )\n",
    "\n",
    "    if a==0.0 and b==pi:\n",
    "        trigpoly_0_pi(M, u)\n",
    "    elif a==0.0 and b<pi:\n",
    "        trigpoly_0_a(M, u,  b)\n",
    "    elif a<pi and b==pi:\n",
    "        trigpoly_a_pi(M, u, a)\n",
    "    else:\n",
    "        raise ValueError(\"invalid interval.\")"
   ]
  },
  {
   "cell_type": "markdown",
   "metadata": {},
   "source": [
    "## Putting it together ##"
   ]
  },
  {
   "cell_type": "code",
   "execution_count": 8,
   "metadata": {
    "collapsed": false
   },
   "outputs": [],
   "source": [
    "n = 10\n",
    "M = Model(\"trigpoly\")\n",
    "x = M.variable(\"x\", n+1, Domain.unbounded())"
   ]
  },
  {
   "cell_type": "markdown",
   "metadata": {},
   "source": [
    "### Global nonnegativity ###"
   ]
  },
  {
   "cell_type": "code",
   "execution_count": 9,
   "metadata": {
    "collapsed": false
   },
   "outputs": [],
   "source": [
    "# H(w) >= 0\n",
    "trigpoly_0_pi(M, x)"
   ]
  },
  {
   "cell_type": "markdown",
   "metadata": {},
   "source": [
    "### Passband specifications ###"
   ]
  },
  {
   "cell_type": "code",
   "execution_count": 10,
   "metadata": {
    "collapsed": false
   },
   "outputs": [],
   "source": [
    "wp = pi/4\n",
    "delta = 0.05\n",
    "\n",
    "# H(w) <= (1+delta), w in [0, wp]    \n",
    "epigraph(M, x, 1.0+delta, 0.0, wp)\n",
    "\n",
    "# (1-delta) <= H(w), w in [0, wp]\n",
    "hypograph(M, x, 1.0-delta, 0.0, wp)"
   ]
  },
  {
   "cell_type": "markdown",
   "metadata": {},
   "source": [
    "### Stopband specifications ###"
   ]
  },
  {
   "cell_type": "code",
   "execution_count": 11,
   "metadata": {
    "collapsed": false
   },
   "outputs": [],
   "source": [
    "ws = wp + pi/8\n",
    "\n",
    "# H(w) < t, w in [ws, pi]\n",
    "t = M.variable(\"t\", 1, Domain.greaterThan(0.0))\n",
    "epigraph(M, x, t, ws, pi)"
   ]
  },
  {
   "cell_type": "markdown",
   "metadata": {},
   "source": [
    "### Setting the objective ###"
   ]
  },
  {
   "cell_type": "code",
   "execution_count": 12,
   "metadata": {
    "collapsed": false
   },
   "outputs": [],
   "source": [
    "M.objective(ObjectiveSense.Minimize, t)"
   ]
  },
  {
   "cell_type": "code",
   "execution_count": 13,
   "metadata": {
    "collapsed": false
   },
   "outputs": [],
   "source": [
    "#M.setLogHandler(sys.stdout)"
   ]
  },
  {
   "cell_type": "code",
   "execution_count": 14,
   "metadata": {
    "collapsed": false
   },
   "outputs": [],
   "source": [
    "M.solve()"
   ]
  },
  {
   "cell_type": "code",
   "execution_count": 15,
   "metadata": {
    "collapsed": false
   },
   "outputs": [
    {
     "data": {
      "text/plain": [
       "array([ 0.33580937,  0.25254317,  0.1388759 ,  0.02044169, -0.04797007,\n",
       "       -0.05156956, -0.01627207,  0.01837092,  0.02948826,  0.02271378,\n",
       "       -0.00952669])"
      ]
     },
     "execution_count": 15,
     "metadata": {},
     "output_type": "execute_result"
    }
   ],
   "source": [
    "x.level()"
   ]
  },
  {
   "cell_type": "code",
   "execution_count": 16,
   "metadata": {
    "collapsed": false
   },
   "outputs": [
    {
     "data": {
      "text/plain": [
       "array([ 0.0727316])"
      ]
     },
     "execution_count": 16,
     "metadata": {},
     "output_type": "execute_result"
    }
   ],
   "source": [
    "t.level()"
   ]
  },
  {
   "cell_type": "markdown",
   "metadata": {},
   "source": [
    "### Plotting the amplitude response ###"
   ]
  },
  {
   "cell_type": "code",
   "execution_count": 17,
   "metadata": {
    "collapsed": false
   },
   "outputs": [],
   "source": [
    "def H(x, w): return x[0] + 2*sum([x[i]*cos(i*w) for i in range(1,len(x))])\n",
    "w  = np.linspace(0, pi, 100)\n",
    "T = [ H(x.level(), wi) for wi in w ]"
   ]
  },
  {
   "cell_type": "code",
   "execution_count": 18,
   "metadata": {
    "collapsed": false
   },
   "outputs": [],
   "source": [
    "import bokeh\n",
    "from bokeh.plotting import figure, output_notebook, show\n",
    "from bokeh.models import FixedTicker, BoxAnnotation"
   ]
  },
  {
   "cell_type": "code",
   "execution_count": 19,
   "metadata": {
    "collapsed": false
   },
   "outputs": [
    {
     "data": {
      "text/html": [
       "\n",
       "    <div class=\"bk-root\">\n",
       "        <a href=\"http://bokeh.pydata.org\" target=\"_blank\" class=\"bk-logo bk-logo-small bk-logo-notebook\"></a>\n",
       "        <span id=\"2c5964aa-7001-4cae-b2ac-76da01c3f7bf\">Loading BokehJS ...</span>\n",
       "    </div>"
      ]
     },
     "metadata": {},
     "output_type": "display_data"
    },
    {
     "data": {
      "application/javascript": [
       "\n",
       "(function(global) {\n",
       "  function now() {\n",
       "    return new Date();\n",
       "  }\n",
       "\n",
       "  var force = \"1\";\n",
       "\n",
       "  if (typeof (window._bokeh_onload_callbacks) === \"undefined\" || force !== \"\") {\n",
       "    window._bokeh_onload_callbacks = [];\n",
       "    window._bokeh_is_loading = undefined;\n",
       "  }\n",
       "\n",
       "  function run_callbacks() {\n",
       "    window._bokeh_onload_callbacks.forEach(function(callback) { callback() });\n",
       "    delete window._bokeh_onload_callbacks\n",
       "    console.info(\"Bokeh: all callbacks have finished\");\n",
       "  }\n",
       "\n",
       "  function load_libs(js_urls, callback) {\n",
       "    window._bokeh_onload_callbacks.push(callback);\n",
       "    if (window._bokeh_is_loading > 0) {\n",
       "      console.log(\"Bokeh: BokehJS is being loaded, scheduling callback at\", now());\n",
       "      return null;\n",
       "    }\n",
       "    if (js_urls == null || js_urls.length === 0) {\n",
       "      run_callbacks();\n",
       "      return null;\n",
       "    }\n",
       "    console.log(\"Bokeh: BokehJS not loaded, scheduling load and callback at\", now());\n",
       "    window._bokeh_is_loading = js_urls.length;\n",
       "    for (var i = 0; i < js_urls.length; i++) {\n",
       "      var url = js_urls[i];\n",
       "      var s = document.createElement('script');\n",
       "      s.src = url;\n",
       "      s.async = false;\n",
       "      s.onreadystatechange = s.onload = function() {\n",
       "        window._bokeh_is_loading--;\n",
       "        if (window._bokeh_is_loading === 0) {\n",
       "          console.log(\"Bokeh: all BokehJS libraries loaded\");\n",
       "          run_callbacks()\n",
       "        }\n",
       "      };\n",
       "      s.onerror = function() {\n",
       "        console.warn(\"failed to load library \" + url);\n",
       "      };\n",
       "      console.log(\"Bokeh: injecting script tag for BokehJS library: \", url);\n",
       "      document.getElementsByTagName(\"head\")[0].appendChild(s);\n",
       "    }\n",
       "  };\n",
       "\n",
       "  var js_urls = ['https://cdn.pydata.org/bokeh/dev/bokeh-0.12.2dev3.min.js', 'https://cdn.pydata.org/bokeh/dev/bokeh-widgets-0.12.2dev3.min.js', 'https://cdn.pydata.org/bokeh/dev/bokeh-compiler-0.12.2dev3.min.js'];\n",
       "\n",
       "  var inline_js = [\n",
       "    function(Bokeh) {\n",
       "      Bokeh.set_log_level(\"info\");\n",
       "    },\n",
       "    \n",
       "    function(Bokeh) {\n",
       "      \n",
       "      Bokeh.$(\"#2c5964aa-7001-4cae-b2ac-76da01c3f7bf\").text(\"BokehJS successfully loaded\");\n",
       "      var kernel = Jupyter.notebook.kernel\n",
       "      if (kernel.execute !== undefined) {\n",
       "          kernel.execute(\"import bokeh.io; bokeh.io._nb_loaded = True\");\n",
       "      }\n",
       "    },\n",
       "    function(Bokeh) {\n",
       "      console.log(\"Bokeh: injecting CSS: https://cdn.pydata.org/bokeh/dev/bokeh-0.12.2dev3.min.css\");\n",
       "      Bokeh.embed.inject_css(\"https://cdn.pydata.org/bokeh/dev/bokeh-0.12.2dev3.min.css\");\n",
       "      console.log(\"Bokeh: injecting CSS: https://cdn.pydata.org/bokeh/dev/bokeh-widgets-0.12.2dev3.min.css\");\n",
       "      Bokeh.embed.inject_css(\"https://cdn.pydata.org/bokeh/dev/bokeh-widgets-0.12.2dev3.min.css\");\n",
       "    }\n",
       "  ];\n",
       "\n",
       "  function run_inline_js() {\n",
       "    for (var i = 0; i < inline_js.length; i++) {\n",
       "      inline_js[i](window.Bokeh);\n",
       "    }\n",
       "  }\n",
       "\n",
       "  if (window._bokeh_is_loading === 0) {\n",
       "    console.log(\"Bokeh: BokehJS loaded, going straight to plotting\");\n",
       "    run_inline_js();\n",
       "  } else {\n",
       "    load_libs(js_urls, function() {\n",
       "      console.log(\"Bokeh: BokehJS plotting callback run at\", now());\n",
       "      run_inline_js();\n",
       "    });\n",
       "  }\n",
       "}(this));"
      ]
     },
     "metadata": {},
     "output_type": "display_data"
    }
   ],
   "source": [
    "output_notebook()"
   ]
  },
  {
   "cell_type": "code",
   "execution_count": 20,
   "metadata": {
    "collapsed": false
   },
   "outputs": [
    {
     "data": {
      "text/html": [
       "\n",
       "\n",
       "    <div class=\"bk-root\">\n",
       "        <div class=\"plotdiv\" id=\"dff0dcfd-8b0b-4d5d-a1e7-b42601e8065c\"></div>\n",
       "    </div>\n",
       "<script type=\"text/javascript\">\n",
       "  \n",
       "  (function(global) {\n",
       "    function now() {\n",
       "      return new Date();\n",
       "    }\n",
       "  \n",
       "    var force = \"\";\n",
       "  \n",
       "    if (typeof (window._bokeh_onload_callbacks) === \"undefined\" || force !== \"\") {\n",
       "      window._bokeh_onload_callbacks = [];\n",
       "      window._bokeh_is_loading = undefined;\n",
       "    }\n",
       "  \n",
       "    function run_callbacks() {\n",
       "      window._bokeh_onload_callbacks.forEach(function(callback) { callback() });\n",
       "      delete window._bokeh_onload_callbacks\n",
       "      console.info(\"Bokeh: all callbacks have finished\");\n",
       "    }\n",
       "  \n",
       "    function load_libs(js_urls, callback) {\n",
       "      window._bokeh_onload_callbacks.push(callback);\n",
       "      if (window._bokeh_is_loading > 0) {\n",
       "        console.log(\"Bokeh: BokehJS is being loaded, scheduling callback at\", now());\n",
       "        return null;\n",
       "      }\n",
       "      if (js_urls == null || js_urls.length === 0) {\n",
       "        run_callbacks();\n",
       "        return null;\n",
       "      }\n",
       "      console.log(\"Bokeh: BokehJS not loaded, scheduling load and callback at\", now());\n",
       "      window._bokeh_is_loading = js_urls.length;\n",
       "      for (var i = 0; i < js_urls.length; i++) {\n",
       "        var url = js_urls[i];\n",
       "        var s = document.createElement('script');\n",
       "        s.src = url;\n",
       "        s.async = false;\n",
       "        s.onreadystatechange = s.onload = function() {\n",
       "          window._bokeh_is_loading--;\n",
       "          if (window._bokeh_is_loading === 0) {\n",
       "            console.log(\"Bokeh: all BokehJS libraries loaded\");\n",
       "            run_callbacks()\n",
       "          }\n",
       "        };\n",
       "        s.onerror = function() {\n",
       "          console.warn(\"failed to load library \" + url);\n",
       "        };\n",
       "        console.log(\"Bokeh: injecting script tag for BokehJS library: \", url);\n",
       "        document.getElementsByTagName(\"head\")[0].appendChild(s);\n",
       "      }\n",
       "    };var element = document.getElementById(\"dff0dcfd-8b0b-4d5d-a1e7-b42601e8065c\");\n",
       "    if (element == null) {\n",
       "      console.log(\"Bokeh: ERROR: autoload.js configured with elementid 'dff0dcfd-8b0b-4d5d-a1e7-b42601e8065c' but no matching script tag was found. \")\n",
       "      return false;\n",
       "    }\n",
       "  \n",
       "    var js_urls = [];\n",
       "  \n",
       "    var inline_js = [\n",
       "      function(Bokeh) {\n",
       "        Bokeh.$(function() {\n",
       "            var docs_json = {\"c9ed2de7-1af0-4b54-b482-d1d79f297670\":{\"roots\":{\"references\":[{\"attributes\":{\"callback\":null,\"column_names\":[\"y\",\"x\"],\"data\":{\"x\":[0.0,0.03173325912716963,0.06346651825433926,0.0951997773815089,0.12693303650867852,0.15866629563584814,0.1903995547630178,0.2221328138901874,0.25386607301735703,0.28559933214452665,0.3173325912716963,0.3490658503988659,0.3807991095260356,0.4125323686532052,0.4442656277803748,0.47599888690754444,0.5077321460347141,0.5394654051618837,0.5711986642890533,0.6029319234162229,0.6346651825433925,0.6663984416705622,0.6981317007977318,0.7298649599249014,0.7615982190520711,0.7933314781792408,0.8250647373064104,0.85679799643358,0.8885312555607496,0.9202645146879193,0.9519977738150889,0.9837310329422585,1.0154642920694281,1.0471975511965979,1.0789308103237674,1.110664069450937,1.1423973285781066,1.1741305877052763,1.2058638468324459,1.2375971059596156,1.269330365086785,1.3010636242139548,1.3327968833411243,1.364530142468294,1.3962634015954636,1.4279966607226333,1.4597299198498028,1.4914631789769726,1.5231964381041423,1.5549296972313118,1.5866629563584815,1.618396215485651,1.6501294746128208,1.6818627337399903,1.71359599286716,1.7453292519943295,1.7770625111214993,1.8087957702486688,1.8405290293758385,1.872262288503008,1.9039955476301778,1.9357288067573473,1.967462065884517,1.9991953250116865,2.0309285841388562,2.0626618432660258,2.0943951023931957,2.126128361520365,2.1578616206475347,2.1895948797747042,2.221328138901874,2.2530613980290437,2.284794657156213,2.3165279162833827,2.3482611754105527,2.379994434537722,2.4117276936648917,2.443460952792061,2.475194211919231,2.5069274710464007,2.53866073017357,2.57039398930074,2.6021272484279097,2.633860507555079,2.6655937666822487,2.6973270258094186,2.729060284936588,2.7607935440637577,2.792526803190927,2.824260062318097,2.8559933214452666,2.887726580572436,2.9194598396996057,2.9511930988267756,2.982926357953945,3.0146596170811146,3.0463928762082846,3.078126135335454,3.1098593944626236,3.141592653589793],\"y\":[1.049999996971758,1.0479750437687612,1.0420577599960485,1.0327100958073128,1.0206666284660448,1.0068835795718485,0.9924714188053341,0.9786148590735013,0.9664848798771801,0.9571480491967594,0.9514788019788027,0.9500804320758096,0.9532203294319226,0.9607844243685064,0.9722548839314922,0.9867138627530034,1.0028745903969756,1.0191393533617226,1.0336821025259804,1.0445516058254987,1.0497894040020452,1.0475554498636832,1.0362533455154275,1.0146466437517723,0.9819578235613051,0.9379423182435005,0.8829313525524807,0.8178392661529164,0.7441333487658499,0.6637668289452754,0.5790783523906582,0.49266384807290886,0.40722890128656136,0.32543143926231555,0.24972552921302732,0.1822172829690961,0.12454321108674857,0.07777989575148753,0.04239164901863374,0.018220048535974642,0.004516107758118504,1.2589486754976953e-05,0.0030308745341650067,0.011614109563014063,0.0236763091521191,0.03715585682804423,0.05016155170177783,0.06110001710267943,0.06877487824541018,0.07245050049370966,0.0718760609511796,0.06726905273212125,0.059260709681156265,0.048808998110378976,0.037087477972391425,0.025360258077576747,0.014854291426184107,0.006640289531060994,0.0015325784469533699,1.6362006815151542e-05,0.0022082681853076713,0.00785296716442252,0.016355344063384458,0.026844484543021352,0.038262879140625705,0.049472029508421056,0.059364246081784644,0.06696998514596114,0.07155061912807165,0.07266801148432189,0.07022453510507343,0.0644700162163942,0.05597523690421208,0.04557479320919011,0.034284986373656345,0.023204753599460393,0.01340920525700623,0.005845984106121249,0.0012443410095132612,4.556449473464008e-05,0.0023613301659516917,0.007963848808652751,0.016308645320299853,0.026587684158031588,0.03780766677004893,0.04888593652127454,0.05875476313039413,0.06646399851627582,0.07127227198208191,0.07271800661657224,0.0706634832114928,0.06530776646673003,0.05716729317852587,0.047026018287877835,0.03585992650215958,0.024743166847735754,0.014744821357958682,0.006826210044018177,0.0017485776549356902,9.3146195201399e-09]}},\"id\":\"d2ad6e61-b2d1-400c-b17f-4f86c60b0e52\",\"type\":\"ColumnDataSource\"},{\"attributes\":{\"below\":[{\"id\":\"8e7c4717-15cb-4acf-a273-5297270c8e08\",\"type\":\"LinearAxis\"}],\"left\":[{\"id\":\"7a1ddb01-08cd-402a-9005-f0fee4c58f46\",\"type\":\"LinearAxis\"}],\"renderers\":[{\"id\":\"8e7c4717-15cb-4acf-a273-5297270c8e08\",\"type\":\"LinearAxis\"},{\"id\":\"8bc01b33-05d3-46a3-91b7-7983929c25f4\",\"type\":\"Grid\"},{\"id\":\"7a1ddb01-08cd-402a-9005-f0fee4c58f46\",\"type\":\"LinearAxis\"},{\"id\":\"b6dd1972-b678-46e9-9377-85703a0f2f93\",\"type\":\"Grid\"},{\"id\":\"4463774a-4480-4019-88fb-bd7ad9527a56\",\"type\":\"BoxAnnotation\"},{\"id\":\"353dbbef-5c1a-4603-bb2b-57b1f4a25765\",\"type\":\"GlyphRenderer\"},{\"id\":\"dcee74fb-bde5-413c-9170-f44f06c2a182\",\"type\":\"BoxAnnotation\"},{\"id\":\"2d17adb1-4915-4e3c-9984-dc556a4bb7f2\",\"type\":\"BoxAnnotation\"}],\"title\":{\"id\":\"4b7af1ce-2a5c-4fca-95e2-51f8e71ae382\",\"type\":\"Title\"},\"tool_events\":{\"id\":\"2460749c-0242-48e4-b114-029bc1e28888\",\"type\":\"ToolEvents\"},\"toolbar\":{\"id\":\"d6c5afed-8791-45dc-b440-1685c13f39c5\",\"type\":\"Toolbar\"},\"x_range\":{\"id\":\"bf1aeec2-7530-476c-85d6-998934f2ff7d\",\"type\":\"Range1d\"},\"y_range\":{\"id\":\"38571ecd-7f9c-4981-bd9f-2328492149e0\",\"type\":\"Range1d\"}},\"id\":\"ed1f0aa0-815a-466b-8126-f4d72efb3e51\",\"subtype\":\"Figure\",\"type\":\"Plot\"},{\"attributes\":{\"plot\":null,\"text\":null},\"id\":\"4b7af1ce-2a5c-4fca-95e2-51f8e71ae382\",\"type\":\"Title\"},{\"attributes\":{},\"id\":\"2a06f65f-8bdc-4ad5-9717-0ab9bc7f8c80\",\"type\":\"BasicTickFormatter\"},{\"attributes\":{\"plot\":{\"id\":\"ed1f0aa0-815a-466b-8126-f4d72efb3e51\",\"subtype\":\"Figure\",\"type\":\"Plot\"}},\"id\":\"f344bd3c-ed1c-46a9-9e97-2636c7f40d3f\",\"type\":\"SaveTool\"},{\"attributes\":{\"callback\":null,\"end\":3.141592653589793},\"id\":\"bf1aeec2-7530-476c-85d6-998934f2ff7d\",\"type\":\"Range1d\"},{\"attributes\":{\"plot\":{\"id\":\"ed1f0aa0-815a-466b-8126-f4d72efb3e51\",\"subtype\":\"Figure\",\"type\":\"Plot\"}},\"id\":\"a67cd5d2-64d6-415b-b546-48d61d74c215\",\"type\":\"WheelZoomTool\"},{\"attributes\":{\"callback\":null,\"end\":1.1},\"id\":\"38571ecd-7f9c-4981-bd9f-2328492149e0\",\"type\":\"Range1d\"},{\"attributes\":{\"line_alpha\":{\"value\":0.1},\"line_color\":{\"value\":\"#1f77b4\"},\"line_width\":{\"value\":2},\"x\":{\"field\":\"x\"},\"y\":{\"field\":\"y\"}},\"id\":\"e746c6ba-5b9f-4aea-af06-b096bf10173f\",\"type\":\"Line\"},{\"attributes\":{\"data_source\":{\"id\":\"d2ad6e61-b2d1-400c-b17f-4f86c60b0e52\",\"type\":\"ColumnDataSource\"},\"glyph\":{\"id\":\"e417b75c-f4e6-43ea-aa7a-6d9b8cdb3d51\",\"type\":\"Line\"},\"hover_glyph\":null,\"nonselection_glyph\":{\"id\":\"e746c6ba-5b9f-4aea-af06-b096bf10173f\",\"type\":\"Line\"},\"selection_glyph\":null},\"id\":\"353dbbef-5c1a-4603-bb2b-57b1f4a25765\",\"type\":\"GlyphRenderer\"},{\"attributes\":{},\"id\":\"f2640ec4-bffd-4d4d-94ca-8b95dffbbf6a\",\"type\":\"BasicTicker\"},{\"attributes\":{\"ticks\":[0,0.07273159967954569,0.95,1.05]},\"id\":\"5e04aa61-1740-4cb4-b98c-8de1f793ac64\",\"type\":\"FixedTicker\"},{\"attributes\":{\"axis_label\":\"H(w)\",\"formatter\":{\"id\":\"2a06f65f-8bdc-4ad5-9717-0ab9bc7f8c80\",\"type\":\"BasicTickFormatter\"},\"plot\":{\"id\":\"ed1f0aa0-815a-466b-8126-f4d72efb3e51\",\"subtype\":\"Figure\",\"type\":\"Plot\"},\"ticker\":{\"id\":\"5e04aa61-1740-4cb4-b98c-8de1f793ac64\",\"type\":\"FixedTicker\"}},\"id\":\"7a1ddb01-08cd-402a-9005-f0fee4c58f46\",\"type\":\"LinearAxis\"},{\"attributes\":{\"plot\":{\"id\":\"ed1f0aa0-815a-466b-8126-f4d72efb3e51\",\"subtype\":\"Figure\",\"type\":\"Plot\"}},\"id\":\"cc01a472-39e7-4584-8ea2-c754b3445b14\",\"type\":\"HelpTool\"},{\"attributes\":{\"active_drag\":\"auto\",\"active_scroll\":\"auto\",\"active_tap\":\"auto\",\"tools\":[{\"id\":\"0743607e-9a92-4c40-be3e-e71e0f9dce98\",\"type\":\"PanTool\"},{\"id\":\"a67cd5d2-64d6-415b-b546-48d61d74c215\",\"type\":\"WheelZoomTool\"},{\"id\":\"7571158c-31ab-4356-94b4-518100e5a7c7\",\"type\":\"BoxZoomTool\"},{\"id\":\"f344bd3c-ed1c-46a9-9e97-2636c7f40d3f\",\"type\":\"SaveTool\"},{\"id\":\"b6a49dc4-9cef-493e-b045-96ed9c75bdc7\",\"type\":\"ResetTool\"},{\"id\":\"cc01a472-39e7-4584-8ea2-c754b3445b14\",\"type\":\"HelpTool\"}]},\"id\":\"d6c5afed-8791-45dc-b440-1685c13f39c5\",\"type\":\"Toolbar\"},{\"attributes\":{\"plot\":{\"id\":\"ed1f0aa0-815a-466b-8126-f4d72efb3e51\",\"subtype\":\"Figure\",\"type\":\"Plot\"}},\"id\":\"0743607e-9a92-4c40-be3e-e71e0f9dce98\",\"type\":\"PanTool\"},{\"attributes\":{\"dimension\":1,\"plot\":{\"id\":\"ed1f0aa0-815a-466b-8126-f4d72efb3e51\",\"subtype\":\"Figure\",\"type\":\"Plot\"},\"ticker\":{\"id\":\"f2640ec4-bffd-4d4d-94ca-8b95dffbbf6a\",\"type\":\"BasicTicker\"}},\"id\":\"b6dd1972-b678-46e9-9377-85703a0f2f93\",\"type\":\"Grid\"},{\"attributes\":{\"axis_label\":\"w\",\"formatter\":{\"id\":\"c1c2ac35-7adb-4628-93d9-2bcdd4fe684b\",\"type\":\"BasicTickFormatter\"},\"plot\":{\"id\":\"ed1f0aa0-815a-466b-8126-f4d72efb3e51\",\"subtype\":\"Figure\",\"type\":\"Plot\"},\"ticker\":{\"id\":\"59f754b0-5ede-4afc-a8cc-204eaa08532e\",\"type\":\"BasicTicker\"}},\"id\":\"8e7c4717-15cb-4acf-a273-5297270c8e08\",\"type\":\"LinearAxis\"},{\"attributes\":{\"plot\":{\"id\":\"ed1f0aa0-815a-466b-8126-f4d72efb3e51\",\"subtype\":\"Figure\",\"type\":\"Plot\"},\"ticker\":{\"id\":\"59f754b0-5ede-4afc-a8cc-204eaa08532e\",\"type\":\"BasicTicker\"}},\"id\":\"8bc01b33-05d3-46a3-91b7-7983929c25f4\",\"type\":\"Grid\"},{\"attributes\":{\"bottom_units\":\"screen\",\"fill_alpha\":{\"value\":0.5},\"fill_color\":{\"value\":\"lightgrey\"},\"left_units\":\"screen\",\"level\":\"overlay\",\"line_alpha\":{\"value\":1.0},\"line_color\":{\"value\":\"black\"},\"line_dash\":[4,4],\"line_width\":{\"value\":2},\"plot\":null,\"render_mode\":\"css\",\"right_units\":\"screen\",\"top_units\":\"screen\"},\"id\":\"4463774a-4480-4019-88fb-bd7ad9527a56\",\"type\":\"BoxAnnotation\"},{\"attributes\":{\"overlay\":{\"id\":\"4463774a-4480-4019-88fb-bd7ad9527a56\",\"type\":\"BoxAnnotation\"},\"plot\":{\"id\":\"ed1f0aa0-815a-466b-8126-f4d72efb3e51\",\"subtype\":\"Figure\",\"type\":\"Plot\"}},\"id\":\"7571158c-31ab-4356-94b4-518100e5a7c7\",\"type\":\"BoxZoomTool\"},{\"attributes\":{\"fill_alpha\":{\"value\":0.1},\"fill_color\":{\"value\":\"red\"},\"left\":1.1780972450961724,\"plot\":{\"id\":\"ed1f0aa0-815a-466b-8126-f4d72efb3e51\",\"subtype\":\"Figure\",\"type\":\"Plot\"},\"top\":0.07273159967954569},\"id\":\"dcee74fb-bde5-413c-9170-f44f06c2a182\",\"type\":\"BoxAnnotation\"},{\"attributes\":{\"plot\":{\"id\":\"ed1f0aa0-815a-466b-8126-f4d72efb3e51\",\"subtype\":\"Figure\",\"type\":\"Plot\"}},\"id\":\"b6a49dc4-9cef-493e-b045-96ed9c75bdc7\",\"type\":\"ResetTool\"},{\"attributes\":{\"bottom\":0.95,\"fill_alpha\":{\"value\":0.1},\"fill_color\":{\"value\":\"red\"},\"plot\":{\"id\":\"ed1f0aa0-815a-466b-8126-f4d72efb3e51\",\"subtype\":\"Figure\",\"type\":\"Plot\"},\"right\":0.7853981633974483,\"top\":1.05},\"id\":\"2d17adb1-4915-4e3c-9984-dc556a4bb7f2\",\"type\":\"BoxAnnotation\"},{\"attributes\":{},\"id\":\"c1c2ac35-7adb-4628-93d9-2bcdd4fe684b\",\"type\":\"BasicTickFormatter\"},{\"attributes\":{\"line_color\":{\"value\":\"#1f77b4\"},\"line_width\":{\"value\":2},\"x\":{\"field\":\"x\"},\"y\":{\"field\":\"y\"}},\"id\":\"e417b75c-f4e6-43ea-aa7a-6d9b8cdb3d51\",\"type\":\"Line\"},{\"attributes\":{},\"id\":\"59f754b0-5ede-4afc-a8cc-204eaa08532e\",\"type\":\"BasicTicker\"},{\"attributes\":{},\"id\":\"2460749c-0242-48e4-b114-029bc1e28888\",\"type\":\"ToolEvents\"}],\"root_ids\":[\"ed1f0aa0-815a-466b-8126-f4d72efb3e51\"]},\"title\":\"Bokeh Application\",\"version\":\"0.12.2dev3\"}};\n",
       "            var render_items = [{\"docid\":\"c9ed2de7-1af0-4b54-b482-d1d79f297670\",\"elementid\":\"dff0dcfd-8b0b-4d5d-a1e7-b42601e8065c\",\"modelid\":\"ed1f0aa0-815a-466b-8126-f4d72efb3e51\",\"notebook_comms_target\":\"ac4f51ac-bb42-4a2d-8389-269013750ef1\"}];\n",
       "            \n",
       "            Bokeh.embed.embed_items(docs_json, render_items);\n",
       "        });\n",
       "      },\n",
       "      function(Bokeh) {\n",
       "      }\n",
       "    ];\n",
       "  \n",
       "    function run_inline_js() {\n",
       "      for (var i = 0; i < inline_js.length; i++) {\n",
       "        inline_js[i](window.Bokeh);\n",
       "      }\n",
       "    }\n",
       "  \n",
       "    if (window._bokeh_is_loading === 0) {\n",
       "      console.log(\"Bokeh: BokehJS loaded, going straight to plotting\");\n",
       "      run_inline_js();\n",
       "    } else {\n",
       "      load_libs(js_urls, function() {\n",
       "        console.log(\"Bokeh: BokehJS plotting callback run at\", now());\n",
       "        run_inline_js();\n",
       "      });\n",
       "    }\n",
       "  }(this));\n",
       "</script>"
      ]
     },
     "metadata": {},
     "output_type": "display_data"
    },
    {
     "data": {
      "text/html": [
       "<p><code>&lt;Bokeh Notebook handle for <strong>In[20]</strong>&gt;</code></p>"
      ],
      "text/plain": [
       "<bokeh.io._CommsHandle at 0x7f7453481210>"
      ]
     },
     "execution_count": 20,
     "metadata": {},
     "output_type": "execute_result"
    }
   ],
   "source": [
    "p = figure(x_axis_label='w', x_range=(0,pi), y_axis_label='H(w)', y_range=(0,1 + 2*delta))\n",
    "p.line(w, T, line_width=2)\n",
    "p.yaxis[0].ticker=FixedTicker(ticks=[0, t.level()[0], 1-delta, 1+delta])\n",
    "p.add_layout(BoxAnnotation(top=t.level()[0], left=ws, fill_alpha=0.1, fill_color='red'))\n",
    "p.add_layout(BoxAnnotation(top=1+delta, bottom=1-delta, right=wp, fill_alpha=0.1, fill_color='red'))\n",
    "show(p)"
   ]
  },
  {
   "cell_type": "code",
   "execution_count": null,
   "metadata": {
    "collapsed": true
   },
   "outputs": [],
   "source": []
  }
 ],
 "metadata": {
  "kernelspec": {
   "display_name": "Python 2",
   "language": "python",
   "name": "python2"
  },
  "language_info": {
   "codemirror_mode": {
    "name": "ipython",
    "version": 2
   },
   "file_extension": ".py",
   "mimetype": "text/x-python",
   "name": "python",
   "nbconvert_exporter": "python",
   "pygments_lexer": "ipython2",
   "version": "2.7.12"
  }
 },
 "nbformat": 4,
 "nbformat_minor": 0
}
