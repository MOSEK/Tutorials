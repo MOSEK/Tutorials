{
 "cells": [
  {
   "cell_type": "markdown",
   "metadata": {},
   "source": [
    "# Optimization problem over nonnegative trigonometric polynomials. #\n",
    "\n",
    "We consider the trigonometric polynomial\n",
    " \n",
    "$$H(\\omega) = x_0 + 2 \\sum_{k=1}^n [ \\Re(x_k) \\cos(\\omega k) + \\Im(x_k) \\sin(\\omega k) ],$$\n",
    "\n",
    "where $H(\\omega)$ is a real valued function paramtrized by the complex vector $x\\in {\\bf C}^{n+1}$, and where $\\Im(x_0)=0$.\n",
    "\n",
    "The example shows how to construct a *non-negative* polynomial $H(\\omega)\\geq 0, \\: \\forall \\omega$ that satisfies,\n",
    "  \n",
    "$$1 - \\delta \\leq  H(\\omega) \\leq 1 + \\delta, \\quad  \\forall \\omega \\in [0, \\omega_p]$$\n",
    "\n",
    "while minimizing $\\sup_{\\omega\\in [\\omega_s,\\pi]} H(\\omega)$ over the variables $x$.\n",
    "\n",
    "In the signal processing literature such a trigonometric polynomial is known as (the squared amplitude respons of) a Chebyshev lowpass filter. \n",
    "\n",
    "A squared amplitude response $H(\\omega)$ is always symmetric around $0$, so $\\Im(x_k)=0$, and we consider only\n",
    "\n",
    "$$H(\\omega) = x_0 + 2 \\sum_{k=1}^n x_k \\cos(\\omega k) $$\n",
    "\n",
    "over the real vector $x\\in {\\bf R}^{n+1}$. The concepts in the example are readily applied to the case with $x\\in {\\bf C}^{n+1}$, however.\n",
    "\n",
    "References:\n",
    "  1. \"Squared Functional Systems and Optimization Problems\",  Y. Nesterov, 2004.\n",
    "  \n",
    "  2. \"Convex Optimization of Non-negative Polynomials: Structured Algorithms and Applications\", Ph.D thesis, Y. Hachez, 2003.\n"
   ]
  },
  {
   "cell_type": "code",
   "execution_count": 1,
   "metadata": {
    "collapsed": false
   },
   "outputs": [],
   "source": [
    "import mosek\n",
    "from   mosek.fusion import *\n",
    "from   math import cos, pi\n",
    "import numpy as np"
   ]
  },
  {
   "cell_type": "markdown",
   "metadata": {},
   "source": [
    "### Nonnegativity everywhere ###\n",
    "\n",
    "Nesterov proved in [1] that $H(\\omega) \\geq 0, \\: \\forall \\omega$ if and only if \n",
    "$$x_i = \\langle T_i^{n+1}, X \\rangle, \\quad X \\in {\\mathcal H}^{n+1}_+,$$\n",
    "where ${\\mathcal H}_+$ is the cone of Hermitian semidefinite matrices and $T_i$ is a Toeplitz matrix\n",
    "$$[T_i]_{kl} = \\left \\{ \\begin{array}{ll}1, & k-l=i\\\\0 & \\text{otherwise}.\\end{array} \\right .$$\n",
    "For example, for $n=2$ we have\n",
    "$$\n",
    "   T_0 = \\left[\\begin{array}{ccc}\n",
    "   1 & 0 & 0\\\\0 & 1 & 0\\\\0 & 0 & 1\n",
    "   \\end{array}\n",
    "   \\right], \\quad\n",
    "   T_1 = \\left[\\begin{array}{ccc}\n",
    "   0 & 0 & 0\\\\1 & 0 & 0\\\\0 & 1 & 0\n",
    "   \\end{array}\n",
    "   \\right],\n",
    "   \\quad\n",
    "   T_2 = \\left[\\begin{array}{ccc}\n",
    "   0 & 0 & 0\\\\0 & 0 & 0\\\\1 & 0 & 0\n",
    "   \\end{array}\n",
    "   \\right].\n",
    "$$\n",
    "In our case we have $\\Im(x_i)=0$, i.e., $X\\in {\\mathcal S}^{n+1}_+$ is a real symmetric semidefinite matrix.\n",
    "\n",
    "We define the *cone on nonnegative trigonometric polynomials* as\n",
    "$$\n",
    "   K^n_{0,\\pi} = \\{ x\\in \\mathbf{R} \\times \\mathbf{C}^n \\mid x_i = \\langle X, T_i\\rangle, \\: i=0,\\dots,n, \\: X\\in\\mathcal{H}_+^{n+1} \\}.\n",
    "$$"
   ]
  },
  {
   "cell_type": "code",
   "execution_count": 2,
   "metadata": {
    "collapsed": false
   },
   "outputs": [],
   "source": [
    "def T_dot_X(n, i, X, a=1.0):\n",
    "    return Expr.dot(Matrix.diag(n, a, -i), X)"
   ]
  },
  {
   "cell_type": "code",
   "execution_count": 3,
   "metadata": {
    "collapsed": false
   },
   "outputs": [],
   "source": [
    "def trigpoly_0_pi(M, x):\n",
    "    '''x[i] == <T(n+1,i),X>'''\n",
    "    n = int(x.size()-1)\n",
    "    X = M.variable(\"X\", Domain.inPSDCone(n+1))\n",
    "    \n",
    "    for i in range(n+1):\n",
    "        M.constraint(Expr.sub(T_dot_X(n+1,i,X), x.index(i)), Domain.equalsTo(0.0))"
   ]
  },
  {
   "cell_type": "markdown",
   "metadata": {},
   "source": [
    "Note that we have dropped the imaginary part of $X$."
   ]
  },
  {
   "cell_type": "markdown",
   "metadata": {},
   "source": [
    "### Nonnegativity on $[0,a]$ ###\n",
    "\n",
    "Similarly, $H(\\omega)$ is nonnegative on $[0,a]$ if and only if\n",
    "\n",
    "$$x_i =\n",
    "\\langle X_1, T_i^{n+1} \\rangle + \n",
    "\\langle X_2, T_{i+1}^n \\rangle +\n",
    "\\langle X_2, T_{i-1}^n \\rangle -\n",
    "2 \\cos(a)\\langle X_2, T_{i}^n \\rangle, \\quad \n",
    "X_1 \\in {\\mathcal H}^{n+1}_+, \\:\n",
    "X_2 \\in {\\mathcal H}^n_+,\n",
    "$$\n",
    "or equivalently\n",
    "$$\n",
    "  K^n_{0,a} = \\{ x\\in \\mathbf{R}\\times \\mathbf{C}^n \\mid\n",
    "   x_i = \\langle X_1, T_i^{n+1} \\rangle +\n",
    "   \\langle X_2 , T_{i+1}^n \\rangle +\n",
    "   \\langle X_2 , T_{i-1}^n \\rangle -\n",
    "   2\\cos(\\alpha)\\langle X_2 , T_i^n\\rangle, \\: X_1\\in \\mathcal{H}_+^{n+1}, X_2\\in\\mathcal{H}_+^n \\}.\n",
    "$$"
   ]
  },
  {
   "cell_type": "code",
   "execution_count": 4,
   "metadata": {
    "collapsed": false
   },
   "outputs": [],
   "source": [
    "def trigpoly_0_a(M, x, a):\n",
    "    '''x[i] == <T(n+1,i),X1> + <T(n,i+1),X2> + <T(n,i-1),X2> - 2*cos(a)*<T(n,i),X2>'''\n",
    "    n = int(x.size()-1)\n",
    "    X1 = M.variable(Domain.inPSDCone(n+1))\n",
    "    X2 = M.variable(Domain.inPSDCone(n))\n",
    "\n",
    "    for i in range(n+1):\n",
    "        M.constraint(Expr.sub(Expr.add([ T_dot_X(n+1,i,X1), \n",
    "                                         T_dot_X(n,i+1,X2), \n",
    "                                         T_dot_X(n,i-1,X2), \n",
    "                                         T_dot_X(n,i,X2,-2*cos(a))]),\n",
    "                              x.index(i)), Domain.equalsTo(0.0))"
   ]
  },
  {
   "cell_type": "markdown",
   "metadata": {},
   "source": [
    "Note that we have dropped the imaginary part of $X_1$ and $X_2$."
   ]
  },
  {
   "cell_type": "markdown",
   "metadata": {},
   "source": [
    "### Nonnegativity on $[a,\\pi]$ ###\n",
    "\n",
    "Finally, $H(\\omega)$ is nonnegative on $[a,\\pi]$ if and only if\n",
    "\n",
    "$$x_i = \n",
    "\\langle X_1, T_i^{n+1} \\rangle -\n",
    "\\langle X_2, T_{i+1}^n \\rangle -\n",
    "\\langle X_2, T_{i-1}^n \\rangle +\n",
    "2 \\cos(a)\\langle X_2, T_{i}^n \\rangle, \\quad \n",
    "X_1 \\in {\\mathcal S}^{n+1}_+, \\:\n",
    "X_2 \\in {\\mathcal S}^n_+,\n",
    "$$\n",
    "or equivalently\n",
    "$$\n",
    "  K^n_{a,\\pi} = \\{ x\\in \\mathbf{R}\\times \\mathbf{C}^n \\mid\n",
    "   x_i = \\langle X_1, T_i^{n+1} \\rangle -\n",
    "   \\langle X_2 , T_{i+1}^n \\rangle -\n",
    "   \\langle X_2 , T_{i-1}^n \\rangle +\n",
    "   2\\cos(\\alpha)\\langle X_2 , T_i^n\\rangle, \\: X_1\\in \\mathcal{H}_+^{n+1}, X_2\\in\\mathcal{H}_+^n \\}.\n",
    "$$"
   ]
  },
  {
   "cell_type": "code",
   "execution_count": 5,
   "metadata": {
    "collapsed": false
   },
   "outputs": [],
   "source": [
    "def trigpoly_a_pi(M, x, a):\n",
    "    '''x[i] == <T(n+1,i),X1> - <T(n,i+1),X2> - <T(n,i-1),X2> + 2*cos(a)*<T(n,i),X2>'''\n",
    "    n = int(x.size()-1)\n",
    "    X1 = M.variable(Domain.inPSDCone(n+1))\n",
    "    X2 = M.variable(Domain.inPSDCone(n))\n",
    "\n",
    "    for i in range(n+1):\n",
    "        M.constraint(Expr.add([ T_dot_X(n+1,i,X1), \n",
    "                                T_dot_X(n,i+1,X2,-1.0), \n",
    "                                T_dot_X(n,i-1,X2,-1.0), \n",
    "                                T_dot_X(n,i,X2,2*cos(a)),\n",
    "                                Expr.neg(x.index(i))    ]),\n",
    "                     Domain.equalsTo(0.0))"
   ]
  },
  {
   "cell_type": "markdown",
   "metadata": {},
   "source": [
    "Note that we have dropped the imaginary part of $X_1$ and $X_2$."
   ]
  },
  {
   "cell_type": "markdown",
   "metadata": {},
   "source": [
    "## An epigraph formulation ##\n",
    "The *epigraph* $H(\\omega) \\leq t$ can now be characterized simply as \n",
    "$-u \\in K^n_{[a,b]}, \\: u=(x_0-t, \\, x_{1:n}).$"
   ]
  },
  {
   "cell_type": "code",
   "execution_count": 6,
   "metadata": {
    "collapsed": false
   },
   "outputs": [],
   "source": [
    "def epigraph(M, x, t, a, b):\n",
    "    '''Models 0 <= H(w) <= t, for all w in [a, b], where\n",
    "         H(w) = x0 + 2*x1*cos(w) + 2*x2*cos(2*w) + ... + 2*xn*cos(n*w)'''\n",
    "    n  = int(x.size()-1)    \n",
    "    u = M.variable(n+1, Domain.unbounded())\n",
    "    M.constraint(Expr.sub(t,Expr.add(x.index(0), u.index(0))), Domain.equalsTo(0.0)) \n",
    "    M.constraint(Expr.add(x.slice(1,n+1), u.slice(1,n+1)), Domain.equalsTo(0.0))\n",
    "    \n",
    "    if a==0.0 and b==pi:\n",
    "        trigpoly_0_pi(M, u)\n",
    "    elif a==0.0 and b<pi:\n",
    "        trigpoly_0_a(M, u, b)\n",
    "    elif a<pi and b==pi:\n",
    "        trigpoly_a_pi(M, u, a)\n",
    "    else:\n",
    "        raise ValueError(\"invalid interval.\")"
   ]
  },
  {
   "cell_type": "markdown",
   "metadata": {},
   "source": [
    "## A hypograph formulation ##\n",
    "Similarly, the *hypograph* $H(\\omega) \\geq t$ can be characterized as \n",
    "$u \\in K^n_{[a,b]}, \\: u=(x_0-t, \\, x_{1:n}).$"
   ]
  },
  {
   "cell_type": "code",
   "execution_count": 7,
   "metadata": {
    "collapsed": false
   },
   "outputs": [],
   "source": [
    "def hypograph(M, x, t, a, b):\n",
    "    '''Models 0 <= t <= H(w), for all w in [a, b], where\n",
    "         H(w) = x0 + 2*x1*cos(w) + 2*x2*cos(2*w) + ... + 2*xn*cos(n*w)'''\n",
    "\n",
    "    n  = int(x.size()-1)    \n",
    "    u0 = M.variable(1, Domain.unbounded())    \n",
    "    M.constraint(Expr.sub(t,Expr.sub(x.index(0), u0)), Domain.equalsTo(0.0))\n",
    "    u = Var.vstack( u0, x.slice(1, n+1) )\n",
    "\n",
    "    if a==0.0 and b==pi:\n",
    "        trigpoly_0_pi(M, u)\n",
    "    elif a==0.0 and b<pi:\n",
    "        trigpoly_0_a(M, u,  b)\n",
    "    elif a<pi and b==pi:\n",
    "        trigpoly_a_pi(M, u, a)\n",
    "    else:\n",
    "        raise ValueError(\"invalid interval.\")"
   ]
  },
  {
   "cell_type": "markdown",
   "metadata": {},
   "source": [
    "## Putting it together ##"
   ]
  },
  {
   "cell_type": "code",
   "execution_count": 8,
   "metadata": {
    "collapsed": false
   },
   "outputs": [],
   "source": [
    "n = 10\n",
    "M = Model(\"trigpoly\")\n",
    "x = M.variable(\"x\", n+1, Domain.unbounded())"
   ]
  },
  {
   "cell_type": "markdown",
   "metadata": {},
   "source": [
    "### Global nonnegativity ###"
   ]
  },
  {
   "cell_type": "code",
   "execution_count": 9,
   "metadata": {
    "collapsed": false
   },
   "outputs": [],
   "source": [
    "# H(w) >= 0\n",
    "trigpoly_0_pi(M, x)"
   ]
  },
  {
   "cell_type": "markdown",
   "metadata": {},
   "source": [
    "### Passband specifications ###"
   ]
  },
  {
   "cell_type": "code",
   "execution_count": 10,
   "metadata": {
    "collapsed": false
   },
   "outputs": [],
   "source": [
    "wp = pi/4\n",
    "delta = 0.05\n",
    "\n",
    "# H(w) <= (1+delta), w in [0, wp]    \n",
    "epigraph(M, x, 1.0+delta, 0.0, wp)\n",
    "\n",
    "# (1-delta) <= H(w), w in [0, wp]\n",
    "hypograph(M, x, 1.0-delta, 0.0, wp)"
   ]
  },
  {
   "cell_type": "markdown",
   "metadata": {},
   "source": [
    "### Stopband specifications ###"
   ]
  },
  {
   "cell_type": "code",
   "execution_count": 11,
   "metadata": {
    "collapsed": false
   },
   "outputs": [],
   "source": [
    "ws = wp + pi/8\n",
    "\n",
    "# H(w) < t, w in [ws, pi]\n",
    "t = M.variable(\"t\", 1, Domain.greaterThan(0.0))\n",
    "epigraph(M, x, t, ws, pi)"
   ]
  },
  {
   "cell_type": "markdown",
   "metadata": {},
   "source": [
    "### Setting the objective ###"
   ]
  },
  {
   "cell_type": "code",
   "execution_count": 12,
   "metadata": {
    "collapsed": false
   },
   "outputs": [],
   "source": [
    "M.objective(ObjectiveSense.Minimize, t)"
   ]
  },
  {
   "cell_type": "code",
   "execution_count": 13,
   "metadata": {
    "collapsed": false
   },
   "outputs": [],
   "source": [
    "#M.setLogHandler(sys.stdout)"
   ]
  },
  {
   "cell_type": "code",
   "execution_count": 14,
   "metadata": {
    "collapsed": false
   },
   "outputs": [],
   "source": [
    "M.solve()"
   ]
  },
  {
   "cell_type": "code",
   "execution_count": 15,
   "metadata": {
    "collapsed": false
   },
   "outputs": [
    {
     "data": {
      "text/plain": [
       "array([ 0.33580937,  0.25254317,  0.1388759 ,  0.02044169, -0.04797007,\n",
       "       -0.05156956, -0.01627207,  0.01837092,  0.02948826,  0.02271378,\n",
       "       -0.00952669])"
      ]
     },
     "execution_count": 15,
     "metadata": {},
     "output_type": "execute_result"
    }
   ],
   "source": [
    "x.level()"
   ]
  },
  {
   "cell_type": "code",
   "execution_count": 16,
   "metadata": {
    "collapsed": false
   },
   "outputs": [
    {
     "data": {
      "text/plain": [
       "array([ 0.0727316])"
      ]
     },
     "execution_count": 16,
     "metadata": {},
     "output_type": "execute_result"
    }
   ],
   "source": [
    "t.level()"
   ]
  },
  {
   "cell_type": "markdown",
   "metadata": {},
   "source": [
    "### Plotting the amplitude response ###"
   ]
  },
  {
   "cell_type": "code",
   "execution_count": 17,
   "metadata": {
    "collapsed": false
   },
   "outputs": [],
   "source": [
    "def H(x, w): return x[0] + 2*sum([x[i]*cos(i*w) for i in range(1,len(x))])\n",
    "w  = np.linspace(0, pi, 100)\n",
    "T = [ H(x.level(), wi) for wi in w ]"
   ]
  },
  {
   "cell_type": "code",
   "execution_count": 18,
   "metadata": {
    "collapsed": false
   },
   "outputs": [],
   "source": [
    "import bokeh\n",
    "from bokeh.plotting import figure, output_notebook, show\n",
    "from bokeh.models import FixedTicker, BoxAnnotation"
   ]
  },
  {
   "cell_type": "code",
   "execution_count": 19,
   "metadata": {
    "collapsed": false
   },
   "outputs": [
    {
     "data": {
      "text/html": [
       "\n",
       "    <div class=\"bk-banner\">\n",
       "        <a href=\"http://bokeh.pydata.org\" target=\"_blank\" class=\"bk-logo bk-logo-small bk-logo-notebook\"></a>\n",
       "        <span id=\"5fa05b76-6585-43bc-a326-55997e40c828\">Loading BokehJS ...</span>\n",
       "    </div>"
      ]
     },
     "metadata": {},
     "output_type": "display_data"
    },
    {
     "data": {
      "application/javascript": [
       "\n",
       "(function(global) {\n",
       "  function now() {\n",
       "    return new Date();\n",
       "  }\n",
       "\n",
       "  if (typeof (window._bokeh_onload_callbacks) === \"undefined\") {\n",
       "    window._bokeh_onload_callbacks = [];\n",
       "  }\n",
       "\n",
       "  function run_callbacks() {\n",
       "    window._bokeh_onload_callbacks.forEach(function(callback) { callback() });\n",
       "    delete window._bokeh_onload_callbacks\n",
       "    console.info(\"Bokeh: all callbacks have finished\");\n",
       "  }\n",
       "\n",
       "  function load_libs(js_urls, callback) {\n",
       "    window._bokeh_onload_callbacks.push(callback);\n",
       "    if (window._bokeh_is_loading > 0) {\n",
       "      console.log(\"Bokeh: BokehJS is being loaded, scheduling callback at\", now());\n",
       "      return null;\n",
       "    }\n",
       "    if (js_urls == null || js_urls.length === 0) {\n",
       "      run_callbacks();\n",
       "      return null;\n",
       "    }\n",
       "    console.log(\"Bokeh: BokehJS not loaded, scheduling load and callback at\", now());\n",
       "    window._bokeh_is_loading = js_urls.length;\n",
       "    for (var i = 0; i < js_urls.length; i++) {\n",
       "      var url = js_urls[i];\n",
       "      var s = document.createElement('script');\n",
       "      s.src = url;\n",
       "      s.async = false;\n",
       "      s.onreadystatechange = s.onload = function() {\n",
       "        window._bokeh_is_loading--;\n",
       "        if (window._bokeh_is_loading === 0) {\n",
       "          console.log(\"Bokeh: all BokehJS libraries loaded\");\n",
       "          run_callbacks()\n",
       "        }\n",
       "      };\n",
       "      s.onerror = function() {\n",
       "        console.warn(\"failed to load library \" + url);\n",
       "      };\n",
       "      console.log(\"Bokeh: injecting script tag for BokehJS library: \", url);\n",
       "      document.getElementsByTagName(\"head\")[0].appendChild(s);\n",
       "    }\n",
       "  };\n",
       "\n",
       "  var js_urls = ['https://cdn.pydata.org/bokeh/release/bokeh-0.11.1.min.js', 'https://cdn.pydata.org/bokeh/release/bokeh-widgets-0.11.1.min.js', 'https://cdn.pydata.org/bokeh/release/bokeh-compiler-0.11.1.min.js'];\n",
       "\n",
       "  var inline_js = [\n",
       "    function(Bokeh) {\n",
       "      Bokeh.set_log_level(\"info\");\n",
       "    },\n",
       "    \n",
       "    function(Bokeh) {\n",
       "      Bokeh.$(\"#5fa05b76-6585-43bc-a326-55997e40c828\").text(\"BokehJS successfully loaded\");\n",
       "    },\n",
       "    function(Bokeh) {\n",
       "      console.log(\"Bokeh: injecting CSS: https://cdn.pydata.org/bokeh/release/bokeh-0.11.1.min.css\");\n",
       "      Bokeh.embed.inject_css(\"https://cdn.pydata.org/bokeh/release/bokeh-0.11.1.min.css\");\n",
       "      console.log(\"Bokeh: injecting CSS: https://cdn.pydata.org/bokeh/release/bokeh-widgets-0.11.1.min.css\");\n",
       "      Bokeh.embed.inject_css(\"https://cdn.pydata.org/bokeh/release/bokeh-widgets-0.11.1.min.css\");\n",
       "    }\n",
       "  ];\n",
       "\n",
       "  function run_inline_js() {\n",
       "    for (var i = 0; i < inline_js.length; i++) {\n",
       "      inline_js[i](window.Bokeh);\n",
       "    }\n",
       "  }\n",
       "\n",
       "  if (window._bokeh_is_loading === 0) {\n",
       "    console.log(\"Bokeh: BokehJS loaded, going straight to plotting\");\n",
       "    run_inline_js();\n",
       "  } else {\n",
       "    load_libs(js_urls, function() {\n",
       "      console.log(\"Bokeh: BokehJS plotting callback run at\", now());\n",
       "      run_inline_js();\n",
       "    });\n",
       "  }\n",
       "}(this));"
      ]
     },
     "metadata": {},
     "output_type": "display_data"
    }
   ],
   "source": [
    "output_notebook()"
   ]
  },
  {
   "cell_type": "code",
   "execution_count": 20,
   "metadata": {
    "collapsed": false
   },
   "outputs": [
    {
     "data": {
      "text/html": [
       "\n",
       "\n",
       "    <div class=\"plotdiv\" id=\"1ac6177f-b709-47e8-9d1f-2cedc5ee1038\"></div>\n",
       "<script type=\"text/javascript\">\n",
       "  \n",
       "  (function(global) {\n",
       "    function now() {\n",
       "      return new Date();\n",
       "    }\n",
       "  \n",
       "    if (typeof (window._bokeh_onload_callbacks) === \"undefined\") {\n",
       "      window._bokeh_onload_callbacks = [];\n",
       "    }\n",
       "  \n",
       "    function run_callbacks() {\n",
       "      window._bokeh_onload_callbacks.forEach(function(callback) { callback() });\n",
       "      delete window._bokeh_onload_callbacks\n",
       "      console.info(\"Bokeh: all callbacks have finished\");\n",
       "    }\n",
       "  \n",
       "    function load_libs(js_urls, callback) {\n",
       "      window._bokeh_onload_callbacks.push(callback);\n",
       "      if (window._bokeh_is_loading > 0) {\n",
       "        console.log(\"Bokeh: BokehJS is being loaded, scheduling callback at\", now());\n",
       "        return null;\n",
       "      }\n",
       "      if (js_urls == null || js_urls.length === 0) {\n",
       "        run_callbacks();\n",
       "        return null;\n",
       "      }\n",
       "      console.log(\"Bokeh: BokehJS not loaded, scheduling load and callback at\", now());\n",
       "      window._bokeh_is_loading = js_urls.length;\n",
       "      for (var i = 0; i < js_urls.length; i++) {\n",
       "        var url = js_urls[i];\n",
       "        var s = document.createElement('script');\n",
       "        s.src = url;\n",
       "        s.async = false;\n",
       "        s.onreadystatechange = s.onload = function() {\n",
       "          window._bokeh_is_loading--;\n",
       "          if (window._bokeh_is_loading === 0) {\n",
       "            console.log(\"Bokeh: all BokehJS libraries loaded\");\n",
       "            run_callbacks()\n",
       "          }\n",
       "        };\n",
       "        s.onerror = function() {\n",
       "          console.warn(\"failed to load library \" + url);\n",
       "        };\n",
       "        console.log(\"Bokeh: injecting script tag for BokehJS library: \", url);\n",
       "        document.getElementsByTagName(\"head\")[0].appendChild(s);\n",
       "      }\n",
       "    };var element = document.getElementById(\"1ac6177f-b709-47e8-9d1f-2cedc5ee1038\");\n",
       "    if (element == null) {\n",
       "      console.log(\"Bokeh: ERROR: autoload.js configured with elementid '1ac6177f-b709-47e8-9d1f-2cedc5ee1038' but no matching script tag was found. \")\n",
       "      return false;\n",
       "    }\n",
       "  \n",
       "    var js_urls = [];\n",
       "  \n",
       "    var inline_js = [\n",
       "      function(Bokeh) {\n",
       "        Bokeh.$(function() {\n",
       "            var docs_json = {\"9fcf21e9-b2b6-42e1-aa89-306493e1b8a4\":{\"roots\":{\"references\":[{\"attributes\":{\"axis_label\":\"H(w)\",\"formatter\":{\"id\":\"36f1424f-9fdd-488e-90bb-090071d80e3a\",\"type\":\"BasicTickFormatter\"},\"plot\":{\"id\":\"3751fee1-bb6b-4c67-a411-ea11d4688c02\",\"subtype\":\"Figure\",\"type\":\"Plot\"},\"ticker\":{\"id\":\"0f77bdf7-8a44-4526-830a-6e4d94719248\",\"type\":\"FixedTicker\"}},\"id\":\"1a547b97-80fc-4926-8cbe-460190849176\",\"type\":\"LinearAxis\"},{\"attributes\":{\"ticks\":[0,0.07273159968076572,0.95,1.05]},\"id\":\"0f77bdf7-8a44-4526-830a-6e4d94719248\",\"type\":\"FixedTicker\"},{\"attributes\":{\"callback\":null,\"column_names\":[\"x\",\"y\"],\"data\":{\"x\":[0.0,0.03173325912716963,0.06346651825433926,0.0951997773815089,0.12693303650867852,0.15866629563584814,0.1903995547630178,0.2221328138901874,0.25386607301735703,0.28559933214452665,0.3173325912716963,0.3490658503988659,0.3807991095260356,0.4125323686532052,0.4442656277803748,0.47599888690754444,0.5077321460347141,0.5394654051618837,0.5711986642890533,0.6029319234162229,0.6346651825433925,0.6663984416705622,0.6981317007977318,0.7298649599249014,0.7615982190520711,0.7933314781792408,0.8250647373064104,0.85679799643358,0.8885312555607496,0.9202645146879193,0.9519977738150889,0.9837310329422585,1.0154642920694281,1.0471975511965979,1.0789308103237674,1.110664069450937,1.1423973285781066,1.1741305877052763,1.2058638468324459,1.2375971059596156,1.269330365086785,1.3010636242139548,1.3327968833411243,1.364530142468294,1.3962634015954636,1.4279966607226333,1.4597299198498028,1.4914631789769726,1.5231964381041423,1.5549296972313118,1.5866629563584815,1.618396215485651,1.6501294746128208,1.6818627337399903,1.71359599286716,1.7453292519943295,1.7770625111214993,1.8087957702486688,1.8405290293758385,1.872262288503008,1.9039955476301778,1.9357288067573473,1.967462065884517,1.9991953250116865,2.0309285841388562,2.0626618432660258,2.0943951023931957,2.126128361520365,2.1578616206475347,2.1895948797747042,2.221328138901874,2.2530613980290437,2.284794657156213,2.3165279162833827,2.3482611754105527,2.379994434537722,2.4117276936648917,2.443460952792061,2.475194211919231,2.5069274710464007,2.53866073017357,2.57039398930074,2.6021272484279097,2.633860507555079,2.6655937666822487,2.6973270258094186,2.729060284936588,2.7607935440637577,2.792526803190927,2.824260062318097,2.8559933214452666,2.887726580572436,2.9194598396996057,2.9511930988267756,2.982926357953945,3.0146596170811146,3.0463928762082846,3.078126135335454,3.1098593944626236,3.141592653589793],\"y\":[1.0499999970890936,1.04797504388549,1.0420577601109877,1.0327100959193676,1.020666628574262,1.006883579675458,0.9924714189037787,0.978614859166451,0.9664848799645327,0.9571480492786251,0.951478802055479,0.950080432147743,0.9532203294996677,0.9607844244326802,0.9722548839927287,0.9867138628119159,1.002874590454122,1.0191393534175837,1.0336821025809435,1.0445516058798539,1.0497894040559879,1.0475554499173223,1.0362533455687986,1.0146466438048518,0.9819578236140218,0.937942318295744,0.8829313526041067,0.8178392662037446,0.7441333488156578,0.6637668289937895,0.5790783524375418,0.4926638481177517,0.40722890132887346,0.3254314393015257,0.249725529248491,0.18221728300011272,0.12454321111258862,0.07777989577142941,0.042391649032007594,0.018220048542211875,0.004516107756801002,1.2589477662305892e-05,0.003030874517313542,0.011614109538683803,0.0236763091208666,0.03715585679069644,0.05016155165940833,0.06110001705656548,0.06877487819697387,0.07245050044444512,0.07187606090257187,0.0672690526855626,0.05926070963786506,0.04880899807132727,0.03708747793824779,0.02536025804866754,0.014854291402478126,0.006640289512177766,0.0015325784321951197,1.636199522170312e-05,0.0022082681757292777,0.007852967155605461,0.016355344054065968,0.026844484532022483,0.03826287912693982,0.04947202949128948,0.05936424606075402,0.0669699851209195,0.07155061909925992,0.07266801145232032,0.07022453507076432,0.06447001618090326,0.05597523686883393,0.045574793175301276,0.0342849863426245,0.02320475357255264,0.013409205235306143,0.005845984090457279,0.001244341000404825,4.5564492357652586e-05,0.002361330170125908,0.007963848818851205,0.01630864533567916,0.026587684177479864,0.03780766679224945,0.04888593654477963,0.05875476315370437,0.06646399853792212,0.07127227200070235,0.07271800663098255,0.07066348322074556,0.06530776647016057,0.057167293175782063,0.04702601827893321,0.03585992648731129,0.024743166827584817,0.01474482133337729,0.006826210016102396,0.0017485776249501206,9.283932178583143e-09]}},\"id\":\"eebdbfa2-be33-47ec-ab13-a4dd5409f44c\",\"type\":\"ColumnDataSource\"},{\"attributes\":{},\"id\":\"af3abe5c-7820-4db2-bd34-56e6fe7061ab\",\"type\":\"ToolEvents\"},{\"attributes\":{},\"id\":\"29b6f76c-125e-4733-ba9b-f6ef3c823c04\",\"type\":\"BasicTicker\"},{\"attributes\":{\"line_alpha\":{\"value\":0.1},\"line_color\":{\"value\":\"#1f77b4\"},\"line_width\":{\"value\":2},\"x\":{\"field\":\"x\"},\"y\":{\"field\":\"y\"}},\"id\":\"7720603b-11d3-45cb-a02c-e17cc52ad0d5\",\"type\":\"Line\"},{\"attributes\":{\"plot\":{\"id\":\"3751fee1-bb6b-4c67-a411-ea11d4688c02\",\"subtype\":\"Figure\",\"type\":\"Plot\"}},\"id\":\"18266a12-3009-491c-8683-b91f6a4e1632\",\"type\":\"HelpTool\"},{\"attributes\":{\"dimension\":1,\"plot\":{\"id\":\"3751fee1-bb6b-4c67-a411-ea11d4688c02\",\"subtype\":\"Figure\",\"type\":\"Plot\"},\"ticker\":{\"id\":\"29b6f76c-125e-4733-ba9b-f6ef3c823c04\",\"type\":\"BasicTicker\"}},\"id\":\"b92d4e60-d8de-446d-8744-c6fefdee3360\",\"type\":\"Grid\"},{\"attributes\":{\"callback\":null,\"end\":3.141592653589793},\"id\":\"bb139eb7-e766-4714-ad57-5fcd50d6f9ab\",\"type\":\"Range1d\"},{\"attributes\":{\"plot\":{\"id\":\"3751fee1-bb6b-4c67-a411-ea11d4688c02\",\"subtype\":\"Figure\",\"type\":\"Plot\"}},\"id\":\"e8aabeac-bfb3-42cd-b915-78ead4ebf9b4\",\"type\":\"ResizeTool\"},{\"attributes\":{\"data_source\":{\"id\":\"eebdbfa2-be33-47ec-ab13-a4dd5409f44c\",\"type\":\"ColumnDataSource\"},\"glyph\":{\"id\":\"76d1467a-bd2a-4f0c-9325-d9ae61f22062\",\"type\":\"Line\"},\"hover_glyph\":null,\"nonselection_glyph\":{\"id\":\"7720603b-11d3-45cb-a02c-e17cc52ad0d5\",\"type\":\"Line\"},\"selection_glyph\":null},\"id\":\"96bc6667-e94b-4832-af09-416412e2d518\",\"type\":\"GlyphRenderer\"},{\"attributes\":{\"bottom\":0.95,\"fill_alpha\":{\"value\":0.1},\"fill_color\":{\"value\":\"red\"},\"plot\":{\"id\":\"3751fee1-bb6b-4c67-a411-ea11d4688c02\",\"subtype\":\"Figure\",\"type\":\"Plot\"},\"right\":0.7853981633974483,\"top\":1.05},\"id\":\"3668aaf0-f219-4810-9059-905d82b6df8e\",\"type\":\"BoxAnnotation\"},{\"attributes\":{},\"id\":\"bb8a01d3-c96f-43bb-8295-190bf1cfe070\",\"type\":\"BasicTickFormatter\"},{\"attributes\":{\"plot\":{\"id\":\"3751fee1-bb6b-4c67-a411-ea11d4688c02\",\"subtype\":\"Figure\",\"type\":\"Plot\"}},\"id\":\"f6bbd0d5-fb45-4408-a998-390b3792f104\",\"type\":\"ResetTool\"},{\"attributes\":{\"plot\":{\"id\":\"3751fee1-bb6b-4c67-a411-ea11d4688c02\",\"subtype\":\"Figure\",\"type\":\"Plot\"},\"ticker\":{\"id\":\"ce5791fe-5f88-4e98-919d-ca103a5595ab\",\"type\":\"BasicTicker\"}},\"id\":\"975f4127-b964-48f7-9cb2-48744005d334\",\"type\":\"Grid\"},{\"attributes\":{\"plot\":{\"id\":\"3751fee1-bb6b-4c67-a411-ea11d4688c02\",\"subtype\":\"Figure\",\"type\":\"Plot\"}},\"id\":\"c85085df-33f6-4206-80a7-7ac7ab52356e\",\"type\":\"WheelZoomTool\"},{\"attributes\":{},\"id\":\"ce5791fe-5f88-4e98-919d-ca103a5595ab\",\"type\":\"BasicTicker\"},{\"attributes\":{\"overlay\":{\"id\":\"56e12d80-bed1-4a26-a403-f56e7d318c72\",\"type\":\"BoxAnnotation\"},\"plot\":{\"id\":\"3751fee1-bb6b-4c67-a411-ea11d4688c02\",\"subtype\":\"Figure\",\"type\":\"Plot\"}},\"id\":\"988e302c-20db-4d92-97e0-f2e041bf1cdb\",\"type\":\"BoxZoomTool\"},{\"attributes\":{\"bottom_units\":\"screen\",\"fill_alpha\":{\"value\":0.5},\"fill_color\":{\"value\":\"lightgrey\"},\"left_units\":\"screen\",\"level\":\"overlay\",\"line_alpha\":{\"value\":1.0},\"line_color\":{\"value\":\"black\"},\"line_dash\":[4,4],\"line_width\":{\"value\":2},\"plot\":null,\"render_mode\":\"css\",\"right_units\":\"screen\",\"top_units\":\"screen\"},\"id\":\"56e12d80-bed1-4a26-a403-f56e7d318c72\",\"type\":\"BoxAnnotation\"},{\"attributes\":{\"plot\":{\"id\":\"3751fee1-bb6b-4c67-a411-ea11d4688c02\",\"subtype\":\"Figure\",\"type\":\"Plot\"}},\"id\":\"83fc3536-6f78-4d7e-acaf-c555ac14f9e7\",\"type\":\"PreviewSaveTool\"},{\"attributes\":{\"callback\":null,\"end\":1.1},\"id\":\"ad3a5376-368b-41ca-8147-62242d1b6fa9\",\"type\":\"Range1d\"},{\"attributes\":{},\"id\":\"36f1424f-9fdd-488e-90bb-090071d80e3a\",\"type\":\"BasicTickFormatter\"},{\"attributes\":{\"line_color\":{\"value\":\"#1f77b4\"},\"line_width\":{\"value\":2},\"x\":{\"field\":\"x\"},\"y\":{\"field\":\"y\"}},\"id\":\"76d1467a-bd2a-4f0c-9325-d9ae61f22062\",\"type\":\"Line\"},{\"attributes\":{\"axis_label\":\"w\",\"formatter\":{\"id\":\"bb8a01d3-c96f-43bb-8295-190bf1cfe070\",\"type\":\"BasicTickFormatter\"},\"plot\":{\"id\":\"3751fee1-bb6b-4c67-a411-ea11d4688c02\",\"subtype\":\"Figure\",\"type\":\"Plot\"},\"ticker\":{\"id\":\"ce5791fe-5f88-4e98-919d-ca103a5595ab\",\"type\":\"BasicTicker\"}},\"id\":\"6ef19eb6-17d5-4d4b-a553-193eecbf39d9\",\"type\":\"LinearAxis\"},{\"attributes\":{\"fill_alpha\":{\"value\":0.1},\"fill_color\":{\"value\":\"red\"},\"left\":1.1780972450961724,\"plot\":{\"id\":\"3751fee1-bb6b-4c67-a411-ea11d4688c02\",\"subtype\":\"Figure\",\"type\":\"Plot\"},\"top\":0.07273159968076572},\"id\":\"b81463fa-cddf-4641-ad69-03aae20fc4be\",\"type\":\"BoxAnnotation\"},{\"attributes\":{\"plot\":{\"id\":\"3751fee1-bb6b-4c67-a411-ea11d4688c02\",\"subtype\":\"Figure\",\"type\":\"Plot\"}},\"id\":\"b23f0bed-db4a-4398-8990-15ac083fa31e\",\"type\":\"PanTool\"},{\"attributes\":{\"below\":[{\"id\":\"6ef19eb6-17d5-4d4b-a553-193eecbf39d9\",\"type\":\"LinearAxis\"}],\"left\":[{\"id\":\"1a547b97-80fc-4926-8cbe-460190849176\",\"type\":\"LinearAxis\"}],\"renderers\":[{\"id\":\"6ef19eb6-17d5-4d4b-a553-193eecbf39d9\",\"type\":\"LinearAxis\"},{\"id\":\"975f4127-b964-48f7-9cb2-48744005d334\",\"type\":\"Grid\"},{\"id\":\"1a547b97-80fc-4926-8cbe-460190849176\",\"type\":\"LinearAxis\"},{\"id\":\"b92d4e60-d8de-446d-8744-c6fefdee3360\",\"type\":\"Grid\"},{\"id\":\"56e12d80-bed1-4a26-a403-f56e7d318c72\",\"type\":\"BoxAnnotation\"},{\"id\":\"96bc6667-e94b-4832-af09-416412e2d518\",\"type\":\"GlyphRenderer\"},{\"id\":\"b81463fa-cddf-4641-ad69-03aae20fc4be\",\"type\":\"BoxAnnotation\"},{\"id\":\"3668aaf0-f219-4810-9059-905d82b6df8e\",\"type\":\"BoxAnnotation\"}],\"tool_events\":{\"id\":\"af3abe5c-7820-4db2-bd34-56e6fe7061ab\",\"type\":\"ToolEvents\"},\"tools\":[{\"id\":\"b23f0bed-db4a-4398-8990-15ac083fa31e\",\"type\":\"PanTool\"},{\"id\":\"c85085df-33f6-4206-80a7-7ac7ab52356e\",\"type\":\"WheelZoomTool\"},{\"id\":\"988e302c-20db-4d92-97e0-f2e041bf1cdb\",\"type\":\"BoxZoomTool\"},{\"id\":\"83fc3536-6f78-4d7e-acaf-c555ac14f9e7\",\"type\":\"PreviewSaveTool\"},{\"id\":\"e8aabeac-bfb3-42cd-b915-78ead4ebf9b4\",\"type\":\"ResizeTool\"},{\"id\":\"f6bbd0d5-fb45-4408-a998-390b3792f104\",\"type\":\"ResetTool\"},{\"id\":\"18266a12-3009-491c-8683-b91f6a4e1632\",\"type\":\"HelpTool\"}],\"x_range\":{\"id\":\"bb139eb7-e766-4714-ad57-5fcd50d6f9ab\",\"type\":\"Range1d\"},\"y_range\":{\"id\":\"ad3a5376-368b-41ca-8147-62242d1b6fa9\",\"type\":\"Range1d\"}},\"id\":\"3751fee1-bb6b-4c67-a411-ea11d4688c02\",\"subtype\":\"Figure\",\"type\":\"Plot\"}],\"root_ids\":[\"3751fee1-bb6b-4c67-a411-ea11d4688c02\"]},\"title\":\"Bokeh Application\",\"version\":\"0.11.1\"}};\n",
       "            var render_items = [{\"docid\":\"9fcf21e9-b2b6-42e1-aa89-306493e1b8a4\",\"elementid\":\"1ac6177f-b709-47e8-9d1f-2cedc5ee1038\",\"modelid\":\"3751fee1-bb6b-4c67-a411-ea11d4688c02\",\"notebook_comms_target\":\"17c87bfb-bbe7-4fd2-864f-f05cbb5bcfd0\"}];\n",
       "            \n",
       "            Bokeh.embed.embed_items(docs_json, render_items);\n",
       "        });\n",
       "      },\n",
       "      function(Bokeh) {\n",
       "      }\n",
       "    ];\n",
       "  \n",
       "    function run_inline_js() {\n",
       "      for (var i = 0; i < inline_js.length; i++) {\n",
       "        inline_js[i](window.Bokeh);\n",
       "      }\n",
       "    }\n",
       "  \n",
       "    if (window._bokeh_is_loading === 0) {\n",
       "      console.log(\"Bokeh: BokehJS loaded, going straight to plotting\");\n",
       "      run_inline_js();\n",
       "    } else {\n",
       "      load_libs(js_urls, function() {\n",
       "        console.log(\"Bokeh: BokehJS plotting callback run at\", now());\n",
       "        run_inline_js();\n",
       "      });\n",
       "    }\n",
       "  }(this));\n",
       "</script>"
      ]
     },
     "metadata": {},
     "output_type": "display_data"
    },
    {
     "data": {
      "text/html": [
       "<p><code>&lt;Bokeh Notebook handle for <strong>In[20]</strong>&gt;</code></p>"
      ],
      "text/plain": [
       "<bokeh.io._CommsHandle at 0x7fac91155550>"
      ]
     },
     "execution_count": 20,
     "metadata": {},
     "output_type": "execute_result"
    }
   ],
   "source": [
    "p = figure(x_axis_label='w', x_range=(0,pi), y_axis_label='H(w)', y_range=(0,1 + 2*delta))\n",
    "p.line(w, T, line_width=2)\n",
    "p.yaxis[0].ticker=FixedTicker(ticks=[0, t.level()[0], 1-delta, 1+delta])\n",
    "p.add_layout(BoxAnnotation(top=t.level()[0], left=ws, fill_alpha=0.1, fill_color='red'))\n",
    "p.add_layout(BoxAnnotation(top=1+delta, bottom=1-delta, right=wp, fill_alpha=0.1, fill_color='red'))\n",
    "show(p)"
   ]
  },
  {
   "cell_type": "markdown",
   "metadata": {
    "collapsed": true
   },
   "source": [
    "---------------------------------------------------------------------------------------------------------------\n",
    "\n",
    "The **MOSEK** logo and name are trademarks of Mosek ApS.\n",
    "\n",
    "The code is provided as-is. Compatibility with future and/or past releasesof **MOSEK** or the `Fusion API` are not guaranteed.\n",
    "\n",
    "For more information contact [support_at_mosek.com](mailto:support@mosek.com)\n",
    "\n",
    "---------------------------------------------------------------------------------------------------------------\n",
    "\n",
    "\n",
    "<a rel=\"license\" href=\"http://creativecommons.org/licenses/by/4.0/\"><img alt=\"Creative Commons License\" style=\"border-width:0\" src=\"https://i.creativecommons.org/l/by/4.0/88x31.png\" /></a><br /><span xmlns:dct=\"http://purl.org/dc/terms/\" property=\"dct:title\">The MOSEK collection of iPython Notebook</span> by <a xmlns:cc=\"http://creativecommons.org/ns#\" href=\"www.mosek.com\" property=\"cc:attributionName\" rel=\"cc:attributionURL\">MOSEK ApS</a> is licensed under a <a rel=\"license\" href=\"http://creativecommons.org/licenses/by/4.0/\">Creative Commons Attribution 4.0 International License</a>.<br />Based on a work at <a xmlns:dct=\"http://purl.org/dc/terms/\" href=\"https://github.com/MOSEK\" rel=\"dct:source\">https://github.com/MOSEK</a>.<br />Permissions beyond the scope of this license may be available at <a xmlns:cc=\"http://creativecommons.org/ns#\" href=\"www.mosek.com\" rel=\"cc:morePermissions\">www.mosek.com</a>."
   ]
  },
  {
   "cell_type": "code",
   "execution_count": null,
   "metadata": {
    "collapsed": true
   },
   "outputs": [],
   "source": []
  }
 ],
 "metadata": {
  "kernelspec": {
   "display_name": "Python 3",
   "language": "python",
   "name": "python3"
  },
  "language_info": {
   "codemirror_mode": {
    "name": "ipython",
    "version": 3
   },
   "file_extension": ".py",
   "mimetype": "text/x-python",
   "name": "python",
   "nbconvert_exporter": "python",
   "pygments_lexer": "ipython3",
   "version": "3.5.1"
  }
 },
 "nbformat": 4,
 "nbformat_minor": 0
}
