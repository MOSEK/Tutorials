{
 "cells": [
  {
   "cell_type": "markdown",
   "metadata": {},
   "source": [
    "![MOSEK ApS](https://www.mosek.com/static/images/branding/webgraphmoseklogocolor.png )"
   ]
  },
  {
   "cell_type": "markdown",
   "metadata": {},
   "source": [
    "`Fusion`: Object-Oriented API for Conic Optimization\n",
    "==============================\n",
    "\n",
    "`Fusion` is an Object-Oriented API specifically designed for Conic Optimization. Its main features are:\n",
    "  \n",
    "* (almost) Seamlessly multi-language (`C#, Java, Python, Matlab, C++`)\n",
    "\n",
    "* Minimalistic and Safe\n",
    "\n",
    "* Extremely Disciplined Conic Optimization\n",
    "\n",
    "* Limited overhead\n",
    "\n",
    "* **MOSEK** gets what you write!\n",
    "\n",
    "* `Fusion` provides only a (large) subset of functionalities of the low-level Optimizer API."
   ]
  },
  {
   "cell_type": "markdown",
   "metadata": {},
   "source": [
    "# An introduction to building expressions in MOSEK Fusion for Python 3"
   ]
  },
  {
   "cell_type": "markdown",
   "metadata": {},
   "source": [
    "Fusion solves optimization problems of the form\n",
    "$$\n",
    "\\begin{array}{lcc}\n",
    "\\mbox{minimize}    & c^T x       & \\\\\n",
    "\\mbox{subject to}  & A^i x + b^i & \\in & K^i, & \\forall i. \\\\\n",
    "\\end{array}\n",
    "$$\n",
    "\n",
    "The cones $\\mathcal{K}^i$ are  \n",
    "\n",
    "* $\\mathbb{R}_+$ - positive orthant ,\n",
    "\n",
    "* $\\mathcal{Q}$ - quadratic cone,\n",
    "\n",
    "* $\\mathcal{Q_r}$ - rotated quadratic cone,\n",
    "\n",
    "* $\\mathbb{S}_+$ - PSD matrices.\n",
    "\n",
    "By a proper choice of dimensions, cones and coefficients, we obtain LPs, CQPs and SDPs.\n",
    "\n",
    "The objective \n",
    "$$\n",
    "c^Tx\n",
    "$$ \n",
    "and \n",
    "$$\n",
    "A^i x + b\n",
    "$$ \n",
    "are linear expressions because they are linear functions of the variables. This notebook is a introduction to building such expressions in MOSEK Fusion for Python 3. \n",
    "\n",
    "Let us use the problem \n",
    "$$\n",
    "\\begin{array}{lcl}\n",
    "\\mbox{minimize}    & \\left \\Vert A x + b \\right \\Vert      & \\\\\n",
    "\\end{array}\n",
    "$$\n",
    "to illustrate the basic ideas.\n",
    "\n",
    "The problem is rewritten as\n",
    "$$\n",
    "\\begin{array}{lccl}\n",
    "\\mbox{minimize}    & t      & \\\\\n",
    "\\mbox{siúbject to} & \\left ( \\begin{array}{c}\n",
    "                               t \\\\\n",
    "                               A x + b \n",
    "                             \\end{array}  \\right )    & \\in & K_q \\\\   \n",
    "\\end{array}\n",
    "$$\n",
    "where\n",
    "$$\n",
    "K_q = \\{x \\mid \\, x_1 \\geq \\Vert x_{2:n} \\Vert \\}\n",
    "$$\n",
    "is quadratic cone.\n",
    "\n"
   ]
  },
  {
   "cell_type": "code",
   "execution_count": 156,
   "metadata": {
    "collapsed": false
   },
   "outputs": [],
   "source": [
    "import mosek\n",
    "from mosek.fusion import *\n",
    "\n",
    "def buildmodel(A,b):\n",
    "    M = Model('The model')\n",
    "        \n",
    "    (m,n) = A.shape\n",
    "       \n",
    "    print('m: %d n: %d' % (m,n))\n",
    "        \n",
    "    # Define the variables \n",
    "    t     = M.variable('t', 1, Domain.unbounded())\n",
    "    x     = M.variable('x', n, Domain.unbounded())\n",
    "\n",
    "    # Define the constraint (t;Ax+b) in quadratic cone\n",
    "    e     = Expr.vstack(t,Expr.add(Expr.mul(A,x),b))\n",
    "    M.constraint('con', Expr.transpose(e), Domain.inQCone())\n",
    "\n",
    "    # Objective\n",
    "    M.objective('obj',ObjectiveSense.Minimize, t)\n",
    "       \n",
    "    return M,t,x "
   ]
  },
  {
   "cell_type": "markdown",
   "metadata": {},
   "source": [
    "Let us investigate\n",
    "\n",
    "<pre>\n",
    "e = Expr.vstack(t,Expr.add(Expr.mul(A,x),b))\n",
    "</pre>\n",
    "\n",
    "which implements a linear expression. The explenation of the linear expression is as follows\n",
    "\n",
    "<pre>\n",
    "   Expr.mul(A,x)                            # Expr.mul does multiplication i.e. Ax.\n",
    "   Expr.add(Expr.mul(A,x),b)                # Expr.add adds the two expression Ax and b.\n",
    "   Expr.vstack(t,Expr.add(Expr.mul(A,x),b)) # Expr.vstack stacks the variable t and the expression \n",
    "                                            # Expr.add(Expr.mul(A,x),b) vertically.\n",
    "</pre>\n",
    "\n",
    "so it builds the expression                                            \n",
    "$$\n",
    "\\left ( \\begin{array}{c}\n",
    "           t \\\\\n",
    "           A x + b \n",
    "        \\end{array}  \\right ).\n",
    "$$\n",
    "\n",
    "Next we can define the constraint\n",
    "\n",
    "<pre>\n",
    "M.constraint('con', Expr.transpose(e), Domain.inQCone())\n",
    "</pre>\n",
    "\n",
    "and one may ask why the transpose i.e. the\n",
    "\n",
    "<pre>\n",
    "Expr.transpose\n",
    "</pre>\n",
    "\n",
    "The reasons saying a list of linear expressions in quadratic cone would natrually mean that each linear linear expression should be the cone. And \n",
    "\n",
    "<pre>\n",
    "Expr.transpose(e)\n",
    "</pre>\n",
    "\n",
    "is a list of one linear expression i.e. the expression that should be member of the cone."
   ]
  },
  {
   "cell_type": "code",
   "execution_count": 157,
   "metadata": {
    "collapsed": false
   },
   "outputs": [
    {
     "name": "stdout",
     "output_type": "stream",
     "text": [
      "m: 10 n: 3\n",
      "Primal objective value: 1.299406e+02 Optimal r value: 1.299406e+02\n"
     ]
    }
   ],
   "source": [
    "import numpy\n",
    "\n",
    "numpy.random.seed(379) # Fix the seed\n",
    "\n",
    "m       = 10           # Number of rows in A \n",
    "n       = 3            # Number of columns in A  \n",
    "mu      = 100\n",
    "sigma   = 30\n",
    "\n",
    "# Generate random test data\n",
    "A       =  numpy.random.normal(mu, sigma, (m,n))\n",
    "b       =  numpy.random.normal(mu, sigma, m)\n",
    "\n",
    "M,t,x   = buildmodel(A,b)\n",
    "\n",
    "M.solve()\n",
    "\n",
    "print('Primal objective value: %e Optimal r value: %e' % (M.primalObjValue(),t.level()))\n",
    "   \n"
   ]
  },
  {
   "cell_type": "markdown",
   "metadata": {},
   "source": [
    "# No operator overloading\n",
    "\n",
    "Observe operator overloading is not employed so one CANNOT write\n",
    "\n",
    "<pre>\n",
    "e = Expr.vstack(t,A*x+b) # A*x+b IS INVALID CODE\n",
    "</pre>"
   ]
  },
  {
   "cell_type": "markdown",
   "metadata": {},
   "source": [
    "# A regularized problem\n",
    "\n",
    "Assume now we want to solve\n",
    "$$\n",
    "\\begin{array}{lcl}\n",
    "\\mbox{minimize}    & \\left \\Vert A x + b \\right \\Vert + \\lambda \\sum_{j=1}^n \\vert x_j \\vert  & \\\\\n",
    "\\end{array}\n",
    "$$\n",
    "where $\\lambda$ is a positive parameter.\n",
    "\n",
    "The problem can be rewritten as\n",
    "$$\n",
    "\\begin{array}{lccl}\n",
    "\\mbox{minimize}    & t      & \\\\\n",
    "\\mbox{subject to}  & \\left ( \\begin{array}{c}\n",
    "                               t \\\\\n",
    "                               A x + b \\\\\n",
    "                             \\end{array}  \\right )    & \\in & K_q \\\\   \n",
    "                   & \\left ( \\begin{array}{c}\n",
    "                               z_j \\\\\n",
    "                               x_j \\\\ \n",
    "                             \\end{array}  \\right )    & \\in & K_q, \\, j=1,\\ldots,n.\\\\             \n",
    "\\end{array}\n",
    "$$\n",
    "(We leave it to reader to verify that is correct.\n",
    "\n",
    "This model can be implemented as follows.\n"
   ]
  },
  {
   "cell_type": "code",
   "execution_count": 158,
   "metadata": {
    "collapsed": false
   },
   "outputs": [],
   "source": [
    "\n",
    "def buildregumodel(A,b,lam):\n",
    "    M = Model('The regularized problem')\n",
    "        \n",
    "    (m,n) = A.shape\n",
    "       \n",
    "    # Define the variables \n",
    "    t     = M.variable('t', 1, Domain.unbounded())\n",
    "    x     = M.variable('x', n, Domain.unbounded())\n",
    "    z     = M.variable('z', n, Domain.unbounded())\n",
    "\n",
    "    # Define the constraint (t;Ax+b) in quadratic cone\n",
    "    e     = Expr.vstack(t,Expr.add(Expr.mul(A,x),b))\n",
    "    M.constraint('con', Expr.transpose(e), Domain.inQCone())\n",
    "    for j in range(n):\n",
    "        M.constraint('z_%d' % j,Expr.hstack(z.index(j),x.index(j)),Domain.inQCone())\n",
    "    \n",
    "    # Objective\n",
    "    M.objective('obj',ObjectiveSense.Minimize, Expr.add(t,Expr.mul(lam,Expr.sum(z))))\n",
    "       \n",
    "    return M,t,x "
   ]
  },
  {
   "cell_type": "markdown",
   "metadata": {},
   "source": [
    "The loop\n",
    "\n",
    "<pre>\n",
    "for j in range(n):\n",
    "    M.constraint('z_%d' % j,Expr.hstack(z.index(j),x.index(j)),Domain.inQCone())\n",
    "</pre>    \n",
    "\n",
    "adds the constraints\n",
    "\n",
    "$$\n",
    "\\left ( \\begin{array}{c}\n",
    "          z_j \\\\\n",
    "          x_j \\\\ \n",
    "        \\end{array}  \\right ) \\in  K_q\\\\             \n",
    "$$\n",
    "\n",
    "for all $j$s.\n",
    "\n",
    "Finally in the objective the reduction type expression\n",
    "\n",
    "<pre>\n",
    "Expr.sum()\n",
    "</pre>\n",
    "\n",
    "is used which computes the sum of all the elemnts in the argument. Next $\\lambda$ (called lam) times the sum is added to $t$. "
   ]
  },
  {
   "cell_type": "code",
   "execution_count": 159,
   "metadata": {
    "collapsed": false
   },
   "outputs": [
    {
     "name": "stdout",
     "output_type": "stream",
     "text": [
      "Primal objective value: 1.315865e+02 Optimal t value: 1.299428e+02\n"
     ]
    }
   ],
   "source": [
    "lam   = 2.0 # Lambda     \n",
    "M,t,x = buildregumodel(A,b,lam)\n",
    "\n",
    "M.solve()\n",
    "\n",
    "print('Primal objective value: %e Optimal t value: %e' % (M.primalObjValue(),t.level()))"
   ]
  },
  {
   "cell_type": "markdown",
   "metadata": {},
   "source": [
    "# A second regularized problem\n",
    "\n",
    "Assume now we want to solve\n",
    "$$\n",
    "\\begin{array}{lcl}\n",
    "\\mbox{minimize}    & \\left \\Vert A x + b \\right \\Vert +  \\sum_{j=1}^n \\lambda_j \\vert x_j \\vert  & \\\\\n",
    "\\end{array}\n",
    "$$\n",
    "where $\\lambda$ is a vector of positive parameters.\n",
    "\n",
    "The problem can be rewritten as\n",
    "$$\n",
    "\\begin{array}{lccl}\n",
    "\\mbox{minimize}    & t + \\lambda^T z     & \\\\\n",
    "\\mbox{subject to}  & \\left ( \\begin{array}{c}\n",
    "                               t \\\\\n",
    "                               A x + b \\\\\n",
    "                             \\end{array}  \\right )    & \\in & K_q \\\\   \n",
    "                   & \\left ( \\begin{array}{c}\n",
    "                               z_j \\\\\n",
    "                               x_j \\\\ \n",
    "                             \\end{array}  \\right )    & \\in & K_q, \\, j=1,\\ldots,n.\\\\             \n",
    "\\end{array}\n",
    "$$\n"
   ]
  },
  {
   "cell_type": "code",
   "execution_count": 160,
   "metadata": {
    "collapsed": true
   },
   "outputs": [],
   "source": [
    "def buildregumodel2(A,b,lam):\n",
    "    M = Model('The regularized problem')\n",
    "        \n",
    "    (m,n) = A.shape\n",
    "       \n",
    "    # Define the variables \n",
    "    t     = M.variable('t', 1, Domain.unbounded())\n",
    "    x     = M.variable('x', n, Domain.unbounded())\n",
    "    z     = M.variable('z', n, Domain.unbounded())\n",
    "\n",
    "    # Define the constraint (t;Ax+b) in quadratic cone\n",
    "    e     = Expr.vstack(t,Expr.add(Expr.mul(A,x),b))\n",
    "    M.constraint('con', Expr.transpose(e), Domain.inQCone())\n",
    "    M.constraint('z_j >= |x_j|',Expr.hstack(z,x),Domain.inQCone())\n",
    "    \n",
    "    # Objective\n",
    "    M.objective('obj',ObjectiveSense.Minimize, Expr.add(t,Expr.dot(lam,z)))\n",
    "       \n",
    "    return M,t,x "
   ]
  },
  {
   "cell_type": "markdown",
   "metadata": {},
   "source": [
    "The idea in\n",
    "\n",
    "<pre>\n",
    " M.constraint('z_j >= |x_j|',Expr.hstack(z,x),Domain.inQCone())\n",
    "</pre>    \n",
    "\n",
    "is to build the matrix.\n",
    "$$\n",
    "[ \\begin{array}{cc}\n",
    "     z & x \\\\\n",
    "  \\end{array} ]   \n",
    "$$\n",
    "which is a lists of the rows. The $j$th row has the form\n",
    "$$\n",
    "[ \\begin{array}{cc}\n",
    "     z_j & x_j \\\\\n",
    "  \\end{array} ]   \n",
    "$$\n",
    "so we want each row to belong to a quadratic cone. This is exactly what is specified by the constraint.\n",
    "\n",
    "The objective to use the dot operator to compute the inner product between $\\lambda$ and $z$ i.e.\n",
    "$$\n",
    "\\sum_{j=1}^n \\lambda_j z_j = \\lambda^T z.\n",
    "$$\n"
   ]
  },
  {
   "cell_type": "code",
   "execution_count": 161,
   "metadata": {
    "collapsed": false
   },
   "outputs": [
    {
     "name": "stdout",
     "output_type": "stream",
     "text": [
      "Primal objective value: 1.315865e+02 Optimal t value: 1.299428e+02\n"
     ]
    }
   ],
   "source": [
    "lam   = [2.0]*n # Lambda     \n",
    "M,t,x = buildregumodel2(A,b,lam)\n",
    "\n",
    "M.solve()\n",
    "\n",
    "print('Primal objective value: %e Optimal t value: %e' % (M.primalObjValue(),t.level()))"
   ]
  },
  {
   "cell_type": "markdown",
   "metadata": {},
   "source": [
    "# A cheatsheet to building expressions\n",
    "\n"
   ]
  },
  {
   "cell_type": "code",
   "execution_count": 162,
   "metadata": {
    "collapsed": false
   },
   "outputs": [
    {
     "name": "stdout",
     "output_type": "stream",
     "text": [
      "e0\n",
      "Expr(ndim=(2),\n",
      "     [  +  x[0] + 1.0,\n",
      "        +  x[1] + 1.0 ])\n",
      "e1\n",
      "Expr(ndim=(2),\n",
      "     [  +  x[0] +  y[0],\n",
      "        +  x[1] +  y[1] ])\n",
      "e2\n",
      "Expr(ndim=(2),\n",
      "     [  +  y[0] + 3.0,\n",
      "        +  y[1] + 3.0 ])\n",
      "e3\n",
      "Expr(ndim=(2),\n",
      "     [  +  x[0] -  y[0],\n",
      "        +  x[1] -  y[1] ])\n",
      "e4\n",
      "Expr(ndim=(2),\n",
      "     [  +  x[0] +  y[0] +  z[0],\n",
      "        +  x[1] +  y[1] +  z[1] ])\n",
      "e5\n",
      "Expr(ndim=(2),\n",
      "     [  +  x[0] +  y[0] +  z[0],\n",
      "        +  x[1] +  y[1] +  z[1] ])\n",
      "e6\n",
      "Expr(ndim=(2),\n",
      "     [  + 7.0 x[0],\n",
      "        + 7.0 x[1] ])\n",
      "e7\n",
      "Expr(ndim=(2),\n",
      "     [ ([0]) ->  + 3.0 x[0],\n",
      "       ([1]) ->  + 3.0 x[1] ])\n",
      "e8\n",
      "Expr(ndim=(1),\n",
      "     [  + 3.0 x[0] + 3.0 x[1] ])\n",
      "e9\n",
      "Expr(ndim=(2,2),\n",
      "     [  + 3.0 x[0],\n",
      "        + 3.0 x[1],\n",
      "        + 3.0 x[0],\n",
      "        + 3.0 x[1] ])\n"
     ]
    }
   ],
   "source": [
    "n   = 2\n",
    "\n",
    "M   = Model('demo model')\n",
    "\n",
    "a   = [3.0]*n\n",
    " \n",
    "x   = M.variable('x',n,Domain.unbounded())\n",
    "y   = M.variable('y',n,Domain.unbounded())\n",
    "z   = M.variable('z',n,Domain.unbounded())\n",
    "\n",
    "# Binary version\n",
    "e0  = Expr.add(x,1.0)           # x+1.0  \n",
    "e1  = Expr.add(x,y)             # x+y\n",
    "e2  = Expr.add(a,y)             # a+y\n",
    "e3  = Expr.sub(x,y)             # x-y \n",
    "e4  = Expr.add(Expr.add(x,y),z) # x+y+z\n",
    "\n",
    "# List version\n",
    "e5  = Expr.add([x, y, z])       # x+y+z\n",
    "\n",
    "# Multiplication \n",
    "e6  = Expr.mul(7.0,x)           # 7.0*x  \n",
    "e7  = Expr.mulElm(a,x)          # Diag(a)*x, element wise multiplication\n",
    "\n",
    "# Inner and outer products\n",
    "e8  = Expr.dot(a,x)             # a'*x\n",
    "e9  = Expr.outer(a,x)           # a*x' Outer product \n",
    "\n",
    "# Reduction type operations\n",
    "e10 = Expr.sum(x)\n",
    "\n",
    "print('e0')\n",
    "print(e0.toString())\n",
    "print('e1')\n",
    "print(e1.toString())\n",
    "print('e2')\n",
    "print(e2.toString())\n",
    "print('e3')\n",
    "print(e3.toString())\n",
    "print('e4')\n",
    "print(e4.toString())\n",
    "print('e5')\n",
    "print(e5.toString())\n",
    "print('e6')\n",
    "print(e6.toString())\n",
    "print('e7')\n",
    "print(e7.toString())\n",
    "print('e8')\n",
    "print(e8.toString())\n",
    "print('e9')\n",
    "print(e9.toString())\n",
    "print('e10')\n",
    "print(e10.toString())"
   ]
  },
  {
   "cell_type": "markdown",
   "metadata": {
    "collapsed": true
   },
   "source": [
    "<a rel=\"license\" href=\"http://creativecommons.org/licenses/by/4.0/\"><img alt=\"Creative Commons License\" style=\"border-width:0\" src=\"https://i.creativecommons.org/l/by/4.0/80x15.png\" /></a><br />This work is licensed under a <a rel=\"license\" href=\"http://creativecommons.org/licenses/by/4.0/\">Creative Commons Attribution 4.0 International License</a>. The **MOSEK** logo and name are trademarks of <a href=\"http://mosek.com\">Mosek ApS</a>. The code is provided as-is. Compatibility with future release of **MOSEK** or the `Fusion API` are not guaranteed. For more information contact our [support](mailto:support@mosek.com). "
   ]
  }
 ],
 "metadata": {
  "anaconda-cloud": {},
  "kernelspec": {
   "display_name": "Python [conda root]",
   "language": "python",
   "name": "conda-root-py"
  },
  "language_info": {
   "codemirror_mode": {
    "name": "ipython",
    "version": 2
   },
   "file_extension": ".py",
   "mimetype": "text/x-python",
   "name": "python",
   "nbconvert_exporter": "python",
   "pygments_lexer": "ipython2",
   "version": "2.7.12"
  }
 },
 "nbformat": 4,
 "nbformat_minor": 0
}
