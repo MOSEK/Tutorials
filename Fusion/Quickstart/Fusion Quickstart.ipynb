{
 "cells": [
  {
   "cell_type": "markdown",
   "metadata": {},
   "source": [
    "![MOSEK ApS](https://mosek.com/files/mosek_logo_color.png )"
   ]
  },
  {
   "cell_type": "markdown",
   "metadata": {},
   "source": [
    "`Fusion`: Object-Oriented API for Conic Optimization\n",
    "==============================\n",
    "\n",
    "`Fusion` is an Object-Oriented API specifically designed for for Conic Optimization. Its main features are:\n",
    "  \n",
    "* (almost) Seamlessly multi-language (`C#, Java, Python, Matlab`)\n",
    "\n",
    "* Minimalistic and Safe\n",
    "\n",
    "* Extremely Disciplined Conic Optimization\n",
    "\n",
    "* Limited overhead\n",
    "\n",
    "* **MOSEK** gets what you write!\n",
    "\n",
    "* `Fusion` provides only a (large) subset of functionalities of the low-level Optimizer API.\n",
    "\n",
    "Basic Idea\n",
    "-----------------\n",
    "\n",
    "We want to introduce an *object-oriented* interface for optimization problem of the form:\n",
    "\n",
    "\\begin{equation}\n",
    "  \\begin{array}{llcll}\n",
    "    \\min & \\sum_j c_j^T x_j + \\sum_j \\langle C_j , X_j \\rangle&&\\\\\n",
    "    s.t.&&&\\\\\n",
    "    & \\sum_j A_j^T x_j  & \\in & [l_i, u_i] & i=1,\\ldots,l.\\\\\n",
    "    & \\sum_j A_j^T x_j + b_i &\\in & \\{\\mathcal{Q}^{n_i}, \\mathcal{Q}_r^{n_i}, \\} & i=1,\\ldots,k.\\\\\n",
    "    & \\sum_j \\langle A_{ij} , X_j\\rangle + B_i & \\in &\\mathbb{S}_+^{n_i} & i=1,\\ldots,t.\\\\\n",
    "  \\end{array}\n",
    "\\end{equation}\n",
    "\n",
    "\n",
    "where we assume dimensions match accordingly to common rules. Cones $\\mathcal{K}_i^{n_i}$ are  \n",
    "\n",
    "* $\\mathbb{R}_+$ - positive orthant ,\n",
    "\n",
    "* $\\mathcal{Q}$ - Lorentz cone,\n",
    "\n",
    "* $\\mathcal{Q_r}$ - Rotated quadratic cone,\n",
    "\n",
    "* $\\mathbb{S}_+$ - PSD matrices.\n",
    "\n",
    "By a proper choice of dimensions, cones and coefficients, we obtain LPs, CQPs and SDPs.\n",
    "\n",
    "# Example: a simple conic quadratic problem\n",
    "\n",
    "\n",
    "We want to find the minimum norm solution to a system of linear equalities, that has its components in a given range. The formal definition is:\n",
    "\n",
    "\\begin{equation}\n",
    "    \\begin{aligned}\n",
    "    & \\min \\|x\\|_2 \\\\\n",
    "    & s.t.\\\\\n",
    "    & Ax = b \\\\\n",
    "    & l_x\\leq x \\leq u_x.\n",
    "    \\end{aligned}\n",
    "\\end{equation}\n",
    "\n",
    "In conic form it reads\n",
    "\n",
    "\\begin{equation}\n",
    "    \\begin{aligned}\n",
    "    & \\min t \\\\\n",
    "    & s.t.\\\\\n",
    "    & t\\geq \\|x\\|_2 \\Leftrightarrow  [t, x] \\in \\mathcal{Q}^{n+1} \\\\\n",
    "    & Ax = b \\\\\n",
    "    & l_x\\leq x \\leq u_x.\n",
    "    \\end{aligned}\n",
    "\\end{equation}\n",
    "\n",
    "\n",
    "First, let us declare some input data:"
   ]
  },
  {
   "cell_type": "code",
   "execution_count": 1,
   "metadata": {
    "collapsed": true
   },
   "outputs": [],
   "source": [
    "n = 5\n",
    "\n",
    "A = [ [12., 20.,  0., 25., 15.],\\\n",
    "      [ 2.,  8., 16.,  0.,  0.],\\\n",
    "      [20., 20., 20., 20., 20.]]\n",
    "     \n",
    "b = [288.,192.,384.]\n",
    "\n",
    "lx= [0. for i in range(n)]\n",
    "ux= [1000. for i in range(n)]\n"
   ]
  },
  {
   "cell_type": "markdown",
   "metadata": {},
   "source": [
    "A `Fusion` code starts by the definition of an optimization model:"
   ]
  },
  {
   "cell_type": "code",
   "execution_count": 2,
   "metadata": {
    "collapsed": true
   },
   "outputs": [],
   "source": [
    "from mosek.fusion import *\n",
    "\n",
    "M = Model()"
   ]
  },
  {
   "cell_type": "markdown",
   "metadata": {},
   "source": [
    "`Model` is the object the user interfaces with. \n",
    "\n",
    "* Model building: variables, constraints and the objective funtion are reated by `Model`\n",
    "\n",
    "* Set/get options\n",
    "\n",
    "* Access to the solver status\n",
    "\n",
    "* Runs the solver.\n",
    "\n",
    "---------------------------------------------------------------------------------------\n",
    "Using `M` we declare variables $x$ and $t$ and we get the corresponding handler in return:"
   ]
  },
  {
   "cell_type": "code",
   "execution_count": 3,
   "metadata": {
    "collapsed": true
   },
   "outputs": [],
   "source": [
    "x = M.variable('x', n, Domain.inRange(lx,ux))\n",
    "t = M.variable('t', 1, Domain.unbounded())"
   ]
  },
  {
   "cell_type": "markdown",
   "metadata": {},
   "source": [
    "The  class called `Domain` provides all the sets needed to define conic optimization problems:\n",
    "\n",
    "* Proper cones $\\mathbb{R}_+, \\mathcal{Q}, \\mathcal{Q_r},$ and $\\mathbb{S}_+$,\n",
    "\n",
    "* Linear equalities and inequalities,\n",
    "\n",
    "* Unboundness.\n"
   ]
  },
  {
   "cell_type": "markdown",
   "metadata": {},
   "source": [
    "To define the conic quadratic constraint on the norm of $x$ we need to stack $t$ and $x$ together: this operations are provided by the class `Variable`."
   ]
  },
  {
   "cell_type": "code",
   "execution_count": 5,
   "metadata": {
    "collapsed": false
   },
   "outputs": [
    {
     "data": {
      "text/plain": [
       "mosek.fusion.ConicConstraint: ConicConstraint( (6), QuadCone,\n",
       "  [0] :  + 1.0 t[0]   : element in a quadratic cone,\n",
       "  [1] :  + 1.0 x[0]  : element in a quadratic cone,\n",
       "  [2] :  + 1.0 x[1]  : element in a quadratic cone,\n",
       "  [3] :  + 1.0 x[2]  : element in a quadratic cone,\n",
       "  [4] :  + 1.0 x[3]  : element in a quadratic cone,\n",
       "  [5] :  + 1.0 x[4]  : element in a quadratic cone )"
      ]
     },
     "execution_count": 5,
     "metadata": {},
     "output_type": "execute_result"
    }
   ],
   "source": [
    "M.constraint(Var.vstack(t, x), Domain.inQCone())"
   ]
  },
  {
   "cell_type": "markdown",
   "metadata": {},
   "source": [
    "For the linear equalities, the matrix-vector multiplication is provided, along with other linear operators, by the `Expr` class. Here is the code:"
   ]
  },
  {
   "cell_type": "code",
   "execution_count": 6,
   "metadata": {
    "collapsed": false
   },
   "outputs": [],
   "source": [
    "le = M.constraint( Expr.mul(A,x), Domain.equalsTo(b))"
   ]
  },
  {
   "cell_type": "markdown",
   "metadata": {},
   "source": [
    "Note that the `Model.constraint` method returns an object we can refer thereafter.\n",
    "\n",
    "\n",
    "The objective function is what we miss:"
   ]
  },
  {
   "cell_type": "code",
   "execution_count": 7,
   "metadata": {
    "collapsed": true
   },
   "outputs": [],
   "source": [
    "M.objective(ObjectiveSense.Minimize, t)"
   ]
  },
  {
   "cell_type": "markdown",
   "metadata": {},
   "source": [
    "Now we only need to run the solver and print the solution querying the `x` handler:"
   ]
  },
  {
   "cell_type": "code",
   "execution_count": 8,
   "metadata": {
    "collapsed": false
   },
   "outputs": [
    {
     "name": "stdout",
     "output_type": "stream",
     "text": [
      "primal solution status =  SolutionStatus.Optimal\n",
      "primal solution        = \n",
      "[  3.99233226e-11   1.44000000e+01   4.80000000e+00   1.40720024e-11\n",
      "  -4.48202344e-11]\n"
     ]
    }
   ],
   "source": [
    "M.solve()\n",
    "\n",
    "print 'primal solution status = ',M.getPrimalSolutionStatus()\n",
    "print 'primal solution        = \\n', x.level()"
   ]
  },
  {
   "cell_type": "markdown",
   "metadata": {},
   "source": [
    "Information about the dual can be obtained directly:"
   ]
  },
  {
   "cell_type": "code",
   "execution_count": 9,
   "metadata": {
    "collapsed": false,
    "scrolled": true
   },
   "outputs": [
    {
     "name": "stdout",
     "output_type": "stream",
     "text": [
      "dual solution status =  SolutionStatus.Optimal\n",
      "Ax-b dual mult.      =  [ 0.46796339  1.09085195 -0.85687005]\n"
     ]
    }
   ],
   "source": [
    "print 'dual solution status = ', M.getDualSolutionStatus()\n",
    "print 'Ax-b dual mult.      = ', le.dual()"
   ]
  },
  {
   "cell_type": "markdown",
   "metadata": {},
   "source": [
    "<a rel=\"license\" href=\"http://creativecommons.org/licenses/by/4.0/\"><img alt=\"Creative Commons License\" style=\"border-width:0\" src=\"https://i.creativecommons.org/l/by/4.0/80x15.png\" /></a><br />This work is licensed under a <a rel=\"license\" href=\"http://creativecommons.org/licenses/by/4.0/\">Creative Commons Attribution 4.0 International License</a>. The **MOSEK** logo and name are trademarks of <a href=\"http://mosek.com\">Mosek ApS</a>. The code is provided as-is. Compatibility with future release of **MOSEK** or the `Fusion API` are not guaranteed. For more information contact our [support](mailto:support@mosek.com). \n"
   ]
  },
  {
   "cell_type": "code",
   "execution_count": null,
   "metadata": {
    "collapsed": true
   },
   "outputs": [],
   "source": []
  }
 ],
 "metadata": {
  "anaconda-cloud": {},
  "kernelspec": {
   "display_name": "Python [default]",
   "language": "python",
   "name": "python2"
  },
  "language_info": {
   "codemirror_mode": {
    "name": "ipython",
    "version": 2
   },
   "file_extension": ".py",
   "mimetype": "text/x-python",
   "name": "python",
   "nbconvert_exporter": "python",
   "pygments_lexer": "ipython2",
   "version": "2.7.12"
  }
 },
 "nbformat": 4,
 "nbformat_minor": 0
}
