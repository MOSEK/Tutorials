{
 "cells": [
  {
   "cell_type": "markdown",
   "metadata": {},
   "source": [
    "![MOSEK ApS](https://mosek.com/files/mosek_logo_color.png )"
   ]
  },
  {
   "cell_type": "markdown",
   "metadata": {},
   "source": [
    "`Fusion`: Object-Oriented API for Conic Optimization\n",
    "==============================\n",
    "\n",
    "`Fusion` is an Object-Oriented API specifically designed for for Conic Optimization. Its main features are:\n",
    "  \n",
    "* (almost) Seamlessly multi-language (`C#, Java, Python, Matlab`)\n",
    "\n",
    "* Minimalistic and Safe\n",
    "\n",
    "* Extremely Disciplined Conic Optimization\n",
    "\n",
    "* Limited overhead\n",
    "\n",
    "* **MOSEK** gets what you write!\n",
    "\n",
    "* `Fusion` provides only a (large) subset of functionalities of the low-level Optimizer API.\n",
    "\n",
    "Basic Idea\n",
    "-----------------\n",
    "\n",
    "We want to introduce an *object-oriented* interface for optimization problem of the form:\n",
    "\n",
    "\\begin{equation}\n",
    "  \\begin{array}{lll}\n",
    "    \\min & \\sum_j \\langle C_j , X_j \\rangle&\\\\\n",
    "    s.t.&&\\\\\n",
    "    & \\sum_j \\langle A_{ij},  X_j \\rangle+ B_i \\in \\mathcal{K}_i^{n_i} & i=1,\\ldots,k\\\\\n",
    "  \\end{array}\n",
    "\\end{equation}\n",
    "\n",
    "\n",
    "Where $A_{ij},B_i$ and $C_j$ are matrices of suitable dimensions, $X_j$ are bidimensional variables. Cones $\\mathcal{K}_i^{n_i}$ are  \n",
    "\n",
    "* $\\mathbb{R}_+$ - positive orthant ,\n",
    "\n",
    "* $\\mathcal{Q}$ - Lorentz cone,\n",
    "\n",
    "* $\\mathcal{Q_r}$ - Rotated quadratic cone,\n",
    "\n",
    "* $\\mathbb{S}_+$ - PSD matrices.\n",
    "\n",
    "Dimensions must match accordingly.\n",
    "\n",
    "# Example: a simple conic quadratic problem\n",
    "\n",
    "\n",
    "We want to find the minimum norm solution to a system of linear equalities, that has its components in a given range. The formal definition is:\n",
    "\n",
    "\\begin{equation}\n",
    "    \\begin{aligned}\n",
    "    & \\min \\|x\\|_2 \\\\\n",
    "    & s.t.\\\\\n",
    "    & Ax = b \\\\\n",
    "    & l_x\\leq x \\leq u_x.\n",
    "    \\end{aligned}\n",
    "\\end{equation}\n",
    "\n",
    "In conic form it reads\n",
    "\n",
    "\\begin{equation}\n",
    "    \\begin{aligned}\n",
    "    & \\min t \\\\\n",
    "    & s.t.\\\\\n",
    "    & (t, x) \\in \\mathcal{Q}^{n+1}  \\Leftrightarrow t\\geq \\|x\\|_2\\\\\n",
    "    & Ax = b \\\\\n",
    "    & l_x\\leq x \\leq u_x.\n",
    "    \\end{aligned}\n",
    "\\end{equation}\n",
    "\n",
    "\n",
    "First, let us declare some input data:"
   ]
  },
  {
   "cell_type": "code",
   "execution_count": 92,
   "metadata": {
    "collapsed": true
   },
   "outputs": [],
   "source": [
    "n = 5\n",
    "\n",
    "A = [ [12., 20.,  0., 25., 15.],\\\n",
    "      [ 2.,  8., 16.,  0.,  0.],\\\n",
    "      [20., 20., 20., 20., 20.]]\n",
    "     \n",
    "b = [288.,192.,384.]\n",
    "\n",
    "lx= [0. for i in range(n)]\n",
    "ux= [1000. for i in range(n)]\n"
   ]
  },
  {
   "cell_type": "markdown",
   "metadata": {},
   "source": [
    "A `Fusion` code starts by the definition of an optimization model:"
   ]
  },
  {
   "cell_type": "code",
   "execution_count": 93,
   "metadata": {
    "collapsed": true
   },
   "outputs": [],
   "source": [
    "from mosek.fusion import *\n",
    "\n",
    "M = Model('My test')"
   ]
  },
  {
   "cell_type": "markdown",
   "metadata": {},
   "source": [
    "`Model` is the object the user interfaces with. \n",
    "\n",
    "* Model building: variables, constraints and the objective funtion are reated by `Model`\n",
    "\n",
    "* Set/get options\n",
    "\n",
    "* Access to the solver status\n",
    "\n",
    "* Runs the solver.\n",
    "\n",
    "---------------------------------------------------------------------------------------\n",
    "Using `M` we declare variables $x$ and $t$ and we get the corresponding handler in return:"
   ]
  },
  {
   "cell_type": "code",
   "execution_count": 94,
   "metadata": {
    "collapsed": true
   },
   "outputs": [],
   "source": [
    "x = M.variable('x', n, Domain.inRange(lx,ux))\n",
    "t = M.variable('t', 1, Domain.unbounded())"
   ]
  },
  {
   "cell_type": "markdown",
   "metadata": {},
   "source": [
    "The  class called `Domain` provides all the sets needed to define conic optimization problems:\n",
    "\n",
    "* Proper cones $\\mathbb{R}_+, \\mathcal{Q}, \\mathcal{Q_r},$ and $\\mathbb{S}_+$,\n",
    "\n",
    "* Linear equalities and inequalities,\n",
    "\n",
    "* Unboundness.\n",
    "\n",
    "\n",
    "-----------------------------------------------------------------------------------\n",
    "\n",
    "The objective function follows"
   ]
  },
  {
   "cell_type": "code",
   "execution_count": 95,
   "metadata": {
    "collapsed": true
   },
   "outputs": [],
   "source": [
    "M.objective(ObjectiveSense.Minimize, t)"
   ]
  },
  {
   "cell_type": "markdown",
   "metadata": {},
   "source": [
    "Finally we can declare\n",
    "\n",
    "* the conic quadratic constraint stacking $t$ and $x$ together,\n",
    "* the linear equations.\n",
    "\n",
    "Linear operators are provided by the `Expr` class. Here is the code:"
   ]
  },
  {
   "cell_type": "code",
   "execution_count": 96,
   "metadata": {
    "collapsed": false
   },
   "outputs": [],
   "source": [
    "M.constraint(Expr.vstack(t, x), Domain.inQCone())\n",
    "\n",
    "le = M.constraint( Expr.mul(A,x), Domain.equalsTo(b))"
   ]
  },
  {
   "cell_type": "markdown",
   "metadata": {},
   "source": [
    "Now we only need to run the solver and print the solution querying the `x` handler:"
   ]
  },
  {
   "cell_type": "code",
   "execution_count": 97,
   "metadata": {
    "collapsed": false
   },
   "outputs": [
    {
     "name": "stdout",
     "output_type": "stream",
     "text": [
      "primal solution status =  SolutionStatus.Optimal\n",
      "primal solution        = \n",
      "[-1.2462112350726904e-08, 14.399999925447373, 4.800000005447712, 4.1706478408768495e-08, -1.3557713255520233e-08]\n"
     ]
    }
   ],
   "source": [
    "M.solve()\n",
    "\n",
    "print 'primal solution status = ',M.getPrimalSolutionStatus()\n",
    "print 'primal solution        = \\n', x.level()"
   ]
  },
  {
   "cell_type": "markdown",
   "metadata": {},
   "source": [
    "Information about the dual can be obtained directly:"
   ]
  },
  {
   "cell_type": "code",
   "execution_count": 98,
   "metadata": {
    "collapsed": false,
    "scrolled": true
   },
   "outputs": [
    {
     "name": "stdout",
     "output_type": "stream",
     "text": [
      "dual solution status =  SolutionStatus.Optimal\n",
      "Ax-b dual mult.      =  [0.14471806520291086, 0.2827359317801117, -0.2103780441985366]\n"
     ]
    }
   ],
   "source": [
    "print 'dual solution status = ', M.getDualSolutionStatus()\n",
    "print 'Ax-b dual mult.      = ', le.dual()"
   ]
  },
  {
   "cell_type": "markdown",
   "metadata": {},
   "source": [
    "Notes\n",
    "----------\n",
    "\n",
    "1. The order in which the model is declared is not important, i.e. constraints, variables and the objective functions can be declared in any order, as long as it makes sense.\n",
    "\n",
    "2. "
   ]
  },
  {
   "cell_type": "markdown",
   "metadata": {},
   "source": [
    "\n",
    "\n",
    "The **MOSEK** logo and name are trademarks of Mosek ApS.\n",
    "\n",
    "The code is provided as-is. Compatibility with future release of **MOSEK** or the `Fusion API` are not guaranteed.\n",
    "\n",
    "For more information contact [support_at_mosek.com](mailto:support@mosek.com)\n",
    "\n",
    "---------------------------------------------------------------------------------------------------------------\n",
    "\n",
    "\n",
    "<a rel=\"license\" href=\"http://creativecommons.org/licenses/by/4.0/\"><img alt=\"Creative Commons License\" style=\"border-width:0\" src=\"https://i.creativecommons.org/l/by/4.0/88x31.png\" /></a><br /><span xmlns:dct=\"http://purl.org/dc/terms/\" property=\"dct:title\">The MOSEK collection of iPython Notebook</span> by <a xmlns:cc=\"http://creativecommons.org/ns#\" href=\"www.mosek.com\" property=\"cc:attributionName\" rel=\"cc:attributionURL\">MOSEK ApS</a> is licensed under a <a rel=\"license\" href=\"http://creativecommons.org/licenses/by/4.0/\">Creative Commons Attribution 4.0 International License</a>.<br />Based on a work at <a xmlns:dct=\"http://purl.org/dc/terms/\" href=\"https://github.com/MOSEK\" rel=\"dct:source\">https://github.com/MOSEK</a>.<br />Permissions beyond the scope of this license may be available at <a xmlns:cc=\"http://creativecommons.org/ns#\" href=\"www.mosek.com\" rel=\"cc:morePermissions\">www.mosek.com</a>."
   ]
  }
 ],
 "metadata": {
  "kernelspec": {
   "display_name": "Python 2",
   "language": "python",
   "name": "python2"
  },
  "language_info": {
   "codemirror_mode": {
    "name": "ipython",
    "version": 2
   },
   "file_extension": ".py",
   "mimetype": "text/x-python",
   "name": "python",
   "nbconvert_exporter": "python",
   "pygments_lexer": "ipython2",
   "version": "2.7.10"
  }
 },
 "nbformat": 4,
 "nbformat_minor": 0
}
