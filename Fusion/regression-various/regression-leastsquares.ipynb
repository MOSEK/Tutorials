{
 "metadata": {
  "anaconda-cloud": {},
  "kernelspec": {
   "display_name": "Python 3",
   "language": "python",
   "name": "python3"
  },
  "language_info": {
   "codemirror_mode": {
    "name": "ipython",
    "version": 3
   },
   "file_extension": ".py",
   "mimetype": "text/x-python",
   "name": "python",
   "nbconvert_exporter": "python",
   "pygments_lexer": "ipython3",
   "version": "3.6.0"
  },
  "name": "",
  "signature": "sha256:234fb204fe05fc1e615cf74ad0b9e6ed80056e0f183d333fa6ef30df6123f548"
 },
 "nbformat": 3,
 "nbformat_minor": 0,
 "worksheets": [
  {
   "cells": [
    {
     "cell_type": "markdown",
     "metadata": {},
     "source": [
      "![MOSEK ApS](https://mosek.com/files/mosek_logo_color.png )"
     ]
    },
    {
     "cell_type": "markdown",
     "metadata": {},
     "source": [
      "# Least-squares regression with MOSEK\n",
      "\n",
      "Regression belongs to the basic toolbox of statistics, finance, machine learning, biology and many other disciplines that involves constructing approximate models of data. In this notebook we show how to quickly construct some and solve some standard regression models using the *Fusion* interface for Python.\n",
      "\n",
      "Table of contents:\n",
      "\n",
      "* least-squares (LSE, mean) regression\n",
      "* regularization (ridge and lasso)\n",
      "* robust regression with Huber loss function\n",
      "\n",
      "Other related material:\n",
      "\n",
      "* [Regression techniques for portfolio optimization using MOSEK](https://arxiv.org/abs/1310.3397)\n",
      "* [Another MOSEK linear regression notebook](http://nbviewer.jupyter.org/github/MOSEK/Tutorials/blob/master/Fusion/Regression%20techniques%20using%20MOSEK%20Fusion%20API.ipynb)\n",
      "* Future MOSEK notebooks will discuss LAD (least absolute deviation, $L_1$ or median) regression, quantile regression and mixed-integer piecewise-linear regression models.\n",
      "\n",
      "A general linear regression model approximates the relation between a vector of $d$ independent variables (features)  $x=(x_1,\\ldots,x_d)$ and a dependent variable $y$. (To allow for intercept we are often going to assume $x_1=1$). Suppose we have $n$ input vectors $x$ arranged in the rows of a matrix $\\mathbf{X}\\in\\mathbb{R}^{n\\times d}$ and $n$ corresponding observations $y$ arranged in a vector $\\mathbf{y}\\in\\mathbb{R}^n$. The goal is to find a vector of weights $\\mathbf{w}\\in\\mathbb{R}^{d}$ so that in some approximate sense we can write\n",
      "\n",
      "$$\\mathbf{y}\\approx \\mathbf{X}\\mathbf{w}.$$\n",
      "\n",
      "We call $\\mathbf{r}=\\mathbf{y}-\\mathbf{X}\\mathbf{w}$ the *residual* and we aim to minimize some penalty function $\\phi(\\mathbf{r})$."
     ]
    },
    {
     "cell_type": "code",
     "collapsed": true,
     "input": [
      "from mosek.fusion import *\n",
      "import numpy, sys\n",
      "%matplotlib inline\n",
      "import matplotlib.pyplot as plt\n",
      "import matplotlib.cm as cm"
     ],
     "language": "python",
     "metadata": {},
     "outputs": [],
     "prompt_number": 1
    },
    {
     "cell_type": "markdown",
     "metadata": {},
     "source": [
      "# Least-squares regression\n",
      "\n",
      "In the simplest *unconstrained least squares problem* (LSE, mean regression) the penalty function is\n",
      "\n",
      "$$\\phi(\\mathbf{r})=\\|\\mathbf{r}\\|_2=\\sqrt{\\sum_{i=1}^n r_i^2}$$\n",
      "\n",
      "and solving the least-squares regression problem is equivalent to the minimization problem\n",
      "\n",
      "$$\\mathrm{min}_{\\mathbf{w}\\in\\mathbb{R}^d} \\|\\mathbf{y}-\\mathbf{X}\\mathbf{w}\\|_2.$$\n",
      "\n",
      "A conic formulation of this minimization problem is:\n",
      "\n",
      "$$\n",
      "\\begin{array}{rl}\n",
      "\\mathrm{minimize} &            t \\\\\n",
      "\\mathrm{s.t.}     &            (t, \\mathbf{y}-\\mathbf{X}\\mathbf{w}) \\in \\mathcal{Q} \\\\\n",
      "                  &            \\mathbf{w}\\in\\mathbb{R}^{d} \\\\\n",
      "                  &            t\\in\\mathbb{R} \n",
      "\\end{array}\n",
      "$$\n",
      "This formulation can be translated directly into a *Fusion* model:"
     ]
    },
    {
     "cell_type": "code",
     "collapsed": true,
     "input": [
      "# Least squares regresion\n",
      "def lse(X, y):\n",
      "    n, d = len(X), len(X[0])\n",
      "    M = Model(\"LSE\")\n",
      "    \n",
      "    # The regression coefficients\n",
      "    w = M.variable(\"w\", d)\n",
      "    \n",
      "    # The bound on the norm of the residual\n",
      "    t = M.variable(\"t\")\n",
      "    r = Expr.sub(y, Expr.mul(X,w))\n",
      "    # t \\geq |r|_2\n",
      "    M.constraint(Expr.vstack(t, r), Domain.inQCone())\n",
      "\n",
      "    M.objective(ObjectiveSense.Minimize, t)\n",
      "    return M"
     ],
     "language": "python",
     "metadata": {},
     "outputs": [],
     "prompt_number": 2
    },
    {
     "cell_type": "markdown",
     "metadata": {},
     "source": [
      "### Least squares example\n",
      "As an example we use the basic model to estimate a simple polynomial regression problem with synthetic data points sampled from a degree $3$ planar curve with Gaussian error. "
     ]
    },
    {
     "cell_type": "code",
     "collapsed": false,
     "input": [
      "# Prepare the data\n",
      "N = 100\n",
      "sigma = 0.03\n",
      "x = numpy.sort(numpy.random.uniform(0.0, 1.0, N))\n",
      "def f(t):\n",
      "    return 1.5*t**3 - 2*t**2 + 0.5*t - 1\n",
      "y = f(x) + numpy.random.normal(0.0, sigma, N)\n",
      "X = [[1,t,t**2,t**3] for t in x]\n",
      "\n",
      "# Solve the model\n",
      "M = lse(X, y)\n",
      "M.solve()\n",
      "w = M.getVariable(\"w\").level()\n",
      "\n",
      "# Plot the data points, original function (black) and regression function (red)\n",
      "plt.scatter(x,y)\n",
      "ticks = numpy.linspace(0, 1, 100)\n",
      "plt.plot(ticks, f(ticks), 'k', color='black')\n",
      "plt.plot(ticks, sum([w[i]*ticks**i for i in range(4)]), 'k', color='red')\n",
      "plt.show()\n"
     ],
     "language": "python",
     "metadata": {},
     "outputs": [
      {
       "metadata": {},
       "output_type": "display_data",
       "png": "[encoded data removed]",
       "text": [
        "<matplotlib.figure.Figure at 0x7f2e05ceb990>"
       ]
      }
     ],
     "prompt_number": 3
    },
    {
     "cell_type": "markdown",
     "metadata": {},
     "source": [
      "Note that the unconstrained model leaves open numerous possibilities. It wold be just as easy to phrase the problem without intercepts, add additional linear or conic constraints on $\\mathbf{w}$, compute various statistics of the solution and so on."
     ]
    },
    {
     "cell_type": "markdown",
     "metadata": {},
     "source": [
      "# Regularisation\n",
      "\n",
      "Regularisation is a technique which helps stabilize computational results, which tend to be sensitive to small perturbations when the matrix $\\mathbf{X}$ has nearly dependent columns. In machine learning regularisation is a major technique that  helps avoid overfitting. A general regularized least squares regression problem is usually written in the form\n",
      "\n",
      "$$\\mathrm{min}_{\\mathbf{w}\\in\\mathbb{R}^d} \\|\\mathbf{y}-\\mathbf{X}\\mathbf{w}\\|_2^2 + \\lambda\\phi'(T\\mathbf{w})$$\n",
      "\n",
      "where $T$ is a linear operator, for example $T\\mathbf{w}=\\mathbf{w}$ or $T\\mathbf{w}=\\mathbf{w}-\\mathbf{w}_0$, $\\phi'$ is an additional penalty function and $\\lambda$ controls the tradeoff between regularisation and fit. The two main regularisation terms occurring in practice are:\n",
      "\n",
      "* quadratic, also known as *ridge regression*, leading to the problem $$\\mathrm{min}_{\\mathbf{w}\\in\\mathbb{R}^d} \\|\\mathbf{y}-\\mathbf{X}\\mathbf{w}\\|_2^2 + \\lambda\\|T\\mathbf{w}\\|_2^2$$\n",
      "* linear, also known as *lasso (least absolute shrinkage and selection operator)*, leading to the problem $$\\mathrm{min}_{\\mathbf{w}\\in\\mathbb{R}^d} \\|\\mathbf{y}-\\mathbf{X}\\mathbf{w}\\|_2^2 + \\lambda\\|T\\mathbf{w}\\|_1.$$ When $T=\\mathrm{id}$ lasso regression tends to give preference to sparser solutions.\n",
      "* *Elastic net*, a combination of quadratic and linear regularisation terms:\n",
      "$$\\mathrm{min}_{\\mathbf{w}\\in\\mathbb{R}^d} \\|\\mathbf{y}-\\mathbf{X}\\mathbf{w}\\|_2^2 + \\lambda_1\\|T_1\\mathbf{w}\\|_1 + \\lambda_2\\|T_2\\mathbf{w}\\|_2^2.$$\n",
      "\n",
      "Below is the most general version formulated as a conic model, for simplicity with both $T_1$ and $T_2$ being the identity.\n",
      "\n",
      "$$\n",
      "\\begin{array}{rl}\n",
      "\\mathrm{minimize}      &   t + \\lambda_1 p_{\\mathrm{lasso}} + \\lambda_2 p_{\\mathrm{ridge}} \\\\\n",
      "\\mathrm{s.t. residual} &  (0.5, t, \\mathbf{y}-\\mathbf{X}\\mathbf{w}) \\in \\mathcal{Q}_{\\mathrm{rot}} \\\\\n",
      "                       &  \\mathbf{w}\\in\\mathbb{R}^{d} \\\\\n",
      "\\mathrm{s.t. lasso}    &  p_{\\mathrm{lasso}} \\geq \\mathbf{p}_1+\\cdots+\\mathbf{p}_d \\\\\n",
      "                       &  -\\mathbf{p} \\leq \\mathbf{w} \\leq \\mathbf{p} \\\\\n",
      "                       &  \\mathbf{p} \\in \\mathbb{R}^d \\\\\n",
      "\\mathrm{s.t. ridge}    &  (0.5, p_{\\mathrm{ridge}}, \\mathbf{w}) \\in \\mathcal{Q}_{\\mathrm{rot}}\n",
      "\\end{array}\n",
      "$$\n",
      "\n",
      "Again, we have a straightforward translation to a *Fusion* model:"
     ]
    },
    {
     "cell_type": "code",
     "collapsed": false,
     "input": [
      "# Implement the lasso part of the constraints, and return the bounding variable\n",
      "def lassoVar(M, w, d):\n",
      "    p = M.variable(\"p\", d)\n",
      "    plasso = M.variable(\"plasso\")\n",
      "    \n",
      "    # plasso >= sum(p_i)\n",
      "    M.constraint(Expr.sub(plasso, Expr.sum(p)), Domain.greaterThan(0.0))\n",
      "    \n",
      "    # p_i = |w_i|\n",
      "    M.constraint(Expr.add(p,w), Domain.greaterThan(0.0))\n",
      "    M.constraint(Expr.sub(p,w), Domain.greaterThan(0.0))\n",
      "    \n",
      "    return plasso\n",
      "\n",
      "# Implement the ridge part of the constraints, and return the bounding variable\n",
      "def ridgeVar(M, w):\n",
      "    pridge = M.variable(\"pridge\")\n",
      "    M.constraint(Expr.vstack(0.5, pridge, w), Domain.inRotatedQCone())\n",
      "    return pridge\n",
      "    \n",
      "# Regularized least-squares regression\n",
      "def lseReg(X, y, lambda1 = 0, lambda2 = 0):\n",
      "    n, d = len(X), len(X[0])\n",
      "    M = Model(\"LSE-REG\")\n",
      "    \n",
      "    # The regression coefficients\n",
      "    w = M.variable(\"w\", d)\n",
      "    \n",
      "    # The bound on the norm of the residual\n",
      "    t = M.variable(\"t\")\n",
      "    r = Expr.sub(y, Expr.mul(X,w))\n",
      "    # t \\geq |r|_2^2\n",
      "    M.constraint(Expr.vstack(0.5, t, r), Domain.inRotatedQCone())\n",
      "    \n",
      "    # The objective, add regularization terms as required\n",
      "    objExpr = t.asExpr()\n",
      "    if lambda1 != 0: objExpr = Expr.add(objExpr, Expr.mul(lambda1, lassoVar(M,w,d)))\n",
      "    if lambda2 != 0: objExpr = Expr.add(objExpr, Expr.mul(lambda2, ridgeVar(M,w)))\n",
      "    M.objective(ObjectiveSense.Minimize, objExpr)\n",
      "    return M"
     ],
     "language": "python",
     "metadata": {},
     "outputs": [],
     "prompt_number": 4
    },
    {
     "cell_type": "markdown",
     "metadata": {},
     "source": [
      "### Regularized least squares example\n",
      "We consider the same dataset we had previously, but this time we try to fit a polynomial of very high degree. This will lead to overfitting, which can then be reduced by varying the regularization parameters $\\lambda$."
     ]
    },
    {
     "cell_type": "code",
     "collapsed": false,
     "input": [
      "# Prepare the data\n",
      "N = 25\n",
      "degree = 15\n",
      "sigma = 0.03\n",
      "x = numpy.sort(numpy.random.uniform(0.0, 1.0, N))\n",
      "def f(t):\n",
      "    return 1.5*t**3 - 2*t**2 + 0.5*t - 1\n",
      "y = f(x) + numpy.random.normal(0.0, sigma, N)\n",
      "X = [[t**i for i in range(degree)] for t in x]\n",
      "\n",
      "# Solve a number of lasso-regularized models\n",
      "print \"Sparsity report:\\nlambda1  nonzeros in w\\n\"\n",
      "plt.axis([0.0, 1.0, -1.25, -0.80])\n",
      "plt.scatter(x,y)\n",
      "ticks = numpy.linspace(0.0, 1.0, 10000)\n",
      "lambdas = [10**(-i) for i in range(1,6)] + [0]\n",
      "\n",
      "for lambda1 in lambdas:\n",
      "    M = lseReg(X, y, lambda1, 0)\n",
      "    M.solve()\n",
      "    w = M.getVariable(\"w\").level()\n",
      "    print \"{0: <8} {1: <2}\".format(lambda1, sum([0 if abs(val)<1e-5 else 1 for val in w]))\n",
      "\n",
      "    # Plot the data points and regression function\n",
      "    plt.plot(ticks, sum([w[i]*ticks**i for i in range(degree)]))\n",
      "\n",
      "plt.legend(lambdas, loc='upper right')\n",
      "plt.show()    \n"
     ],
     "language": "python",
     "metadata": {},
     "outputs": [
      {
       "output_type": "stream",
       "stream": "stdout",
       "text": [
        "Sparsity report:\n",
        "lambda1  nonzeros in w\n",
        "\n",
        "0.1      3 "
       ]
      },
      {
       "output_type": "stream",
       "stream": "stdout",
       "text": [
        "\n",
        "0.01     4 \n",
        "0.001    6 "
       ]
      },
      {
       "output_type": "stream",
       "stream": "stdout",
       "text": [
        "\n",
        "0.0001   15\n",
        "1e-05    15"
       ]
      },
      {
       "output_type": "stream",
       "stream": "stdout",
       "text": [
        "\n",
        "0        15\n"
       ]
      },
      {
       "metadata": {},
       "output_type": "display_data",
       "png": "[encoded data removed]",
       "text": [
        "<matplotlib.figure.Figure at 0x7f2e024de810>"
       ]
      }
     ],
     "prompt_number": 7
    },
    {
     "cell_type": "markdown",
     "metadata": {},
     "source": [
      "# Robust regression with Huber loss function\n",
      "\n",
      "The penalty function $\\phi(x)=x^2$ grows quite rapidly for large values of $x$, making the least-squares approximation overly sensitive to outliers. One solution to this issue in the realm of convex optimization is to replace it with the penalty defined as:\n",
      "$$\n",
      "\\phi_{\\mathrm{Huber}}(x) = \n",
      "\\begin{cases}\n",
      "x^2       &  |x|\\leq M, \\\\\n",
      "M(2|x|-M) &  |x|\\geq M,\n",
      "\\end{cases}\n",
      "$$\n",
      "for some value of $M$. This *Huber loss function* agrees with the quadratic loss for small values of $x$ (small residuals) and otherwise it is the slowest-growing function preserving that property while remaining convex. Thus it assignes much lower loss to distant outliers than pure quadratic regression, maing it more robust. The *robust regression with Huber loss function* is now the problem\n",
      "\n",
      "$$\\mathrm{min}_{\\mathbf{w}\\in\\mathbb{R}^d} \\phi_{\\mathrm{Huber}}(\\mathbf{y}-\\mathbf{X}\\mathbf{w}).$$\n",
      "\n",
      "It is left as an exercise to prove that an equivalent formulation of this optimization problem is\n",
      "\n",
      "$$\n",
      "\\begin{array}{rl}\n",
      "\\mathrm{minimize} &            \\|\\mathbf{u}\\|_2^2+2M\\|\\mathbf{v}\\|_1 \\\\\n",
      "\\mathrm{s.t.}     &            -(\\mathbf{u}+\\mathbf{v})\\leq \\mathbf{y}-\\mathbf{X}\\mathbf{w} \\leq \\mathbf{u}+\\mathbf{v}\\\\\n",
      "                  &            0\\leq \\mathbf{u}\\leq M\\\\\n",
      "                  &            0\\leq \\mathbf{v} \\\\\n",
      "                  &            \\mathbf{u}, \\mathbf{v}\\in \\mathbb{R}^n, \\mathbf{w}\\in\\mathbb{R}^d\n",
      "\\end{array}\n",
      "$$\n",
      "\n",
      "We proceed directly to a *Fusion* implementation:"
     ]
    },
    {
     "cell_type": "code",
     "collapsed": false,
     "input": [
      "# Robust regression with Huber loss function\n",
      "def huber(X, y, MConst):\n",
      "    n, d = len(X), len(X[0])\n",
      "    M = Model(\"LSE-HUBER\")\n",
      "    \n",
      "    # The regression coefficients and other variables\n",
      "    w = M.variable(\"w\", d)\n",
      "    u = M.variable(n, Domain.inRange(0.0, MConst))\n",
      "    v = M.variable(n, Domain.greaterThan(0.0))\n",
      "    \n",
      "    # The residual and bounds on its absolute value (coordinatewise)\n",
      "    r = Expr.sub(y, Expr.mul(X,w))\n",
      "    ab= Expr.add(u,v)\n",
      "    M.constraint(Expr.add(ab,r), Domain.greaterThan(0.0))\n",
      "    M.constraint(Expr.sub(ab,r), Domain.greaterThan(0.0))\n",
      "    \n",
      "    # t >= |u|_2^2 and the objective\n",
      "    t = M.variable()\n",
      "    M.constraint(Expr.vstack(0.5, t, u), Domain.inRotatedQCone())\n",
      "    M.objective(ObjectiveSense.Minimize, Expr.add(t, Expr.mul(2*MConst, Expr.sum(v))))\n",
      "    return M"
     ],
     "language": "python",
     "metadata": {},
     "outputs": [],
     "prompt_number": 8
    },
    {
     "cell_type": "markdown",
     "metadata": {},
     "source": [
      "### Huber regression example\n",
      "\n",
      "We demonstrate the Huber regression compared to standard least-squares regression on an example with distant outliers."
     ]
    },
    {
     "cell_type": "code",
     "collapsed": false,
     "input": [
      "# Prepare the data\n",
      "N = 30\n",
      "sigma = 0.005\n",
      "x = numpy.sort(numpy.random.uniform(0.0, 1.0, N))\n",
      "def f(t):\n",
      "    return 1.5*t**3 - 2*t**2 + 0.5*t - 1\n",
      "y = f(x) + numpy.random.normal(0.0, sigma, N)\n",
      "# Append an outlier\n",
      "x = numpy.append(x, 0.73)\n",
      "y = numpy.append(y, -0.99)\n",
      "X = [[t**i for i in range(4)] for t in x]\n",
      "\n",
      "# Solve the models\n",
      "LSE, HUB = lse(X, y), huber(X, y, 5*sigma)\n",
      "LSE.solve()\n",
      "HUB.solve()\n",
      "wLSE = LSE.getVariable(\"w\").level()\n",
      "wHUB = HUB.getVariable(\"w\").level()\n",
      "\n",
      "# Plot the data points, LSE approximation (blue) and Huber approximation (red)\n",
      "plt.scatter(x,y)\n",
      "ticks = numpy.linspace(0, 1, 100)\n",
      "plt.plot(ticks, sum([wLSE[i]*ticks**i for i in range(4)]), 'k', color='blue')\n",
      "plt.plot(ticks, sum([wHUB[i]*ticks**i for i in range(4)]), 'k', color='red')\n",
      "plt.show()"
     ],
     "language": "python",
     "metadata": {},
     "outputs": [
      {
       "metadata": {},
       "output_type": "display_data",
       "png": "[encoded data removed]",
       "text": [
        "<matplotlib.figure.Figure at 0x7f2df9fcb250>"
       ]
      }
     ],
     "prompt_number": 10
    },
    {
     "cell_type": "markdown",
     "metadata": {},
     "source": [
      "The red curve is clearly less affected by the outlier."
     ]
    },
    {
     "cell_type": "markdown",
     "metadata": {
      "collapsed": true
     },
     "source": [
      "<a rel=\"license\" href=\"http://creativecommons.org/licenses/by/4.0/\"><img alt=\"Creative Commons License\" style=\"border-width:0\" src=\"https://i.creativecommons.org/l/by/4.0/80x15.png\" /></a><br />This work is licensed under a <a rel=\"license\" href=\"http://creativecommons.org/licenses/by/4.0/\">Creative Commons Attribution 4.0 International License</a>. The **MOSEK** logo and name are trademarks of <a href=\"http://mosek.com\">Mosek ApS</a>. The code is provided as-is. Compatibility with future release of **MOSEK** or the `Fusion API` are not guaranteed. For more information contact our [support](mailto:support@mosek.com). "
     ]
    }
   ],
   "metadata": {}
  }
 ]
}