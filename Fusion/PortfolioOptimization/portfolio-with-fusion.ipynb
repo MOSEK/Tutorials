{
 "cells": [
  {
   "cell_type": "markdown",
   "metadata": {},
   "source": [
    "![MOSEK ApS](https://mosek.com/files/mosek_logo_color.png )"
   ]
  },
  {
   "cell_type": "markdown",
   "metadata": {},
   "source": [
    "----------------------------------------------------------------------------\n",
    "\n",
    "\n",
    "Portfolio Optimization: *the efficient frontier*\n",
    "========================\n",
    "\n",
    "The aim of this tutorial is two-fold:\n",
    "\n",
    "1. to illustrate some `Fusion` modeling features\n",
    "2. to show how to use MOSEK built-in BLAS/LAPACK linear algebra routines.\n",
    "\n",
    "Problem definition\n",
    "---------------------------\n",
    "\n",
    "The classical *Markowitz portfolio optimization* problem considers:\n",
    "\n",
    "* $n$ stocks or assets $x_i$ held over a single period of time.\n",
    "\n",
    "* an expected return per assets $\\mu_i$\n",
    "\n",
    "* a covariance matrix for the assets return  $\\Sigma$\n",
    "\n",
    "Thus the portfolio expected return is given by $\\mu^T x$ and the risk is measured by $x^T \\Sigma x$. \n",
    "\n",
    "We want to define an allocation strategy such that:\n",
    "\n",
    "* all our wealth $w$ must be invested,\n",
    "\n",
    "* no sells are allowed ($x\\geq 0$),\n",
    "\n",
    "We want to find a good compromise between the return and the risk. A typical approach is maximize the expected return paying some fee for the risk. This is achieved introducing a nonnegative weight $\\alpha$ that measures how much we are willing to pay for the risk that we take, i.e. we want to maximize\n",
    "\n",
    "\\begin{equation}\n",
    "   \\mbox{maximize}   \\quad \\mu^T x - \\alpha s\n",
    "\\end{equation}\n",
    "\n",
    "where $s$ is a variable representing the risk.\n",
    "\n",
    "Note that:\n",
    "\n",
    "* the smaller is $\\alpha$ the higher is the risk we accept,\n",
    "* the larger is $\\alpha$, the smaller is the risk we accept.\n",
    "\n",
    "As limit case, for $\\alpha=0$ the risk is completely ignored and we obtained the mos\n",
    "\n",
    "For each given $\\alpha$ we find a pair $s,x$ that defines a curve named the *efficient frontier.*\n",
    "\n",
    "The model is formulated as follows:\n",
    "\n",
    "\\begin{equation}\n",
    "   \\begin{array}{lll}\n",
    "   \\mbox{maximize}   & \\mu^T x - \\alpha s& \\\\\n",
    "   \\mbox{subject to} &  e^T x            & =     w,\\\\\n",
    "                     &  s^2 \\geq x^T \\Sigma x,\\\\\n",
    "                     &  x                & \\geq  0.\n",
    "   \\end{array}\n",
    "\\end{equation}\n",
    "\n",
    "\n",
    "Conversion in Conic form\n",
    "------------------------------\n",
    "\n",
    "The covariance matrix $\\Sigma$ is positive semidefinite by definition and therefore there exist a matrix $G$ such that\n",
    "\n",
    "\\begin{equation}\n",
    "   \\Sigma = G G^T.\n",
    "\\end{equation}\n",
    " \n",
    "In general the choice of $G$ is **not** unique and one possible choice of $G$ is the Cholesky factorization of $\\Sigma$. For a given $G$ we have that\n",
    "\n",
    "\\begin{equation}\n",
    "   \\begin{array}{lll}\n",
    "   x^T \\Sigma x & = & x^T G G^T x \\\\\n",
    "                & = & \\left\\|G^T x\\right\\|^2.\n",
    "   \\end{array}\n",
    "\\end{equation}\n",
    "\n",
    "Hence, we may write the risk constraint as\n",
    "\n",
    "\\begin{equation}\n",
    "   s^2 \\geq \\left\\|G^T x\\right\\|_2\n",
    "\\end{equation}\n",
    "\n",
    "or equivalently\n",
    "\n",
    "\\begin{equation}\n",
    " \\left[s;G^T x\\right] \\in Q^{n+1}.\n",
    "\\end{equation}\n",
    "\n",
    "where $Q^{n+1}$ is the $n+1$ dimensional quadratic cone. Therefore, problem can be written as\n",
    "\n",
    "\n",
    "\\begin{equation}\n",
    "   \\begin{array}{lll}\n",
    "   \\mbox{maximize}   & \\mu^T x - \\alpha s& \\\\\n",
    "   \\mbox{subject to} &  e^T x            & =     w,\\\\\n",
    "                     &  [s;G^T x]        & \\in   Q^{n+1},\\\\\n",
    "                     &  x                & \\geq  0.\n",
    "   \\end{array}\n",
    "\\end{equation}\n",
    "\n",
    "which is a conic quadratic optimization problem that can easily be formulated and solved with `Fusion`."
   ]
  },
  {
   "cell_type": "markdown",
   "metadata": {},
   "source": [
    "Implementation\n",
    "----------------------------\n",
    "\n",
    "First of all we need some input:"
   ]
  },
  {
   "cell_type": "code",
   "execution_count": 1,
   "metadata": {
    "collapsed": false
   },
   "outputs": [],
   "source": [
    "n  = 3\n",
    "\n",
    "mu = [0.1073, 0.0737, 0.0627]\n",
    "\n",
    "w  = 1.0\n",
    "\n",
    "# stored in a single 1-D array in column-major order\n",
    "Sigma = [\\\n",
    "    0.02778 ,   0.00387 ,  0.00021,\\\n",
    "    0.00387 ,   0.01112 , -0.00020,\\\n",
    "    0.00021 ,  -0.00020 ,  0.00115 \\\n",
    "    ]\n"
   ]
  },
  {
   "cell_type": "markdown",
   "metadata": {},
   "source": [
    "The Cholesky factor $G$ of $\\Sigma$ can be easily computed. \n",
    "\n",
    "We use the built-in `LAPACK potrf` function provided by MOSEK optimizer API:"
   ]
  },
  {
   "cell_type": "code",
   "execution_count": 2,
   "metadata": {
    "collapsed": false
   },
   "outputs": [
    {
     "name": "stdout",
     "output_type": "stream",
     "text": [
      "| +0.1667,+0.0039,+0.0002 |\n",
      "| +0.0000,+0.1029,-0.0002 |\n",
      "| +0.0000,+0.0000,+0.0338 |\n"
     ]
    }
   ],
   "source": [
    "import mosek as msk\n",
    "\n",
    "with msk.Env() as env:\n",
    "    env.potrf( msk.uplo.lo,n, Sigma)\n",
    "    \n",
    "#copying in a 2D array and zeroing out the lower triangular part\n",
    "GT = [ [ 0. if j<i else Sigma[i+j*n] for j in range(n)] for i in range(n)]\n",
    "    \n",
    "for i in range(n):\n",
    "    print \"| %s |\" % ','.join(['%+.4f'% GT[i][j] for j in range(n)])"
   ]
  },
  {
   "cell_type": "markdown",
   "metadata": {},
   "source": [
    "The model can be easily implemented in `fusion`:"
   ]
  },
  {
   "cell_type": "code",
   "execution_count": 3,
   "metadata": {
    "collapsed": false
   },
   "outputs": [],
   "source": [
    "from mosek.fusion import *\n",
    "\n",
    "def EfficientFrontier(mu,GT,w,alphas):\n",
    "    \n",
    "    n = len(mu)\n",
    "    \n",
    "    with Model(\"Efficient frontier\") as M:\n",
    "\n",
    "        # Defines the variables (holdings). Shortselling is not allowed.\n",
    "        x = M.variable(\"x\", n, Domain.greaterThan(0.0)) # Portfolio variables\n",
    "        s = M.variable(\"s\", 1, Domain.unbounded()) # Risk variable\n",
    "\n",
    "        M.constraint('budget', Expr.sum(x), Domain.equalsTo(w))\n",
    "\n",
    "        M.constraint('risk', Expr.vstack(s,Expr.mul(GT,x)),Domain.inQCone())\n",
    "\n",
    "        risk = []\n",
    "        xs = []\n",
    "        \n",
    "        mudotx = Expr.dot(mu,x)\n",
    "        for alpha in alphas:\n",
    "\n",
    "            #  Define objective as a weighted combination of return and risk\n",
    "            M.objective('obj', ObjectiveSense.Maximize, Expr.sub(mudotx,Expr.mul(alpha,s)))\n",
    "\n",
    "            M.solve()\n",
    "\n",
    "            risk.append(s.level()[0])\n",
    "            xs.append(x.level())\n",
    "            \n",
    "        return risk,xs"
   ]
  },
  {
   "cell_type": "markdown",
   "metadata": {},
   "source": [
    "We will now make some test for a given set of $\\alpha$'s."
   ]
  },
  {
   "cell_type": "code",
   "execution_count": 4,
   "metadata": {
    "collapsed": false,
    "scrolled": false
   },
   "outputs": [
    {
     "data": {
      "text/plain": [
       "<matplotlib.text.Text at 0x7f2c51b6c290>"
      ]
     },
     "execution_count": 4,
     "metadata": {},
     "output_type": "execute_result"
    },
    {
     "data": {
      "image/png": "[encoded data removed]",
      "text/plain": [
       "<matplotlib.figure.Figure at 0x7f2c55a53a10>"
      ]
     },
     "metadata": {},
     "output_type": "display_data"
    }
   ],
   "source": [
    "alphas = [0.00, 0.01, 0.10, 0.25, 0.30, 0.35, 0.40, 0.45, 0.50, 0.75, 1.00, 1.50, 2.00, 3.00, 5.00, 10.00]\n",
    "\n",
    "risk,xs = EfficientFrontier(mu,GT,w,alphas)\n",
    "\n",
    "%matplotlib inline\n",
    "import matplotlib.pyplot as plt\n",
    "\n",
    "plt.rc('savefig',dpi=120)\n",
    "\n",
    "returns = [ sum([ m*x for m,x in zip(mu,xx)]) for xx in xs]\n",
    "plt.plot( risk, returns , 'b*')\n",
    "plt.grid()    \n",
    "plt.xlabel('Risk')\n",
    "plt.ylabel('Return')\n",
    "plt.title(\"Return vs. Risk: the efficient frontier\")"
   ]
  },
  {
   "cell_type": "code",
   "execution_count": 5,
   "metadata": {
    "collapsed": false
   },
   "outputs": [
    {
     "ename": "NameError",
     "evalue": "name 'dot' is not defined",
     "output_type": "error",
     "traceback": [
      "\u001b[1;31m---------------------------------------------------------------------------\u001b[0m",
      "\u001b[1;31mNameError\u001b[0m                                 Traceback (most recent call last)",
      "\u001b[1;32m<ipython-input-5-2099ca837bbb>\u001b[0m in \u001b[0;36m<module>\u001b[1;34m()\u001b[0m\n\u001b[1;32m----> 1\u001b[1;33m \u001b[0mplt\u001b[0m\u001b[1;33m.\u001b[0m\u001b[0mplot\u001b[0m\u001b[1;33m(\u001b[0m \u001b[0malphas\u001b[0m\u001b[1;33m,\u001b[0m \u001b[1;33m[\u001b[0m \u001b[0mdot\u001b[0m\u001b[1;33m(\u001b[0m\u001b[0mmu\u001b[0m\u001b[1;33m,\u001b[0m\u001b[0mxx\u001b[0m\u001b[1;33m)\u001b[0m \u001b[1;32mfor\u001b[0m \u001b[0mxx\u001b[0m \u001b[1;32min\u001b[0m \u001b[0mxs\u001b[0m\u001b[1;33m]\u001b[0m\u001b[1;33m,\u001b[0m \u001b[1;34m'b*'\u001b[0m\u001b[1;33m)\u001b[0m\u001b[1;33m\u001b[0m\u001b[0m\n\u001b[0m\u001b[0;32m      2\u001b[0m \u001b[0mplt\u001b[0m\u001b[1;33m.\u001b[0m\u001b[0mgrid\u001b[0m\u001b[1;33m(\u001b[0m\u001b[1;33m)\u001b[0m\u001b[1;33m\u001b[0m\u001b[0m\n\u001b[0;32m      3\u001b[0m \u001b[0mplt\u001b[0m\u001b[1;33m.\u001b[0m\u001b[0mxlabel\u001b[0m\u001b[1;33m(\u001b[0m\u001b[1;34m'Alpha'\u001b[0m\u001b[1;33m)\u001b[0m\u001b[1;33m\u001b[0m\u001b[0m\n\u001b[0;32m      4\u001b[0m \u001b[0mplt\u001b[0m\u001b[1;33m.\u001b[0m\u001b[0mylabel\u001b[0m\u001b[1;33m(\u001b[0m\u001b[1;34m'Return'\u001b[0m\u001b[1;33m)\u001b[0m\u001b[1;33m\u001b[0m\u001b[0m\n",
      "\u001b[1;31mNameError\u001b[0m: name 'dot' is not defined"
     ]
    }
   ],
   "source": [
    "plt.plot( alphas, [ dot(mu,xx) for xx in xs], 'b*')\n",
    "plt.grid()    \n",
    "plt.xlabel('Alpha')\n",
    "plt.ylabel('Return')"
   ]
  },
  {
   "cell_type": "code",
   "execution_count": null,
   "metadata": {
    "collapsed": false
   },
   "outputs": [],
   "source": [
    "m = len(alphas)\n",
    "indx= range(m)\n",
    "colors=['b','r','g']\n",
    "bott = [0. for i in indx]\n",
    "\n",
    "for i in range(n):\n",
    "    xx = [ xs[j][i] for j in indx]\n",
    "    plt.bar(indx, xx ,  0.35, bottom=bott,color=colors[i])\n",
    "    bott= [ bott[j] + xx[j] for j in indx]\n",
    "\n",
    "plt.xticks(indx, alphas)\n",
    "plt.xlabel('alpha')\n",
    "plt.ylabel('portfolio')\n",
    "plt.grid()\n",
    "plt.show()"
   ]
  },
  {
   "cell_type": "markdown",
   "metadata": {},
   "source": [
    "*Disclaimer*\n",
    "The code in this tutorial is provided as is. Future versions of MOSEK and `Fusion` may be not fully compatible. \n",
    "\n",
    "\n",
    "\n",
    "<a rel=\"license\" href=\"http://creativecommons.org/licenses/by/4.0/\"><img alt=\"Creative Commons License\" style=\"border-width:0\" src=\"https://i.creativecommons.org/l/by/4.0/88x31.png\" /></a><br />This work by <a xmlns:cc=\"http://creativecommons.org/ns#\" href=\"www.mosek.com\" property=\"cc:attributionName\" rel=\"cc:attributionURL\">MOSEK ApS</a> is licensed under a <a rel=\"license\" href=\"http://creativecommons.org/licenses/by/4.0/\">Creative Commons Attribution 4.0 International License</a>.<br />Based on a work at <a xmlns:dct=\"http://purl.org/dc/terms/\" href=\"www.mosek.com\" rel=\"dct:source\">www.mosek.com</a>."
   ]
  }
 ],
 "metadata": {
  "kernelspec": {
   "display_name": "Python 2",
   "language": "python",
   "name": "python2"
  },
  "language_info": {
   "codemirror_mode": {
    "name": "ipython",
    "version": 2
   },
   "file_extension": ".py",
   "mimetype": "text/x-python",
   "name": "python",
   "nbconvert_exporter": "python",
   "pygments_lexer": "ipython2",
   "version": "2.7.6"
  }
 },
 "nbformat": 4,
 "nbformat_minor": 0
}
