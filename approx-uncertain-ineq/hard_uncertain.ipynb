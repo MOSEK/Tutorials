{
 "cells": [
  {
   "cell_type": "markdown",
   "metadata": {},
   "source": [
    "![MOSEK ApS](https://www.mosek.com/static/images/branding/webgraphmoseklogocolor.png )"
   ]
  },
  {
   "cell_type": "markdown",
   "metadata": {},
   "source": [
    "# Hard Uncertain Convex Inequalities"
   ]
  },
  {
   "cell_type": "markdown",
   "metadata": {},
   "source": [
    "Robust optimization is a popular technique for dealing with uncertainty in optimization problems. Methods of reformulating uncertain problems into their robust counterparts exist for a wide range of problems. However, problems with constraints that are convex in both their optimization variables and the uncertain parameters are, in general, harder to solve. Roos et. al. (2018) (http://www.optimization-online.org/DB_HTML/2018/06/6679.html) provide a way to approximate this popular class of problems. Implementing their approximations in Fusion is going to be the goal of this notebook."
   ]
  },
  {
   "cell_type": "markdown",
   "metadata": {},
   "source": [
    "## Adjustable Robust Optimization problem"
   ]
  },
  {
   "cell_type": "markdown",
   "metadata": {},
   "source": [
    "Consider the uncertain optimization problem: \n",
    "$$\n",
    " \\mathrm{minimize} \\quad c^T x \n",
    "$$\n",
    "\n",
    "$$\n",
    " \\mbox{subject to} \\quad f(A(x) \\zeta + b(x)) \\leq 0 \\quad \\forall \\zeta \\in U\n",
    "$$\n",
    "\n",
    "where $f: \\Bbb R^p \\mapsto \\Bbb R $ is convex and closed, $A:\\Bbb R ^n \\mapsto \\Bbb R^{p\\times L}$, $b: \\Bbb R^n \\mapsto \\Bbb R^p$ are affine, and U is the uncertainty set which is a non-empty polyhedron given by:\n",
    "$$\n",
    "U = \\{\\zeta \\in \\Bbb R^L | D\\zeta = d\\}\n",
    "$$"
   ]
  },
  {
   "cell_type": "markdown",
   "metadata": {},
   "source": [
    "for some $D \\in \\Bbb R^{q\\times L}$ and $d \\in \\Bbb R^q$."
   ]
  },
  {
   "cell_type": "markdown",
   "metadata": {},
   "source": [
    "The above-stated constraint will be satisfied if and only if $x$ satisfies the following adjustable robust optimization constraints:\n",
    "\n",
    "$$\n",
    "\\forall w \\in \\text{dom} f^*, \\exists \\lambda \\in \\Bbb R^q : \\begin{cases}\n",
    "d^T\\lambda + w^Tb(x) - f^*(x)\\leq 0 \\\\\n",
    "D^T\\lambda = A(x)^Tw,\n",
    "\\end{cases}\n",
    "$$\n",
    "\n",
    "where $f^*(w):\\Bbb R^p \\mapsto \\Bbb R$ is the convex conjugate of the original function $f$ in the constraint."
   ]
  },
  {
   "cell_type": "markdown",
   "metadata": {},
   "source": [
    "#### Note: Since we have $\\zeta \\in \\Bbb R^L$, we get an equality as the second constraint. If $ \\zeta $ has a non-negativity constraint in $U$, i.e. $\\zeta \\in \\Bbb R_+^L$, then the equality is replaced by $D^T \\lambda \\geq A(x)^Tw$."
   ]
  },
  {
   "cell_type": "markdown",
   "metadata": {},
   "source": [
    "## Safe Approximations:"
   ]
  },
  {
   "cell_type": "markdown",
   "metadata": {},
   "source": [
    "Roos et. al. provide two safe approximations to the ARO given above:"
   ]
  },
  {
   "cell_type": "markdown",
   "metadata": {},
   "source": [
    "#### Approximation 1:"
   ]
  },
  {
   "cell_type": "markdown",
   "metadata": {},
   "source": [
    "If there exists $u\\in \\Bbb R^q$ and $V\\in \\Bbb R^{q\\times p}$ for a given $x\\in \\Bbb R^n$ such that \n",
    "\n",
    "$$\n",
    "\\begin{cases}\n",
    "d^Tu + f\\big(b(x)+V^Td\\big) \\leq 0 \\\\\n",
    "\\delta^*\\big(A_i(x)-V^TD_i|dom\\,f^*\\big) = D^T_iu \\quad i=1,...,L.\n",
    "\\end{cases}\n",
    "$$\n",
    "\n",
    "holds, then $x$ also satisfies the original statement of the problem. Here, $A_i$ stands for the $i$-th row of the matrix $A$. $\\delta^*$ is the support function."
   ]
  },
  {
   "cell_type": "markdown",
   "metadata": {},
   "source": [
    "#### Approximation 2:"
   ]
  },
  {
   "cell_type": "markdown",
   "metadata": {},
   "source": [
    "If there exists $u\\in \\Bbb R^q$, $V\\in \\Bbb R^{q\\times p}$ and $r\\in \\Bbb R^q$ for a given $x\\in \\Bbb R^n$ such that\n",
    "\n",
    "$$\n",
    "\\begin{cases}\n",
    "d^Tu + (1+d^Tr)f\\Big( \\frac{V^Td+b(x)}{1+d^Tr}\\Big) \\leq 0 \\\\\n",
    "1+d^Tr \\geq 0 \\\\\n",
    "-D_i^Tu + (-D_i^Tr)f\\Big( \\frac{A_i(x)-V^TD_i}{-D_i^Tr} \\Big) = 0 \\quad i= 1,...,L\\\\\n",
    "-D_i^Tr \\geq 0 \n",
    "\\end{cases}\n",
    "$$\n",
    "\n",
    "holds, then $x$ also satisfies the original problem statement. Moreover, this is a tighter approximation than the first approximation."
   ]
  },
  {
   "cell_type": "markdown",
   "metadata": {},
   "source": [
    "## Numerical example"
   ]
  },
  {
   "cell_type": "markdown",
   "metadata": {},
   "source": [
    "Roos et. al. test the above-mentioned approach by solving the following problem:\n",
    "\n",
    "$$\n",
    "\\text{Minimize}\\quad c^Tx\n",
    "$$\n",
    "\n",
    "$$\n",
    "\\text{Subject to}\\quad h\\Bigg(\n",
    "\\begin{pmatrix}\n",
    "\\big( -\\mathbf{1} + B_i^{(1)}\\zeta \\big)^T x \\\\\n",
    "\\big( -\\mathbf{1} + B_i^{(2)}\\zeta \\big)^T x\n",
    "\\end{pmatrix} \\Bigg) \\leq 0  \\quad \\quad \\forall \\zeta \\in U,\\, i=1,..., m\n",
    "$$"
   ]
  },
  {
   "cell_type": "markdown",
   "metadata": {},
   "source": [
    "where $c=\\mathbf{1}\\in \\Bbb R^n$ is the all ones vector, and $B_i^{(1)},B_i^{(2)} \\in \\Bbb R^{n\\times L}$ are randomly generated sparse matrices (sparsity density = 0.1), with non-zero elements that lie in the interval $[0,1]$. The uncertainty set is assumed to be a box, that is:\n",
    "\n",
    "$$\n",
    "U = \\big\\{ \\zeta \\in \\Bbb R^L \\,\\big|\\,\\, \\left\\lVert \\zeta \\right\\rVert_\\infty \\leq 1 \\big\\}\n",
    "$$\n",
    "\n",
    "which can be re-stated as:\n",
    "\n",
    "$$\n",
    "U = \\big\\{ \\zeta \\in \\Bbb R^L \\,\\big|\\,\\, D\\zeta \\leq d \\big\\}\n",
    "$$\n",
    "with\n",
    "\n",
    "$$\n",
    "D = \\begin{bmatrix}\n",
    "\\mathbf{I} \\\\\n",
    "\\mathbf{-I}\n",
    "\\end{bmatrix}  \n",
    "\\quad\n",
    "d = \\mathbf{1} \\in \\Bbb R^L\n",
    "$$\n",
    "\n",
    "where $I \\in \\Bbb R^{L\\times L}$ is the identity matrix. Therefore, we see that $q=2L$. Moreover, by making the following substitutions:\n",
    "\n",
    "$$A(x) =\n",
    "\\begin{bmatrix}\n",
    "\\big( B_i^{(1) T} x \\big) ^T \\\\\n",
    "\\big( B_i^{(2) T} x \\big) ^T\n",
    "\\end{bmatrix} \n",
    "\\quad\n",
    "b(x) = \\begin{bmatrix}\n",
    "-\\mathbf{1}^T x \\\\ \n",
    "-\\mathbf{1}^T x\n",
    "\\end{bmatrix}\n",
    "$$\n",
    "\n",
    "we can express the example constraints in the form: $f\\big(A(x)\\zeta + b(x)\\big)$, where the function $f$ is now the log-sum-exp ($h$) function with $p=2$."
   ]
  },
  {
   "cell_type": "markdown",
   "metadata": {},
   "source": [
    "### 1.) Exact solution"
   ]
  },
  {
   "cell_type": "markdown",
   "metadata": {},
   "source": [
    "We can solve the robust optmization problem exactly, by evaluating the constraints at every vertex of the uncertainty box set. Therefore, we end up with $m\\times2^L$ log-sum-exp inequalities. Each inequality can be expressed as: \n",
    "\n",
    "$$\n",
    "\\Big(h^{(j)}_1,h^{(j)}_2,h^{(j)}_3 \\Big) \\in K_{exp} \\quad, \\quad  \\sum_{j} h_1^{(j)} \\leq 1 \\quad \\quad j=1,...,p\n",
    "$$\n",
    "\n",
    "where $h_2^{i} = 1$ and,\n",
    " \n",
    "$$\n",
    "h^{(j)}_3 = -\\mathbf{1}^T x  + \\big(B_i^{(j)T}x\\big)^T \\zeta  \\quad i=1,...,m\n",
    "$$\n",
    "\n",
    "for a given uncertainty vector $\\zeta \\in U$."
   ]
  },
  {
   "cell_type": "code",
   "execution_count": 1,
   "metadata": {},
   "outputs": [],
   "source": [
    "import numpy as np\n",
    "from numpy import random\n",
    "from mosek.fusion import *\n",
    "import mosek.fusion.pythonic\n",
    "import sys\n",
    "import scipy\n",
    "from scipy import sparse\n",
    "import matplotlib.pyplot as plt\n",
    "plt.rcParams['figure.figsize'] = [16, 9]"
   ]
  },
  {
   "cell_type": "code",
   "execution_count": 2,
   "metadata": {},
   "outputs": [],
   "source": [
    "#Function that generates a random sparse matrix B, with the specified sparsity density, and dimensions n*L.\n",
    "#Please note that we generate transposed matrices.\n",
    "def Sparse_make(n,L,s,ran_stat):\n",
    "    return scipy.sparse.random(L,n,density = s,random_state = ran_stat).todense()"
   ]
  },
  {
   "cell_type": "code",
   "execution_count": 3,
   "metadata": {},
   "outputs": [],
   "source": [
    "#Function to set the dimensional constants, matrix D, and the vector d. \n",
    "def constants(L):\n",
    "    q = 2*L\n",
    "    d = np.ones(q)\n",
    "    D = np.concatenate((np.eye(L),-1*np.eye(L)),axis=0)\n",
    "    Dt = np.transpose(D)\n",
    "    return(q,d,D,Dt)"
   ]
  },
  {
   "cell_type": "code",
   "execution_count": 4,
   "metadata": {},
   "outputs": [],
   "source": [
    "#Making the vertex vectors of the uncertainty box. This will be used in the exact solution.\n",
    "def Box_vertices(L):\n",
    "    U = []\n",
    "    for i in range(2**L):\n",
    "        vertex = [2*int(b) - 1 for b in list(format(i,'b').zfill(L))]\n",
    "        U.append(vertex)\n",
    "    U_matrix = Matrix.dense(np.transpose(np.asarray(U)))\n",
    "    return(U_matrix)"
   ]
  },
  {
   "cell_type": "code",
   "execution_count": 5,
   "metadata": {},
   "outputs": [],
   "source": [
    "def Exact_sol(Bt_p,n,m,L,p):    \n",
    "    U = Box_vertices(L)\n",
    "    q,d,D,dt = constants(L)\n",
    "    \n",
    "    with Model('EXACT') as M:\n",
    "        #M.setLogHandler(sys.stdout)\n",
    "        M.setSolverParam('numThreads', 1)\n",
    "        \n",
    "        x = M.variable('x',n)\n",
    "        #Objective\n",
    "        M.objective('OBJ_exact',ObjectiveSense.Minimize,Expr.sum(x))\n",
    "        \n",
    "        #b(x),dim = [p,2^L,m].\n",
    "        bx = Expr.repeat(Expr.repeat(Expr.repeat(-Expr.sum(x),p,0),2**L,1),m,2)      \n",
    "        #[A(x).(uncertainty vector)] , dim = [p,2^L,m].\n",
    "        Ax_U = Expr.stack(2,[Expr.hstack([b @ x for b in B_set]).T @ U for B_set in Bt_p])\n",
    "        h1 = M.variable('h1',[p,2**L,m])\n",
    "        h2 = Expr.constTerm([p,2**L,m],1.0)\n",
    "        h3 = Ax_U+bx\n",
    "        \n",
    "        Cone = M.constraint('Exp1',Expr.stack(3,[h1,h2,h3]),Domain.inPExpCone())\n",
    "        Line = M.constraint('Lin1',Expr.sum(h1,0)<=1.0)\n",
    "        \n",
    "        M.solve()\n",
    "        return(M.primalObjValue(),M.getSolverDoubleInfo('optimizerTime'))"
   ]
  },
  {
   "cell_type": "markdown",
   "metadata": {},
   "source": [
    "### 2.) Approximation 1 "
   ]
  },
  {
   "cell_type": "markdown",
   "metadata": {},
   "source": [
    "It is easy to model the first approximation by using the previously mentioned expressions for $A(x)$, $b(x)$, $D$ and $d$. We see that for the first constraint in the approximation, i.e,\n",
    "\n",
    "$$\n",
    "d^Tu + h(V^Td + b(x)) \\leq 0\n",
    "$$\n",
    "\n",
    "we can write,\n",
    "\n",
    "$$\n",
    "\\sum_{k=1}^{p}e^{\\big( V_k^Td + b(x)_k + d^Tu \\big)} \\leq 1\n",
    "$$\n",
    "\n",
    "since $h$ is a log-sum-exp function. Note that k is the column number in $V$ (two dimensional variable) and the row number in $b(x)$. The above expression can be easily expressed in Fusion, using exponential cones,\n",
    "\n",
    "$$\n",
    "\\big(h_1^{(k)},h_2^{(k)},h_1^{(k)}\\big) \\in K_{exp} \\quad \\quad \\sum_{k=1}^{p} h_1^{(k)} \\leq 1 \n",
    "$$\n",
    "\n",
    "where $h_2^{(k)} = 1 $ and,\n",
    "\n",
    "$$\n",
    "h_3^{(k)} = V_k^Td + b(x)_k + d^Tu \\quad \\quad k=1,...,p\n",
    "$$\n",
    "\n",
    "The second constraint in the approximation, i.e. the equality, involves the support function of the domain of $f^*$ (i.e. the conjugate). For the case of log-sum-exp $(h)$, we find that the domain is a simplex and the support function for a simplex is the maximum function. Hence, the second constraint is easily expressed as a set of linear equations:\n",
    "\n",
    "$$\n",
    "\\max_{k} \\big\\{ A_{ki}(x)-V^T_k D_i \\big\\} = D_i^T u  \\quad \\quad i = 1,...,L\n",
    "$$\n",
    "\n",
    "where $k = 1,...,p$ and $A_{ki}$ denotes the element in $A(x)$ at the $k$-th row and $i$-th column. $V_k$ denotes the $k$-th column in $V$."
   ]
  },
  {
   "cell_type": "code",
   "execution_count": 6,
   "metadata": {},
   "outputs": [],
   "source": [
    "def approx_1(Bt_p,n,m,L,p):\n",
    "    q,d,D,Dt =constants(L)\n",
    "    \n",
    "    with Model('APPROX_1') as M:\n",
    "        #M.setLogHandler(sys.stdout)\n",
    "        M.setSolverParam('numThreads', 1)\n",
    "        \n",
    "        x = M.variable('x',n)\n",
    "        #Objective\n",
    "        M.objective('OBJ_approx1',ObjectiveSense.Minimize,Expr.sum(x))\n",
    "        \n",
    "        u = M.variable('u',[q,m],Domain.greaterThan(0.0))\n",
    "        Vt = M.variable('Vt',[p,q,m],Domain.greaterThan(0.0))             #Note that we define the transpose of V.\n",
    "        \n",
    "        #b(x), dim = [p,m].\n",
    "        bx = Expr.repeat(Expr.repeat(-Expr.sum(x),p,0),m,1)\n",
    "        #A(x), dim = [p,L,m].\n",
    "        Ax = Expr.stack(2,[Expr.hstack([bT[i]@x for i in range(p)]).T for bT in Bt_p]) \n",
    "        \n",
    "        h1 = M.variable('h1',[p,m],Domain.greaterThan(0.0))\n",
    "        h2 = Expr.constTerm([p,m],1.0)\n",
    "        #Matrix mul(V^T,d), dim = [p,m].\n",
    "        Vt_d = Expr.hstack([Vt[:p,:q,i].reshape([p,q]) @ d for i in range(m)])\n",
    "        #(d^T . u), dim = [p,m].\n",
    "        dt_u = Expr.repeat(d@u,p,1).T\n",
    "        h3 = Vt_d + bx + dt_u\n",
    "        \n",
    "        #Exponential Cone\n",
    "        Cone = M.constraint('ExpCone',Expr.stack(2,[h1,h2,h3]),Domain.inPExpCone())           \n",
    "        #Linear constraint on the vector h1.\n",
    "        LinIneq = M.constraint('LinIneq',Expr.sum(h1,0)<=1.0)\n",
    "        #Matrix mult(V^T,D), dim = [p,L,m].\n",
    "        Vt_D = Expr.stack(2,[Vt[:p,:q,i].reshape([p,q]) @ Matrix.sparse(D) for i in range(m)])\n",
    "        #Matrix mult(D^T,u), dim = [p,L,m].\n",
    "        Dt_u = Expr.repeat(Expr.reshape(Dt @ u,[1,L,m]),p,0)\n",
    "        #Second constraint, i.e. the equality. \n",
    "        Eq = M.constraint('Eq',Ax == Vt_D + Dt_u) \n",
    "        \n",
    "        M.solve()\n",
    "        return(M.primalObjValue(),M.getSolverDoubleInfo('optimizerTime'))"
   ]
  },
  {
   "cell_type": "markdown",
   "metadata": {},
   "source": [
    "### 3.) Approximation 2"
   ]
  },
  {
   "cell_type": "markdown",
   "metadata": {},
   "source": [
    "For the second approximation, we can manipulate the first constraint into the following form,\n",
    "$$\n",
    "\\sum_{k=1}^{p}e^{\\Big( \\frac{V_k^Td + b(x)_k + d^Tu}{1+d^Tr} \\Big)} \\leq 1\n",
    "$$\n",
    "\n",
    "which then gives us the following exponential cones,\n",
    "\n",
    "$$\n",
    "\\big(h_{11}^{(k)},h_{12}^{(k)}, h_{13}^{(k)}\\big) \\in K_{exp} \\quad \\quad \\sum_{k=1}^{p} h_{11}^{(k)} - (1+d^Tr) \\leq 0 \n",
    "$$\n",
    "\n",
    "where $h_{12}^{(k)} = \\big(1+d^Tr\\big)$ and $h_{13}^{(k)} = \\big(V_k^Td + b(x)_k + d^Tu\\big)$.\n",
    "Following the same approach for the third inequality gives:\n",
    "\n",
    "$$\n",
    "\\bigg(h_{21}^{(k)},h_{22}^{(k)},h_{23}^{(k)} \\bigg) \\in K_{exp} \\quad \\quad \\sum_{k=1}^{p} h_{21}^{(k)} + D_i^Tr \\leq 0  \\quad \\quad i = 1,...,L\n",
    "$$\n",
    "\n",
    "where $h_{22}^{(k)} = -D_i^Tr$ and $h_{23}^{(k)} = \\big( A_i(x) - V^TD_i -D_i^Tu \\big)$.\n",
    "\n",
    "Note that $h_{12}^{(k)}$ and $h_{22}^{(k)}$ are included in the cone domain and therefore the second and the fourth inequalities in the statement for second approximation are taken care of.\n",
    "\n",
    "##### Mosek highlight: Roos et. al. mention that interior point methods can have trouble solving the second approximation (very small denominator case). However, Mosek successfully solves every single instance of the problem without any issues."
   ]
  },
  {
   "cell_type": "code",
   "execution_count": 7,
   "metadata": {},
   "outputs": [],
   "source": [
    "def approx_2(Bt_p,n,m,L,p):\n",
    "    q,d,D,Dt =constants(L)\n",
    "    \n",
    "    with Model('APPROX_2') as M:\n",
    "        #M.setLogHandler(sys.stdout)\n",
    "        M.setSolverParam('numThreads', 1)\n",
    "        \n",
    "        x = M.variable('x',n)\n",
    "        #Objective\n",
    "        M.objective('OBJ_approx2',ObjectiveSense.Minimize,Expr.sum(x))\n",
    "        \n",
    "        #b(x), dim = [p,m].\n",
    "        bx = Expr.repeat(Expr.repeat(-Expr.sum(x),p,0),m,1) \n",
    "        #A(x), dim = [p,L,m].\n",
    "        Ax = Expr.stack(2,[Expr.hstack([bT[i]@x for i in range(p)]).T for bT in Bt_p])  \n",
    "        \n",
    "        u = M.variable('u',[q,m],Domain.greaterThan(0.0))\n",
    "        r = M.variable('r',[q,m],Domain.greaterThan(0.0))\n",
    "        Vt = M.variable('Vt',[p,q,m],Domain.greaterThan(0.0))\n",
    "        \n",
    "        h_11 = M.variable('h_11',[p,m],Domain.greaterThan(0.0))\n",
    "        #1 + (d^T.r), dim = [m].\n",
    "        dt_r_1 = Expr.constTerm([m],1.0) + d @ r\n",
    "        h_12 = Expr.repeat(dt_r_1,p,1).T\n",
    "        #Matrix mult(V^T,d), dim = [p,m].\n",
    "        Vt_d = Expr.hstack([Vt[:p,:q,i].reshape([p,q]) @ d for i in range(m)])\n",
    "        #(d^T,u), dim = [p,m].\n",
    "        dt_u = Expr.repeat(d @ u,p,1).T\n",
    "        h_13 = Vt_d + dt_u + bx\n",
    "        #First set of cones.\n",
    "        Cone1 = M.constraint('Cone1',Expr.stack(2,[h_11,h_12,h_13]),Domain.inPExpCone())\n",
    "        LinIneq1 = M.constraint('LinIneq1',Expr.sum(h_11,0) <= dt_r_1)\n",
    "        \n",
    "        \n",
    "        h_21 = M.variable('h_21',[p,L,m],Domain.greaterThan(0.0))\n",
    "        #Matrix mult(D_T,r), dim = [L,m].\n",
    "        Dt_r = Dt @ r\n",
    "        h_22 = Expr.repeat(Expr.reshape(-Dt_r,[1,L,m]),p,0)\n",
    "        #Matrix mult(V^T,D), stacked in m, dim = [p,L,m].\n",
    "        Vt_D = Expr.stack(2,[Vt[:p,:q,i].reshape([p,q]) @ Matrix.sparse(D) for i in range(m)])\n",
    "        h_23 = Ax - Vt_D - Expr.repeat(Expr.reshape(Dt@u,[1,L,m]),p,0)\n",
    "        #Second set of cones. Note the stacking in 4th dimension.\n",
    "        Cone2 = M.constraint('Cone2',Expr.stack(3,[h_21,h_22,h_23]),Domain.inPExpCone())\n",
    "        LinIneq2 = M.constraint('LinIneq2',Expr.sum(h_21,0) + Expr.neg(Dt_r) == 0)\n",
    "\n",
    "        M.solve()\n",
    "        return(M.primalObjValue(),M.getSolverDoubleInfo('optimizerTime'))"
   ]
  },
  {
   "cell_type": "markdown",
   "metadata": {},
   "source": [
    "## Approximation error"
   ]
  },
  {
   "cell_type": "markdown",
   "metadata": {},
   "source": [
    "To evaluate the quality of the above approximations, Roos et. al. have used the following approximation error (percentage):\n",
    "\n",
    "$$\n",
    "100\\bigg( \\frac{e^{c^T \\hat{x}}}{e^{c^T x^*}} -1\\bigg)\n",
    "$$\n",
    "\n",
    "We compare the objective values of the approximation to that of the exact solution."
   ]
  },
  {
   "cell_type": "code",
   "execution_count": 8,
   "metadata": {},
   "outputs": [],
   "source": [
    "#Making instances of the problem with n=m=100 and L ranging from 1 to L_max.\n",
    "#Solve some initial ones exactly and others approximately\n",
    "#You can increase L_max, here we keep it small for the purpse of demonstration\n",
    "L_max = 10\n",
    "t, tExact, n, m = L_max, 4, 100, 100\n",
    "n_list = [n]*t\n",
    "m_list = [m]*t\n",
    "L_list = np.arange(1,t+1,1)"
   ]
  },
  {
   "cell_type": "markdown",
   "metadata": {},
   "source": [
    "We will generate random matrices, with sparsity density $s = 0.1$. For every inequality constraint in the problem,  there are $p = 2$ such matrices. As stated before, $m=100$ inequalities are involved. The dimension of the uncertain parameter, i.e. $L$ ($\\zeta \\in \\Bbb R^L$) ranges in $[1,L_{max}]$."
   ]
  },
  {
   "cell_type": "code",
   "execution_count": 9,
   "metadata": {},
   "outputs": [],
   "source": [
    "def main(n_l,m_l,L_l,p,s):\n",
    "    Ex = []\n",
    "    App1 = []\n",
    "    App2 = []\n",
    "    for j in range(len(n_l)):\n",
    "        print('\\n Iteration: {}'.format(j))\n",
    "\n",
    "        Bt = [[Matrix.sparse(Sparse_make(n_l[j],L_l[j],s,i)),\n",
    "               Matrix.sparse(Sparse_make(n_l[j],L_l[j],s,i+m_l[j]))] for i in range(m_l[j])]\n",
    "        \n",
    "        # Approximation 1\n",
    "        try:\n",
    "            print('   Solve approximation 1')\n",
    "            App1.append(approx_1(Bt,n_l[j],m_l[j],L_l[j],p))\n",
    "        except SolutionError as e:\n",
    "            print('   ' + e.toString())\n",
    "        \n",
    "        # Approximation 2\n",
    "        try:\n",
    "            print('   Solve approximation 2')\n",
    "            App2.append(approx_2(Bt,n_l[j],m_l[j],L_l[j],p))\n",
    "        except SolutionError as e:\n",
    "            print('   ' + e.toString())\n",
    "        \n",
    "        # We only solve the exact problem for reasonably small j\n",
    "        if j<tExact:\n",
    "            try:\n",
    "                print('   Solve exact version')\n",
    "                Ex.append(Exact_sol(Bt,n_l[j],m_l[j],L_l[j],p))\n",
    "            except SolutionError as e:\n",
    "                print('   ' + e.toString())\n",
    "                \n",
    "    return(np.asarray(Ex),np.asarray(App1),np.asarray(App2))"
   ]
  },
  {
   "cell_type": "code",
   "execution_count": 10,
   "metadata": {},
   "outputs": [
    {
     "name": "stdout",
     "output_type": "stream",
     "text": [
      "\n",
      " Iteration: 0\n",
      "   Solve approximation 1\n",
      "   Solve approximation 2\n",
      "   Solve exact version\n",
      "\n",
      " Iteration: 1\n",
      "   Solve approximation 1\n",
      "   Solve approximation 2\n",
      "   Solve exact version\n",
      "\n",
      " Iteration: 2\n",
      "   Solve approximation 1\n",
      "   Solve approximation 2\n",
      "   Solve exact version\n",
      "\n",
      " Iteration: 3\n",
      "   Solve approximation 1\n",
      "   Solve approximation 2\n",
      "   Solve exact version\n",
      "\n",
      " Iteration: 4\n",
      "   Solve approximation 1\n",
      "   Solve approximation 2\n",
      "   Solve exact version\n",
      "\n",
      " Iteration: 5\n",
      "   Solve approximation 1\n",
      "   Solve approximation 2\n",
      "   Solve exact version\n",
      "\n",
      " Iteration: 6\n",
      "   Solve approximation 1\n",
      "   Solve approximation 2\n",
      "   Solve exact version\n",
      "\n",
      " Iteration: 7\n",
      "   Solve approximation 1\n",
      "   Solve approximation 2\n",
      "\n",
      " Iteration: 8\n",
      "   Solve approximation 1\n",
      "   Solve approximation 2\n",
      "\n",
      " Iteration: 9\n",
      "   Solve approximation 1\n",
      "   Solve approximation 2\n",
      "\n",
      " Iteration: 10\n",
      "   Solve approximation 1\n",
      "   Solve approximation 2\n",
      "\n",
      " Iteration: 11\n",
      "   Solve approximation 1\n",
      "   Solve approximation 2\n",
      "\n",
      " Iteration: 12\n",
      "   Solve approximation 1\n",
      "   Solve approximation 2\n",
      "\n",
      " Iteration: 13\n",
      "   Solve approximation 1\n",
      "   Solve approximation 2\n",
      "\n",
      " Iteration: 14\n",
      "   Solve approximation 1\n",
      "   Solve approximation 2\n",
      "\n",
      " Iteration: 15\n",
      "   Solve approximation 1\n",
      "   Solve approximation 2\n",
      "\n",
      " Iteration: 16\n",
      "   Solve approximation 1\n",
      "   Solve approximation 2\n",
      "\n",
      " Iteration: 17\n",
      "   Solve approximation 1\n",
      "   Solve approximation 2\n",
      "\n",
      " Iteration: 18\n",
      "   Solve approximation 1\n",
      "   Solve approximation 2\n",
      "\n",
      " Iteration: 19\n",
      "   Solve approximation 1\n",
      "   Solution status is Unknown but at least Optimal is expected\n",
      "   Solve approximation 2\n",
      "   Solution status is Unknown but at least Optimal is expected\n"
     ]
    }
   ],
   "source": [
    "#Sparsity density set to 0.1 and number of terms in the log-sum-exp is 2, like in the paper.\n",
    "s = 0.1\n",
    "p = 2\n",
    "Ex,App1,App2 = main(n_list,m_list,L_list,p,s)"
   ]
  },
  {
   "cell_type": "code",
   "execution_count": 11,
   "metadata": {},
   "outputs": [
    {
     "data": {
      "image/png": "[encoded data removed]",
      "text/plain": [
       "<matplotlib.figure.Figure at 0x7f5a94849400>"
      ]
     },
     "metadata": {},
     "output_type": "display_data"
    },
    {
     "data": {
      "image/png": "[encoded data removed]",
      "text/plain": [
       "<matplotlib.figure.Figure at 0x7f5a93edbd30>"
      ]
     },
     "metadata": {},
     "output_type": "display_data"
    },
    {
     "data": {
      "image/png": "[encoded data removed]",
      "text/plain": [
       "<matplotlib.figure.Figure at 0x7f5a8c3a6da0>"
      ]
     },
     "metadata": {},
     "output_type": "display_data"
    }
   ],
   "source": [
    "#Plot for the computation time of the exact case.\n",
    "L_exact_comp = np.arange(1,len(Ex)+1,1)\n",
    "L_comp = np.arange(1,L_max,1)\n",
    "plt.plot(L_comp,App1[0:(L_max-1),1],label='Approx 1')\n",
    "plt.plot(L_comp,App2[0:(L_max-1),1],label='Approx 2')\n",
    "plt.plot(L_exact_comp,Ex[:,1],label='Exact case')\n",
    "plt.legend()\n",
    "plt.xlabel('L')\n",
    "plt.xticks(L_comp)\n",
    "plt.ylabel('Optimizer Time (s)')\n",
    "plt.title('Computation time for Exact Solution vs L')\n",
    "plt.show()\n",
    "plt.close()\n",
    "\n",
    "#Plot for the computation times of the approximations.\n",
    "\n",
    "plt.plot(L_comp,App1[0:(L_max-1),1],label='Approx 1')\n",
    "plt.plot(L_comp,App2[0:(L_max-1),1],label='Approx 2')\n",
    "plt.legend()\n",
    "plt.xlabel('L')\n",
    "plt.xticks(L_comp)\n",
    "plt.ylabel('Optimizer Time (s)')\n",
    "plt.title('Computation time for approximations vs L')\n",
    "plt.show()\n",
    "plt.close()\n",
    "\n",
    "#Error in the approximation vs L\n",
    "L_err = np.arange(1,tExact+1,1)\n",
    "error1 = 100*((np.exp(App1[0:tExact,0])/np.exp(Ex[0:tExact,0]))-1)\n",
    "error2 = 100*((np.exp(App2[0:tExact,0])/np.exp(Ex[0:tExact,0]))-1)\n",
    "plt.plot(L_err,error1,label='Approx 1')\n",
    "plt.plot(L_err,error2,label='Approx 2')\n",
    "plt.legend()\n",
    "plt.xlabel('L')\n",
    "plt.xticks(L_err)\n",
    "plt.ylabel('Approximation error (%)')\n",
    "plt.title('Approximation error vs L')\n",
    "plt.show()\n",
    "plt.close()"
   ]
  },
  {
   "cell_type": "markdown",
   "metadata": {},
   "source": [
    "# More results\n",
    "\n",
    "Results from an extended run of the above experiment are shown below. They were performed on a desktop with 15.6 GB of RAM and an Intel$^{\\circledR}$ Core$^{\\text{TM}}$ i7-6770HQ CPU @ 2.6 GHz $\\times$ 8.\n",
    "\n",
    "![](fullrun1.png)\n",
    "![](fullrun2.png)\n",
    "![](fullrun3.png)"
   ]
  },
  {
   "cell_type": "markdown",
   "metadata": {},
   "source": [
    "<a rel=\"license\" href=\"http://creativecommons.org/licenses/by/4.0/\"><img alt=\"Creative Commons License\" style=\"border-width:0\" src=\"https://i.creativecommons.org/l/by/4.0/80x15.png\" /></a><br />This work is licensed under a <a rel=\"license\" href=\"http://creativecommons.org/licenses/by/4.0/\">Creative Commons Attribution 4.0 International License</a>. The **MOSEK** logo and name are trademarks of <a href=\"http://mosek.com\">Mosek ApS</a>. The code is provided as-is. Compatibility with future release of **MOSEK** or the `Fusion API` are not guaranteed. For more information contact our [support](mailto:support@mosek.com). "
   ]
  }
 ],
 "metadata": {
  "kernelspec": {
   "display_name": "Python 3 (ipykernel)",
   "language": "python",
   "name": "python3"
  },
  "language_info": {
   "codemirror_mode": {
    "name": "ipython",
    "version": 3
   },
   "file_extension": ".py",
   "mimetype": "text/x-python",
   "name": "python",
   "nbconvert_exporter": "python",
   "pygments_lexer": "ipython3",
   "version": "3.9.7"
  }
 },
 "nbformat": 4,
 "nbformat_minor": 2
}
