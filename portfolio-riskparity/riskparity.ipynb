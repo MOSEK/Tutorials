{
 "cells": [
  {
   "cell_type": "markdown",
   "metadata": {},
   "source": [
    "![MOSEK ApS](https://www.mosek.com/static/images/branding/webgraphmoseklogocolor.png )\n",
    "\n",
    "\n",
    "## Risk Parity Portfolio Selection using MOSEK Optimizer API\n",
    "\n",
    "\n",
    "Portfolio selection (or portfolio management) is the art and science of making decisions about investment mix and policy, matching investments to objectives, asset allocation for individuals and institutions, and balancing risk against performance.\n",
    "\n",
    "This tutorial demonstrates the use of exponential cones in modeling logarithmic terms using Python Fusion. It is largerly based on Bai, X., Scheinberg, K., Tutuncu, R. (2013), Least-squares approach to risk parity in portfolio selection. We assume basic familiarity with the Markowitz risk-return model."
   ]
  },
  {
   "cell_type": "markdown",
   "metadata": {},
   "source": [
    "# Risk Parity\n",
    "\n",
    "Consider the problem of investing in $n$ different assets. Let $x_i$ be the percentage of money invested in assets $i$, and $\\mu_i$ its expected return. Let assume we know the covariance matrix $\\Sigma$ that link the assets together. We can then define two global measures of the portfolio performance, expected return:\n",
    "\n",
    "$$\n",
    "\\mu =\\sum_{i=1}^n \\mu_i x_i, \n",
    "$$\n",
    "\n",
    "and risk:\n",
    "\n",
    "$$\n",
    "\\sigma^2 = \\sum_{i=1}^n \\sum_{j=1}^n \\Sigma_{i,j}x_i x_j = x^T \\Sigma x.\n",
    "$$\n",
    "\n",
    "For different choices of $x_i$ the investor will get different combinations of $\\mu$ and $\\sigma^2$. The set of all possible ($\\sigma^2$, $\\mu$) combinations is called the $\\textit{attainable set}$. The theory assumes that investors prefer to minimize risk: given the choice of two portfolios with equal returns, investors will choose the one with the least risk.\n",
    "\n",
    "In a fully-invested portfolio, every asset $i$ has a contribution in terms of risk. Let $RC_i(x)$ be this contribution, we have that the total risk of the invested portfolio is:\n",
    "\n",
    "$$\n",
    "\\mathcal{R}(x) = \\sum_{i=1}^n RC_i(x)\n",
    "$$\n",
    "\n",
    "where\n",
    "\n",
    "$$\n",
    "RC_i(x) = x_i \\frac{\\partial \\mathcal{R}(x)}{\\partial x_i}\n",
    "$$\n",
    "\n",
    "Let $b=(b_1,..,b_n)$ be a vector of $\\textbf{budgets}$ such as $b_i > 0$ and $\\sum_{i=1}^n b_i = 1$. We define a **risk parity** (or risk budgeting) portfolio as the solution of the following set of equations:\n",
    "\n",
    "$$\n",
    "\\begin{aligned}\n",
    "&\\begin{cases}\n",
    "RC_1(x) = b_1 \\mathcal{R}(x)\\\\\n",
    "..\\\\\n",
    "RC_i(x) = b_i \\mathcal{R}(x)\\\\\n",
    "..\\\\\n",
    "RC_n(x) = b_n \\mathcal{R}(x)\n",
    "\\end{cases}\n",
    "\\end{aligned}\n",
    "$$\n",
    "\n",
    "From the above equations, we can write the risk parity constraint as:\n",
    "\n",
    "$$\n",
    "\\frac{x_i}{b_i} \\frac{\\partial \\mathcal{R}(x)}{\\partial x_i} = \\frac{x_j}{b_j} \\frac{\\partial \\mathcal{R}(x)}{\\partial x_j} \\hspace{1em} \\forall i,j\n",
    "$$\n",
    "\n",
    "The Risk Parity portfolio requires that each asset has the same total contribution to risk, that is:\n",
    "\n",
    "$$\n",
    "\\begin{aligned}\n",
    "&\\frac{x_i}{b_i} \\frac{\\partial \\mathcal{R}(x)}{\\partial x_i} = \\frac{x_j}{b_j} \\frac{\\partial \\mathcal{R}(x)}{\\partial x_j} && \\forall i,j\\\\\n",
    "&x_i \\geq 0,  &&b_i > 0 \\\\\n",
    "&\\sum_{i=1}^n x_i = 1,  &&\\sum_{i=1}^n b_i = 1\n",
    "\\end{aligned}\n",
    "$$\n",
    "\n",
    "If we set\n",
    "\n",
    "$$\n",
    "\\mathcal{R}(x) = \\sqrt{x^T\\Sigma x}\n",
    "$$\n",
    "\n",
    "solving the following problem that incorporates a logarithmic barrier in the objective function is equivalent to find a Risk Parity solution:\n",
    "\n",
    "$$\n",
    "\\begin{equation}\n",
    "\\label{eq:11}\n",
    "\\begin{array}{l}\n",
    "    \\min_x \\frac{1}{2} x^T \\Sigma x - c \\sum_{i=1}^{n} b_i ln(x_i)\\\\\n",
    "    \\text{s.t.}\\\\\n",
    "    x > 0 \n",
    "        \\end{array}\n",
    "\\end{equation}\n",
    "$$\n",
    "\n",
    "where $b_i > 0$, $\\sum_i b_i = 1$ and $c$ is a positive constant.\n",
    "\n",
    "### Proof\n",
    "\n",
    "Since $\\Sigma$ is positive semidefinite and the logarithm function is strictly concave, the objective function is $\\textbf{strictly convex}$. From the first order condition, the unique solution is in corrispondence of the point where the gradient of the objective function is zero:\n",
    "\n",
    "$$\n",
    "\\Sigma x - c b_i x^{-1} = 0\n",
    "$$\n",
    "\n",
    "Hence, at optimality we have\n",
    "\n",
    "$$\n",
    "(\\Sigma x)_i = \\frac{c b_i}{x_i} \\Rightarrow \\frac{x_i(\\Sigma x)_i}{b_i} = \\frac{x_j(\\Sigma x)_j}{b_j}, \\quad \\forall i,j,\n",
    "$$\n",
    "\n",
    "since \n",
    "\n",
    "$$\n",
    "\\frac{\\partial \\mathcal{R}(x)}{\\partial x_i} = (\\Sigma x)_i.\n",
    "$$\n"
   ]
  },
  {
   "cell_type": "markdown",
   "metadata": {},
   "source": [
    "# MOSEK Implementation"
   ]
  },
  {
   "cell_type": "markdown",
   "metadata": {},
   "source": [
    "We begin by translating the problem in conic form. Assume that we have a factorization $\\Sigma=F^TF$, then $x^T\\Sigma x=\\|Fx\\|_2^2$ and we can write an equivalent model as:\n",
    "\n",
    "\\begin{equation}\n",
    "\\begin{array}{ll}\n",
    "    \\min_x & r - c b^Tt \\\\\n",
    "    \\text{s.t.}& (1,r,Fx)\\in \\mathcal{Q}_r\\\\\n",
    "     & t_i\\leq \\mathrm{ln} x_i,\\ i=1,\\ldots,n \\\\\n",
    "     & x \\geq 0 \n",
    "\\end{array}\n",
    "\\end{equation}\n",
    "\n",
    "Indeed, the first constraint involving the rotated quadratic cone $\\mathcal{Q}_r$ means\n",
    "\n",
    "$$ 2\\cdot 1\\cdot r\\geq \\|Fx\\|^2 = x^T \\Sigma x $$\n",
    "\n",
    "and moreover each inequality $t_i\\leq \\mathrm{ln} x_i$ can be expressed with an exponential cone as\n",
    "\n",
    "$$ (x_i, 1, t_i)\\in K_{\\mathrm{exp}}. $$\n",
    "\n",
    "We proceed with implementation of this model in Fusion:"
   ]
  },
  {
   "cell_type": "code",
   "execution_count": 1,
   "metadata": {},
   "outputs": [],
   "source": [
    "from mosek.fusion import *\n",
    "\n",
    "def parityModel(n, F, c, b):\n",
    "    M = Model('parity')\n",
    "    \n",
    "    # Define all variables appearing in the model\n",
    "    x = M.variable('x', n)\n",
    "    t = M.variable(n)\n",
    "    r = M.variable()\n",
    "    \n",
    "    # Objective r-cb^Tt\n",
    "    M.objective(ObjectiveSense.Minimize, Expr.sub(r, Expr.mul(c, Expr.dot(b,t))))\n",
    "    \n",
    "    # Bound on risk - construct the vector (1,r,Fx)\n",
    "    M.constraint(Expr.vstack(1, r, Expr.mul(F,x)), Domain.inRotatedQCone())\n",
    "    \n",
    "    #Logarithmic bounds - all together in matrix form\n",
    "    M.constraint(Expr.hstack(x, Expr.constTerm(n,1.0), t), Domain.inPExpCone())\n",
    "    \n",
    "    # That's all\n",
    "    return M"
   ]
  },
  {
   "cell_type": "markdown",
   "metadata": {},
   "source": [
    "Now, we create some sample data."
   ]
  },
  {
   "cell_type": "code",
   "execution_count": 2,
   "metadata": {},
   "outputs": [
    {
     "name": "stdout",
     "output_type": "stream",
     "text": [
      "Problem\n",
      "  Name                   : parity          \n",
      "  Objective sense        : min             \n",
      "  Type                   : CONIC (conic optimization problem)\n",
      "  Constraints            : 70              \n",
      "  Cones                  : 21              \n",
      "  Scalar variables       : 111             \n",
      "  Matrix variables       : 0               \n",
      "  Integer variables      : 0               \n",
      "\n",
      "Optimizer started.\n",
      "Presolve started.\n",
      "Linear dependency checker started.\n",
      "Linear dependency checker terminated.\n",
      "Eliminator started.\n",
      "Freed constraints in eliminator : 21\n",
      "Eliminator terminated.\n",
      "Eliminator started.\n",
      "Freed constraints in eliminator : 0\n",
      "Eliminator terminated.\n",
      "Eliminator - tries                  : 2                 time                   : 0.00            \n",
      "Lin. dep.  - tries                  : 1                 time                   : 0.00            \n",
      "Lin. dep.  - number                 : 0               \n",
      "Presolve terminated. Time: 0.01    \n",
      "Problem\n",
      "  Name                   : parity          \n",
      "  Objective sense        : min             \n",
      "  Type                   : CONIC (conic optimization problem)\n",
      "  Constraints            : 70              \n",
      "  Cones                  : 21              \n",
      "  Scalar variables       : 111             \n",
      "  Matrix variables       : 0               \n",
      "  Integer variables      : 0               \n",
      "\n",
      "Optimizer  - threads                : 20              \n",
      "Optimizer  - solved problem         : the primal      \n",
      "Optimizer  - Constraints            : 8\n",
      "Optimizer  - Cones                  : 21\n",
      "Optimizer  - Scalar variables       : 70                conic                  : 70              \n",
      "Optimizer  - Semi-definite variables: 0                 scalarized             : 0               \n",
      "Factor     - setup time             : 0.00              dense det. time        : 0.00            \n",
      "Factor     - ML order time          : 0.00              GP order time          : 0.00            \n",
      "Factor     - nonzeros before factor : 36                after factor           : 36              \n",
      "Factor     - dense dim.             : 0                 flops                  : 3.11e+03        \n",
      "ITE PFEAS    DFEAS    GFEAS    PRSTATUS   POBJ              DOBJ              MU       TIME  \n",
      "0   1.5e+01  1.3e+00  2.5e+00  0.00e+00   1.534945180e+00   0.000000000e+00   1.0e+00  0.02  \n",
      "1   9.5e-01  8.0e-02  1.6e-01  6.74e-02   3.799364477e+00   4.071561966e+00   6.2e-02  0.03  \n",
      "2   1.6e-01  1.3e-02  2.6e-02  8.65e-01   3.913169811e+00   3.949278388e+00   1.0e-02  0.03  \n",
      "3   6.1e-02  5.1e-03  1.0e-02  1.08e+00   3.709041715e+00   3.717025112e+00   4.0e-03  0.03  \n",
      "4   1.1e-02  9.2e-04  1.8e-03  1.03e+00   3.639500611e+00   3.639166289e+00   7.1e-04  0.03  \n",
      "5   1.0e-03  8.5e-05  1.7e-04  1.00e+00   3.638115939e+00   3.638070284e+00   6.6e-05  0.03  \n",
      "6   7.0e-05  5.9e-06  1.2e-05  1.00e+00   3.638231209e+00   3.638228036e+00   4.5e-06  0.03  \n",
      "7   7.4e-06  6.2e-07  1.2e-06  1.00e+00   3.638236463e+00   3.638236125e+00   4.8e-07  0.03  \n",
      "8   9.8e-07  8.2e-08  1.6e-07  1.00e+00   3.638236859e+00   3.638236815e+00   6.3e-08  0.03  \n",
      "9   1.3e-07  1.1e-08  2.2e-08  1.00e+00   3.638236836e+00   3.638236830e+00   8.5e-09  0.03  \n",
      "10  2.8e-08  9.4e-09  8.9e-10  1.00e+00   3.638236825e+00   3.638236824e+00   3.5e-10  0.04  \n",
      "11  4.6e-09  1.6e-09  1.5e-10  1.00e+00   3.638236816e+00   3.638236816e+00   5.9e-11  0.04  \n",
      "Optimizer terminated. Time: 0.04    \n",
      "\n",
      "\n",
      "Interior-point solution summary\n",
      "  Problem status  : PRIMAL_AND_DUAL_FEASIBLE\n",
      "  Solution status : OPTIMAL\n",
      "  Primal.  obj: 3.6382368157e+00    nrm: 6e+00    Viol.  con: 2e-09    var: 0e+00    cones: 8e-10  \n",
      "  Dual.    obj: 3.6382368138e+00    nrm: 2e+00    Viol.  con: 0e+00    var: 3e-09    cones: 0e+00  \n"
     ]
    }
   ],
   "source": [
    "import numpy as np\n",
    "\n",
    "n = 20\n",
    "k = 8\n",
    "\n",
    "F = np.random.sample([k,n])\n",
    "Sigma = np.dot(F.transpose(), F)   # Not used\n",
    "\n",
    "b = np.random.sample(n)\n",
    "b = b/np.sum(b)\n",
    "\n",
    "c = 1.0\n",
    "\n",
    "PM = parityModel(n, F, c, b)\n",
    "import sys\n",
    "PM.setLogHandler(sys.stdout)\n",
    "PM.solve()"
   ]
  },
  {
   "cell_type": "markdown",
   "metadata": {},
   "source": [
    "We can access, normalize and plot the optimal solution"
   ]
  },
  {
   "cell_type": "code",
   "execution_count": 3,
   "metadata": {},
   "outputs": [
    {
     "data": {
      "image/png": "[encoded data removed]",
      "text/plain": [
       "<matplotlib.figure.Figure at 0x7f11dc88b4a8>"
      ]
     },
     "metadata": {},
     "output_type": "display_data"
    }
   ],
   "source": [
    "xx = PM.getVariable('x').level()\n",
    "xx = xx/sum(xx)\n",
    "\n",
    "%matplotlib inline\n",
    "import matplotlib.pyplot as plt\n",
    "\n",
    "plt.bar(np.arange(n), xx)\n",
    "plt.show()"
   ]
  },
  {
   "cell_type": "markdown",
   "metadata": {},
   "source": [
    "We can also verify that the total contribution of each assed towards total risk is proportional to the budgeting vector $b$, as required:"
   ]
  },
  {
   "cell_type": "code",
   "execution_count": 4,
   "metadata": {},
   "outputs": [
    {
     "data": {
      "image/png": "[encoded data removed]",
      "text/plain": [
       "<matplotlib.figure.Figure at 0x7f11dc88b128>"
      ]
     },
     "metadata": {},
     "output_type": "display_data"
    }
   ],
   "source": [
    "RC = xx * (np.dot(Sigma,xx))\n",
    "plt.bar(np.arange(n), RC/b)\n",
    "plt.show()"
   ]
  },
  {
   "cell_type": "markdown",
   "metadata": {},
   "source": [
    "<a rel=\"license\" href=\"http://creativecommons.org/licenses/by/4.0/\"><img alt=\"Creative Commons License\" style=\"border-width:0\" src=\"https://i.creativecommons.org/l/by/4.0/80x15.png\" /></a><br />This work is licensed under a <a rel=\"license\" href=\"http://creativecommons.org/licenses/by/4.0/\">Creative Commons Attribution 4.0 International License</a>. The **MOSEK** logo and name are trademarks of <a href=\"http://mosek.com\">Mosek ApS</a>. The code is provided as-is. Compatibility with future release of **MOSEK** or the `Fusion API` are not guaranteed. For more information contact our [support](mailto:support@mosek.com). "
   ]
  }
 ],
 "metadata": {
  "kernelspec": {
   "display_name": "Python 3",
   "language": "python",
   "name": "python3"
  },
  "language_info": {
   "codemirror_mode": {
    "name": "ipython",
    "version": 3
   },
   "file_extension": ".py",
   "mimetype": "text/x-python",
   "name": "python",
   "nbconvert_exporter": "python",
   "pygments_lexer": "ipython3",
   "version": "3.6.4"
  }
 },
 "nbformat": 4,
 "nbformat_minor": 1
}
