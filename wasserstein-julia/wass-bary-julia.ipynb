{
 "cells": [
  {
   "cell_type": "markdown",
   "metadata": {},
   "source": [
    "![MOSEK ApS](https://www.mosek.com/static/images/branding/webgraphmoseklogocolor.png )\n",
    "\n",
    "# Implementing Wasserstein Barycenter problem using JuMP in Julia."
   ]
  },
  {
   "cell_type": "markdown",
   "metadata": {},
   "source": [
    "The goal of this notebook is to implement a model to calculate the Wasserstein barycenter in Julia with JuMP and then solve it using MosekTools. For additional info about the data used, theoretical explanation of the calculation of barycenters, references and for more insight in construction of the model, please consult the corresponding [Python notebook](https://nbviewer.jupyter.org/github/MOSEK/Tutorials/blob/master/wasserstein/wasserstein-bary.ipynb). Data files can be found in http://yann.lecun.com/exdb/mnist/."
   ]
  },
  {
   "cell_type": "code",
   "execution_count": 1,
   "metadata": {},
   "outputs": [],
   "source": [
    "using LinearAlgebra\n",
    "using Plots\n",
    "pyplot()\n",
    "\n",
    "using JuMP\n",
    "\n",
    "using MosekTools"
   ]
  },
  {
   "cell_type": "code",
   "execution_count": 2,
   "metadata": {},
   "outputs": [
    {
     "data": {
      "image/png": "[encoded data removed]",
      "text/plain": [
       "PyPlot.Figure(PyObject <matplotlib.figure.Figure object at 0x7f323cef0198>)"
      ]
     },
     "metadata": {},
     "output_type": "display_data"
    }
   ],
   "source": [
    "#Define the number of images for the barycenter calculation.\n",
    "n = 20\n",
    "\n",
    "#Read the images from the file.\n",
    "function read_idx(filename)\n",
    "    f = open(filename,\"r\")\n",
    "    data_layout = zeros(UInt8,4)\n",
    "    readbytes!(f,data_layout,4)\n",
    "    data_zero = reinterpret(UInt16,data_layout[1:2])\n",
    "    data_type,data_dimensions = reinterpret(UInt8,data_layout[3:4])\n",
    "    data_shape = Int32[]\n",
    "    for i = 1:data_layout[4]\n",
    "        s = zeros(UInt8,4)\n",
    "        readbytes!(f,s,4)\n",
    "        s = map(hton,reinterpret(Int32,s))\n",
    "        push!(data_shape,s[1])\n",
    "    end\n",
    "    idx_data = zeros(UInt8,cumprod(data_shape)[length(data_shape)])\n",
    "    read!(f,idx_data)\n",
    "    idx_data = reshape(idx_data,Tuple(reverse(data_shape)))\n",
    "    return(idx_data)\n",
    "end\n",
    "\n",
    "data = read_idx(\"train-images-idx3-ubyte\")\n",
    "labels = read_idx(\"train-labels-idx1-ubyte\")\n",
    "\n",
    "#Select the images.\n",
    "mask = labels .== 1\n",
    "train_ones = data[:,:,mask]\n",
    "train = train_ones[:,:,1:n]\n",
    "\n",
    "x = [i for i=1:28]\n",
    "y = reverse(x)\n",
    "f,ax = PyPlot.plt.subplots(2,5,sharey=true,sharex=true,figsize=(10,5))\n",
    "PyPlot.plt.xticks([5,10,15,20,25])\n",
    "\n",
    "for i = 1:10\n",
    "    rand_pick = rand(1:size(train_ones)[3])\n",
    "    ax[i].pcolormesh(x,y,transpose(train_ones[:,:,rand_pick]))\n",
    "end"
   ]
  },
  {
   "cell_type": "markdown",
   "metadata": {},
   "source": [
    "# Barycenters using JuMP"
   ]
  },
  {
   "cell_type": "code",
   "execution_count": 3,
   "metadata": {},
   "outputs": [
    {
     "data": {
      "text/plain": [
       "wasserstein_barycenter (generic function with 1 method)"
      ]
     },
     "execution_count": 3,
     "metadata": {},
     "output_type": "execute_result"
    }
   ],
   "source": [
    "function single_pmf(data)\n",
    "    #Takes a list of images and extracts the probability mass function.\n",
    "    v = vec(data[:,:,1])\n",
    "    v = v./cumsum(v)[length(v)]\n",
    "    for im_k in 2:size(data)[3]\n",
    "        image = data[:,:,im_k]\n",
    "        arr = vec(image)\n",
    "        v_size = size(arr)[1]\n",
    "        v = hcat(v, arr./cumsum(arr)[length(arr)])\n",
    "    end\n",
    "    return v,size(v)[1]\n",
    "end\n",
    "\n",
    "function ms_distance(m,n)\n",
    "    #Squared Euclidean distance calculation between the pixels.\n",
    "    d = ones(m,m)\n",
    "    coor_I = []\n",
    "    for c_i in 1:n\n",
    "        append!(coor_I,ones(Int,n).*c_i)\n",
    "    end    \n",
    "    coor_J = repeat(1:n,n)\n",
    "    coor = hcat(coor_I,coor_J)\n",
    "    for i in 1:m\n",
    "        for j in 1:m\n",
    "            d[i,j] = norm(coor[i,:]-coor[j,:]).^2\n",
    "        end\n",
    "    end\n",
    "    return d\n",
    "end\n",
    "\n",
    "function wasserstein_barycenter(data)\n",
    "    M= direct_model(Mosek.Optimizer())\n",
    "\n",
    "    if length(size(data))==3\n",
    "        K = size(data)[3]\n",
    "    else\n",
    "        K = 1\n",
    "    end\n",
    "    v,N = single_pmf(data)\n",
    "    d = ms_distance(N,size(data)[2])\n",
    "    \n",
    "    #Define indices\n",
    "    M_i = 1:N\n",
    "    M_j = 1:N\n",
    "    M_k = 1:K\n",
    "\n",
    "    #Adding variables\n",
    "    M_pi = @variable(M, M_pi[i = M_i, j = M_j, k = M_k] >= 0.0)\n",
    "    M_mu = @variable(M, M_mu[i = M_i] >= 0.0)\n",
    "    \n",
    "    #Adding constraints\n",
    "    @constraint(M, c3_expr[k = M_k, j = M_j], sum(M_pi[:,j,k]) == v[j,k])\n",
    "    @constraint(M, c2_expr[k = M_k, i = M_i], sum(M_pi[i,:,k]) == M_mu[i])\n",
    "    \n",
    "    #Objective\n",
    "    W_obj = @objective(M, Min, sum(d[i,j]*M_pi[i,j,k] for i=M_i,j=M_j,k=M_k)/K)\n",
    "                    \n",
    "    return M,M_mu\n",
    "end"
   ]
  },
  {
   "cell_type": "code",
   "execution_count": 4,
   "metadata": {},
   "outputs": [
    {
     "data": {
      "text/plain": [
       "show_barycenter (generic function with 1 method)"
      ]
     },
     "execution_count": 4,
     "metadata": {},
     "output_type": "execute_result"
    }
   ],
   "source": [
    "function run_model(data)\n",
    "    @time begin\n",
    "        M,M_mu = wasserstein_barycenter(data)\n",
    "        optimize!(M)\n",
    "    end\n",
    "    println(\"Solution status = \",termination_status(M))\n",
    "    println(\"Primal objective value = \",objective_value(M))\n",
    "    mu_level = value.(M_mu)\n",
    "    return mu_level\n",
    "end\n",
    "\n",
    "function show_barycenter(bary_center)\n",
    "    bary_center = reshape(bary_center,(28,28))\n",
    "    x = [i for i=1:28]\n",
    "    y = reverse(x)\n",
    "    PyPlot.plt.pcolormesh(x,y,transpose(bary_center))\n",
    "    PyPlot.plt.title(\"Non-regularized Wasserstein Barycenter\")\n",
    "    PyPlot.plt.show()\n",
    "end"
   ]
  },
  {
   "cell_type": "code",
   "execution_count": 5,
   "metadata": {
    "scrolled": false
   },
   "outputs": [
    {
     "name": "stdout",
     "output_type": "stream",
     "text": [
      "Problem\n",
      "  Name                   :                 \n",
      "  Objective sense        : min             \n",
      "  Type                   : LO (linear optimization problem)\n",
      "  Constraints            : 31360           \n",
      "  Cones                  : 0               \n",
      "  Scalar variables       : 12293904        \n",
      "  Matrix variables       : 0               \n",
      "  Integer variables      : 0               \n",
      "\n",
      "Optimizer started.\n",
      "Presolve started.\n",
      "Linear dependency checker started.\n",
      "Linear dependency checker terminated.\n",
      "Eliminator started.\n",
      "Freed constraints in eliminator : 0\n",
      "Eliminator terminated.\n",
      "Eliminator - tries                  : 1                 time                   : 0.00            \n",
      "Lin. dep.  - tries                  : 1                 time                   : 1.00            \n",
      "Lin. dep.  - number                 : 19              \n",
      "Presolve terminated. Time: 24.73   \n",
      "GP based matrix reordering started.\n",
      "GP based matrix reordering terminated.\n",
      "Problem\n",
      "  Name                   :                 \n",
      "  Objective sense        : min             \n",
      "  Type                   : LO (linear optimization problem)\n",
      "  Constraints            : 31360           \n",
      "  Cones                  : 0               \n",
      "  Scalar variables       : 12293904        \n",
      "  Matrix variables       : 0               \n",
      "  Integer variables      : 0               \n",
      "\n",
      "Optimizer  - threads                : 20              \n",
      "Optimizer  - solved problem         : the primal      \n",
      "Optimizer  - Constraints            : 17440\n",
      "Optimizer  - Cones                  : 0\n",
      "Optimizer  - Scalar variables       : 1395520           conic                  : 0               \n",
      "Optimizer  - Semi-definite variables: 0                 scalarized             : 0               \n",
      "Factor     - setup time             : 25.48             dense det. time        : 1.58            \n",
      "Factor     - ML order time          : 0.06              GP order time          : 20.69           \n",
      "Factor     - nonzeros before factor : 1.55e+06          after factor           : 1.44e+07        \n",
      "Factor     - dense dim.             : 0                 flops                  : 1.64e+10        \n",
      "Factor     - GP saved nzs           : 1.75e+06          GP saved flops         : 3.15e+09        \n",
      "ITE PFEAS    DFEAS    GFEAS    PRSTATUS   POBJ              DOBJ              MU       TIME  \n",
      "0   5.5e+03  3.2e+02  8.3e+07  0.00e+00   1.182613040e+07   0.000000000e+00   4.9e+01  53.40 \n",
      "1   6.8e-01  4.0e-02  1.0e+04  -1.00e+00  1.120231124e+07   -1.638527155e+05  6.1e-03  54.77 \n",
      "2   5.8e-02  3.4e-03  8.8e+02  2.61e+01   1.558624793e+04   -2.985004056e+03  5.2e-04  56.57 \n",
      "3   4.5e-02  2.6e-03  6.8e+02  1.08e+01   3.256531610e+03   -6.820367822e+02  4.0e-04  57.82 \n",
      "4   4.2e-02  2.5e-03  6.4e+02  5.25e+00   2.407863337e+03   -4.995626509e+02  3.8e-04  58.96 \n",
      "5   3.8e-02  2.2e-03  5.7e+02  4.40e+00   1.571023934e+03   -3.171235831e+02  3.4e-04  60.16 \n",
      "6   3.3e-02  1.9e-03  5.0e+02  3.48e+00   1.104556063e+03   -2.125212676e+02  3.0e-04  61.35 \n",
      "7   2.9e-02  1.7e-03  4.3e+02  2.91e+00   7.928892890e+02   -1.415543156e+02  2.6e-04  62.37 \n",
      "8   1.2e-02  7.1e-04  1.8e+02  2.47e+00   2.252273636e+02   -1.976506734e+01  1.1e-04  63.67 \n",
      "9   5.2e-03  3.1e-04  7.9e+01  1.44e+00   9.137869757e+01   -2.802281268e+00  4.7e-05  64.92 \n",
      "10  1.2e-03  6.9e-05  1.8e+01  1.16e+00   2.223918686e+01   2.047776185e+00   1.1e-05  67.16 \n",
      "11  7.7e-04  4.5e-05  1.2e+01  1.04e+00   1.552926524e+01   2.419699999e+00   6.9e-06  68.42 \n",
      "12  3.9e-04  2.3e-05  5.9e+00  1.02e+00   9.413697273e+00   2.768959100e+00   3.5e-06  69.85 \n",
      "13  1.3e-04  8.1e-06  2.0e+00  1.01e+00   5.274785616e+00   3.000446303e+00   1.2e-06  71.81 \n",
      "14  5.5e-05  3.3e-06  8.2e-01  1.00e+00   3.991063103e+00   3.070294704e+00   4.9e-07  73.18 \n",
      "15  2.5e-05  1.5e-06  3.8e-01  1.00e+00   3.515580593e+00   3.095346906e+00   2.2e-07  74.61 \n",
      "16  1.2e-05  7.0e-07  1.8e-01  1.00e+00   3.304330090e+00   3.106260422e+00   1.1e-07  76.16 \n",
      "17  7.1e-06  4.3e-07  1.1e-01  1.00e+00   3.229749859e+00   3.109863797e+00   6.4e-08  77.29 \n",
      "18  3.1e-06  2.4e-07  4.8e-02  1.00e+00   3.165710662e+00   3.112133239e+00   2.8e-08  78.38 \n",
      "19  1.2e-06  9.4e-08  1.9e-02  1.00e+00   3.135044854e+00   3.113925074e+00   1.1e-08  79.69 \n",
      "20  2.5e-07  1.9e-08  3.9e-03  1.00e+00   3.119045127e+00   3.114732420e+00   2.3e-09  80.96 \n",
      "21  1.2e-09  9.1e-11  1.8e-05  1.00e+00   3.114878903e+00   3.114858640e+00   1.1e-11  82.84 \n",
      "22  3.7e-12  2.5e-13  4.7e-08  1.00e+00   3.114858824e+00   3.114858771e+00   2.8e-14  83.82 \n",
      "23  1.8e-13  5.7e-14  4.2e-13  1.00e+00   3.114858772e+00   3.114858772e+00   2.9e-18  84.82 \n",
      "Basis identification started.\n",
      "Primal basis identification phase started.\n",
      "Primal basis identification phase terminated. Time: 0.13\n",
      "Dual basis identification phase started.\n",
      "Dual basis identification phase terminated. Time: 0.11\n",
      "Basis identification terminated. Time: 1.09\n",
      "Optimizer terminated. Time: 101.45  \n",
      "\n",
      "246.621270 seconds (373.68 M allocations: 35.441 GiB, 28.30% gc time)\n",
      "Solution status = OPTIMAL\n",
      "Primal objective value = 3.1148587717952356\n",
      "******\n"
     ]
    }
   ],
   "source": [
    "bary_center = run_model(train)\n",
    "println(\"******\")"
   ]
  },
  {
   "cell_type": "code",
   "execution_count": 6,
   "metadata": {},
   "outputs": [
    {
     "data": {
      "image/png": "[encoded data removed]",
      "text/plain": [
       "PyPlot.Figure(PyObject <matplotlib.figure.Figure object at 0x7f323fb1ed68>)"
      ]
     },
     "metadata": {},
     "output_type": "display_data"
    }
   ],
   "source": [
    "show_barycenter(bary_center)"
   ]
  },
  {
   "cell_type": "markdown",
   "metadata": {},
   "source": [
    "<a rel=\"license\" href=\"http://creativecommons.org/licenses/by/4.0/\"><img alt=\"Creative Commons License\" style=\"border-width:0\" src=\"https://i.creativecommons.org/l/by/4.0/80x15.png\" /></a><br />This work is licensed under a <a rel=\"license\" href=\"http://creativecommons.org/licenses/by/4.0/\">Creative Commons Attribution 4.0 International License</a>. The **MOSEK** logo and name are trademarks of <a href=\"http://mosek.com\">Mosek ApS</a>. The code is provided as-is. Compatibility with future release of **MOSEK** or the `Fusion API` are not guaranteed. For more information contact our [support](mailto:support@mosek.com). "
   ]
  },
  {
   "cell_type": "code",
   "execution_count": null,
   "metadata": {},
   "outputs": [],
   "source": []
  }
 ],
 "metadata": {
  "kernelspec": {
   "display_name": "Julia 1.0.3",
   "language": "julia",
   "name": "julia-1.0"
  },
  "language_info": {
   "file_extension": ".jl",
   "mimetype": "application/julia",
   "name": "julia",
   "version": "1.0.3"
  }
 },
 "nbformat": 4,
 "nbformat_minor": 2
}
