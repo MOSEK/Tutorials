{
 "cells": [
  {
   "cell_type": "markdown",
   "metadata": {},
   "source": [
    "![MOSEK ApS](https://www.mosek.com/static/images/branding/webgraphmoseklogocolor.png )"
   ]
  },
  {
   "cell_type": "markdown",
   "metadata": {},
   "source": [
    "# Optimization problem over nonnegative trigonometric polynomials. #\n",
    "\n",
    "We consider the trigonometric polynomial\n",
    " \n",
    "$$H(\\omega) = x_0 + 2 \\sum_{k=1}^n [ \\Re(x_k) \\cos(\\omega k) + \\Im(x_k) \\sin(\\omega k) ],$$\n",
    "\n",
    "where $H(\\omega)$ is a real valued function paramtrized by the complex vector $x\\in {\\bf C}^{n+1}$, and where $\\Im(x_0)=0$.\n",
    "\n",
    "The example shows how to construct a *non-negative* polynomial $H(\\omega)\\geq 0, \\: \\forall \\omega$ that satisfies,\n",
    "  \n",
    "$$1 - \\delta \\leq  H(\\omega) \\leq 1 + \\delta, \\quad  \\forall \\omega \\in [0, \\omega_p]$$\n",
    "\n",
    "while minimizing $\\sup_{\\omega\\in [\\omega_s,\\pi]} H(\\omega)$ over the variables $x$.\n",
    "\n",
    "In the signal processing literature such a trigonometric polynomial is known as (the squared amplitude response of) a Chebyshev lowpass filter. \n",
    "\n",
    "A squared amplitude response $H(\\omega)$ is always symmetric around $0$, so $\\Im(x_k)=0$, and we consider only\n",
    "\n",
    "$$H(\\omega) = x_0 + 2 \\sum_{k=1}^n x_k \\cos(\\omega k) $$\n",
    "\n",
    "over the real vector $x\\in {\\bf R}^{n+1}$. However, the concepts in the example are readily applied to the case with $x\\in {\\bf C}^{n+1}$.\n",
    "\n",
    "References:\n",
    "  1. \"Squared Functional Systems and Optimization Problems\",  Y. Nesterov, 2004.\n",
    "  \n",
    "  2. \"Convex Optimization of Non-negative Polynomials: Structured Algorithms and Applications\", Ph.D thesis, Y. Hachez, 2003.\n"
   ]
  },
  {
   "cell_type": "code",
   "execution_count": 1,
   "metadata": {},
   "outputs": [],
   "source": [
    "import mosek\n",
    "from   mosek.fusion import *\n",
    "from   math import cos, pi\n",
    "import numpy as np\n",
    "import sys"
   ]
  },
  {
   "cell_type": "markdown",
   "metadata": {},
   "source": [
    "### Nonnegativity everywhere ###\n",
    "\n",
    "Nesterov proved in [1] that $H(\\omega) \\geq 0, \\: \\forall \\omega$ if and only if \n",
    "$$x_i = \\langle T_i^{n+1}, X \\rangle, \\quad X \\in {\\mathcal H}^{n+1}_+,$$\n",
    "where ${\\mathcal H}_+$ is the cone of Hermitian semidefinite matrices and $T_i$ is a Toeplitz matrix\n",
    "$$[T_i]_{kl} = \\left \\{ \\begin{array}{ll}1, & k-l=i\\\\0 & \\text{otherwise}.\\end{array} \\right .$$\n",
    "For example, for $n=2$ we have\n",
    "$$\n",
    "   T_0 = \\left[\\begin{array}{ccc}\n",
    "   1 & 0 & 0\\\\0 & 1 & 0\\\\0 & 0 & 1\n",
    "   \\end{array}\n",
    "   \\right], \\quad\n",
    "   T_1 = \\left[\\begin{array}{ccc}\n",
    "   0 & 0 & 0\\\\1 & 0 & 0\\\\0 & 1 & 0\n",
    "   \\end{array}\n",
    "   \\right],\n",
    "   \\quad\n",
    "   T_2 = \\left[\\begin{array}{ccc}\n",
    "   0 & 0 & 0\\\\0 & 0 & 0\\\\1 & 0 & 0\n",
    "   \\end{array}\n",
    "   \\right].\n",
    "$$\n",
    "In our case we have $\\Im(x_i)=0$, i.e., $X\\in {\\mathcal S}^{n+1}_+$ is a real symmetric semidefinite matrix.\n",
    "\n",
    "We define the *cone on nonnegative trigonometric polynomials* as\n",
    "$$\n",
    "   K^n_{0,\\pi} = \\{ x\\in \\mathbf{R} \\times \\mathbf{C}^n \\mid x_i = \\langle X, T_i\\rangle, \\: i=0,\\dots,n, \\: X\\in\\mathcal{H}_+^{n+1} \\}.\n",
    "$$"
   ]
  },
  {
   "cell_type": "code",
   "execution_count": 2,
   "metadata": {},
   "outputs": [],
   "source": [
    "def T_dot_X(n, i, X, a=1.0):\n",
    "    if i>=n or i<=-n: return Expr.constTerm(0.0)\n",
    "    else: return Expr.dot(Matrix.diag(n, a, -i), X)"
   ]
  },
  {
   "cell_type": "code",
   "execution_count": 3,
   "metadata": {},
   "outputs": [],
   "source": [
    "def trigpoly_0_pi(M, x):\n",
    "    '''x[i] == <T(n+1,i),X>'''\n",
    "    n = int(x.getSize()-1)\n",
    "    X = M.variable(\"X\", Domain.inPSDCone(n+1))\n",
    "    \n",
    "    for i in range(n+1):\n",
    "        M.constraint(Expr.sub(T_dot_X(n+1,i,X), x.index(i)), Domain.equalsTo(0.0))"
   ]
  },
  {
   "cell_type": "markdown",
   "metadata": {},
   "source": [
    "Note that we have dropped the imaginary part of $X$."
   ]
  },
  {
   "cell_type": "markdown",
   "metadata": {},
   "source": [
    "### Nonnegativity on $[0,a]$ ###\n",
    "\n",
    "Similarly, $H(\\omega)$ is nonnegative on $[0,a]$ if and only if\n",
    "\n",
    "$$x_i =\n",
    "\\langle X_1, T_i^{n+1} \\rangle + \n",
    "\\langle X_2, T_{i+1}^n \\rangle +\n",
    "\\langle X_2, T_{i-1}^n \\rangle -\n",
    "2 \\cos(a)\\langle X_2, T_{i}^n \\rangle, \\quad \n",
    "X_1 \\in {\\mathcal H}^{n+1}_+, \\:\n",
    "X_2 \\in {\\mathcal H}^n_+,\n",
    "$$\n",
    "or equivalently\n",
    "$$\n",
    "  K^n_{0,a} = \\{ x\\in \\mathbf{R}\\times \\mathbf{C}^n \\mid\n",
    "   x_i = \\langle X_1, T_i^{n+1} \\rangle +\n",
    "   \\langle X_2 , T_{i+1}^n \\rangle +\n",
    "   \\langle X_2 , T_{i-1}^n \\rangle -\n",
    "   2\\cos(a)\\langle X_2 , T_i^n\\rangle, \\: X_1\\in \\mathcal{H}_+^{n+1}, X_2\\in\\mathcal{H}_+^n \\}.\n",
    "$$"
   ]
  },
  {
   "cell_type": "code",
   "execution_count": 4,
   "metadata": {},
   "outputs": [],
   "source": [
    "def trigpoly_0_a(M, x, a):\n",
    "    '''x[i] == <T(n+1,i),X1> + <T(n,i+1),X2> + <T(n,i-1),X2> - 2*cos(a)*<T(n,i),X2>'''\n",
    "    n = int(x.getSize()-1)\n",
    "    X1 = M.variable(Domain.inPSDCone(n+1))\n",
    "    X2 = M.variable(Domain.inPSDCone(n))\n",
    "\n",
    "    for i in range(n+1):\n",
    "        M.constraint(Expr.sub(Expr.add([ T_dot_X(n+1,i,X1), \n",
    "                                         T_dot_X(n,i+1,X2), \n",
    "                                         T_dot_X(n,i-1,X2), \n",
    "                                         T_dot_X(n,i,X2,-2*cos(a))]),\n",
    "                              x.index(i)), Domain.equalsTo(0.0))"
   ]
  },
  {
   "cell_type": "markdown",
   "metadata": {},
   "source": [
    "Note that we have dropped the imaginary part of $X_1$ and $X_2$."
   ]
  },
  {
   "cell_type": "markdown",
   "metadata": {},
   "source": [
    "### Nonnegativity on $[a,\\pi]$ ###\n",
    "\n",
    "Finally, $H(\\omega)$ is nonnegative on $[a,\\pi]$ if and only if\n",
    "\n",
    "$$x_i = \n",
    "\\langle X_1, T_i^{n+1} \\rangle -\n",
    "\\langle X_2, T_{i+1}^n \\rangle -\n",
    "\\langle X_2, T_{i-1}^n \\rangle +\n",
    "2 \\cos(a)\\langle X_2, T_{i}^n \\rangle, \\quad \n",
    "X_1 \\in {\\mathcal S}^{n+1}_+, \\:\n",
    "X_2 \\in {\\mathcal S}^n_+,\n",
    "$$\n",
    "or equivalently\n",
    "$$\n",
    "  K^n_{a,\\pi} = \\{ x\\in \\mathbf{R}\\times \\mathbf{C}^n \\mid\n",
    "   x_i = \\langle X_1, T_i^{n+1} \\rangle -\n",
    "   \\langle X_2 , T_{i+1}^n \\rangle -\n",
    "   \\langle X_2 , T_{i-1}^n \\rangle +\n",
    "   2\\cos(a)\\langle X_2 , T_i^n\\rangle, \\: X_1\\in \\mathcal{H}_+^{n+1}, X_2\\in\\mathcal{H}_+^n \\}.\n",
    "$$"
   ]
  },
  {
   "cell_type": "code",
   "execution_count": 5,
   "metadata": {},
   "outputs": [],
   "source": [
    "def trigpoly_a_pi(M, x, a):\n",
    "    '''x[i] == <T(n+1,i),X1> - <T(n,i+1),X2> - <T(n,i-1),X2> + 2*cos(a)*<T(n,i),X2>'''\n",
    "    n = int(x.getSize()-1)\n",
    "    X1 = M.variable(Domain.inPSDCone(n+1))\n",
    "    X2 = M.variable(Domain.inPSDCone(n))\n",
    "\n",
    "    for i in range(n+1):\n",
    "        M.constraint(Expr.add([ T_dot_X(n+1,i,X1), \n",
    "                                T_dot_X(n,i+1,X2,-1.0), \n",
    "                                T_dot_X(n,i-1,X2,-1.0), \n",
    "                                T_dot_X(n,i,X2,2*cos(a)),\n",
    "                                Expr.neg(x.index(i))    ]),\n",
    "                     Domain.equalsTo(0.0))"
   ]
  },
  {
   "cell_type": "markdown",
   "metadata": {},
   "source": [
    "Note that we have dropped the imaginary part of $X_1$ and $X_2$."
   ]
  },
  {
   "cell_type": "markdown",
   "metadata": {},
   "source": [
    "## An epigraph formulation ##\n",
    "The *epigraph* $H(\\omega) \\leq t$ can now be characterized simply as \n",
    "$-u \\in K^n_{[a,b]}, \\: u=(x_0-t, \\, x_{1:n}).$"
   ]
  },
  {
   "cell_type": "code",
   "execution_count": 6,
   "metadata": {},
   "outputs": [],
   "source": [
    "def epigraph(M, x, t, a, b):\n",
    "    '''Models 0 <= H(w) <= t, for all w in [a, b], where\n",
    "         H(w) = x0 + 2*x1*cos(w) + 2*x2*cos(2*w) + ... + 2*xn*cos(n*w)'''\n",
    "    n  = int(x.getSize()-1)    \n",
    "    u = M.variable(n+1, Domain.unbounded())\n",
    "    M.constraint(Expr.sub(t,Expr.add(x.index(0), u.index(0))), Domain.equalsTo(0.0)) \n",
    "    M.constraint(Expr.add(x.slice(1,n+1), u.slice(1,n+1)), Domain.equalsTo(0.0))\n",
    "    \n",
    "    if a==0.0 and b==pi:\n",
    "        trigpoly_0_pi(M, u)\n",
    "    elif a==0.0 and b<pi:\n",
    "        trigpoly_0_a(M, u, b)\n",
    "    elif a<pi and b==pi:\n",
    "        trigpoly_a_pi(M, u, a)\n",
    "    else:\n",
    "        raise ValueError(\"invalid interval.\")"
   ]
  },
  {
   "cell_type": "markdown",
   "metadata": {},
   "source": [
    "## A hypograph formulation ##\n",
    "Similarly, the *hypograph* $H(\\omega) \\geq t$ can be characterized as \n",
    "$u \\in K^n_{[a,b]}, \\: u=(x_0-t, \\, x_{1:n}).$"
   ]
  },
  {
   "cell_type": "code",
   "execution_count": 7,
   "metadata": {},
   "outputs": [],
   "source": [
    "def hypograph(M, x, t, a, b):\n",
    "    '''Models 0 <= t <= H(w), for all w in [a, b], where\n",
    "         H(w) = x0 + 2*x1*cos(w) + 2*x2*cos(2*w) + ... + 2*xn*cos(n*w)'''\n",
    "\n",
    "    n  = int(x.getSize()-1)    \n",
    "    u0 = M.variable(1, Domain.unbounded())    \n",
    "    M.constraint(Expr.sub(t,Expr.sub(x.index(0), u0)), Domain.equalsTo(0.0))\n",
    "    u = Var.vstack( u0, x.slice(1, n+1) )\n",
    "\n",
    "    if a==0.0 and b==pi:\n",
    "        trigpoly_0_pi(M, u)\n",
    "    elif a==0.0 and b<pi:\n",
    "        trigpoly_0_a(M, u,  b)\n",
    "    elif a<pi and b==pi:\n",
    "        trigpoly_a_pi(M, u, a)\n",
    "    else:\n",
    "        raise ValueError(\"invalid interval.\")"
   ]
  },
  {
   "cell_type": "markdown",
   "metadata": {},
   "source": [
    "## Putting it together ##"
   ]
  },
  {
   "cell_type": "code",
   "execution_count": 8,
   "metadata": {},
   "outputs": [],
   "source": [
    "n = 10\n",
    "M = Model(\"trigpoly\")\n",
    "x = M.variable(\"x\", n+1, Domain.unbounded())"
   ]
  },
  {
   "cell_type": "markdown",
   "metadata": {},
   "source": [
    "### Global nonnegativity ###"
   ]
  },
  {
   "cell_type": "code",
   "execution_count": 9,
   "metadata": {},
   "outputs": [],
   "source": [
    "# H(w) >= 0\n",
    "trigpoly_0_pi(M, x)"
   ]
  },
  {
   "cell_type": "markdown",
   "metadata": {},
   "source": [
    "### Passband specifications ###"
   ]
  },
  {
   "cell_type": "code",
   "execution_count": 10,
   "metadata": {},
   "outputs": [],
   "source": [
    "wp = pi/4\n",
    "delta = 0.05\n",
    "\n",
    "# H(w) <= (1+delta), w in [0, wp]    \n",
    "epigraph(M, x, 1.0+delta, 0.0, wp)\n",
    "\n",
    "# (1-delta) <= H(w), w in [0, wp]\n",
    "hypograph(M, x, 1.0-delta, 0.0, wp)"
   ]
  },
  {
   "cell_type": "markdown",
   "metadata": {},
   "source": [
    "### Stopband specifications ###"
   ]
  },
  {
   "cell_type": "code",
   "execution_count": 11,
   "metadata": {},
   "outputs": [],
   "source": [
    "ws = wp + pi/8\n",
    "\n",
    "# H(w) < t, w in [ws, pi]\n",
    "t = M.variable(\"t\", 1, Domain.greaterThan(0.0))\n",
    "epigraph(M, x, t, ws, pi)"
   ]
  },
  {
   "cell_type": "markdown",
   "metadata": {},
   "source": [
    "### Setting the objective ###"
   ]
  },
  {
   "cell_type": "code",
   "execution_count": 12,
   "metadata": {},
   "outputs": [],
   "source": [
    "M.objective(ObjectiveSense.Minimize, t)"
   ]
  },
  {
   "cell_type": "code",
   "execution_count": 13,
   "metadata": {},
   "outputs": [],
   "source": [
    "M.setLogHandler(sys.stdout)"
   ]
  },
  {
   "cell_type": "code",
   "execution_count": 14,
   "metadata": {},
   "outputs": [
    {
     "name": "stdout",
     "output_type": "stream",
     "text": [
      "Problem\n",
      "  Name                   : trigpoly        \n",
      "  Objective sense        : min             \n",
      "  Type                   : CONIC (conic optimization problem)\n",
      "  Constraints            : 67              \n",
      "  Cones                  : 0               \n",
      "  Scalar variables       : 35              \n",
      "  Matrix variables       : 7               \n",
      "  Integer variables      : 0               \n",
      "\n",
      "Optimizer started.\n",
      "Presolve started.\n",
      "Linear dependency checker started.\n",
      "Linear dependency checker terminated.\n",
      "Eliminator started.\n",
      "Freed constraints in eliminator : 23\n",
      "Eliminator terminated.\n",
      "Eliminator started.\n",
      "Freed constraints in eliminator : 0\n",
      "Eliminator terminated.\n",
      "Eliminator - tries                  : 2                 time                   : 0.00            \n",
      "Lin. dep.  - tries                  : 1                 time                   : 0.00            \n",
      "Lin. dep.  - number                 : 0               \n",
      "Presolve terminated. Time: 0.01    \n",
      "Problem\n",
      "  Name                   : trigpoly        \n",
      "  Objective sense        : min             \n",
      "  Type                   : CONIC (conic optimization problem)\n",
      "  Constraints            : 67              \n",
      "  Cones                  : 0               \n",
      "  Scalar variables       : 35              \n",
      "  Matrix variables       : 7               \n",
      "  Integer variables      : 0               \n",
      "\n",
      "Optimizer  - threads                : 20              \n",
      "Optimizer  - solved problem         : the primal      \n",
      "Optimizer  - Constraints            : 44\n",
      "Optimizer  - Cones                  : 1\n",
      "Optimizer  - Scalar variables       : 13                conic                  : 12              \n",
      "Optimizer  - Semi-definite variables: 7                 scalarized             : 429             \n",
      "Factor     - setup time             : 0.00              dense det. time        : 0.00            \n",
      "Factor     - ML order time          : 0.00              GP order time          : 0.00            \n",
      "Factor     - nonzeros before factor : 990               after factor           : 990             \n",
      "Factor     - dense dim.             : 0                 flops                  : 1.18e+05        \n",
      "ITE PFEAS    DFEAS    GFEAS    PRSTATUS   POBJ              DOBJ              MU       TIME  \n",
      "0   1.9e+01  1.0e+00  1.0e+00  0.00e+00   0.000000000e+00   0.000000000e+00   1.0e+00  0.03  \n",
      "1   6.0e+00  3.2e-01  3.2e-01  1.56e+00   -6.168509433e-03  -1.704940542e-02  3.2e-01  0.04  \n",
      "2   1.5e+00  8.0e-02  8.0e-02  1.59e+00   -3.629686898e-02  -5.729238420e-02  8.0e-02  0.05  \n",
      "3   3.1e-01  1.7e-02  1.7e-02  1.64e+00   -4.704273187e-03  -7.156318767e-03  1.7e-02  0.05  \n",
      "4   1.0e-01  5.6e-03  5.6e-03  1.91e-01   1.247879338e-03   3.220303293e-03   5.6e-03  0.05  \n",
      "5   5.8e-02  3.1e-03  3.1e-03  4.28e-01   4.186115053e-02   3.996134158e-02   3.1e-03  0.05  \n",
      "6   1.1e-02  5.9e-04  5.9e-04  4.33e-01   6.583025991e-02   6.538915159e-02   5.9e-04  0.05  \n",
      "7   2.7e-03  1.4e-04  1.4e-04  9.75e-01   7.102893174e-02   7.092631673e-02   1.4e-04  0.05  \n",
      "8   4.6e-04  2.4e-05  2.4e-05  1.01e+00   7.246509927e-02   7.245345168e-02   2.4e-05  0.06  \n",
      "9   3.3e-05  1.8e-06  1.8e-06  1.00e+00   7.271267688e-02   7.271184530e-02   1.8e-06  0.06  \n",
      "10  3.6e-06  1.9e-07  1.9e-07  1.00e+00   7.272951727e-02   7.272942593e-02   1.9e-07  0.06  \n",
      "11  5.8e-07  3.1e-08  3.1e-08  1.00e+00   7.273126748e-02   7.273125303e-02   3.1e-08  0.06  \n",
      "12  7.0e-08  3.9e-09  3.7e-09  1.00e+00   7.273156244e-02   7.273156074e-02   3.7e-09  0.06  \n",
      "13  6.3e-09  1.9e-09  3.4e-10  1.00e+00   7.273159968e-02   7.273159953e-02   3.4e-10  0.07  \n",
      "Optimizer terminated. Time: 0.07    \n",
      "\n",
      "\n",
      "Interior-point solution summary\n",
      "  Problem status  : PRIMAL_AND_DUAL_FEASIBLE\n",
      "  Solution status : OPTIMAL\n",
      "  Primal.  obj: 7.2731599679e-02    nrm: 1e+00    Viol.  con: 6e-09    var: 0e+00    barvar: 0e+00  \n",
      "  Dual.    obj: 7.2731599528e-02    nrm: 2e+00    Viol.  con: 0e+00    var: 3e-10    barvar: 2e-09  \n"
     ]
    }
   ],
   "source": [
    "M.solve()"
   ]
  },
  {
   "cell_type": "code",
   "execution_count": 15,
   "metadata": {},
   "outputs": [
    {
     "data": {
      "text/plain": [
       "array([ 0.33580937,  0.25254317,  0.1388759 ,  0.02044169, -0.04797007,\n",
       "       -0.05156956, -0.01627207,  0.01837092,  0.02948826,  0.02271378,\n",
       "       -0.00952669])"
      ]
     },
     "execution_count": 15,
     "metadata": {},
     "output_type": "execute_result"
    }
   ],
   "source": [
    "x.level()"
   ]
  },
  {
   "cell_type": "code",
   "execution_count": 16,
   "metadata": {},
   "outputs": [
    {
     "data": {
      "text/plain": [
       "array([0.0727316])"
      ]
     },
     "execution_count": 16,
     "metadata": {},
     "output_type": "execute_result"
    }
   ],
   "source": [
    "t.level()"
   ]
  },
  {
   "cell_type": "markdown",
   "metadata": {},
   "source": [
    "### Plotting the amplitude response ###"
   ]
  },
  {
   "cell_type": "code",
   "execution_count": 17,
   "metadata": {},
   "outputs": [
    {
     "data": {
      "image/png": "[encoded data removed]",
      "text/plain": [
       "<matplotlib.figure.Figure at 0x7f9099fa16d8>"
      ]
     },
     "metadata": {},
     "output_type": "display_data"
    }
   ],
   "source": [
    "xx = x.level()\n",
    "def H(w): return xx[0] + 2*sum([xx[i]*cos(i*w) for i in range(1,len(xx))])\n",
    "w  = np.linspace(0, pi, 100)\n",
    "%matplotlib inline\n",
    "import matplotlib.pyplot as plt\n",
    "plt.plot(w, [H(wi) for wi in w], 'k')\n",
    "plt.show()\n"
   ]
  },
  {
   "cell_type": "markdown",
   "metadata": {
    "collapsed": true
   },
   "source": [
    "<a rel=\"license\" href=\"http://creativecommons.org/licenses/by/4.0/\"><img alt=\"Creative Commons License\" style=\"border-width:0\" src=\"https://i.creativecommons.org/l/by/4.0/80x15.png\" /></a><br />This work is licensed under a <a rel=\"license\" href=\"http://creativecommons.org/licenses/by/4.0/\">Creative Commons Attribution 4.0 International License</a>. The **MOSEK** logo and name are trademarks of <a href=\"http://mosek.com\">Mosek ApS</a>. The code is provided as-is. Compatibility with future release of **MOSEK** or the `Fusion API` are not guaranteed. For more information contact our [support](mailto:support@mosek.com). \n",
    "\n"
   ]
  },
  {
   "cell_type": "code",
   "execution_count": null,
   "metadata": {},
   "outputs": [],
   "source": []
  }
 ],
 "metadata": {
  "anaconda-cloud": {},
  "kernelspec": {
   "display_name": "Python 3",
   "language": "python",
   "name": "python3"
  },
  "language_info": {
   "codemirror_mode": {
    "name": "ipython",
    "version": 3
   },
   "file_extension": ".py",
   "mimetype": "text/x-python",
   "name": "python",
   "nbconvert_exporter": "python",
   "pygments_lexer": "ipython3",
   "version": "3.6.4"
  }
 },
 "nbformat": 4,
 "nbformat_minor": 1
}
