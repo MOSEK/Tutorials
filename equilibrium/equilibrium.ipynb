{
 "cells": [
  {
   "cell_type": "markdown",
   "metadata": {},
   "source": [
    "![MOSEK ApS](https://www.mosek.com/static/images/branding/webgraphmoseklogocolor.png )"
   ]
  },
  {
   "cell_type": "markdown",
   "metadata": {},
   "source": [
    "## Equilibrium of a system of weights connected by strings/springs\n",
    "\n",
    "In this notebook we show how to solve the following problem: Find the equlibrium of a system of masses connected by a system of strings, with some masses being assigned fixed coordinates (attached to the wall, say). See the next picture.\n",
    "\n",
    "![](basic.png)\n",
    "\n",
    "Suppose we have $n$ masses with weights $w_1,\\ldots,w_n$, and the length of the string between $i$ and $j$ is $\\ell_{ij}$ for some set $L$ of pairs of indices $(i,j)$ (we assume $\\ell_{ij}$ is not defined if there is no connection). The strings themselves have no mass. We also have a set $F$ of indices such that the $i$-th point is fixed to have coordinates $f_i$ if $i\\in F$. The equilibrium of the system is a configuration which minimizes potential energy. With this setup we can write our problem as:\n",
    "\n",
    "\\begin{equation}\n",
    "\\begin{array}{ll}\n",
    "minimize & g\\cdot \\sum_i w_ix_i^{(2)} \\\\\n",
    "s.t.     & \\|x_i-x_j\\|\\leq \\ell_{ij},\\ ij\\in L \\\\\n",
    "         & x_i = f_i,\\ i\\in F\n",
    "\\end{array}\n",
    "\\end{equation}\n",
    "\n",
    "where $x\\in (\\mathbf{R}^n)^2$, $x_i^{(2)}$ denotes the second (vertical) coordinate of $x_i$ and $g$ is the gravitational constant.\n",
    "\n",
    "Here is a sample problem description."
   ]
  },
  {
   "cell_type": "code",
   "execution_count": 1,
   "metadata": {},
   "outputs": [],
   "source": [
    "w = [0.0, 1.1, 2.2, 0.0, 2.1, 2.2, 0.2]\n",
    "l = {(0,1): 1.0, (1,2): 1.0, (2,3): 1.0, (1,4): 1.0, (4,5): 0.3, (5,2): 1.0, (5,6): 0.5, (1,3): 8.0}\n",
    "f = {0: (0.0,1.0), 3: (2.0,1.0)}\n",
    "g = 9.81"
   ]
  },
  {
   "cell_type": "markdown",
   "metadata": {},
   "source": [
    "Now we can formulate the problem using Mosek Fusion:"
   ]
  },
  {
   "cell_type": "code",
   "execution_count": 5,
   "metadata": {},
   "outputs": [],
   "source": [
    "from mosek.fusion import *\n",
    "import mosek.fusion.pythonic\n",
    "\n",
    "# w - masses of points\n",
    "# l - lengths of strings\n",
    "# f - coordinates of fixed points\n",
    "# g - gravitational constant\n",
    "def stringModel(w, l, f, g):\n",
    "    n, m = len(w), len(l)\n",
    "    starts = [ lKey[0] for lKey in l.keys() ]\n",
    "    ends = [ lKey[1] for lKey in l.keys() ]\n",
    "\n",
    "    M = Model(\"strings\")\n",
    "\n",
    "    # Coordinates of points\n",
    "    x = M.variable(\"x\", [n, 2])\n",
    "\n",
    "    # A is the signed incidence matrix of points and strings\n",
    "    A = Matrix.sparse(m, n, list(range(m))+list(range(m)), starts+ends, [1.0]*m+[-1.0]*m)\n",
    "\n",
    "    # ||x_i-x_j|| <= l_{i,j}\n",
    "    c = M.constraint(\"c\", Expr.hstack(Expr.constTerm(list(l.values())), A @ x), \n",
    "        Domain.inQCone() )\n",
    "\n",
    "    # x_i = f_i for fixed points\n",
    "    for i in f:\n",
    "        M.constraint(Var.flatten(x[i,:]) == list(f[i]))\n",
    "\n",
    "    # sum (g w_i x_i_2)\n",
    "    M.objective(ObjectiveSense.Minimize, g * (x[:,1].T @ w))\n",
    "\n",
    "    # Solve\n",
    "    M.solve()\n",
    "    if M.getProblemStatus(SolutionType.Interior) == ProblemStatus.PrimalAndDualFeasible:\n",
    "        return x.level().reshape([n,2]), c.dual().reshape([m,3])\n",
    "    else:\n",
    "        return None, None\n"
   ]
  },
  {
   "cell_type": "markdown",
   "metadata": {},
   "source": [
    "Here is a quick description of how we use vectorization to deal with all the conic constraints in one go. The matrix $A$ is the incidence matrix between the masses and the strings, with coefficients $+1, -1$ for the two endpoints of each string. It is chosen so that the product $Ax$ has rows of the form\n",
    "\n",
    "$$\n",
    "(x_i^{(1)} - x_j^{(1)}, x_i^{(2)} - x_j^{(2)})\n",
    "$$\n",
    "\n",
    "for all pairs $i,j$ for which $\\ell_{ij}$ is bounded. Stacking the values of $\\ell$ in the left column produces a matrix with each row of the form\n",
    "\n",
    "$$\n",
    "(\\ell_{ij}, x_i^{(1)} - x_j^{(1)}, x_i^{(2)} - x_j^{(2)})\n",
    "$$\n",
    "\n",
    "and a conic constraint is imposed on all the rows, as required.\n",
    "\n",
    "The objective and linear constraints show examples of slicing the variable $x$.\n",
    "\n",
    "The function returns the coordinates of the masses and the values of the dual conic variables. A zero dual value indicates that a particular string is hanging loose, and a nonzero value means it is fully stretched. \n",
    "\n",
    "All we need now is to define a display function and we can look at some plots."
   ]
  },
  {
   "cell_type": "code",
   "execution_count": 6,
   "metadata": {},
   "outputs": [],
   "source": [
    "%matplotlib inline\n",
    "# x - coordinates of the points\n",
    "# c - dual values of string length constraints\n",
    "# d - pairs of points to connect\n",
    "def display(x, c, d):\n",
    "    import matplotlib.pyplot as plt\n",
    "    fig, ax = plt.subplots()\n",
    "    # Plot points\n",
    "    ax.scatter(x[:,0], x[:,1], color=\"r\")\n",
    "    # Plot fully stretched strings (nonzero dual value) as solid lines, else dotted lines\n",
    "    for i in range(len(c)):\n",
    "        col = \"b\" if c[i][0] > 1e-4 else \"b--\"\n",
    "        ax.plot([x[d[i][0]][0], x[d[i][1]][0]], [x[d[i][0]][1], x[d[i][1]][1]], col)\n",
    "    ax.axis(\"equal\")\n",
    "    plt.show()"
   ]
  },
  {
   "cell_type": "code",
   "execution_count": 7,
   "metadata": {},
   "outputs": [
    {
     "data": {
      "image/png": "[encoded data removed]",
      "text/plain": [
       "<matplotlib.figure.Figure at 0x7f0e0c912828>"
      ]
     },
     "metadata": {},
     "output_type": "display_data"
    }
   ],
   "source": [
    "x,c = stringModel(w, l, f, g)\n",
    "\n",
    "if x is not None:\n",
    "    display(x, c, list(l.keys()))"
   ]
  },
  {
   "cell_type": "markdown",
   "metadata": {},
   "source": [
    "How about we find a discrete approximation to the [catenary](#https://en.wikipedia.org/wiki/Catenary):"
   ]
  },
  {
   "cell_type": "code",
   "execution_count": 8,
   "metadata": {},
   "outputs": [
    {
     "data": {
      "image/png": "[encoded data removed]",
      "text/plain": [
       "<matplotlib.figure.Figure at 0x7f0de01852e8>"
      ]
     },
     "metadata": {},
     "output_type": "display_data"
    }
   ],
   "source": [
    "n = 1000\n",
    "w = [1.0]*n\n",
    "l = {(i,i+1): 1.0/n for i in range(n-1)}\n",
    "f = {0: (0.0,1.0), n-1: (0.7,1.0)}\n",
    "g = 9.81\n",
    "\n",
    "x,c = stringModel(w, l, f, g)\n",
    "if x is not None:\n",
    "    display(x, c, list(l.keys()))"
   ]
  },
  {
   "cell_type": "markdown",
   "metadata": {},
   "source": [
    "We can also have more suspension points and more complicated shapes:"
   ]
  },
  {
   "cell_type": "code",
   "execution_count": 9,
   "metadata": {},
   "outputs": [
    {
     "data": {
      "image/png": "[encoded data removed]",
      "text/plain": [
       "<matplotlib.figure.Figure at 0x7f0e0c01d160>"
      ]
     },
     "metadata": {},
     "output_type": "display_data"
    }
   ],
   "source": [
    "n = 20\n",
    "w = [1.0]*n\n",
    "l = {(i,i+1): 0.09 for i in range(n-1)}\n",
    "l.update({(5,14): 0.3})\n",
    "f = {0: (0.0,1.0), 13: (0.5,0.9), 17: (0.7,1.1)}\n",
    "g = 9.81\n",
    "\n",
    "x,c = stringModel(w, l, f, g)\n",
    "if x is not None:\n",
    "    display(x, c, list(l.keys()))"
   ]
  },
  {
   "cell_type": "markdown",
   "metadata": {},
   "source": [
    "## Duality and feasibility\n",
    "\n",
    "The dual problem is as follows:\n",
    "\n",
    "\\begin{equation}\n",
    "\\begin{array}{ll}\n",
    "maximize & -\\sum_{ij\\in L}\\ell_{ij}y_{ij} - \\sum_{i\\in F}f_i\\circ z_i\\\\\n",
    "s.t.     & y_{ij}\\geq \\|v_{ij}\\|,\\ ij\\in L \\\\\n",
    "         & \\sum_{j~:~ij\\in L} v_{ij}\\mathrm{sgn}_{ij} + \\left(\\begin{array}{c}0\\\\ gw_i\\end{array}\\right) +z_i = 0, \\ i=1,\\ldots,n\n",
    "\\end{array}\n",
    "\\end{equation}\n",
    "\n",
    "where $\\mathrm{sgn}_{ij}=+1$ if $i>j$ and $-1$ otherwise and $\\circ$ is the dot product. The variables are $(y_{ij},v_{ij})\\in \\mathbf{R}\\times\\mathbf{R}^2$ for $ij\\in L$ and $z_i\\in\\mathbf{R}^2$ for $i\\in F$ (we assume $z_i=0$ for $i\\not\\in F$).\n",
    "\n",
    "Obviously (!) the linear constraints describe the equilibrium of forces at every mass. The ingredients are: the vectors of forces applied through adjacent strings ($v_{ij}$), gravity, and the attaching force holding a fixed point in its position. By proper use of vectorization this is much easier to express in Fusion than it looks:"
   ]
  },
  {
   "cell_type": "code",
   "execution_count": 10,
   "metadata": {},
   "outputs": [],
   "source": [
    "def dualStringModel(w, l, f, g):\n",
    "    n, m = len(w), len(l)\n",
    "    starts = [ lKey[0] for lKey in l.keys() ]\n",
    "    ends = [ lKey[1] for lKey in l.keys() ]\n",
    "\n",
    "    M = Model(\"dual strings\")\n",
    "\n",
    "    x = M.variable(Domain.inQCone(m,3))       #(y,v)\n",
    "    y = x[0:m,0]\n",
    "    v = x[0:m,1:3]\n",
    "    z = M.variable([n,2])\n",
    "\n",
    "    # z_i = 0 if i is not fixed\n",
    "    for i in range(n):\n",
    "        if i not in f:\n",
    "            M.constraint(z[i,:] == 0)\n",
    "\n",
    "    B = Matrix.sparse(m, n, list(range(m))+list(range(m)), starts+ends, [1.0]*m+[-1.0]*m).transpose()\n",
    "    w2 = Matrix.sparse(n, 2, range(n), [1]*n, [-wT*g for wT in w])\n",
    "\n",
    "    # sum(v_ij *sgn(ij)) + z_i = -(0, gw_i) for all vertices i\n",
    "    M.constraint(B @ v + z == w2)\n",
    "\n",
    "    # Objective -l*y -fM*z\n",
    "    fM = Matrix.sparse(n, 2, list(f.keys())+list(f.keys()), [0]*len(f)+[1]*len(f), \n",
    "                       [pt[0] for pt in f.values()] + [pt[1] for pt in f.values()])\n",
    "    \n",
    "    M.objective(ObjectiveSense.Maximize, - Expr.dot(list(l.values()), y) - Expr.dot(fM, z))\n",
    "    M.solve()"
   ]
  },
  {
   "cell_type": "markdown",
   "metadata": {},
   "source": [
    "Let us quickly discuss the possible situations regarding feasibility:\n",
    "\n",
    "* The system has an equilibrium --- the problem is **primal feasible** and **dual feasible**.\n",
    "* The strings are too short and it is impossible to stretch the required distance between fixed points --- the problem is **primal infeasible**.\n",
    "* The system has a component that is not connected to any fixed point, hence some masses can keep falling down indefinitely, causing the problem **primal unbounded**. Clearly the forces within such component cannot be balanced, so the problem is **dual infeasible**."
   ]
  },
  {
   "cell_type": "markdown",
   "metadata": {},
   "source": [
    "## Springs\n",
    "\n",
    "We can extend this to consider infinitely strechable springs instead of fixed-length strings connecting the masses. The next model appears in [Applications of SOCP](#http://stanford.edu/~boyd/papers/pdf/socp.pdf) by Lobo, Boyd, Vandenberghe, Lebret. We will now interpret $\\ell_{ij}$ as the base length of the spring and assume that the elastic potential energy stored in the spring at length $x$ is \n",
    "\n",
    "$$\n",
    "E_{ij}=\\left\\{\\begin{array}{ll}0 & x\\leq \\ell_{ij}\\\\ \\frac{k}{2}(x-\\ell_{ij})^2 & x>\\ell_{ij}\\end{array}\\right.\n",
    "$$\n",
    "\n",
    "That leads us to consider the following second order cone program minimizing the total potential energy:\n",
    "\n",
    "\\begin{equation}\n",
    "\\begin{array}{ll}\n",
    "minimize & g\\cdot \\sum_i w_ix_i^{(2)} + \\frac{k}{2}\\sum_{ij\\in L} t_{ij}^2 \\\\\n",
    "s.t.     & \\|x_i-x_j\\|\\leq \\ell_{ij}+t_{ij},\\ ij\\in L \\\\\n",
    "         & 0\\leq t_{ij},\\ ij\\in L \\\\\n",
    "         & x_i = f_i,\\ i\\in F\n",
    "\\end{array}\n",
    "\\end{equation}\n",
    "\n",
    "If $t$ denotes the vector of $t_{ij}$ then using a rotated quadratic cone for $(1,T,t)$:\n",
    "\n",
    "$$\n",
    "2\\cdot 1\\cdot T\\geq \\|t\\|^2\n",
    "$$\n",
    "\n",
    "will place a bound on $\\frac12\\sum t_{ij}^2$. We now have a simple extension of the first model."
   ]
  },
  {
   "cell_type": "code",
   "execution_count": 13,
   "metadata": {},
   "outputs": [],
   "source": [
    "# w - masses of points\n",
    "# l - lengths of strings\n",
    "# f - coordinates of fixed points\n",
    "# g - gravitational constant\n",
    "# k - stiffness coefficient\n",
    "def elasticModel(w, l, f, g, k):\n",
    "    n, m = len(w), len(l)\n",
    "    starts = [ lKey[0] for lKey in l.keys() ]\n",
    "    ends = [ lKey[1] for lKey in l.keys() ]\n",
    "\n",
    "    M = Model(\"strings\")\n",
    "    x = M.variable(\"x\", [n, 2])                 # Coordinates\n",
    "    t = M.variable(m, Domain.greaterThan(0.0))  # Streching\n",
    "\n",
    "    T = M.variable(1)                           # Upper bound\n",
    "    M.constraint(Expr.vstack(T, Expr.constTerm(1.0), t), Domain.inRotatedQCone())\n",
    "\n",
    "    # A is the signed incidence matrix of points and strings\n",
    "    A = Matrix.sparse(m, n, list(range(m))+list(range(m)), starts+ends, [1.0]*m+[-1.0]*m)\n",
    "\n",
    "    # ||x_i-x_j|| <= l_{i,j} + t_{i,j}\n",
    "    c = M.constraint(\"c\", Expr.hstack(t + Expr.constTerm(list(l.values())), A @ x), \n",
    "        Domain.inQCone() )\n",
    "\n",
    "    # x_i = f_i for fixed points\n",
    "    for i in f:\n",
    "        M.constraint(Var.flatten(x[i,:]) == list(f[i]))\n",
    "\n",
    "    # sum (g w_i x_i_2) + k*T\n",
    "    M.objective(ObjectiveSense.Minimize, k * T + g * (x[:,1].T @ w))\n",
    "\n",
    "    # Solve\n",
    "    M.solve()\n",
    "    if M.getProblemStatus(SolutionType.Interior) == ProblemStatus.PrimalAndDualFeasible:\n",
    "        return x.level().reshape([n,2]), c.dual().reshape([m,3])\n",
    "    else:\n",
    "        return None, None"
   ]
  },
  {
   "cell_type": "code",
   "execution_count": 14,
   "metadata": {},
   "outputs": [
    {
     "data": {
      "image/png": "[encoded data removed]",
      "text/plain": [
       "<matplotlib.figure.Figure at 0x7f0dd049e1d0>"
      ]
     },
     "metadata": {},
     "output_type": "display_data"
    }
   ],
   "source": [
    "n = 20\n",
    "w = [1.0]*n\n",
    "l = {(i,i+1): 0.09 for i in range(n-1)}\n",
    "l.update({(5,14): 0.3})\n",
    "f = {0: (0.0,1.0), 13: (0.5,0.9), 17: (0.7,1.1)}\n",
    "g = 9.81\n",
    "k = 800\n",
    "\n",
    "x, c = elasticModel(w, l, f, g, k)\n",
    "if x is not None:\n",
    "    display(x, c, list(l.keys()))"
   ]
  },
  {
   "cell_type": "markdown",
   "metadata": {
    "collapsed": true
   },
   "source": [
    "<a rel=\"license\" href=\"http://creativecommons.org/licenses/by/4.0/\"><img alt=\"Creative Commons License\" style=\"border-width:0\" src=\"https://i.creativecommons.org/l/by/4.0/80x15.png\" /></a><br />This work is licensed under a <a rel=\"license\" href=\"http://creativecommons.org/licenses/by/4.0/\">Creative Commons Attribution 4.0 International License</a>. The **MOSEK** logo and name are trademarks of <a href=\"http://mosek.com\">Mosek ApS</a>. The code is provided as-is. Compatibility with future release of **MOSEK** or the `Fusion API` are not guaranteed. For more information contact our [support](mailto:support@mosek.com). "
   ]
  }
 ],
 "metadata": {
  "anaconda-cloud": {},
  "kernelspec": {
   "display_name": "Python 3 (ipykernel)",
   "language": "python",
   "name": "python3"
  },
  "language_info": {
   "codemirror_mode": {
    "name": "ipython",
    "version": 3
   },
   "file_extension": ".py",
   "mimetype": "text/x-python",
   "name": "python",
   "nbconvert_exporter": "python",
   "pygments_lexer": "ipython3",
   "version": "3.9.7"
  }
 },
 "nbformat": 4,
 "nbformat_minor": 1
}
