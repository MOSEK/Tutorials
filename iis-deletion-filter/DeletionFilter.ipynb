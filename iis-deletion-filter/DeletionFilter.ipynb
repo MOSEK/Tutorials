{
 "cells": [
  {
   "cell_type": "markdown",
   "metadata": {},
   "source": [
    "![MOSEK ApS](https://www.mosek.com/static/images/branding/webgraphmoseklogocolor.png )"
   ]
  },
  {
   "cell_type": "markdown",
   "metadata": {},
   "source": [
    "# Irreducible Infeasible Set (IIS)\n",
    "\n",
    "When a large optimization problem is infeasible, it is very common that infeasibility can be localized to a small subset of mutually contradicting constraints. Locating such a small set can help better understand and, if needed, correct the infeasibility issue.\n",
    "\n",
    "An *Irreducible Infeasible Subset* (IIS) is, by definition, an infeasible set of constraints such that all its proper subset are feasible. It is therefore a minimal witness of infeasibility. Every infeasible problem has one or more IIS, which may be disjoint or overlapping and can be of different sizes.\n",
    "\n",
    "In this notebook we implement a standard method of locating an IIS for linear programs (LPs), namely a *Deletion Filter*. (see [Feasibility and Infeasibility in Optimization](https://link.springer.com/book/10.1007/978-0-387-74932-7)). This algorithm is as follows\n",
    "\n",
    "- Initialize $S$ to be the set of all constraints.\n",
    "- Iterate over all constraints and temporarily remove each from $S$:\n",
    "    - If the problem is still infeasible, then permanently remove this constraint from $S$.\n",
    "    - If the problem becomes feasible, then put the constraint back to $S$.\n",
    "- After iterating through all constraints return $S$ as the IIS.\n",
    "\n",
    "As we can see the algorithm will solve as many intermediate problems as there are constraints. If the IIS is small, as it often happens, then the intermediate problems will quickly shrink in size.\n",
    "\n",
    "There are many implementation details which we discuss later, together with the code."
   ]
  },
  {
   "cell_type": "markdown",
   "metadata": {},
   "source": [
    "## Implementation with MOSEK ##\n",
    "\n",
    "There are many MOSEK-specific implementation details which we now outline.\n",
    "\n",
    "- We work with the Optimizer API for Python and objects of class ``mosek.Task``. \n",
    "- Instead of creating a new task for each iteration of the algorithm we re-use the same task object. \n",
    "- Instead of removing constraints from $S$ we make them unbounded by setting their ``boundkey`` to be open in the direction we are testing thus *effectively removing* the bound. When a constraint is supposed to return to $S$ we just restore the original bound.\n",
    "- We initialize $S$ with all the effective bounds in the problem: variable upper/lower bounds and constraint upper/lower bounds. A fixed or ranged bound is treated as two bounds (upper and lower) so each of them can participate in the IIS independently. \n",
    "- We use the simplex solver to allow efficient hot-starts since we will be solving many similar linear problems sequentially.\n",
    "- We allow infeasible linear problems and mixed-integer linear problems whose root relaxation is infeasible."
   ]
  },
  {
   "cell_type": "code",
   "execution_count": 1,
   "metadata": {},
   "outputs": [],
   "source": [
    "from mosek import *\n",
    "import sys, random\n",
    "\n",
    "# Functions to inspect and transform bounds\n",
    "hasup = lambda bk: bk in [boundkey.up, boundkey.ra, boundkey.fx]\n",
    "haslo = lambda bk: bk in [boundkey.lo, boundkey.ra, boundkey.fx]\n",
    "relaxup = lambda bk: boundkey.fr if bk == boundkey.up else boundkey.lo\n",
    "relaxlo = lambda bk: boundkey.fr if bk == boundkey.lo else boundkey.up\n",
    "\n",
    "# Prepare a task for the deletion filter routine\n",
    "def prepareTask(task):\n",
    "    # Use the simplex algporithm to exploit hot-start\n",
    "    task.putintparam(iparam.optimizer, optimizertype.free_simplex)\n",
    "    # Allow mixed-integer models by working with their continuous relaxation instead\n",
    "    task.putintparam(iparam.mio_mode, miomode.ignored)\n",
    "    # Remove objective\n",
    "    task.putclist(range(task.getnumvar()), [0.0]*task.getnumvar())\n",
    "\n",
    "# Check if a task is feasible\n",
    "def feasibilityStatus(task):\n",
    "    task.optimize()\n",
    "    psta = task.getprosta(soltype.bas)\n",
    "    if psta in [prosta.prim_and_dual_feas]:\n",
    "        return True\n",
    "    elif psta in [prosta.prim_infeas]:\n",
    "        return False\n",
    "    else:\n",
    "        return None # Could be numerical issues\n",
    "    \n",
    "# Runs the DeletionFilter on a task, with prescribed ordering of constraints and variables\n",
    "# Return: a pair (completed successfully ?, IIS)\n",
    "def deletionFilter(task, order):\n",
    "    # We first assume that the IIS consists of everything\n",
    "    iis = list(order)\n",
    "\n",
    "    for (idx, what, bound) in order:\n",
    "        getbound = task.getconbound if what == 'c' else task.getvarbound\n",
    "        putbound = task.putconbound if what == 'c' else task.putvarbound\n",
    "        relaxbound = relaxup if bound == 'u' else relaxlo\n",
    "\n",
    "        # Inspect the element of the task with index idx, either variable or constraint\n",
    "        bk, bl, bu = getbound(idx)\n",
    "\n",
    "        # Remove the bound completely (make it unbounded) and see if the task becomes feasible\n",
    "        putbound(idx, relaxbound(bk), bl, bu)\n",
    "        feas = feasibilityStatus(task)\n",
    "\n",
    "        if feas == True:\n",
    "            # Restore the constraint/variable back to its bounds and continue trying the next one\n",
    "            putbound(idx, bk, bl, bu)\n",
    "        elif feas  == False:\n",
    "            # Task is still infeasible, this constraint/variable will be ignored (leave it unbounded)\n",
    "            iis.remove((idx, what, bound))\n",
    "        else:\n",
    "            # None - there were numerical issues, give up and return the current list as IIS\n",
    "            return False, iis\n",
    "\n",
    "    return True, iis    "
   ]
  },
  {
   "cell_type": "markdown",
   "metadata": {},
   "source": [
    "## More implementation details ##\n",
    "\n",
    "Here are some general considerations when implementing the Deletion Filter algorithm, not specifically related to MOSEK:\n",
    "\n",
    "- The order in which constraints are tested in the loop affects the resulting IIS. Here we always use a random order, but one could fix specific ordering to put emphasis on various features of the IIS (form example prefer variable bounds to constraint bounds etc.)\n",
    "- The intermediate problems can become borderline feasible/infeasible, naturally leading to numerical issues. If that happens we just terminate and return the current $S$."
   ]
  },
  {
   "cell_type": "code",
   "execution_count": 2,
   "metadata": {},
   "outputs": [],
   "source": [
    "# Computes IIS for a problem\n",
    "def computeIIS(task, method='random'):\n",
    "    # Initially solve the problem\n",
    "    prepareTask(task)\n",
    "    if feasibilityStatus(task) != False:\n",
    "        print(\"The task is not infeasible, nothing to do\")\n",
    "        return True, []\n",
    "\n",
    "    # Find all essential (not free) bounds in the problem\n",
    "    # Format: (index, constraint or variable ? , lower or upper bound ? )\n",
    "    allItems = [(i, 'c', 'u') for i in range(task.getnumcon()) if hasup(task.getconbound(i)[0])] + \\\n",
    "               [(i, 'c', 'l') for i in range(task.getnumcon()) if haslo(task.getconbound(i)[0])] + \\\n",
    "               [(j, 'v', 'u') for j in range(task.getnumvar()) if hasup(task.getvarbound(j)[0])] + \\\n",
    "               [(j, 'v', 'l') for j in range(task.getnumvar()) if haslo(task.getvarbound(j)[0])]               \n",
    "\n",
    "    if method == 'random':\n",
    "        random.shuffle(allItems)\n",
    "\n",
    "    return deletionFilter(task, allItems)"
   ]
  },
  {
   "cell_type": "markdown",
   "metadata": {},
   "source": [
    "## Wrapping up and an example ##\n",
    "\n",
    "Finally we put together all the ingredients and find an IIS for an example from https://docs.mosek.com/latest/pythonapi/debugging-infeas.html "
   ]
  },
  {
   "cell_type": "code",
   "execution_count": 3,
   "metadata": {},
   "outputs": [
    {
     "name": "stdout",
     "output_type": "stream",
     "text": [
      "IIS computation completed successfully, size = 6\n",
      "d1: + 1.0 x12 >= 200.0\n",
      "s0: + 1.0 x11 + 1.0 x12 <= 200.0\n",
      "s2: + 1.0 x31 + 1.0 x33 + 1.0 x34 <= 1000.0\n",
      "+ x34 >= 0.0\n",
      "d0: + 1.0 x11 + 1.0 x31 >= 1100.0\n",
      "+ x33 >= 0.0\n"
     ]
    }
   ],
   "source": [
    "# Print a text representation of the IIS\n",
    "def printIIS(task, iis):\n",
    "    sgn = lambda x: '-' if x < 0.0 else '+'\n",
    "    varname = lambda t, j: t.getvarname(j) if t.getvarnamelen(j) > 0 else f\"x[{j}]\"\n",
    "    conname = lambda t, i: f\"{t.getconname(i)}: \" if t.getconnamelen(i) > 0 else \"\"\n",
    "    btoineq = lambda b, bl, bu: f\" <= {bu}\" if bound == 'u' else f\" >= {bl}\"\n",
    "    for (idx, what, bound) in iis:\n",
    "        if what == 'v':\n",
    "            bk, bl, bu = task.getvarbound(idx)\n",
    "            print(f\"+ {varname(task,idx)}{btoineq(bound, bl, bu)}\") \n",
    "        else:\n",
    "            bk, bl, bu = task.getconbound(idx)\n",
    "            nz, sub, val = task.getarow(idx)\n",
    "            expr = ' '.join(f\"{sgn(v)} {abs(v)} {varname(task,j)}\" for (j,v) in zip(list(sub), list(val)))\n",
    "            print(f\"{conname(task, idx)}{expr}{btoineq(bound, bl, bu)}\") \n",
    "\n",
    "def IISFromPtf(ptftask):\n",
    "    with Task() as task:\n",
    "        task.readptfstring(ptftask)\n",
    "        success, iis = computeIIS(task)    \n",
    "    \n",
    "        if success:\n",
    "            print(f\"IIS computation completed successfully, size = {len(iis)}\")\n",
    "            printIIS(task, iis)\n",
    "        else:\n",
    "            print(f\"IIS computation interrupted prematurely because of numerical issues, size = {len(iis)}\")\n",
    "\n",
    "# Example:\n",
    "IISFromPtf(\"\"\"Task\n",
    "Objective obj\n",
    "    Minimize + x11 + 2 x12 + 5 x23 + 2 x24 + x31 + 2 x33 + x34\n",
    "Constraints\n",
    "    s0 [-inf;200] + x11 + x12\n",
    "    s1 [-inf;1000] + x23 + x24\n",
    "    s2 [-inf;1000] + x31 + x33 + x34\n",
    "    d0 [1100] + x11 + x31\n",
    "    d1 [200] + x12\n",
    "    d2 [500] + x23 + x33\n",
    "    d3 [500] + x24 + x34\n",
    "Variables\n",
    "    x11 [0;+inf]\n",
    "    x12 [0;+inf]\n",
    "    x23 [0;+inf]\n",
    "    x24 [0;+inf]\n",
    "    x31 [0;+inf]\n",
    "    x33 [0;+inf]\n",
    "    x34 [0;+inf]\n",
    "\"\"\")"
   ]
  },
  {
   "cell_type": "markdown",
   "metadata": {},
   "source": [
    "The example here represents a supply-demand network. Infeasibility is caused by the fact that stores 1 and 2 have higher joint demand than the plants 1 and 3 can supply. The IIS found reflects this situation. (Note that you can get various IIS when running this example; the smallest and also most straightforward one has size 6)."
   ]
  },
  {
   "cell_type": "markdown",
   "metadata": {},
   "source": [
    "![MOSEK ApS](https://docs.mosek.com/latest/pythonapi/_images/transportp.png )"
   ]
  },
  {
   "cell_type": "markdown",
   "metadata": {},
   "source": [
    "## Extensions and improvements ##\n",
    "\n",
    "The source code of this Deletion Filter implementation can also be downloaded from the accompanying file [iis_deletion.py](iis_deletion.py). It is a very simple, basic algorithm which we provide as a proof-of-concept example. Here we outline possible extensions one could try:\n",
    "\n",
    "- Run the deletion filter a few times, possibly in a multithreaded fashion, and take the smallest IIS found.\n",
    "- Start not from the full set of constraints, but only from those which appear in the Farkas infeasibility certificate (equivalently are found by the ``task.getinfeasiblesubproblem()`` method.) In fact in many practical cases (especially due to modeling/coding errors and when a certificate is found in presolve) the certificate is already an IIS. Note, however, that this restricts the possible IIS the algorithm can find to those contained in a particular certificate."
   ]
  },
  {
   "cell_type": "markdown",
   "metadata": {},
   "source": [
    "<a rel=\"license\" href=\"http://creativecommons.org/licenses/by/4.0/\"><img alt=\"Creative Commons License\" style=\"border-width:0\" src=\"https://i.creativecommons.org/l/by/4.0/80x15.png\" /></a><br />This work is licensed under a <a rel=\"license\" href=\"http://creativecommons.org/licenses/by/4.0/\">Creative Commons Attribution 4.0 International License</a>. The **MOSEK** logo and name are trademarks of <a href=\"http://mosek.com\">Mosek ApS</a>. The code is provided as-is. Compatibility with future release of **MOSEK** or the `MOSEK Optimizer API for Python` are not guaranteed. For more information contact our [support](mailto:support@mosek.com). "
   ]
  }
 ],
 "metadata": {
  "kernelspec": {
   "display_name": "Python 3 (ipykernel)",
   "language": "python",
   "name": "python3"
  },
  "language_info": {
   "codemirror_mode": {
    "name": "ipython",
    "version": 3
   },
   "file_extension": ".py",
   "mimetype": "text/x-python",
   "name": "python",
   "nbconvert_exporter": "python",
   "pygments_lexer": "ipython3",
   "version": "3.9.7"
  }
 },
 "nbformat": 4,
 "nbformat_minor": 2
}
