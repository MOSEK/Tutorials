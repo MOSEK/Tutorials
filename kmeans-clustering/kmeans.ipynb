{
 "cells": [
  {
   "cell_type": "markdown",
   "metadata": {},
   "source": [
    "![MOSEK ApS](https://www.mosek.com/static/images/branding/webgraphmoseklogocolor.png )"
   ]
  },
  {
   "cell_type": "markdown",
   "metadata": {},
   "source": [
    "# Clustering using Disjunctive Constraints\n",
    "\n",
    "[K-Means clustering](https://en.wikipedia.org/wiki/K-means_clustering) is one of the most used clustering problems in unsupervised learning. Typically, a heuristic algorithm is used to solve the K-Means clustering problem. Such algorithms however do not guarantee a global optimum. In this notebook, we show how K-Means can be expressed as a Generalized Disjunctive Program (GDP) with a Quadratic Rotated Cone, and we demonstrate how to implement it in MOSEK using Disjunctive Constraints (DJC). Such problem was for example studied by [Papageorgiou, Trespalacios](https://link.springer.com/article/10.1007/s13675-017-0088-0) and [Kronqvist, Misener, Tsay](https://link.springer.com/chapter/10.1007/978-3-030-78230-6_19). We further show a modification called Euclidean clustering by changing only a few lines of code. \n",
    "\n",
    "We assume a set of points $\\textbf{p}_1, \\ldots, \\textbf{p}_n \\in \\mathbb{R}^\\mathcal{D}$ and a natural number $\\mathcal{K} \\in \\{1, 2, ..., n\\}$ which specifies number of centroids. We want to find positions of the centroids such that the overall squared Euclidean distance from each point to the closest centroid is minimized. The formulation using disjunctions can look as follows\n",
    "\n",
    "$$\\begin{array}{rll}\n",
    "\\text{minimize} & \\sum_{i=1}^n d_i & \\\\\n",
    "\\text{subject to} & \\bigvee_{j \\in \\{1, .., \\mathcal{K}\\}} \\Bigl[ d_i \\geq || \\textbf{c}_j - \\textbf{p}_i ||_2^2  \\wedge Y_i = j \\Bigr], & \\forall i \\in \\{1, ..., n\\},\\\\\n",
    "& c_{j-1, 1} \\leq c_{j, 1}, & \\forall j \\in \\{2, .., \\mathcal{K}\\},\\\\\n",
    "\\\\\n",
    "& d_1, ..., d_n \\in \\mathbb{R}, & \\\\\n",
    "& \\textbf{c}_1, ..., \\textbf{c}_{\\mathcal{K}} \\in \\mathbb{R}^\\mathcal{D}, \\\\\n",
    "& Y_1, ..., Y_n \\in \\{1, .., \\mathcal{K}\\}, &\n",
    "\\end{array}$$\n",
    "\n",
    "where $\\textbf{c}_1, ..., \\textbf{c}_{\\mathcal{K}}$ are the positions of the centroids, $d_1, ..., d_n$ are auxiliary variables representing the shortest squared distance to the nearest centroid for each point and $Y_1, ..., Y_n$ are classification labels for each point, indicating the index of the nearest centroid. The first constraint is a disjunctive constraint representing the choice of a centroid for each point. Exactly one of the clauses in each of $n$ disjunctions is \"active\" and determines the index of the nearest centroid and the distance to is. The second constraint in the formulation is a symmetry-breaking constraint. \n",
    "\n",
    "**MOSEK** only supports Disjunctive Normal Form (DNF) of affine constraints. Formally, this means that each Disjunctive Constraint (DJC) is of the form $ \\bigvee_i \\bigwedge_j T_{i, j}$, where $T_{i,j}$ is an affine constraint. Such constraint is satisfied if and only if there exists at least one term $i$, such that all affine constraints $T_{i,j}$ are satisfied. We therefore need to move the non-linearity out of the disjunction. This can be tackled by a using new auxiliary variables $dAux_{i, j}$ and constraining them outside of the dicjunctions. The program then looks in the following way: \n",
    "\n",
    "$$\\begin{array}{rll}\n",
    "\\text{minimize} & \\sum_{i=1}^n d_i & \\\\\n",
    "\\text{subject to} & \\bigvee_{j \\in \\{1, .., \\mathcal{K}\\}} \\Bigl[ d_i \\geq dAux_{i, j} \\wedge \\hspace{0.2cm} Y_i = j \\Bigr], & \\forall i \\in \\{1, ..., n\\},\\\\\n",
    "& dAux_{i, j} \\geq || \\textbf{c}_j - \\textbf{p}_i ||_2^2, & \\forall j \\in \\{1, .., \\mathcal{K}\\}, \\forall i \\in \\{1, ..., n\\} \\\\\n",
    "& c_{j-1, 1} \\leq c_{j, 1}, & \\forall j \\in \\{2, .., \\mathcal{K}\\}, \\\\\n",
    "\\\\\n",
    "& dAux \\in \\mathbb{R}^{n \\times \\mathcal{K}}, &  \\\\\n",
    "& d_1, ..., d_n \\in \\mathbb{R}, & \\\\\n",
    "& \\textbf{c}_1, ..., \\textbf{c}_{\\mathcal{K}} \\in \\mathbb{R}^\\mathcal{D}, & \\\\\n",
    "& Y_1, ..., Y_n \\in \\{1, .., \\mathcal{K}\\}. &\n",
    "\\end{array}$$\n",
    "\n",
    "### Preparing synthetic data\n",
    "\n",
    "To prepare the synthetic data, we generate 3 clusters with the same number of points. These clusters are generated randomly according to the Multivariate normal distribution each with an appropriate mean vector and a covariance matrix. "
   ]
  },
  {
   "cell_type": "code",
   "execution_count": 1,
   "metadata": {},
   "outputs": [],
   "source": [
    "import numpy as np\n",
    "from mosek.fusion import *\n",
    "import matplotlib.pyplot as plt\n",
    "import sys\n",
    "\n",
    "# make the randomness deterministic\n",
    "np.random.seed(0)"
   ]
  },
  {
   "cell_type": "code",
   "execution_count": 2,
   "metadata": {},
   "outputs": [
    {
     "data": {
      "image/png": "[encoded data removed]",
      "text/plain": [
       "<Figure size 432x288 with 1 Axes>"
      ]
     },
     "metadata": {
      "needs_background": "light"
     },
     "output_type": "display_data"
    }
   ],
   "source": [
    "# specify the number of points\n",
    "nData = 21\n",
    "\n",
    "# generate data\n",
    "numberOfClusters = 3\n",
    "size = nData // numberOfClusters\n",
    "\n",
    "pointsClass1 = np.random.multivariate_normal(np.array([1, 1])*2, np.array([[1, 0], [0, 1]])*0.7, size=size)\n",
    "pointsClass2 = np.random.multivariate_normal(np.array([-1, -1])*2, np.array([[1, 0], [0, 1]])*0.7, size=size)\n",
    "pointsClass3 = np.random.multivariate_normal(np.array([-1, 3])*2, np.array([[1, 0], [0, 1]])*0.7, size=size)\n",
    "\n",
    "points = np.vstack((pointsClass1, pointsClass2, pointsClass3))\n",
    "\n",
    "# plot the generated data\n",
    "\n",
    "labels = np.zeros(3*size)\n",
    "labels[size:2*size] = 1\n",
    "labels[2*size:] = 2\n",
    "\n",
    "plt.title(\"Generated Data\")\n",
    "plt.scatter(pointsClass1[:, 0], pointsClass1[:, 1])\n",
    "plt.scatter(pointsClass2[:, 0], pointsClass2[:, 1])\n",
    "plt.scatter(pointsClass3[:, 0], pointsClass3[:, 1])\n",
    "plt.show()\n"
   ]
  },
  {
   "cell_type": "markdown",
   "metadata": {},
   "source": [
    "### Fusion Model\n",
    "In the following block, we show the K-Means model in the **Mosek Fusion for Python** in a vectorized fashion."
   ]
  },
  {
   "cell_type": "code",
   "execution_count": 3,
   "metadata": {},
   "outputs": [
    {
     "name": "stdout",
     "output_type": "stream",
     "text": [
      "Problem\n",
      "  Name                   :                 \n",
      "  Objective sense        : minimize        \n",
      "  Type                   : CONIC (conic optimization problem)\n",
      "  Constraints            : 2               \n",
      "  Affine conic cons.     : 63              \n",
      "  Disjunctive cons.      : 21              \n",
      "  Cones                  : 0               \n",
      "  Scalar variables       : 112             \n",
      "  Matrix variables       : 0               \n",
      "  Integer variables      : 21              \n",
      "\n",
      "Optimizer started.\n",
      "Mixed integer optimizer started.\n",
      "Threads used: 64\n",
      "Presolve started.\n",
      "Presolve terminated. Time = 0.00, probing time =  0.00\n",
      "Presolved problem: 420 variables, 290 constraints, 664 non-zeros\n",
      "Presolved problem: 21 general integer, 63 binary, 336 continuous\n",
      "Presolved problem: 63 cones\n",
      "Presolved problem: 63 disjunctions\n",
      "Clique table size: 63\n",
      "BRANCHES RELAXS   ACT_NDS  DEPTH    BEST_INT_OBJ         BEST_RELAX_OBJ       REL_GAP(%)  TIME  \n",
      "0        1        1        0        NA                   0.0000000000e+00     NA          0.0   \n",
      "0        1        1        0        3.6682139754e+02     0.0000000000e+00     100.00      0.0   \n",
      "Cut generation started.\n",
      "0        1        1        0        3.6682139754e+02     0.0000000000e+00     100.00      0.0   \n",
      "Cut generation terminated. Time = 0.00\n",
      "9        13       10       2        3.6682139754e+02     0.0000000000e+00     100.00      0.1   \n",
      "23       27       24       3        3.6682139754e+02     0.0000000000e+00     100.00      0.1   \n",
      "41       45       42       5        3.6682139754e+02     0.0000000000e+00     100.00      0.1   \n",
      "54       58       55       6        3.6682139754e+02     0.0000000000e+00     100.00      0.1   \n",
      "72       76       73       7        3.6682139754e+02     0.0000000000e+00     100.00      0.1   \n",
      "95       99       96       8        3.6682139754e+02     0.0000000000e+00     100.00      0.1   \n",
      "128      132      129      9        3.6682139754e+02     0.0000000000e+00     100.00      0.1   \n",
      "206      210      207      11       3.6682139754e+02     0.0000000000e+00     100.00      0.2   \n",
      "398      402      399      14       3.6682139754e+02     5.7818891965e-09     100.00      0.2   \n",
      "782      786      783      20       3.6682139754e+02     5.7818891965e-09     100.00      0.2   \n",
      "1550     1554     1489     11       2.9209669476e+02     5.7987916610e-09     100.00      0.3   \n",
      "3022     2964     2649     15       2.9209669476e+02     1.3458281073e-08     100.00      0.4   \n",
      "4885     4827     4054     23       2.5587728623e+02     1.0159788076e-06     100.00      0.5   \n",
      "6751     6686     5698     31       6.1363276101e+01     2.4285911784e+00     96.04       0.6   \n",
      "9534     8501     5095     17       3.0246866008e+01     4.8619330908e+00     83.93       0.7   \n",
      "14484    8860     389      29       2.9900620501e+01     1.1705980010e+01     60.85       0.8   \n",
      "14868    8886     31       23       2.9900620501e+01     1.1904381561e+01     60.19       0.8   \n",
      "14899    8901     12       24       2.9900620501e+01     1.1904381561e+01     60.19       0.8   \n",
      "14917    8917     12       26       2.9900620501e+01     1.6935494637e+01     43.36       0.9   \n",
      "14931    8930     6        25       2.9900620501e+01     1.6935494640e+01     43.36       0.9   \n",
      "An optimal solution satisfying the relative gap tolerance of 1.00e-02(%) has been located.\n",
      "The relative gap is 0.00e+00(%).\n",
      "An optimal solution satisfying the absolute gap tolerance of 0.00e+00 has been located.\n",
      "The absolute gap is 0.00e+00.\n",
      "\n",
      "Objective of best integer solution : 2.990062050092e+01      \n",
      "Best objective bound               : 2.990062050092e+01      \n",
      "Initial feasible solution objective: Undefined\n",
      "Construct solution objective       : Not employed\n",
      "User objective cut value           : Not employed\n",
      "Number of cuts generated           : 0\n",
      "Number of branches                 : 14937\n",
      "Number of relaxations solved       : 8936\n",
      "Number of interior point iterations: 125523\n",
      "Number of simplex iterations       : 0\n",
      "Time spend presolving the root     : 0.00\n",
      "Time spend optimizing the root     : 0.00\n",
      "Mixed integer optimizer terminated. Time: 0.88\n",
      "\n",
      "Optimizer terminated. Time: 0.96    \n",
      "\n",
      "\n",
      "Integer solution solution summary\n",
      "  Problem status  : PRIMAL_FEASIBLE\n",
      "  Solution status : INTEGER_OPTIMAL\n",
      "  Primal.  obj: 2.9900620501e+01    nrm: 2e+02    Viol.  con: 0e+00    var: 0e+00    acc: 0e+00    djc: 0e+00    itg: 0e+00  \n"
     ]
    }
   ],
   "source": [
    "# get shape\n",
    "n, d = points.shape\n",
    "\n",
    "xs = np.repeat( points, numberOfClusters, axis=0)\n",
    "\n",
    "# create model\n",
    "with Model() as M: \n",
    "\n",
    "    ########## create variables ##########\n",
    "\n",
    "    centroids = M.variable( [numberOfClusters, d], Domain.unbounded() )\n",
    "\n",
    "    distances = M.variable( n, Domain.greaterThan(0) )\n",
    "    distanceAux = M.variable( [n, numberOfClusters] , Domain.greaterThan(0) )\n",
    "\n",
    "    # create classification labels\n",
    "    Y = M.variable( n, Domain.integral( Domain.inRange(0, numberOfClusters-1) ) )\n",
    "\n",
    "\n",
    "    ########## create constraints ##########\n",
    "\n",
    "    # quadratic cone constraints\n",
    "    a1 = Expr.flatten( distanceAux )\n",
    "    a2 = Expr.constTerm([n*numberOfClusters, 1], 0.5)\n",
    "    a3 = Expr.sub(  Expr.repeat(centroids, n, 0) , xs )\n",
    "    \n",
    "    hstack = Expr.hstack([a1, a2, a3])                      # ( d_{ij}Aux, 1/2, x_i - c_j ) in Qr\n",
    "    M.constraint( hstack, Domain.inRotatedQCone() )\n",
    "\n",
    "    # create disjunctive constraints\n",
    "    for pointInd in range(0, n):\n",
    "        label = Y.index(pointInd)\n",
    "        di = distances.index(pointInd)\n",
    "\n",
    "        ANDs = {}\n",
    "\n",
    "        # create AND constraints\n",
    "        for clusterInd in range(0, numberOfClusters):\n",
    "            dijAux = distanceAux.index([pointInd, clusterInd])\n",
    "\n",
    "            ANDs[clusterInd] = DJC.AND( DJC.term( Expr.sub(di, dijAux),Domain.greaterThan(0)),   # di >= dijAux\n",
    "                                        DJC.term( label , Domain.equalsTo(clusterInd)       ))   # Y_i = j\n",
    "        \n",
    "        M.disjunction( [ ANDs[i] for i in range(0, numberOfClusters) ] )\n",
    "\n",
    "\n",
    "    # symmetry breaking constraints\n",
    "    M.constraint( Expr.sub(centroids.slice([0, 0], [numberOfClusters-1, 1]), \n",
    "                           centroids.slice([1, 0], [numberOfClusters, 1])), Domain.lessThan(0) )\n",
    "\n",
    "    ########## solve ##########\n",
    "\n",
    "    M.objective( ObjectiveSense.Minimize, Expr.sum(distances) )        \n",
    "\n",
    "    M.setLogHandler(sys.stdout)     # Enable log output\n",
    "\n",
    "    # Solve \n",
    "    M.solve()\n",
    "\n",
    "    # get centroids and clusters\n",
    "    labels_KMEANS = Y.level()\n",
    "    centroids_KMEANS = np.array(centroids.level()).reshape(numberOfClusters, d)"
   ]
  },
  {
   "cell_type": "markdown",
   "metadata": {},
   "source": [
    "### Plotting the results"
   ]
  },
  {
   "cell_type": "code",
   "execution_count": 4,
   "metadata": {},
   "outputs": [
    {
     "data": {
      "image/png": "[encoded data removed]",
      "text/plain": [
       "<Figure size 432x288 with 1 Axes>"
      ]
     },
     "metadata": {
      "needs_background": "light"
     },
     "output_type": "display_data"
    }
   ],
   "source": [
    "def plotTheResults(centroids, points, labels, kmeans=True):\n",
    "    # scatter centroids and data\n",
    "    plt.scatter(centroids[:, 0], centroids[:, 1], marker='x', color='r')\n",
    "    plt.scatter(points[:, 0], points[:, 1], marker='o')\n",
    "\n",
    "    # draw lines to centroids\n",
    "    for i in range(0, numberOfClusters):\n",
    "\n",
    "        centroid = centroids[i, :]\n",
    "        cluster = points[labels == i, :]\n",
    "        nPointsInCluster = cluster.shape[0]\n",
    "\n",
    "        centroidCopied = np.tile(centroid, (nPointsInCluster, 1))\n",
    "\n",
    "        xx = np.vstack( [ centroidCopied[:, 0] , cluster[:, 0] ])\n",
    "        yy = np.vstack( [ centroidCopied[:, 1] , cluster[:, 1] ])\n",
    "\n",
    "        # plot the lines\n",
    "        plt.plot(xx, yy, '--', color='green', alpha=0.4)\n",
    "\n",
    "\n",
    "    # show the points\n",
    "    if kmeans:\n",
    "        plt.title(\"Solution to the K-Means clustering problem\")\n",
    "    else: \n",
    "        plt.title(\"Solution to the Euclidean clustering problem\")\n",
    "    \n",
    "    plt.legend([\"centroids\", \"data\"])\n",
    "    plt.show()\n",
    "\n",
    "# call the function\n",
    "\n",
    "plotTheResults(centroids_KMEANS, points, labels_KMEANS, kmeans=True)"
   ]
  },
  {
   "cell_type": "markdown",
   "metadata": {},
   "source": [
    "## Euclidean Clustering\n",
    "\n",
    "In order to change the proposed model to Euclidean Clustering, we need to only change the squared norm of the distances to standard Euclidean norm. This approach is more robust to outliers compared to the K-Means algorithm. Euclidean clustering problem has the following form:\n",
    "\n",
    "$$\\begin{array}{rll}\n",
    "\\text{minimize} & \\sum_{i=1}^n d_i & \\\\\n",
    "\\text{subject to} & \\bigvee_{j \\in \\{1, .., \\mathcal{K}\\}} \\Bigl[ \\hspace{0.2cm} d_i \\geq dAux_{i, j} \\wedge Y_i = j \\Bigr], & \\forall i \\in \\{1, ..., n\\},\\\\\n",
    "& dAux_{i, j} \\geq || \\textbf{c}_j - \\textbf{p}_i ||_2, & \\forall j \\in \\{1, .., \\mathcal{K}\\}, & \\forall i \\in \\{1, ..., n\\}, \\\\\n",
    "& c_{j-1, 1} \\leq c_{j, 1} , & \\forall j \\in \\{2, .., \\mathcal{K}\\}, \\\\\n",
    "\\\\\n",
    "& dAux \\in \\mathbb{R}^{n \\times \\mathcal{K}}_+  & \\\\\n",
    "& d_1, ..., d_n \\in \\mathbb{R}_{+}, & \\\\\n",
    "& \\textbf{c}_1, ..., \\textbf{c}_{\\mathcal{K}} \\in \\mathbb{R}^\\mathcal{D}, & \\\\\n",
    "& Y_1, ..., Y_n \\in \\{1, .., \\mathcal{K}\\}. &\n",
    "\\end{array}$$\n",
    "\n",
    "Heuristic algorithms usually solve such a problem by finding a geometric median. In the **Fusion API** model, we need to only swap the Rotated Quadratic Cone for Quadratic Cone.\n"
   ]
  },
  {
   "cell_type": "markdown",
   "metadata": {},
   "source": [
    "## Data"
   ]
  },
  {
   "cell_type": "code",
   "execution_count": 5,
   "metadata": {},
   "outputs": [
    {
     "data": {
      "image/png": "[encoded data removed]",
      "text/plain": [
       "<Figure size 432x288 with 1 Axes>"
      ]
     },
     "metadata": {
      "needs_background": "light"
     },
     "output_type": "display_data"
    }
   ],
   "source": [
    "# use the same data\n",
    "\n",
    "plt.title(\"Generated Data\")\n",
    "plt.scatter(pointsClass1[:, 0], pointsClass1[:, 1])\n",
    "plt.scatter(pointsClass2[:, 0], pointsClass2[:, 1])\n",
    "plt.scatter(pointsClass3[:, 0], pointsClass3[:, 1])\n",
    "plt.show()"
   ]
  },
  {
   "cell_type": "markdown",
   "metadata": {},
   "source": [
    "## Fusion Model"
   ]
  },
  {
   "cell_type": "code",
   "execution_count": 6,
   "metadata": {},
   "outputs": [
    {
     "name": "stdout",
     "output_type": "stream",
     "text": [
      "Problem\n",
      "  Name                   :                 \n",
      "  Objective sense        : minimize        \n",
      "  Type                   : CONIC (conic optimization problem)\n",
      "  Constraints            : 2               \n",
      "  Affine conic cons.     : 63              \n",
      "  Disjunctive cons.      : 21              \n",
      "  Cones                  : 0               \n",
      "  Scalar variables       : 112             \n",
      "  Matrix variables       : 0               \n",
      "  Integer variables      : 21              \n",
      "\n",
      "Optimizer started.\n",
      "Mixed integer optimizer started.\n",
      "Threads used: 64\n",
      "Presolve started.\n",
      "Presolve terminated. Time = 0.00, probing time =  0.00\n",
      "Presolved problem: 357 variables, 290 constraints, 664 non-zeros\n",
      "Presolved problem: 21 general integer, 63 binary, 273 continuous\n",
      "Presolved problem: 63 cones\n",
      "Presolved problem: 63 disjunctions\n",
      "Clique table size: 63\n",
      "BRANCHES RELAXS   ACT_NDS  DEPTH    BEST_INT_OBJ         BEST_RELAX_OBJ       REL_GAP(%)  TIME  \n",
      "0        1        1        0        NA                   0.0000000000e+00     NA          0.0   \n",
      "0        1        1        0        8.5213968665e+01     0.0000000000e+00     100.00      0.0   \n",
      "Cut generation started.\n",
      "0        1        1        0        8.5213968665e+01     0.0000000000e+00     100.00      0.0   \n",
      "Cut generation terminated. Time = 0.00\n",
      "9        13       10       2        8.5213968665e+01     0.0000000000e+00     100.00      0.1   \n",
      "24       28       25       3        8.5213968665e+01     0.0000000000e+00     100.00      0.1   \n",
      "43       47       44       5        8.5213968665e+01     0.0000000000e+00     100.00      0.1   \n",
      "55       59       56       6        8.5213968665e+01     0.0000000000e+00     100.00      0.1   \n",
      "75       79       76       7        8.5213968665e+01     0.0000000000e+00     100.00      0.1   \n",
      "97       101      98       8        8.5213968665e+01     0.0000000000e+00     100.00      0.1   \n",
      "131      135      132      9        8.5213968665e+01     0.0000000000e+00     100.00      0.1   \n",
      "207      211      208      11       8.5213968665e+01     0.0000000000e+00     100.00      0.1   \n",
      "399      403      400      14       8.5213968665e+01     0.0000000000e+00     100.00      0.2   \n",
      "783      787      784      20       8.5213968665e+01     0.0000000000e+00     100.00      0.2   \n",
      "1551     1555     1506     7        8.0007253389e+01     0.0000000000e+00     100.00      0.2   \n",
      "3023     3019     2752     20       7.7542742673e+01     1.2384027469e-09     100.00      0.3   \n",
      "4943     4939     4282     10       6.4230909292e+01     1.2384027469e-09     100.00      0.4   \n",
      "6863     6859     6190     26       6.4230909292e+01     1.5939326100e-09     100.00      0.5   \n",
      "8778     8774     7569     21       6.4230909292e+01     3.3543150697e+00     94.78       0.5   \n",
      "10672    10668    9177     24       5.3741376919e+01     6.1996500725e+00     88.46       0.6   \n",
      "12586    12571    10627    29       3.0022302617e+01     7.8071468376e+00     74.00       0.7   \n",
      "14549    14469    11228    24       2.4972155345e+01     8.9100468605e+00     64.32       0.8   \n",
      "17060    16350    11243    32       2.4972155345e+01     9.4691749685e+00     62.08       0.9   \n",
      "19230    18233    11387    14       2.0852857330e+01     9.9792349266e+00     52.14       1.0   \n",
      "22397    20093    10512    13       2.0852857330e+01     1.0770938019e+01     48.35       1.1   \n",
      "24852    21978    10029    16       2.0852857330e+01     1.1656163183e+01     44.10       1.2   \n",
      "27019    23877    9694     20       2.0852857330e+01     1.2027249317e+01     42.32       1.3   \n",
      "29093    25778    9428     24       2.0852857330e+01     1.2350676113e+01     40.77       1.4   \n",
      "31121    27685    9144     18       2.0852857330e+01     1.2509919303e+01     40.01       1.4   \n",
      "33180    29593    8753     20       2.0852857330e+01     1.2792794764e+01     38.65       1.5   \n",
      "35230    31500    8335     16       2.0852857330e+01     1.3012038572e+01     37.60       1.6   \n",
      "37275    33413    7852     14       2.0852857330e+01     1.3338809996e+01     36.03       1.7   \n",
      "39308    35325    7359     11       2.0852857330e+01     1.3661633587e+01     34.49       1.8   \n",
      "41351    37235    6848     18       2.0852857330e+01     1.3874268700e+01     33.47       1.9   \n",
      "43417    39148    6230     17       2.0852857330e+01     1.4262195538e+01     31.61       2.0   \n",
      "45434    41013    5585     14       2.0852857330e+01     1.4539497525e+01     30.28       2.1   \n",
      "47571    42925    4798     13       2.0852857330e+01     1.4558626153e+01     30.18       2.1   \n",
      "49732    44834    3933     18       2.0852857330e+01     1.5158292439e+01     27.31       2.2   \n",
      "51896    46751    2989     20       2.0852857330e+01     1.5629371465e+01     25.05       2.3   \n",
      "54255    48662    1682     18       2.0852857330e+01     1.6574615587e+01     20.52       2.4   \n",
      "55919    49807    514      14       2.0852857330e+01     1.7679256490e+01     15.22       2.4   \n",
      "56423    49986    62       21       2.0852857330e+01     1.9995164234e+01     4.11        2.5   \n",
      "56487    49997    0        19       2.0852857330e+01     2.0852857330e+01     0.00e+00    2.5   \n",
      "An optimal solution satisfying the relative gap tolerance of 1.00e-02(%) has been located.\n",
      "The relative gap is 0.00e+00(%).\n",
      "An optimal solution satisfying the absolute gap tolerance of 0.00e+00 has been located.\n",
      "The absolute gap is 0.00e+00.\n",
      "\n",
      "Objective of best integer solution : 2.085285733044e+01      \n",
      "Best objective bound               : 2.085285733044e+01      \n",
      "Initial feasible solution objective: Undefined\n",
      "Construct solution objective       : Not employed\n",
      "User objective cut value           : Not employed\n",
      "Number of cuts generated           : 0\n",
      "Number of branches                 : 56487\n",
      "Number of relaxations solved       : 49997\n",
      "Number of interior point iterations: 655050\n",
      "Number of simplex iterations       : 0\n",
      "Time spend presolving the root     : 0.00\n",
      "Time spend optimizing the root     : 0.00\n",
      "Mixed integer optimizer terminated. Time: 2.47\n",
      "\n",
      "Optimizer terminated. Time: 2.51    \n",
      "\n",
      "\n",
      "Integer solution solution summary\n",
      "  Problem status  : PRIMAL_FEASIBLE\n",
      "  Solution status : INTEGER_OPTIMAL\n",
      "  Primal.  obj: 2.0852857330e+01    nrm: 4e+01    Viol.  con: 0e+00    var: 0e+00    acc: 0e+00    djc: 0e+00    itg: 0e+00  \n"
     ]
    }
   ],
   "source": [
    "# get shape\n",
    "n, d = points.shape\n",
    "\n",
    "xs = np.repeat( points, numberOfClusters, axis=0)\n",
    "\n",
    "# create model\n",
    "with Model() as M: \n",
    "\n",
    "    ########## create variables ##########\n",
    "\n",
    "    centroids = M.variable( [numberOfClusters, d], Domain.unbounded() )\n",
    "\n",
    "    distances = M.variable( n, Domain.greaterThan(0) )\n",
    "    distanceAux = M.variable( [n, numberOfClusters] , Domain.greaterThan(0) )\n",
    "\n",
    "    # create classification labels\n",
    "    Y = M.variable( n, Domain.integral( Domain.inRange(0, numberOfClusters-1) ) )\n",
    "\n",
    "\n",
    "    ########## create constraints ##########\n",
    "\n",
    "    # quadratic cone constraints - THIS IS THE ONLY DIFFERENCE TO K-MEANS MODEL\n",
    "    a1 = Expr.flatten( distanceAux )\n",
    "    a2 = Expr.sub(  Expr.repeat(centroids, n, 0) , xs )\n",
    "    \n",
    "    hstack = Expr.hstack([a1, a2])                      # ( d_{ij}Aux, x_i - c_j )\n",
    "    M.constraint( hstack, Domain.inQCone() )            # now a quadratic instead of rotated quadratic cone\n",
    "\n",
    "    # create disjunctive constraints\n",
    "    for pointInd in range(0, n):\n",
    "        label = Y.index(pointInd)\n",
    "        di = distances.index(pointInd)\n",
    "\n",
    "        ANDs = {}\n",
    "\n",
    "        # create AND constraints\n",
    "        for clusterInd in range(0, numberOfClusters):\n",
    "            dijAux = distanceAux.index([pointInd, clusterInd])\n",
    "\n",
    "            ANDs[clusterInd] = DJC.AND( DJC.term( Expr.sub(di, dijAux),Domain.greaterThan(0)),   # di >= dijAux\n",
    "                                        DJC.term( label , Domain.equalsTo(clusterInd)       ))   # Y_i = j\n",
    "\n",
    "        M.disjunction( [ ANDs[i] for i in range(0, numberOfClusters) ] )\n",
    "\n",
    "    # symmetry breaking constraints\n",
    "    M.constraint( Expr.sub(centroids.slice([0, 0], [numberOfClusters-1, 1]), \n",
    "                           centroids.slice([1, 0], [numberOfClusters, 1])), Domain.lessThan(0) )\n",
    "\n",
    "    ########## solve ##########\n",
    "\n",
    "    M.objective( ObjectiveSense.Minimize, Expr.sum(distances) )        \n",
    "\n",
    "    M.setLogHandler(sys.stdout)     # Enable log output\n",
    "\n",
    "    # Solve \n",
    "    M.solve()\n",
    "\n",
    "    # get centroids and clusters\n",
    "    labels_EUCL = Y.level()\n",
    "    centroids_EUCL = np.array(centroids.level()).reshape(numberOfClusters, d)"
   ]
  },
  {
   "cell_type": "markdown",
   "metadata": {},
   "source": [
    "### Plot the data"
   ]
  },
  {
   "cell_type": "code",
   "execution_count": 7,
   "metadata": {},
   "outputs": [
    {
     "data": {
      "image/png": "[encoded data removed]",
      "text/plain": [
       "<Figure size 432x288 with 1 Axes>"
      ]
     },
     "metadata": {
      "needs_background": "light"
     },
     "output_type": "display_data"
    },
    {
     "data": {
      "image/png": "[encoded data removed]",
      "text/plain": [
       "<Figure size 432x288 with 1 Axes>"
      ]
     },
     "metadata": {
      "needs_background": "light"
     },
     "output_type": "display_data"
    }
   ],
   "source": [
    "# call the plotting functions\n",
    "plotTheResults(centroids_KMEANS, points, labels_KMEANS, kmeans=True)\n",
    "plotTheResults(centroids_EUCL, points, labels_EUCL, kmeans=False)"
   ]
  },
  {
   "cell_type": "markdown",
   "metadata": {},
   "source": [
    "<a rel=\"license\" href=\"http://creativecommons.org/licenses/by/4.0/\"><img alt=\"Creative Commons License\" style=\"border-width:0\" src=\"https://i.creativecommons.org/l/by/4.0/80x15.png\" /></a><br />This work is licensed under a <a rel=\"license\" href=\"http://creativecommons.org/licenses/by/4.0/\">Creative Commons Attribution 4.0 International License</a>. The **MOSEK** logo and name are trademarks of <a href=\"http://mosek.com\">Mosek ApS</a>. The code is provided as-is. Compatibility with future release of **MOSEK** or the `Fusion API` are not guaranteed. For more information contact our [support](mailto:support@mosek.com). "
   ]
  }
 ],
 "metadata": {
  "kernelspec": {
   "display_name": "Python 3 (ipykernel)",
   "language": "python",
   "name": "python3"
  },
  "language_info": {
   "codemirror_mode": {
    "name": "ipython",
    "version": 3
   },
   "file_extension": ".py",
   "mimetype": "text/x-python",
   "name": "python",
   "nbconvert_exporter": "python",
   "pygments_lexer": "ipython3",
   "version": "3.9.7"
  },
  "vscode": {
   "interpreter": {
    "hash": "916dbcbb3f70747c44a77c7bcd40155683ae19c65e1c03b4aa3499c5328201f1"
   }
  }
 },
 "nbformat": 4,
 "nbformat_minor": 2
}
