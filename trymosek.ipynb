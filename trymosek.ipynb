{
  "nbformat": 4,
  "nbformat_minor": 0,
  "metadata": {
    "colab": {
      "name": "mosek-colab-test.ipynb",
      "provenance": [],
      "collapsed_sections": []
    },
    "kernelspec": {
      "name": "python3",
      "display_name": "Python 3"
    }
  },
  "cells": [
    {
      "cell_type": "markdown",
      "metadata": {
        "id": "Ueow-AI7gR0L"
      },
      "source": [
        "# Using MOSEK in Google Colab\n",
        "\n",
        "You can run this notebook in Google Colab (or any other environment that provides ``!pip install``) as is. There is no need to install a license or anything else.\n",
        "\n",
        "The optimization will be performed on https://solve.mosek.com/."
      ]
    },
    {
      "cell_type": "code",
      "metadata": {
        "id": "_ZpMkdiQ_kBw"
      },
      "source": [
        "# Install MOSEK if not already installed\n",
        "!pip install mosek"
      ],
      "execution_count": null,
      "outputs": []
    },
    {
      "cell_type": "code",
      "metadata": {
        "id": "d3cCd6K_ARrJ"
      },
      "source": [
        "# In this example we use the Fusion API\n",
        "#    https://docs.mosek.com/latest/pythonfusion/index.html\n",
        "# One could also use the lower level Optimizer API for Python\n",
        "#    https://docs.mosek.com/latest/pythonapi/index.html\n",
        "from mosek.fusion import *\n",
        "import sys\n",
        "import numpy as np\n",
        "np.random.seed(71749373)\n",
        "\n",
        "# Set up a very simple linear regression problem for demonstration\n",
        "def mosek_least_squares(m, n, A, b, log):\n",
        "  M = Model()\n",
        "  x = M.variable(n)\n",
        "  t = M.variable()\n",
        "\n",
        "  # t >= ||Ax-b||_2\n",
        "  M.constraint(Expr.vstack(t, Expr.sub(Expr.mul(A, x), b)),\n",
        "               Domain.inQCone())\n",
        "  \n",
        "  M.objective(ObjectiveSense.Minimize, t)\n",
        "\n",
        "  # Use the online demo optimization server\n",
        "  M.optserverHost(\"http://solve.mosek.com:30080\") \n",
        "  M.setLogHandler(sys.stdout if log else None)\n",
        "  M.solve()\n",
        "\n",
        "  print(\"Problem status: {prosta}\".format(prosta=M.getProblemStatus()))\n",
        "  print(\"residual: {t}\".format(t=t.level()[0]))\n",
        "\n",
        "  if M.getProblemStatus() == ProblemStatus.PrimalAndDualFeasible:\n",
        "    return x.level()"
      ],
      "execution_count": 2,
      "outputs": []
    },
    {
      "cell_type": "code",
      "metadata": {
        "colab": {
          "base_uri": "https://localhost:8080/"
        },
        "id": "SoN82ezKk0rT",
        "outputId": "c1014dfa-1a9d-45f7-ab95-ed7d0ac91e06"
      },
      "source": [
        "# Random example\n",
        "m, n = 20, 15\n",
        "A = np.random.randn(m, n)\n",
        "b = np.random.randn(m)\n",
        "\n",
        "x = mosek_least_squares(m, n, A, b, False)"
      ],
      "execution_count": 3,
      "outputs": [
        {
          "output_type": "stream",
          "text": [
            "Problem status: ProblemStatus.PrimalAndDualFeasible\n",
            "residual: 1.5633248125910382\n"
          ],
          "name": "stdout"
        }
      ]
    },
    {
      "cell_type": "code",
      "metadata": {
        "colab": {
          "base_uri": "https://localhost:8080/",
          "height": 333
        },
        "id": "Fs_f-nu-lHZF",
        "outputId": "5e21aabf-6a0d-456a-cfa7-e639b39958b3"
      },
      "source": [
        "# 2-dimensional example with intercept\n",
        "m = 30\n",
        "X = np.random.rand(m)\n",
        "Y = 3 * X + 1 + 0.5*(np.random.rand(m)-0.5)\n",
        "\n",
        "a = mosek_least_squares(m, 2, np.vstack((X,np.ones(m))).transpose(), Y, False)\n",
        "\n",
        "print(\"Regression line: {0:.3f} x + {1:.3f}\".format(a[0], a[1]))\n",
        "%matplotlib inline\n",
        "import matplotlib.pyplot as plt\n",
        "d = np.linspace(0, 1, 2)\n",
        "plt.scatter(X, Y)\n",
        "plt.plot(d, a[0] * d + a[1])"
      ],
      "execution_count": 4,
      "outputs": [
        {
          "output_type": "stream",
          "text": [
            "Problem status: ProblemStatus.PrimalAndDualFeasible\n",
            "residual: 0.689564246467142\n",
            "Regression line: 2.902 x + 1.034\n"
          ],
          "name": "stdout"
        },
        {
          "output_type": "execute_result",
          "data": {
            "text/plain": [
              "[<matplotlib.lines.Line2D at 0x7f87327f9ac8>]"
            ]
          },
          "metadata": {
            "tags": []
          },
          "execution_count": 4
        },
        {
          "output_type": "display_data",
          "data": {
            "image/png": "[encoded data removed]",
            "text/plain": [
              "<Figure size 432x288 with 1 Axes>"
            ]
          },
          "metadata": {
            "tags": [],
            "needs_background": "light"
          }
        }
      ]
    },
    {
      "cell_type": "markdown",
      "metadata": {
        "id": "JAe5oo5Bo4I4"
      },
      "source": [
        "# What now?\n",
        "\n",
        "The demo service at https://solve.mosek.com has size limitations. If you want to use MOSEK on your own grab and install a [trial](https://www.mosek.com/try/) or [academic](https://www.mosek.com/products/academic-licenses/) license and remove the call to ``M.optserverHost`` to optimize locally.\n",
        "\n",
        "Alternatively, install your own [OptServer](https://github.com/MOSEK/Dockerfiles/tree/master/optserver-demo), install a license there, and redirect to it in the ``M.optserverHost`` call."
      ]
    }
  ]
}