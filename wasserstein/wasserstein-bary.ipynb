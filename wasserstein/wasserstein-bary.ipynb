{
 "cells": [
  {
   "cell_type": "markdown",
   "metadata": {},
   "source": [
    "![MOSEK ApS](https://www.mosek.com/static/images/branding/webgraphmoseklogocolor.png )"
   ]
  },
  {
   "cell_type": "markdown",
   "metadata": {},
   "source": [
    "# Wasserstein Barycenters using Mosek"
   ]
  },
  {
   "cell_type": "markdown",
   "metadata": {},
   "source": [
    "Wasserstein Distance is a way to measure the distance between two probabilty distributions. It allows to summarize, compare, match and reduce the dimensionality of the emprical probability measures to carry out some machine learning fundamentals."
   ]
  },
  {
   "cell_type": "markdown",
   "metadata": {},
   "source": [
    "Wasserstein distance of order $p$ between two probabilty distributions $\\mu$ and $\\upsilon$ is defined as:\n",
    "<br>\n",
    "<br>\n",
    "$$W_p(\\mu,\\upsilon)$$"
   ]
  },
  {
   "cell_type": "markdown",
   "metadata": {},
   "source": [
    "If the distributions are discrete $W_p(\\mu,\\upsilon)$ is equilavent to the following LP model:\n",
    "<br>\n",
    "<br>\n",
    "$$ \\mbox{minimize} \\quad \\sum_{i=1}\\sum_{j=1} D(X_i,Y_j)^p\\pi_{ij}$$\n",
    "<br>\n",
    "$$ \\mbox{st.} \\quad \\sum_{j=1} \\pi_{ij} = \\mu_i , \\quad i = 1,2,..n $$\n",
    "<br>\n",
    "$$ \\quad \\sum_{i=1} \\pi_{ij} = \\upsilon_j, \\quad j = 1,2,..m $$\n",
    "<br>\n",
    "$$ \\pi_{ij} \\geq 0, \\quad \\forall_{i,j}$$\n",
    "<br>\n",
    "where $D(X_i,Y_j)$ is the distance function."
   ]
  },
  {
   "cell_type": "markdown",
   "metadata": {},
   "source": [
    "There are more efficient ways to approximate this metric but LP approach will be applied in order to compare the performance and modeling structure of Fusion, Pyomo and CVXPY."
   ]
  },
  {
   "cell_type": "markdown",
   "metadata": {},
   "source": [
    "## Wasserstein Barycenter"
   ]
  },
  {
   "cell_type": "markdown",
   "metadata": {},
   "source": [
    "Wasserstein barycenter problem involves all Wasserstein distances from one to many measures. Given measures $\\upsilon_1,\\ldots,\\upsilon_N$ we want to find the measure which minimizes the sum of distances to the given measures, that is solve the problem:\n",
    "$$ \\mbox{minimize}_\\mu\\sum_{i=1} \\lambda_i W_p(\\mu,\\upsilon_i) $$\n",
    "for some fixed system $\\lambda_i $ of weights of distances to specific distributions that satisfies $$\\sum_{i=1}\\lambda_i = 1.$$\n",
    "For simplicity uniform weights are used in this problem. Then the barycenters problem becomes:\n",
    "$$ \\mbox{minimize}_\\mu \\frac1N \\sum_{i=1}^{N} W_p(\\mu,\\upsilon_i). $$"
   ]
  },
  {
   "cell_type": "markdown",
   "metadata": {},
   "source": [
    "In this problem, Wasserstein Barycenter of One's are visualized using images with size $28x28$ using $20$ handwriten '1' digits from MNIST database http://yann.lecun.com/exdb/mnist/. Computations are carried out by Intel(R) Xeon(R) CPU E5-2687W v4 @ 3.00GHz processor. Similar experiments are performed by Cuturi and Doucet in http://proceedings.mlr.press/v32/cuturi14.pdf."
   ]
  },
  {
   "cell_type": "code",
   "execution_count": 1,
   "metadata": {
    "scrolled": false
   },
   "outputs": [
    {
     "data": {
      "image/png": "[encoded data removed]",
      "text/plain": [
       "<Figure size 1440x720 with 10 Axes>"
      ]
     },
     "metadata": {},
     "output_type": "display_data"
    }
   ],
   "source": [
    "import struct\n",
    "import numpy as np\n",
    "%matplotlib inline\n",
    "import matplotlib.pyplot as plt\n",
    "\n",
    "#Define the number of images for the barycenter calculation\n",
    "n=20\n",
    "\n",
    "#Read the images from the file\n",
    "def read_idx(filename):\n",
    "    with open(filename, 'rb') as f:\n",
    "        zero, data_type, dims = struct.unpack('>HBB', f.read(4))\n",
    "        shape = tuple(struct.unpack('>I', f.read(4))[0] for d in range(dims))\n",
    "        return np.frombuffer(f.read(), dtype=np.uint8).reshape(shape)\n",
    "    \n",
    "data = read_idx('train-images.idx3-ubyte')\n",
    "labels = read_idx('train-labels.idx1-ubyte')\n",
    "#Select the images\n",
    "ones = data[labels == 1]\n",
    "train_1 = ones[:n]\n",
    "\n",
    "plt.figure(figsize=(20,10))\n",
    "for i in range(10):\n",
    "    plt.subplot(2,5,i+1)\n",
    "    plt.imshow(ones[np.random.randint(0,ones.shape[0])])"
   ]
  },
  {
   "cell_type": "markdown",
   "metadata": {},
   "source": [
    "## Barycenters using Mosek Fusion"
   ]
  },
  {
   "cell_type": "markdown",
   "metadata": {},
   "source": [
    "The final barycenter problem is as follows. We choose $p=2$.\n",
    "<br>\n",
    "<br>\n",
    "$$ \\mbox{minimize} \\quad \\frac1N \\sum_{k=1}^{N} t_k \\quad $$\n",
    "<br>\n",
    "$$ \\mbox{st.} \\quad t_k \\geq \\sum_{i=1}\\sum_{j=1} D(X_i,Y_j)^2\\pi_{ij}^k \\quad \\forall_{k} \\quad (1)$$\n",
    "<br>\n",
    "$$  \\quad \\sum_{j=1} \\pi_{ij}^{k} = \\mu_i , \\quad \\forall_{k,i} \\quad (2)$$\n",
    "<br>\n",
    "$$ \\quad \\sum_{i=1} \\pi_{ij}^{k} = \\upsilon_j^{k}, \\quad \\forall_{k,j} \\quad (3) $$\n",
    "<br>\n",
    "$$ \\pi_{ij}^{k} \\geq 0 \\quad \\forall_{k,i,j}, \\quad \\mu_i \\geq 0 \\quad \\forall_i$$\n",
    "<br>\n",
    "where $D(X_i,Y_j)$ is the Euclidean distance between pixels and $N$ is the number of samples."
   ]
  },
  {
   "cell_type": "code",
   "execution_count": 2,
   "metadata": {},
   "outputs": [],
   "source": [
    "from mosek.fusion import *\n",
    "import time\n",
    "import sys\n",
    "class Wasserstein_Fusion:\n",
    "    \n",
    "    def __init__(self):\n",
    "        self.time = 0.0\n",
    "        self.M = Model('Wasserstein')\n",
    "        self.result = None\n",
    "    \n",
    "    \n",
    "    def single_pmf(self, data = None, img=False):\n",
    "        \n",
    "        ''' Takes a image or array of images and extracts the probabilty mass function'''\n",
    "        \n",
    "        if not img:\n",
    "            v=[]\n",
    "            for image in data:\n",
    "                arr = np.asarray(image).ravel(order='K')\n",
    "                v.append(arr/np.sum(arr))\n",
    "        else:\n",
    "            v = np.asarray(data).ravel(order='K')\n",
    "            v = v/np.sum(v)\n",
    "        return v\n",
    "    \n",
    "    def ms_distance(self, m ,n, constant=False):\n",
    "        \n",
    "        ''' Squared Euclidean distance calculation between the pixels '''\n",
    "        \n",
    "        if constant:\n",
    "            d = np.ones((m,m))\n",
    "        else:\n",
    "            d = np.empty((m,m))\n",
    "            coor = []\n",
    "            for i in range(n):\n",
    "                for j in range(n):\n",
    "                    coor.append(np.array([i,j]))\n",
    "            for i in range(m):\n",
    "                for j in range(m):\n",
    "                    d[i][j] = np.linalg.norm(coor[i]-coor[j])**2\n",
    "        return d\n",
    "    \n",
    "    def Wasserstein_Distance(self, bc ,data, img = False):\n",
    "        \n",
    "        ''' Calculation of wasserstein distance between a barycenter and an image by solving the minimization problem '''\n",
    "    \n",
    "        v = np.array(self.single_pmf(data, img))\n",
    "        n = v.shape[0]\n",
    "        d = self.ms_distance(n,data.shape[1])\n",
    "        with Model('Wasserstein') as M:\n",
    "            #Add variable\n",
    "            pi = M.variable('pi',[n,n], Domain.greaterThan(0.0))\n",
    "            \n",
    "            #Add constraints\n",
    "            M.constraint('c1' , Expr.sum(pi,0), Domain.equalsTo(v))\n",
    "            M.constraint('c2' , Expr.sum(pi,1), Domain.equalsTo(bc))\n",
    "            \n",
    "            M.objective('Obj.' , ObjectiveSense.Minimize, Expr.dot(d, pi))\n",
    "            \n",
    "            M.solve()\n",
    "            objective = M.primalObjValue()\n",
    "            \n",
    "        return objective\n",
    "    \n",
    "    def Wasserstein_BaryCenter(self,data):\n",
    "        \n",
    "        M = self.M\n",
    "        start_time = time.time()\n",
    "        k = data.shape[0]\n",
    "        v = np.array(self.single_pmf(data))\n",
    "        n = v.shape[1]\n",
    "        d = self.ms_distance(n,data.shape[1])\n",
    "        \n",
    "        #Add variables   \n",
    "        mu = M.variable('Mu', n, Domain.greaterThan(0.0))  \n",
    "        pi = (M.variable('Pi', [k,n,n] , Domain.greaterThan(0.0)))\n",
    "        t = (M.variable('t', k , Domain.greaterThan(0.0)))\n",
    "                \n",
    "        #Add constraints    \n",
    "        #Constraint (1)\n",
    "        M.constraint('A', Expr.sub(t , Expr.mul(Expr.reshape(pi.asExpr(), k, n*n) , d.ravel())), Domain.greaterThan(0.0))\n",
    "        #Constraint (2)\n",
    "        M.constraint('B', Expr.sub(Expr.sum(pi,1) , Var.repeat(mu,1,k).transpose()), Domain.equalsTo(0.0))\n",
    "        #Constraint (3)\n",
    "        M.constraint('C', Expr.sum(pi,2), Domain.equalsTo(v))\n",
    "            \n",
    "        M.objective('Obj' , ObjectiveSense.Minimize, Expr.sum(Expr.mul(t, 1/k)))\n",
    "        \n",
    "        M.setLogHandler(sys.stdout)\n",
    "        M.solve()\n",
    "        self.result = mu.level()\n",
    "        self.objective = M.primalObjValue()\n",
    "        self.time = time.time() - start_time\n",
    "        \n",
    "        return self.result\n",
    "        \n",
    "        \n",
    "    def reset(self):\n",
    "        self.M = Model('Wasserstein')\n",
    "    "
   ]
  },
  {
   "cell_type": "code",
   "execution_count": 3,
   "metadata": {
    "scrolled": true
   },
   "outputs": [
    {
     "name": "stdout",
     "output_type": "stream",
     "text": [
      "Problem\n",
      "  Name                   : Wasserstein     \n",
      "  Objective sense        : min             \n",
      "  Type                   : LO (linear optimization problem)\n",
      "  Constraints            : 31380           \n",
      "  Cones                  : 0               \n",
      "  Scalar variables       : 12293925        \n",
      "  Matrix variables       : 0               \n",
      "  Integer variables      : 0               \n",
      "\n",
      "Optimizer started.\n",
      "Presolve started.\n",
      "Linear dependency checker started.\n",
      "Linear dependency checker terminated.\n",
      "Eliminator started.\n",
      "Freed constraints in eliminator : 0\n",
      "Eliminator terminated.\n",
      "Eliminator - tries                  : 1                 time                   : 0.00            \n",
      "Lin. dep.  - tries                  : 1                 time                   : 0.24            \n",
      "Lin. dep.  - number                 : 19              \n",
      "Presolve terminated. Time: 5.42    \n",
      "GP based matrix reordering started.\n",
      "GP based matrix reordering terminated.\n",
      "Problem\n",
      "  Name                   : Wasserstein     \n",
      "  Objective sense        : min             \n",
      "  Type                   : LO (linear optimization problem)\n",
      "  Constraints            : 31380           \n",
      "  Cones                  : 0               \n",
      "  Scalar variables       : 12293925        \n",
      "  Matrix variables       : 0               \n",
      "  Integer variables      : 0               \n",
      "\n",
      "Optimizer  - threads                : 24              \n",
      "Optimizer  - solved problem         : the primal      \n",
      "Optimizer  - Constraints            : 17440\n",
      "Optimizer  - Cones                  : 0\n",
      "Optimizer  - Scalar variables       : 1395520           conic                  : 0               \n",
      "Optimizer  - Semi-definite variables: 0                 scalarized             : 0               \n",
      "Factor     - setup time             : 16.43             dense det. time        : 0.20            \n",
      "Factor     - ML order time          : 0.04              GP order time          : 14.65           \n",
      "Factor     - nonzeros before factor : 1.55e+06          after factor           : 1.44e+07        \n",
      "Factor     - dense dim.             : 0                 flops                  : 1.64e+10        \n",
      "Factor     - GP saved nzs           : 1.75e+06          GP saved flops         : 3.15e+09        \n",
      "ITE PFEAS    DFEAS    GFEAS    PRSTATUS   POBJ              DOBJ              MU       TIME  \n",
      "0   5.5e+03  3.2e+02  8.3e+07  0.00e+00   1.182613040e+07   0.000000000e+00   4.9e+01  23.38 \n",
      "1   6.8e-01  4.0e-02  1.0e+04  -1.00e+00  1.120231068e+07   -1.638527125e+05  6.1e-03  24.42 \n",
      "2   5.8e-02  3.4e-03  8.8e+02  2.61e+01   1.558624710e+04   -2.985003979e+03  5.2e-04  25.87 \n",
      "3   4.5e-02  2.6e-03  6.8e+02  1.08e+01   3.256531514e+03   -6.820367762e+02  4.0e-04  26.89 \n",
      "4   4.2e-02  2.5e-03  6.4e+02  5.25e+00   2.407863248e+03   -4.995626420e+02  3.8e-04  27.84 \n",
      "5   3.8e-02  2.2e-03  5.7e+02  4.40e+00   1.571023848e+03   -3.171235705e+02  3.4e-04  28.68 \n",
      "6   3.3e-02  1.9e-03  5.0e+02  3.48e+00   1.104555995e+03   -2.125212567e+02  3.0e-04  29.52 \n",
      "7   2.9e-02  1.7e-03  4.3e+02  2.91e+00   7.928892307e+02   -1.415543053e+02  2.6e-04  30.40 \n",
      "8   1.2e-02  7.1e-04  1.8e+02  2.47e+00   2.252271180e+02   -1.976502285e+01  1.1e-04  31.54 \n",
      "9   5.2e-03  3.1e-04  7.9e+01  1.44e+00   9.137862868e+01   -2.802278257e+00  4.7e-05  32.67 \n",
      "10  1.2e-03  6.9e-05  1.8e+01  1.16e+00   2.223917710e+01   2.047778184e+00   1.1e-05  34.43 \n",
      "11  7.7e-04  4.5e-05  1.2e+01  1.04e+00   1.552925437e+01   2.419701859e+00   6.9e-06  35.51 \n",
      "12  3.9e-04  2.3e-05  5.9e+00  1.02e+00   9.411514139e+00   2.769092362e+00   3.5e-06  36.49 \n",
      "13  1.3e-04  8.1e-06  2.0e+00  1.01e+00   5.275173812e+00   3.000408169e+00   1.2e-06  38.12 \n",
      "14  5.5e-05  3.3e-06  8.2e-01  1.00e+00   3.990965725e+00   3.070294675e+00   4.9e-07  39.43 \n",
      "15  2.5e-05  1.5e-06  3.8e-01  1.00e+00   3.515474345e+00   3.095350472e+00   2.2e-07  40.62 \n",
      "16  1.2e-05  7.0e-07  1.8e-01  1.00e+00   3.304309669e+00   3.106260800e+00   1.1e-07  42.02 \n",
      "17  7.1e-06  4.3e-07  1.1e-01  1.00e+00   3.229689796e+00   3.109866447e+00   6.4e-08  42.97 \n",
      "18  3.1e-06  2.4e-07  4.8e-02  1.00e+00   3.165660320e+00   3.112133382e+00   2.8e-08  43.95 \n",
      "19  1.2e-06  9.5e-08  1.9e-02  1.00e+00   3.135045283e+00   3.113923931e+00   1.1e-08  45.16 \n",
      "20  2.5e-07  1.9e-08  3.9e-03  1.00e+00   3.119054866e+00   3.114731758e+00   2.3e-09  46.25 \n",
      "21  1.2e-09  9.1e-11  1.8e-05  1.00e+00   3.114878927e+00   3.114858639e+00   1.1e-11  47.65 \n",
      "22  3.4e-12  2.5e-13  4.8e-08  1.00e+00   3.114858825e+00   3.114858771e+00   2.8e-14  48.54 \n",
      "23  3.7e-13  5.7e-14  3.3e-13  1.00e+00   3.114858772e+00   3.114858772e+00   2.9e-18  49.46 \n",
      "Basis identification started.\n",
      "Basis identification terminated. Time: 0.51\n",
      "Optimizer terminated. Time: 54.83   \n",
      "\n",
      "\n",
      "Interior-point solution summary\n",
      "  Problem status  : PRIMAL_AND_DUAL_FEASIBLE\n",
      "  Solution status : OPTIMAL\n",
      "  Primal.  obj: 3.1148587718e+00    nrm: 6e+00    Viol.  con: 4e-13    var: 0e+00  \n",
      "  Dual.    obj: 3.1148587718e+00    nrm: 2e+02    Viol.  con: 0e+00    var: 6e-14  \n",
      "\n",
      "Basic solution summary\n",
      "  Problem status  : PRIMAL_AND_DUAL_FEASIBLE\n",
      "  Solution status : OPTIMAL\n",
      "  Primal.  obj: 3.1148587718e+00    nrm: 6e+00    Viol.  con: 4e-17    var: 1e-06  \n",
      "  Dual.    obj: 3.1148587718e+00    nrm: 2e+02    Viol.  con: 0e+00    var: 2e-09  \n",
      "\n",
      "Time Spent to solve problem with Fusion: \n",
      " 70.28409123420715\n",
      "Time Spent in solver: \n",
      " 54.830564975738525\n",
      "The average Wasserstein distance between digits and the barycenter: \n",
      " 3.1148587717952356\n"
     ]
    }
   ],
   "source": [
    "fusion_model = Wasserstein_Fusion()\n",
    "f_bc = fusion_model.Wasserstein_BaryCenter(train_1)\n",
    "print('\\nTime Spent to solve problem with Fusion: \\n {0}'.format(fusion_model.time))\n",
    "print('Time Spent in solver: \\n {0}'.format(fusion_model.M.getSolverDoubleInfo(\"optimizerTime\")))\n",
    "print('The average Wasserstein distance between digits and the barycenter: \\n {0}'.format(fusion_model.objective))"
   ]
  },
  {
   "cell_type": "markdown",
   "metadata": {},
   "source": [
    "Time Spent to solve problem with Fusion:<br>\n",
    " 71.99116826057434<br>\n",
    "Time Spent in solver: <br>\n",
    " 56.61195707321167<br>\n",
    "The average Wasserstein distance between digits and the barycenter: <br>\n",
    " 3.1148587717952356<br>"
   ]
  },
  {
   "cell_type": "code",
   "execution_count": 4,
   "metadata": {
    "scrolled": false
   },
   "outputs": [
    {
     "data": {
      "image/png": "[encoded data removed]",
      "text/plain": [
       "<Figure size 432x288 with 1 Axes>"
      ]
     },
     "metadata": {},
     "output_type": "display_data"
    }
   ],
   "source": [
    "fus_bc = np.reshape(f_bc,(28,28))\n",
    "plt.imshow(fus_bc)\n",
    "plt.title('Barycenter')\n",
    "plt.show()"
   ]
  },
  {
   "cell_type": "code",
   "execution_count": 5,
   "metadata": {},
   "outputs": [
    {
     "data": {
      "image/png": "[encoded data removed]",
      "text/plain": [
       "<Figure size 1080x360 with 2 Axes>"
      ]
     },
     "metadata": {},
     "output_type": "display_data"
    }
   ],
   "source": [
    "plt.figure(figsize=(15,5))\n",
    "plt.subplot(1,2,1)\n",
    "plt.plot(np.array(fus_bc).ravel().T)\n",
    "plt.title('Distribution of Barycenter')\n",
    "plt.subplot(1,2,2)\n",
    "plt.plot(train_1[0].ravel())\n",
    "plt.title('Distribution of An Example Digit')\n",
    "plt.show()"
   ]
  },
  {
   "cell_type": "markdown",
   "metadata": {},
   "source": [
    "## Modeling the same problem with Pyomo"
   ]
  },
  {
   "cell_type": "markdown",
   "metadata": {},
   "source": [
    "The same problem is formulated using Pyomo and solved using Mosek. Unlike Fusion Pyomo requires rules and summations to formulate the problem."
   ]
  },
  {
   "cell_type": "code",
   "execution_count": 6,
   "metadata": {},
   "outputs": [],
   "source": [
    "import pyomo.environ as pyo\n",
    "import time\n",
    "class Wasserstein_Pyomo:\n",
    "    \n",
    "    def __init__(self):\n",
    "        self.time = 0.0\n",
    "        self.result = None\n",
    "        self._solver = 'mosek_direct'\n",
    "        self.M = pyo.ConcreteModel()\n",
    "    \n",
    "    \n",
    "    def single_pmf(self, data = None, img=False):\n",
    "        \n",
    "        ''' Takes a image or array of images and extracts the probabilty mass function'''\n",
    "        \n",
    "        if not img:\n",
    "            v=[]\n",
    "            for image in data:\n",
    "                arr = np.asarray(image).ravel(order='K')\n",
    "                v.append(arr/np.sum(arr))\n",
    "        else:\n",
    "            v = np.asarray(data).ravel(order='K')\n",
    "            v = v/np.sum(v)\n",
    "        return v\n",
    "    \n",
    "    def ms_distance(self, m ,n, constant=False):\n",
    "        \n",
    "        ''' Squared Euclidean distance calculation between the pixels '''\n",
    "        \n",
    "        if constant:\n",
    "            d = np.ones((m,m))\n",
    "        else:\n",
    "            d = np.empty((m,m))\n",
    "            coor = []\n",
    "            for i in range(n):\n",
    "                for j in range(n):\n",
    "                    coor.append(np.array([i,j]))\n",
    "            for i in range(m):\n",
    "                for j in range(m):\n",
    "                    d[i][j] = np.linalg.norm(coor[i]-coor[j])**2\n",
    "        return d\n",
    "    \n",
    "    def Wasserstein_BaryCenter(self,data):\n",
    "        \n",
    "        ''' Calculation of wasserstein barycenter of given images by solving the minimization problem '''\n",
    "        \n",
    "        M = self.M\n",
    "        k = data.shape[0]\n",
    "        v = np.array(self.single_pmf(data))\n",
    "        n = v.shape[1]\n",
    "        d = self.ms_distance(n,data.shape[1])\n",
    "        \n",
    "        #Define indices\n",
    "        M.i = range(n)\n",
    "        M.j = range(n)\n",
    "        M.k = range(k)\n",
    "        \n",
    "        #Add variables\n",
    "        M.pi = pyo.Var(M.k, M.i, M.j, domain = pyo.NonNegativeReals)\n",
    "        M.mu = pyo.Var(M.i, domain = pyo.NonNegativeReals)\n",
    "        M.t = pyo.Var(M.k, domain = pyo.NonNegativeReals)\n",
    "        \n",
    "        M.obj = pyo.Objective(expr = sum(M.t[k] for k in M.k)/k, sense= pyo.minimize)\n",
    "        \n",
    "        #Define constraint rules\n",
    "        def c3_rule(model, k, j): #Rule for Constraint (3)\n",
    "            return sum(model.pi[k,i,j] for i in model.i) == v[k][j]\n",
    "        def c2_rule(model, k, i): #Rule for Constraint (2)\n",
    "            return sum(model.pi[k,i,j] for j in model.j) == model.mu[i]\n",
    "        def c1_rule(model, k):    #Rule for Constraint (1)\n",
    "            return sum(d[i][j]*model.pi[k,i,j] for i in model.i for j in model.j) <= model.t[k]\n",
    "        \n",
    "        # Add Constraints\n",
    "        M.c3 = pyo.Constraint(M.k, M.j , rule = c3_rule)\n",
    "        M.c2 = pyo.Constraint(M.k, M.i , rule = c2_rule)\n",
    "        M.c1 = pyo.Constraint(M.k, rule = c1_rule)\n",
    "        \n",
    "        return M\n",
    "    \n",
    "    def run(self,data):\n",
    "        start_time = time.time()\n",
    "        model = self.Wasserstein_BaryCenter(data)\n",
    "        opt = pyo.SolverFactory(self._solver)\n",
    "        self.result = opt.solve(model, tee = True)\n",
    "        self.time = time.time() - start_time\n",
    "        bc = []\n",
    "        [bc.append(model.mu[i]()) for i in range(data.shape[1]*data.shape[2])]\n",
    "        return np.array(bc)\n",
    "    \n",
    "    def reset(self):\n",
    "        self.M = pyo.ConcreteModel()\n",
    "    "
   ]
  },
  {
   "cell_type": "code",
   "execution_count": 7,
   "metadata": {
    "scrolled": false
   },
   "outputs": [
    {
     "name": "stdout",
     "output_type": "stream",
     "text": [
      "Problem\n",
      "  Name                   :                 \n",
      "  Objective sense        : min             \n",
      "  Type                   : LO (linear optimization problem)\n",
      "  Constraints            : 31380           \n",
      "  Cones                  : 0               \n",
      "  Scalar variables       : 12293924        \n",
      "  Matrix variables       : 0               \n",
      "  Integer variables      : 0               \n",
      "\n",
      "Optimizer started.\n",
      "Presolve started.\n",
      "Linear dependency checker started.\n",
      "Linear dependency checker terminated.\n",
      "Eliminator started.\n",
      "Freed constraints in eliminator : 0\n",
      "Eliminator terminated.\n",
      "Eliminator - tries                  : 1                 time                   : 0.00            \n",
      "Lin. dep.  - tries                  : 1                 time                   : 0.52            \n",
      "Lin. dep.  - number                 : 19              \n",
      "Presolve terminated. Time: 9.79    \n",
      "GP based matrix reordering started.\n",
      "GP based matrix reordering terminated.\n",
      "Problem\n",
      "  Name                   :                 \n",
      "  Objective sense        : min             \n",
      "  Type                   : LO (linear optimization problem)\n",
      "  Constraints            : 31380           \n",
      "  Cones                  : 0               \n",
      "  Scalar variables       : 12293924        \n",
      "  Matrix variables       : 0               \n",
      "  Integer variables      : 0               \n",
      "\n",
      "Optimizer  - threads                : 24              \n",
      "Optimizer  - solved problem         : the primal      \n",
      "Optimizer  - Constraints            : 17440\n",
      "Optimizer  - Cones                  : 0\n",
      "Optimizer  - Scalar variables       : 1395520           conic                  : 0               \n",
      "Optimizer  - Semi-definite variables: 0                 scalarized             : 0               \n",
      "Factor     - setup time             : 16.34             dense det. time        : 0.24            \n",
      "Factor     - ML order time          : 0.04              GP order time          : 14.58           \n",
      "Factor     - nonzeros before factor : 1.55e+06          after factor           : 1.44e+07        \n",
      "Factor     - dense dim.             : 0                 flops                  : 1.64e+10        \n",
      "Factor     - GP saved nzs           : 1.75e+06          GP saved flops         : 3.15e+09        \n",
      "ITE PFEAS    DFEAS    GFEAS    PRSTATUS   POBJ              DOBJ              MU       TIME  \n",
      "0   5.5e+03  3.2e+02  8.3e+07  0.00e+00   1.182613040e+07   0.000000000e+00   4.9e+01  27.84 \n",
      "1   6.8e-01  4.0e-02  1.0e+04  -1.00e+00  1.120231111e+07   -1.638527136e+05  6.1e-03  28.92 \n",
      "2   5.8e-02  3.4e-03  8.8e+02  2.61e+01   1.558624799e+04   -2.985004062e+03  5.2e-04  30.53 \n",
      "3   4.5e-02  2.6e-03  6.8e+02  1.08e+01   3.256531589e+03   -6.820367758e+02  4.0e-04  31.47 \n",
      "4   4.2e-02  2.5e-03  6.4e+02  5.25e+00   2.407863322e+03   -4.995626462e+02  3.8e-04  32.39 \n",
      "5   3.8e-02  2.2e-03  5.7e+02  4.40e+00   1.571023931e+03   -3.171235815e+02  3.4e-04  33.28 \n",
      "6   3.3e-02  1.9e-03  5.0e+02  3.48e+00   1.104556065e+03   -2.125212675e+02  3.0e-04  34.20 \n",
      "7   2.9e-02  1.7e-03  4.3e+02  2.91e+00   7.928892926e+02   -1.415543160e+02  2.6e-04  35.06 \n",
      "8   1.2e-02  7.1e-04  1.8e+02  2.47e+00   2.252273003e+02   -1.976505585e+01  1.1e-04  36.08 \n",
      "9   5.2e-03  3.1e-04  7.9e+01  1.44e+00   9.137867985e+01   -2.802280352e+00  4.7e-05  36.98 \n",
      "10  1.2e-03  6.9e-05  1.8e+01  1.16e+00   2.223918431e+01   2.047776659e+00   1.1e-05  38.64 \n",
      "11  7.7e-04  4.5e-05  1.2e+01  1.04e+00   1.552926266e+01   2.419700435e+00   6.9e-06  39.77 \n",
      "12  3.9e-04  2.3e-05  5.9e+00  1.02e+00   9.413170641e+00   2.768991242e+00   3.5e-06  40.79 \n",
      "13  1.3e-04  8.1e-06  2.0e+00  1.01e+00   5.274879516e+00   3.000437008e+00   1.2e-06  42.46 \n",
      "14  5.5e-05  3.3e-06  8.2e-01  1.00e+00   3.991039163e+00   3.070294699e+00   4.9e-07  43.78 \n",
      "15  2.5e-05  1.5e-06  3.8e-01  1.00e+00   3.515553240e+00   3.095347848e+00   2.2e-07  44.90 \n",
      "16  1.2e-05  7.0e-07  1.8e-01  1.00e+00   3.304324846e+00   3.106260526e+00   1.1e-07  46.12 \n",
      "17  7.1e-06  4.3e-07  1.1e-01  1.00e+00   3.229734360e+00   3.109864486e+00   6.4e-08  47.13 \n",
      "18  3.1e-06  2.4e-07  4.8e-02  1.00e+00   3.165698228e+00   3.112133278e+00   2.8e-08  48.04 \n",
      "19  1.2e-06  9.4e-08  1.9e-02  1.00e+00   3.135045322e+00   3.113924772e+00   1.1e-08  49.27 \n",
      "20  2.5e-07  1.9e-08  3.9e-03  1.00e+00   3.119048189e+00   3.114732226e+00   2.3e-09  50.31 \n",
      "21  1.2e-09  9.1e-11  1.8e-05  1.00e+00   3.114878911e+00   3.114858640e+00   1.1e-11  51.67 \n",
      "22  3.6e-12  2.5e-13  4.7e-08  1.00e+00   3.114858824e+00   3.114858771e+00   2.8e-14  52.48 \n",
      "23  4.1e-13  7.1e-14  2.0e-12  1.00e+00   3.114858772e+00   3.114858772e+00   2.9e-18  53.39 \n",
      "Basis identification started.\n",
      "Basis identification terminated. Time: 0.46\n",
      "Optimizer terminated. Time: 60.20   \n",
      "\n",
      "\n",
      "Interior-point solution summary\n",
      "  Problem status  : PRIMAL_AND_DUAL_FEASIBLE\n",
      "  Solution status : OPTIMAL\n",
      "  Primal.  obj: 3.1148587718e+00    nrm: 6e+00    Viol.  con: 7e-13    var: 0e+00  \n",
      "  Dual.    obj: 3.1148587718e+00    nrm: 2e+02    Viol.  con: 0e+00    var: 4e-14  \n",
      "\n",
      "Basic solution summary\n",
      "  Problem status  : PRIMAL_AND_DUAL_FEASIBLE\n",
      "  Solution status : OPTIMAL\n",
      "  Primal.  obj: 3.1148587718e+00    nrm: 6e+00    Viol.  con: 4e-17    var: 1e-06  \n",
      "  Dual.    obj: 3.1148587718e+00    nrm: 2e+02    Viol.  con: 0e+00    var: 2e-09  \n",
      "\n",
      "Time spent to solve problem with Pyomo: \n",
      " 918.1947894096375\n",
      "Time spent in solver: \n",
      " 60.200079917907715\n",
      "The average Wasserstein distance between digits and the barycenter: \n",
      " 3.114858771795237\n"
     ]
    }
   ],
   "source": [
    "pyomo_model = Wasserstein_Pyomo()\n",
    "p_bc = pyomo_model.run(train_1)\n",
    "print('\\nTime spent to solve problem with Pyomo: \\n {0}'.format(pyomo_model.time))\n",
    "print('Time spent in solver: \\n {0}'.format(pyomo_model.result.solver.wallclock_time))\n",
    "print('The average Wasserstein distance between digits and the barycenter: \\n {0}'.format(pyomo_model.M.obj()))"
   ]
  },
  {
   "cell_type": "code",
   "execution_count": 8,
   "metadata": {
    "scrolled": false
   },
   "outputs": [
    {
     "data": {
      "image/png": "[encoded data removed]",
      "text/plain": [
       "<Figure size 432x288 with 1 Axes>"
      ]
     },
     "metadata": {},
     "output_type": "display_data"
    }
   ],
   "source": [
    "pyo_bc = np.reshape(p_bc, (28,28))\n",
    "#print('Visualization of the barycenter:')\n",
    "plt.imshow(pyo_bc)\n",
    "plt.title('Barycenter')\n",
    "plt.show()"
   ]
  },
  {
   "cell_type": "markdown",
   "metadata": {},
   "source": [
    "### Modeling the same problem with CVXPY"
   ]
  },
  {
   "cell_type": "code",
   "execution_count": 9,
   "metadata": {},
   "outputs": [],
   "source": [
    "import cvxpy as cp\n",
    "import time\n",
    "class Wasserstein_CVXPY:\n",
    "    \n",
    "    def __init__(self):\n",
    "        self.time = 0.0\n",
    "        self.result = None\n",
    "        self.prob = None\n",
    "\n",
    "    def single_pmf(self, data = None, img=False):\n",
    "        \n",
    "        ''' Takes a image or array of images and extracts the probabilty mass function'''\n",
    "        \n",
    "        if not img:\n",
    "            v=[]\n",
    "            for image in data:\n",
    "                arr = np.asarray(image).ravel(order='K')\n",
    "                v.append(arr/np.sum(arr))\n",
    "        else:\n",
    "            v = np.asarray(data).ravel(order='K')\n",
    "            v = v/np.sum(v)\n",
    "        return v\n",
    "    \n",
    "    def ms_distance(self, m ,n, constant=False):\n",
    "        \n",
    "        ''' Squared Euclidean distance calculation between the pixels '''\n",
    "        \n",
    "        if constant:\n",
    "            d = np.ones((m,m))\n",
    "        else:\n",
    "            d = np.empty((m,m))\n",
    "            coor = []\n",
    "            for i in range(n):\n",
    "                for j in range(n):\n",
    "                    coor.append(np.array([i,j]))\n",
    "            for i in range(m):\n",
    "                for j in range(m):\n",
    "                    d[i][j] = np.linalg.norm(coor[i]-coor[j])**2\n",
    "        return d\n",
    "    \n",
    "    def Wasserstein_Distance(self, bc ,data, img = False):\n",
    "        \n",
    "        ''' Calculation of wasserstein distance between a barycenter and an image by solving \n",
    "            the minimization problem '''\n",
    "    \n",
    "        v = np.array(self.single_pmf(data, img))\n",
    "        n = v.shape[0]\n",
    "        d = self.ms_distance(n,data.shape[1])\n",
    "        \n",
    "        pi = cp.Variable((n,n), nonneg=True)\n",
    "        obj = cp.Minimize((np.ones(n).T @ cp.multiply(d,pi) @ np.ones(n)))\n",
    "        \n",
    "        Cons=[]\n",
    "        Cons.append((np.ones(n) @ pi).T == bc)\n",
    "        Cons.append((pi @ np.ones(n)) == v)\n",
    "        \n",
    "        prob = cp.Problem(obj, constraints= Cons)\n",
    "        \n",
    "        return prob.solve(solver=cp.MOSEK, verbose = True)\n",
    "        \n",
    "    def Wasserstein_BaryCenter(self,data):\n",
    "        \n",
    "        ''' Calculation of wasserstein barycenter of given images by solving the minimization problem '''\n",
    "        \n",
    "        start_time = time.time()\n",
    "        k = data.shape[0]\n",
    "        v = np.array(self.single_pmf(data))\n",
    "        n = v.shape[1]\n",
    "        d = self.ms_distance(n,data.shape[1])\n",
    "        \n",
    "        #Add variables\n",
    "        pi= []\n",
    "        t= []\n",
    "        mu = cp.Variable(n, nonneg = True)\n",
    "        for i in range(k):\n",
    "            pi.append(cp.Variable((n,n), nonneg = True))\n",
    "            t.append(cp.Variable(nonneg = True))\n",
    "            \n",
    "        obj = cp.Minimize(np.sum(t)/k)\n",
    "        \n",
    "        #Add constraints\n",
    "        Cons=[]\n",
    "        for i in range(k):\n",
    "            Cons.append( t[i] >= np.ones(n).T @  cp.multiply(d,pi[i]) @ np.ones(n) ) #Constraint (1)\n",
    "            Cons.append( (np.ones(n) @ pi[i]).T == mu)                               #Constraint (2)\n",
    "            Cons.append( (pi[i] @ np.ones(n)) == v[i])                            #Constraint (3)\n",
    "            \n",
    "        self.prob = cp.Problem(obj, constraints= Cons)\n",
    "        self.result = self.prob.solve(solver=cp.MOSEK,verbose = True)\n",
    "        self.time = time.time() - start_time\n",
    "        \n",
    "        return mu.value\n",
    "    \n",
    "    def reset(self):\n",
    "        self.prob = None\n",
    "        self.result = None\n"
   ]
  },
  {
   "cell_type": "code",
   "execution_count": 10,
   "metadata": {
    "scrolled": true
   },
   "outputs": [
    {
     "name": "stdout",
     "output_type": "stream",
     "text": [
      "\n",
      "\n",
      "Problem\n",
      "  Name                   :                 \n",
      "  Objective sense        : min             \n",
      "  Type                   : LO (linear optimization problem)\n",
      "  Constraints            : 12325304        \n",
      "  Cones                  : 0               \n",
      "  Scalar variables       : 12293924        \n",
      "  Matrix variables       : 0               \n",
      "  Integer variables      : 0               \n",
      "\n",
      "Optimizer started.\n",
      "GP based matrix reordering started.\n",
      "GP based matrix reordering terminated.\n",
      "Problem\n",
      "  Name                   :                 \n",
      "  Objective sense        : min             \n",
      "  Type                   : LO (linear optimization problem)\n",
      "  Constraints            : 12325304        \n",
      "  Cones                  : 0               \n",
      "  Scalar variables       : 12293924        \n",
      "  Matrix variables       : 0               \n",
      "  Integer variables      : 0               \n",
      "\n",
      "Optimizer  - threads                : 24              \n",
      "Optimizer  - solved problem         : the primal      \n",
      "Optimizer  - Constraints            : 17440\n",
      "Optimizer  - Cones                  : 0\n",
      "Optimizer  - Scalar variables       : 1395520           conic                  : 0               \n",
      "Optimizer  - Semi-definite variables: 0                 scalarized             : 0               \n",
      "Factor     - setup time             : 16.42             dense det. time        : 0.22            \n",
      "Factor     - ML order time          : 0.04              GP order time          : 14.36           \n",
      "Factor     - nonzeros before factor : 1.55e+06          after factor           : 1.44e+07        \n",
      "Factor     - dense dim.             : 0                 flops                  : 1.64e+10        \n",
      "Factor     - GP saved nzs           : 1.75e+06          GP saved flops         : 3.15e+09        \n",
      "ITE PFEAS    DFEAS    GFEAS    PRSTATUS   POBJ              DOBJ              MU       TIME  \n",
      "0   5.5e+03  3.2e+02  8.3e+07  0.00e+00   1.182613040e+07   0.000000000e+00   4.9e+01  33.77 \n",
      "1   6.8e-01  4.0e-02  1.0e+04  -1.00e+00  1.120231112e+07   -1.638527133e+05  6.1e-03  34.76 \n",
      "2   5.8e-02  3.4e-03  8.8e+02  2.61e+01   1.558624808e+04   -2.985004070e+03  5.2e-04  36.29 \n",
      "3   4.5e-02  2.6e-03  6.8e+02  1.08e+01   3.256531589e+03   -6.820367740e+02  4.0e-04  37.30 \n",
      "4   4.2e-02  2.5e-03  6.4e+02  5.25e+00   2.407863324e+03   -4.995626454e+02  3.8e-04  38.35 \n",
      "5   3.8e-02  2.2e-03  5.7e+02  4.40e+00   1.571023937e+03   -3.171235819e+02  3.4e-04  39.27 \n",
      "6   3.3e-02  1.9e-03  5.0e+02  3.48e+00   1.104556071e+03   -2.125212684e+02  3.0e-04  40.27 \n",
      "7   2.9e-02  1.7e-03  4.3e+02  2.91e+00   7.928892985e+02   -1.415543170e+02  2.6e-04  41.14 \n",
      "8   1.2e-02  7.1e-04  1.8e+02  2.47e+00   2.252273014e+02   -1.976505604e+01  1.1e-04  42.31 \n",
      "9   5.2e-03  3.1e-04  7.9e+01  1.44e+00   9.137868017e+01   -2.802280320e+00  4.7e-05  43.34 \n",
      "10  1.2e-03  6.9e-05  1.8e+01  1.16e+00   2.223918434e+01   2.047776637e+00   1.1e-05  44.89 \n",
      "11  7.7e-04  4.5e-05  1.2e+01  1.04e+00   1.552926278e+01   2.419700413e+00   6.9e-06  45.97 \n",
      "12  3.9e-04  2.3e-05  5.9e+00  1.02e+00   9.413192190e+00   2.768989925e+00   3.5e-06  46.99 \n",
      "13  1.3e-04  8.1e-06  2.0e+00  1.01e+00   5.274875679e+00   3.000437376e+00   1.2e-06  48.56 \n",
      "14  5.5e-05  3.3e-06  8.2e-01  1.00e+00   3.991040086e+00   3.070294698e+00   4.9e-07  49.92 \n",
      "15  2.5e-05  1.5e-06  3.8e-01  1.00e+00   3.515554299e+00   3.095347811e+00   2.2e-07  51.09 \n",
      "16  1.2e-05  7.0e-07  1.8e-01  1.00e+00   3.304325086e+00   3.106260520e+00   1.1e-07  52.28 \n",
      "17  7.1e-06  4.3e-07  1.1e-01  1.00e+00   3.229734970e+00   3.109864458e+00   6.4e-08  53.29 \n",
      "18  3.1e-06  2.4e-07  4.8e-02  1.00e+00   3.165698749e+00   3.112133276e+00   2.8e-08  54.30 \n",
      "19  1.2e-06  9.4e-08  1.9e-02  1.00e+00   3.135045328e+00   3.113924783e+00   1.1e-08  55.44 \n",
      "20  2.5e-07  1.9e-08  3.9e-03  1.00e+00   3.119048079e+00   3.114732233e+00   2.3e-09  56.64 \n",
      "21  1.2e-09  9.1e-11  1.8e-05  1.00e+00   3.114878914e+00   3.114858640e+00   1.1e-11  58.03 \n",
      "22  3.5e-12  2.5e-13  4.7e-08  1.00e+00   3.114858824e+00   3.114858771e+00   2.8e-14  58.91 \n",
      "23  4.6e-13  5.7e-14  2.8e-14  1.00e+00   3.114858772e+00   3.114858772e+00   2.9e-18  59.81 \n",
      "Basis identification started.\n",
      "Basis identification terminated. Time: 0.44\n",
      "Optimizer terminated. Time: 69.51   \n",
      "\n",
      "\n",
      "Interior-point solution summary\n",
      "  Problem status  : PRIMAL_AND_DUAL_FEASIBLE\n",
      "  Solution status : OPTIMAL\n",
      "  Primal.  obj: 3.1148587718e+00    nrm: 6e+00    Viol.  con: 3e-12    var: 0e+00  \n",
      "  Dual.    obj: 3.1148587718e+00    nrm: 2e+02    Viol.  con: 9e-16    var: 6e-14  \n",
      "\n",
      "Basic solution summary\n",
      "  Problem status  : PRIMAL_AND_DUAL_FEASIBLE\n",
      "  Solution status : OPTIMAL\n",
      "  Primal.  obj: 3.1148587718e+00    nrm: 6e+00    Viol.  con: 1e-06    var: 0e+00  \n",
      "  Dual.    obj: 3.1148587718e+00    nrm: 2e+02    Viol.  con: 2e-09    var: 2e-09  \n",
      "\n",
      "Time Spent to solve problem with CVXPY: \n",
      " 125.29915714263916\n",
      "Time Spent in solver: \n",
      " 69.51178908348083\n",
      "The average Wasserstein distance between digits and the barycenter: \n",
      " 3.1148587717983913\n"
     ]
    }
   ],
   "source": [
    "cvxpy_model = Wasserstein_CVXPY()\n",
    "result = cvxpy_model.Wasserstein_BaryCenter(train_1)\n",
    "print('\\nTime Spent to solve problem with CVXPY: \\n {0}'.format(cvxpy_model.time))\n",
    "print('Time Spent in solver: \\n {0}'.format(cvxpy_model.prob.solver_stats.solve_time))\n",
    "print('The average Wasserstein distance between digits and the barycenter: \\n {0}'.format(cvxpy_model.result))"
   ]
  },
  {
   "cell_type": "code",
   "execution_count": 11,
   "metadata": {
    "scrolled": true
   },
   "outputs": [
    {
     "data": {
      "image/png": "[encoded data removed]",
      "text/plain": [
       "<Figure size 432x288 with 1 Axes>"
      ]
     },
     "metadata": {},
     "output_type": "display_data"
    }
   ],
   "source": [
    "plt.imshow(np.reshape(result.squeeze(), (28,28)))\n",
    "plt.title('Barycenter')\n",
    "plt.show()"
   ]
  },
  {
   "cell_type": "markdown",
   "metadata": {},
   "source": [
    "Also, when the log data from Mosek is investigated the number of variables are same for each modeling language. However, while Pyomo and Fusion having same number of constraints CVXPY has a lot of extra constraints that resulted from nonnegativity of the variables."
   ]
  },
  {
   "cell_type": "markdown",
   "metadata": {},
   "source": [
    "## Comparison of Modeling Languages"
   ]
  },
  {
   "cell_type": "markdown",
   "metadata": {},
   "source": [
    "### Time to solve the problem"
   ]
  },
  {
   "cell_type": "code",
   "execution_count": 12,
   "metadata": {
    "scrolled": true
   },
   "outputs": [
    {
     "name": "stdout",
     "output_type": "stream",
     "text": [
      "Total Time:\n",
      "Fusion: 70.28409123420715\n",
      "Pyomo : 918.1947894096375\n",
      "CVXPY : 125.29915714263916\n",
      "\n",
      "Time spent in the solver:\n",
      "Fusion: 54.830564975738525\n",
      "Pyomo : 60.200079917907715\n",
      "CVXPY : 69.51178908348083\n"
     ]
    }
   ],
   "source": [
    "print('Total Time:')\n",
    "print('Fusion: {0}'.format(fusion_model.time))\n",
    "print('Pyomo : {0}'.format(pyomo_model.time))\n",
    "print('CVXPY : {0}'.format(cvxpy_model.time))\n",
    "print('\\nTime spent in the solver:')\n",
    "print('Fusion: {0}'.format(fusion_model.M.getSolverDoubleInfo(\"optimizerTime\")))\n",
    "print('Pyomo : {0}'.format(pyomo_model.result.solver.wallclock_time))\n",
    "print('CVXPY : {0}'.format(cvxpy_model.prob.solver_stats.solve_time))"
   ]
  },
  {
   "cell_type": "code",
   "execution_count": 13,
   "metadata": {
    "scrolled": true
   },
   "outputs": [
    {
     "data": {
      "image/png": "[encoded data removed]",
      "text/plain": [
       "<Figure size 720x288 with 2 Axes>"
      ]
     },
     "metadata": {},
     "output_type": "display_data"
    }
   ],
   "source": [
    "plt.style.use('seaborn')\n",
    "plt.figure(figsize=(10,4))\n",
    "\n",
    "total_t = [fusion_model.time, pyomo_model.time, cvxpy_model.time]\n",
    "solver_t = [fusion_model.M.getSolverDoubleInfo(\"optimizerTime\"), pyomo_model.result.solver.wallclock_time, cvxpy_model.prob.solver_stats.solve_time]\n",
    "\n",
    "#Total time plot\n",
    "plt.subplot(1,2,1)\n",
    "plt.bar(['Fusion', 'Pyomo', 'CVXPY'], height= total_t,\n",
    "        width=0.5, color=(0.3, 0.6, 0.2, 0.5))\n",
    "plt.ylabel(\"Total Time (s)\")\n",
    "plt.title(\"Comparison of Total Time\")\n",
    "\n",
    "#Solver time plot\n",
    "plt.subplot(1,2,2)\n",
    "plt.bar(['Fusion', 'Pyomo', 'CVXPY'], height=solver_t,\n",
    "        width=0.5, color=(0.5, 0.6, 0.9, 0.8))\n",
    "plt.ylabel(\"Solver Time (s)\")\n",
    "plt.title(\"Comparison of Solver Time\")\n",
    "plt.show()"
   ]
  },
  {
   "cell_type": "markdown",
   "metadata": {},
   "source": [
    "## Discussion\n",
    "\n",
    "Apparently, **Fusion passes the model data to Mosek faster** than the other ones. CVXPY is close to Fusion but its solver time is longer, mainly due to presolve (for example CVXPY enters variable bounds as constraints). In terms of total time Pyomo is behind the others because all the transformations are made in Python, as opposed to Fusion and CVXPY which call a C library. However, this is a huge model with 31 thousand constraints and 12 million variables and the difference will not be that big for normal-sized models.\n",
    "\n",
    "On the other hand, Fusion and CVXPY allow you to express model in vectorized form (using **matrix, vector** notation). Pyomo is mainly based on **sum expressions** that can be defined by **rule functions** which makes modelling much easier. Therefore the **time and effort spent on constructing the model in Pyomo was much smaller** than with  the other languages.\n",
    "\n",
    "The decision of which one to use depends on the problem and the preferences of the user."
   ]
  },
  {
   "cell_type": "markdown",
   "metadata": {},
   "source": [
    "## CVXPY and Fusion on huge models"
   ]
  },
  {
   "cell_type": "markdown",
   "metadata": {},
   "source": [
    "  $\\quad$The plots above show the performance of the modeling languages for 20 images. It is also reasonable to test the behaivor of solving times as the model gets larger and larger. In order to make this test same problem is solved with 50 images by using CVXPY and Fusion."
   ]
  },
  {
   "cell_type": "code",
   "execution_count": 14,
   "metadata": {},
   "outputs": [],
   "source": [
    "n = 50\n",
    "train_1 = ones[:n]\n",
    "cvxpy_model.reset()\n",
    "fusion_model.reset()"
   ]
  },
  {
   "cell_type": "markdown",
   "metadata": {},
   "source": [
    "### CVXPY"
   ]
  },
  {
   "cell_type": "code",
   "execution_count": 15,
   "metadata": {},
   "outputs": [
    {
     "name": "stdout",
     "output_type": "stream",
     "text": [
      "\n",
      "\n",
      "Problem\n",
      "  Name                   :                 \n",
      "  Objective sense        : min             \n",
      "  Type                   : LO (linear optimization problem)\n",
      "  Constraints            : 30812084        \n",
      "  Cones                  : 0               \n",
      "  Scalar variables       : 30733634        \n",
      "  Matrix variables       : 0               \n",
      "  Integer variables      : 0               \n",
      "\n",
      "Optimizer started.\n",
      "GP based matrix reordering started.\n",
      "GP based matrix reordering terminated.\n",
      "Problem\n",
      "  Name                   :                 \n",
      "  Objective sense        : min             \n",
      "  Type                   : LO (linear optimization problem)\n",
      "  Constraints            : 30812084        \n",
      "  Cones                  : 0               \n",
      "  Scalar variables       : 30733634        \n",
      "  Matrix variables       : 0               \n",
      "  Integer variables      : 0               \n",
      "\n",
      "Optimizer  - threads                : 24              \n",
      "Optimizer  - solved problem         : the primal      \n",
      "Optimizer  - Constraints            : 43692\n",
      "Optimizer  - Cones                  : 0\n",
      "Optimizer  - Scalar variables       : 3560928           conic                  : 0               \n",
      "Optimizer  - Semi-definite variables: 0                 scalarized             : 0               \n",
      "Factor     - setup time             : 153.86            dense det. time        : 0.58            \n",
      "Factor     - ML order time          : 78.81             GP order time          : 70.95           \n",
      "Factor     - nonzeros before factor : 4.53e+06          after factor           : 9.72e+07        \n",
      "Factor     - dense dim.             : 0                 flops                  : 3.04e+11        \n",
      "Factor     - GP saved nzs           : 3.57e+07          GP saved flops         : 5.09e+11        \n",
      "ITE PFEAS    DFEAS    GFEAS    PRSTATUS   POBJ              DOBJ              MU       TIME  \n",
      "0   3.8e+03  1.0e+02  5.9e+07  0.00e+00   1.207747296e+07   0.000000000e+00   2.4e+01  197.93\n",
      "1   9.7e-01  2.6e-02  1.5e+04  -1.00e+00  1.138202629e+07   -1.932435859e+05  6.1e-03  202.58\n",
      "2   1.7e-01  4.7e-03  2.7e+03  4.69e+01   2.749170572e+04   -2.705073018e+03  1.1e-03  209.01\n",
      "3   1.2e-01  3.3e-03  1.9e+03  8.18e+00   4.793007222e+03   -5.773295566e+02  7.6e-04  213.88\n",
      "4   1.1e-01  3.1e-03  1.7e+03  3.34e+00   3.771396588e+03   -4.640287740e+02  7.1e-04  218.19\n",
      "5   1.1e-01  2.9e-03  1.6e+03  3.09e+00   3.173273039e+03   -3.951025274e+02  6.7e-04  222.22\n",
      "6   9.7e-02  2.6e-03  1.5e+03  2.94e+00   2.470985631e+03   -3.117937667e+02  6.1e-04  226.12\n",
      "7   6.5e-02  1.8e-03  1.0e+03  2.74e+00   1.021523834e+03   -1.260039800e+02  4.1e-04  230.64\n",
      "8   8.4e-03  2.3e-04  1.3e+02  2.13e+00   8.372742526e+01   -2.798064226e+00  5.2e-05  237.52\n",
      "9   4.0e-03  1.1e-04  6.1e+01  1.18e+00   3.888935256e+01   -6.475636806e-01  2.5e-05  244.23\n",
      "10  2.0e-03  5.4e-05  3.1e+01  1.09e+00   2.102550501e+01   1.461108737e+00   1.2e-05  248.93\n",
      "11  1.6e-03  4.5e-05  2.5e+01  1.04e+00   1.781785581e+01   1.824394084e+00   1.0e-05  253.18\n",
      "12  1.4e-03  4.0e-05  2.2e+01  1.03e+00   1.560289396e+01   1.976506458e+00   8.7e-06  257.33\n",
      "13  1.2e-03  3.1e-05  1.9e+01  1.03e+00   1.404619009e+01   2.298815530e+00   7.5e-06  261.18\n",
      "14  1.1e-03  2.8e-05  1.7e+01  1.02e+00   1.287129495e+01   2.405788065e+00   6.7e-06  265.55\n",
      "15  8.5e-04  2.2e-05  1.3e+01  1.02e+00   1.082240990e+01   2.583882531e+00   5.3e-06  271.21\n",
      "16  7.5e-04  1.9e-05  1.1e+01  1.01e+00   9.871522333e+00   2.665118594e+00   4.6e-06  275.46\n",
      "17  6.3e-04  1.6e-05  9.6e+00  1.01e+00   8.789904345e+00   2.753524954e+00   3.9e-06  279.98\n",
      "18  2.6e-04  6.0e-06  3.9e+00  1.01e+00   5.486142029e+00   3.037439240e+00   1.6e-06  284.62\n",
      "19  2.1e-04  4.8e-06  3.2e+00  1.00e+00   5.049911898e+00   3.067269696e+00   1.3e-06  288.96\n",
      "20  1.1e-04  2.8e-06  1.7e+00  1.00e+00   4.192997697e+00   3.120001209e+00   6.9e-07  293.73\n",
      "21  8.3e-05  2.1e-06  1.3e+00  1.00e+00   3.937217141e+00   3.136827758e+00   5.2e-07  298.33\n",
      "22  4.3e-05  1.4e-06  6.7e-01  1.00e+00   3.575235178e+00   3.153092018e+00   2.7e-07  303.20\n",
      "23  2.6e-05  8.4e-07  4.0e-01  1.00e+00   3.417790137e+00   3.165912215e+00   1.6e-07  308.82\n",
      "24  1.3e-05  4.4e-07  2.1e-01  1.00e+00   3.306492542e+00   3.174555301e+00   8.5e-08  314.45\n",
      "25  5.5e-06  1.8e-07  8.5e-02  1.00e+00   3.233672573e+00   3.179897390e+00   3.5e-08  320.09\n",
      "26  7.7e-07  1.9e-08  1.2e-02  1.00e+00   3.190109552e+00   3.182620943e+00   4.8e-09  326.39\n",
      "27  3.3e-07  8.2e-09  5.1e-03  1.00e+00   3.185934904e+00   3.182730244e+00   2.1e-09  331.34\n",
      "28  2.7e-08  6.7e-10  4.1e-04  1.00e+00   3.183064915e+00   3.182803646e+00   1.7e-10  338.88\n",
      "29  6.5e-10  1.5e-11  9.3e-06  1.00e+00   3.182810905e+00   3.182805007e+00   3.8e-12  345.18\n",
      "30  3.4e-11  1.4e-13  3.8e-08  1.00e+00   3.182805061e+00   3.182805037e+00   1.5e-14  350.16\n",
      "Basis identification started.\n",
      "Basis identification terminated. Time: 2.46\n",
      "Optimizer terminated. Time: 379.89  \n",
      "\n",
      "\n",
      "Interior-point solution summary\n",
      "  Problem status  : PRIMAL_AND_DUAL_FEASIBLE\n",
      "  Solution status : OPTIMAL\n",
      "  Primal.  obj: 3.1828050614e+00    nrm: 2e+01    Viol.  con: 1e-10    var: 0e+00  \n",
      "  Dual.    obj: 3.1828050373e+00    nrm: 2e+02    Viol.  con: 4e-16    var: 9e-14  \n",
      "\n",
      "Basic solution summary\n",
      "  Problem status  : PRIMAL_AND_DUAL_FEASIBLE\n",
      "  Solution status : OPTIMAL\n",
      "  Primal.  obj: 3.1828050375e+00    nrm: 2e+01    Viol.  con: 8e-07    var: 0e+00  \n",
      "  Dual.    obj: 3.1828050375e+00    nrm: 2e+02    Viol.  con: 7e-15    var: 9e-14  \n",
      "\n",
      "Time Spent to solve problem with CVXPY: \n",
      " 535.9390072822571\n",
      "Time Spent in solver: \n",
      " 379.8948359489441\n",
      "The average Wasserstein distance between digits and the barycenter: \n",
      " 3.1828050614020458\n"
     ]
    }
   ],
   "source": [
    "res_cvx = cvxpy_model.Wasserstein_BaryCenter(train_1)\n",
    "print('\\nTime Spent to solve problem with CVXPY: \\n {0}'.format(cvxpy_model.time))\n",
    "print('Time Spent in solver: \\n {0}'.format(cvxpy_model.prob.solver_stats.solve_time))\n",
    "print('The average Wasserstein distance between digits and the barycenter: \\n {0}'.format(cvxpy_model.result))"
   ]
  },
  {
   "cell_type": "code",
   "execution_count": 16,
   "metadata": {},
   "outputs": [
    {
     "data": {
      "image/png": "[encoded data removed]",
      "text/plain": [
       "<Figure size 330x330 with 1 Axes>"
      ]
     },
     "metadata": {},
     "output_type": "display_data"
    }
   ],
   "source": [
    "plt.style.use(\"default\")\n",
    "plt.figure(figsize=(3.3,3.3))\n",
    "plt.imshow(np.reshape(res_cvx.squeeze(), (28,28)))\n",
    "plt.title('Barycenter')\n",
    "plt.show()"
   ]
  },
  {
   "cell_type": "markdown",
   "metadata": {},
   "source": [
    "### Fusion"
   ]
  },
  {
   "cell_type": "code",
   "execution_count": 17,
   "metadata": {},
   "outputs": [
    {
     "name": "stdout",
     "output_type": "stream",
     "text": [
      "Problem\n",
      "  Name                   : Wasserstein     \n",
      "  Objective sense        : min             \n",
      "  Type                   : LO (linear optimization problem)\n",
      "  Constraints            : 78450           \n",
      "  Cones                  : 0               \n",
      "  Scalar variables       : 30733635        \n",
      "  Matrix variables       : 0               \n",
      "  Integer variables      : 0               \n",
      "\n",
      "Optimizer started.\n",
      "Presolve started.\n",
      "Linear dependency checker started.\n",
      "Linear dependency checker terminated.\n",
      "Eliminator started.\n",
      "Freed constraints in eliminator : 0\n",
      "Eliminator terminated.\n",
      "Eliminator - tries                  : 1                 time                   : 0.00            \n",
      "Lin. dep.  - tries                  : 1                 time                   : 0.84            \n",
      "Lin. dep.  - number                 : 49              \n",
      "Presolve terminated. Time: 16.23   \n",
      "GP based matrix reordering started.\n",
      "GP based matrix reordering terminated.\n",
      "Problem\n",
      "  Name                   : Wasserstein     \n",
      "  Objective sense        : min             \n",
      "  Type                   : LO (linear optimization problem)\n",
      "  Constraints            : 78450           \n",
      "  Cones                  : 0               \n",
      "  Scalar variables       : 30733635        \n",
      "  Matrix variables       : 0               \n",
      "  Integer variables      : 0               \n",
      "\n",
      "Optimizer  - threads                : 24              \n",
      "Optimizer  - solved problem         : the primal      \n",
      "Optimizer  - Constraints            : 43692\n",
      "Optimizer  - Cones                  : 0\n",
      "Optimizer  - Scalar variables       : 3560928           conic                  : 0               \n",
      "Optimizer  - Semi-definite variables: 0                 scalarized             : 0               \n",
      "Factor     - setup time             : 197.67            dense det. time        : 0.88            \n",
      "Factor     - ML order time          : 95.98             GP order time          : 96.25           \n",
      "Factor     - nonzeros before factor : 4.53e+06          after factor           : 9.72e+07        \n",
      "Factor     - dense dim.             : 0                 flops                  : 3.04e+11        \n",
      "Factor     - GP saved nzs           : 3.57e+07          GP saved flops         : 5.09e+11        \n",
      "ITE PFEAS    DFEAS    GFEAS    PRSTATUS   POBJ              DOBJ              MU       TIME  \n",
      "0   3.8e+03  1.0e+02  5.9e+07  0.00e+00   1.207747296e+07   0.000000000e+00   2.4e+01  218.84\n",
      "1   9.7e-01  2.6e-02  1.5e+04  -1.00e+00  1.138202628e+07   -1.932435836e+05  6.1e-03  223.77\n",
      "2   1.7e-01  4.7e-03  2.7e+03  4.69e+01   2.749170586e+04   -2.705073033e+03  1.1e-03  230.16\n",
      "3   1.2e-01  3.3e-03  1.9e+03  8.18e+00   4.793007234e+03   -5.773295562e+02  7.6e-04  234.98\n",
      "4   1.1e-01  3.1e-03  1.7e+03  3.34e+00   3.771396617e+03   -4.640287759e+02  7.1e-04  239.19\n",
      "5   1.1e-01  2.9e-03  1.6e+03  3.09e+00   3.173273061e+03   -3.951025289e+02  6.7e-04  243.69\n",
      "6   9.7e-02  2.6e-03  1.5e+03  2.94e+00   2.470985651e+03   -3.117937685e+02  6.1e-04  248.10\n",
      "7   6.5e-02  1.8e-03  1.0e+03  2.74e+00   1.021523849e+03   -1.260039818e+02  4.1e-04  253.06\n",
      "8   8.4e-03  2.3e-04  1.3e+02  2.13e+00   8.372815147e+01   -2.798139621e+00  5.2e-05  259.66\n",
      "9   4.0e-03  1.1e-04  6.1e+01  1.18e+00   3.888892297e+01   -6.475319201e-01  2.5e-05  266.37\n",
      "10  2.0e-03  5.4e-05  3.1e+01  1.09e+00   2.102558681e+01   1.461095266e+00   1.2e-05  271.10\n",
      "11  1.6e-03  4.5e-05  2.5e+01  1.04e+00   1.781792814e+01   1.824383152e+00   1.0e-05  275.51\n",
      "12  1.4e-03  4.0e-05  2.2e+01  1.03e+00   1.560302313e+01   1.976495303e+00   8.7e-06  279.84\n",
      "13  1.2e-03  3.1e-05  1.9e+01  1.03e+00   1.404624228e+01   2.298817130e+00   7.5e-06  284.08\n",
      "14  1.1e-03  2.8e-05  1.7e+01  1.02e+00   1.287134161e+01   2.405789410e+00   6.7e-06  288.50\n",
      "15  8.5e-04  2.2e-05  1.3e+01  1.02e+00   1.082241807e+01   2.583885971e+00   5.3e-06  294.27\n",
      "16  7.5e-04  1.9e-05  1.1e+01  1.01e+00   9.871538265e+00   2.665120797e+00   4.6e-06  298.93\n",
      "17  6.3e-04  1.6e-05  9.6e+00  1.01e+00   8.789936046e+00   2.753525214e+00   3.9e-06  303.69\n",
      "18  2.6e-04  6.0e-06  3.9e+00  1.01e+00   5.486120490e+00   3.037438811e+00   1.6e-06  308.50\n",
      "19  2.1e-04  4.8e-06  3.2e+00  1.00e+00   5.049889518e+00   3.067269697e+00   1.3e-06  313.32\n",
      "20  1.1e-04  2.8e-06  1.7e+00  1.00e+00   4.193063274e+00   3.120006971e+00   6.9e-07  317.81\n",
      "21  8.3e-05  2.1e-06  1.3e+00  1.00e+00   3.937318985e+00   3.136828389e+00   5.2e-07  322.53\n",
      "22  4.3e-05  1.4e-06  6.7e-01  1.00e+00   3.575228557e+00   3.153094207e+00   2.7e-07  327.06\n",
      "23  2.6e-05  8.4e-07  4.0e-01  1.00e+00   3.417767887e+00   3.165915025e+00   1.6e-07  332.07\n",
      "24  1.3e-05  4.4e-07  2.1e-01  1.00e+00   3.306549094e+00   3.174551508e+00   8.5e-08  336.64\n",
      "25  5.5e-06  1.8e-07  8.5e-02  1.00e+00   3.233604776e+00   3.179902683e+00   3.5e-08  341.78\n",
      "26  7.7e-07  1.3e-08  1.2e-02  1.00e+00   3.190062404e+00   3.182728989e+00   4.7e-09  347.31\n",
      "27  3.4e-07  5.7e-09  5.1e-03  1.00e+00   3.186012714e+00   3.182772597e+00   2.1e-09  351.95\n",
      "28  2.9e-08  4.9e-10  4.4e-04  1.00e+00   3.183083026e+00   3.182803490e+00   1.8e-10  357.66\n",
      "29  1.1e-09  1.5e-11  1.6e-05  1.00e+00   3.182815207e+00   3.182804980e+00   6.6e-12  362.03\n",
      "30  1.9e-11  1.7e-13  2.4e-08  1.00e+00   3.182805053e+00   3.182805037e+00   1.0e-14  366.29\n",
      "31  4.4e-12  1.4e-13  2.1e-12  1.00e+00   3.182805038e+00   3.182805038e+00   1.3e-18  370.70\n",
      "Basis identification started.\n",
      "Basis identification terminated. Time: 2.01\n",
      "Optimizer terminated. Time: 386.68  \n",
      "\n",
      "\n",
      "Interior-point solution summary\n",
      "  Problem status  : PRIMAL_AND_DUAL_FEASIBLE\n",
      "  Solution status : OPTIMAL\n",
      "  Primal.  obj: 3.1828050375e+00    nrm: 2e+01    Viol.  con: 7e-12    var: 0e+00  \n",
      "  Dual.    obj: 3.1828050375e+00    nrm: 2e+02    Viol.  con: 0e+00    var: 9e-14  \n",
      "\n",
      "Basic solution summary\n",
      "  Problem status  : PRIMAL_AND_DUAL_FEASIBLE\n",
      "  Solution status : OPTIMAL\n",
      "  Primal.  obj: 3.1828050375e+00    nrm: 2e+01    Viol.  con: 4e-17    var: 8e-07  \n",
      "  Dual.    obj: 3.1828050375e+00    nrm: 2e+02    Viol.  con: 0e+00    var: 7e-12  \n",
      "\n",
      "Time Spent to solve problem with Fusion: \n",
      " 423.23685216903687\n",
      "Time Spent in solver: \n",
      " 386.67855501174927\n",
      "The average Wasserstein distance between digits and the barycenter: \n",
      " 3.182805037503261\n"
     ]
    }
   ],
   "source": [
    "res_f = fusion_model.Wasserstein_BaryCenter(train_1)\n",
    "print('\\nTime Spent to solve problem with Fusion: \\n {0}'.format(fusion_model.time))\n",
    "print('Time Spent in solver: \\n {0}'.format(fusion_model.M.getSolverDoubleInfo(\"optimizerTime\")))\n",
    "print('The average Wasserstein distance between digits and the barycenter: \\n {0}'.format(fusion_model.objective))"
   ]
  },
  {
   "cell_type": "code",
   "execution_count": 18,
   "metadata": {},
   "outputs": [
    {
     "data": {
      "image/png": "[encoded data removed]",
      "text/plain": [
       "<Figure size 330x330 with 1 Axes>"
      ]
     },
     "metadata": {},
     "output_type": "display_data"
    }
   ],
   "source": [
    "plt.figure(figsize=(3.3,3.3))\n",
    "plt.imshow(np.reshape(res_f,(28,28)))\n",
    "plt.title('Barycenter')\n",
    "plt.show()"
   ]
  },
  {
   "cell_type": "code",
   "execution_count": 19,
   "metadata": {},
   "outputs": [
    {
     "data": {
      "image/png": "[encoded data removed]",
      "text/plain": [
       "<Figure size 800x350 with 2 Axes>"
      ]
     },
     "metadata": {},
     "output_type": "display_data"
    }
   ],
   "source": [
    "plt.figure(figsize=(8,3.5))\n",
    "\n",
    "total_t50 = [fusion_model.time, cvxpy_model.time]\n",
    "solver_t50 = [fusion_model.M.getSolverDoubleInfo(\"optimizerTime\"), cvxpy_model.prob.solver_stats.solve_time]\n",
    "\n",
    "#Total time plot\n",
    "plt.subplot(1,2,1)\n",
    "plt.bar(['Fusion', 'CVXPY'], height= total_t50,\n",
    "        width=0.4, color=(0.3, 0.6, 0.2, 0.5))\n",
    "plt.ylabel(\"Total Time (s)\")\n",
    "plt.title(\"Comparison of Total Time\")\n",
    "\n",
    "#Solver time plot\n",
    "plt.subplot(1,2,2)\n",
    "plt.bar(['Fusion','CVXPY'], height=solver_t50,\n",
    "        width=0.4, color=(0.5, 0.6, 0.9, 0.8))\n",
    "plt.ylabel(\"Solver Time (s)\")\n",
    "plt.title(\"Comparison of Solver Time\")\n",
    "plt.show()"
   ]
  },
  {
   "cell_type": "markdown",
   "metadata": {},
   "source": [
    "<a rel=\"license\" href=\"http://creativecommons.org/licenses/by/4.0/\"><img alt=\"Creative Commons License\" style=\"border-width:0\" src=\"https://i.creativecommons.org/l/by/4.0/80x15.png\" /></a><br />This work is licensed under a <a rel=\"license\" href=\"http://creativecommons.org/licenses/by/4.0/\">Creative Commons Attribution 4.0 International License</a>. The **MOSEK** logo and name are trademarks of <a href=\"http://mosek.com\">Mosek ApS</a>. The code is provided as-is. Compatibility with future release of **MOSEK** or the `Fusion API` are not guaranteed. For more information contact our [support](mailto:support@mosek.com). "
   ]
  }
 ],
 "metadata": {
  "kernelspec": {
   "display_name": "Python 3",
   "language": "python",
   "name": "python3"
  },
  "language_info": {
   "codemirror_mode": {
    "name": "ipython",
    "version": 3
   },
   "file_extension": ".py",
   "mimetype": "text/x-python",
   "name": "python",
   "nbconvert_exporter": "python",
   "pygments_lexer": "ipython3",
   "version": "3.6.4"
  }
 },
 "nbformat": 4,
 "nbformat_minor": 2
}
