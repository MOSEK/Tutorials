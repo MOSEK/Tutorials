{
 "cells": [
  {
   "cell_type": "markdown",
   "metadata": {},
   "source": [
    "![MOSEK ApS](https://www.mosek.com/static/images/branding/webgraphmoseklogocolor.png )\n",
    "\n",
    "# Linear Regression techniques using MOSEK Fusion API\n",
    "\n",
    "\n",
    "Regression is one of the most used techniques in finance, statistic, biology and in general any application where it is necessary to construct models that approximate input data.\n",
    "\n",
    "The aim of this tutorial is two-fold:\n",
    "\n",
    "1. to show some modeling techniques to define regression problems;\n",
    "2. to show how to efficiently implement those problems using MOSEK Fusion API.\n",
    "\n",
    "\n",
    "This tutorial is largerly based on:\n",
    "\n",
    "    [1] Schmelzer, T., Hauser, R., Andersen, E., & Dahl, J. (2013). Regression techniques for Portfolio Optimisation using MOSEK. arXiv preprint arXiv:1310.3397.\n",
    "    [2] Boyd, S., & Vandenberghe, L. (2004). Convex optimization. Cambridge university press.\n",
    "\n",
    "\n",
    "The code is written in Python3 and uses the [MOSEK Fusion API](https://mosek.com/documentation)."
   ]
  },
  {
   "cell_type": "code",
   "execution_count": 1,
   "metadata": {},
   "outputs": [
    {
     "name": "stdout",
     "output_type": "stream",
     "text": [
      "MOSEK version (9, 0, 40)\n"
     ]
    }
   ],
   "source": [
    "import mosek\n",
    "from mosek.fusion import *\n",
    "print(\"MOSEK version\", mosek.Env.getversion())"
   ]
  },
  {
   "cell_type": "markdown",
   "metadata": {},
   "source": [
    "# The basics of linear regression\n",
    "\n",
    "A linear model is used to explain the relation between $m$ input variables $x_1,\\ldots,x_m$ and a dependent variable $y$ (the output). To this extent we assume that there exists a set of weights $w\\in \\mathbb{R}^{m}$ such that ideally\n",
    "\n",
    "$$\n",
    "y = x^T w,\n",
    "$$\n",
    "\n",
    "where $x=(x_1,\\ldots,x_m)$.\n",
    "\n",
    "In practice, we are given $n$ observations of the relation that links $x$ and $y$. We store them row-wise in a matrix $X\\in \\mathbb{R}^{n\\times m}$. Corresponding outputs $y=(y_i,\\ldots,y_n)$ are known as well. If the relation we want to describe is truly linear we can hope to solve the linear system\n",
    "\n",
    "$$\n",
    "X w =y.\n",
    "$$\n",
    "\n",
    "But usually this is not the case and we can only settle for an approximation which minimizes (in some sense) the residual vector\n",
    "\n",
    "$$\n",
    "r = Xw - y,\n",
    "$$\n",
    "\n",
    "and we obtain an optimization problem\n",
    "\n",
    "$$\n",
    "\\begin{array}{ll}\n",
    " \\mbox{minimize} & \\phi(r)\\\\ \n",
    "  s.t. & r = Xw - y, \\\\\n",
    "       & w\\in W.\n",
    "\\end{array}\n",
    "$$\n",
    "\n",
    "The choice of the cost function $\\phi(\\cdot)$ determines the way errors on the residuals are weighted. Here we demonstrate the following variants:\n",
    "\n",
    "* $\\ell_2$-norm,\n",
    "* $\\ell_1$-norm,\n",
    "* $\\ell_p-$norm ,\n",
    "* *Chebyshev* norm (also known as *Min-max*),\n",
    "* *Deadzone-linear*,\n",
    "* *$k$-largest residuals*."
   ]
  },
  {
   "cell_type": "markdown",
   "metadata": {},
   "source": [
    "We create simple input data sets which attempt to lead to the solution $w=(1,\\ldots,1)$ and we add small normally distributed error as follows."
   ]
  },
  {
   "cell_type": "code",
   "execution_count": 2,
   "metadata": {},
   "outputs": [],
   "source": [
    "import numpy as np\n",
    "import sys\n",
    "%matplotlib inline\n",
    "import matplotlib.pyplot as plt\n",
    "\n",
    "def dataset(m, n):\n",
    "    X = np.random.uniform(-1.0, 1.0, (n,m))\n",
    "    y = X.dot(np.ones(m)) + np.random.normal(0.0, 0.2, n)\n",
    "    return X, y"
   ]
  },
  {
   "cell_type": "markdown",
   "metadata": {},
   "source": [
    "## $\\ell_2$-norm\n",
    "\n",
    "The regression problem with respect to the $\\ell_2$-norm (i.e. linear least squares) has the conic quadratic formulation\n",
    "\n",
    "$$\n",
    "\\begin{array}{ll}\n",
    "\\mbox{minimize} & t\\\\\n",
    "\\mbox{s.t.} & t\\geq \\|Xw-y\\|_2 \\quad \\mathrm{i.e.}\\ (t,Xw-y)\\in \\mathcal{Q}^{n+1},\\\\\n",
    " & t\\in\\mathbb{R}, w\\in\\mathbb{R}^m.\n",
    "\\end{array}\n",
    "$$\n",
    "\n",
    "This model models the maximum likelihood of the fit precisely under the assumption that residuals have normal distribution.\n",
    "\n",
    "Below is the model in Fusion.            "
   ]
  },
  {
   "cell_type": "code",
   "execution_count": 3,
   "metadata": {},
   "outputs": [],
   "source": [
    "def l2norm(X,y):\n",
    "    n,m=X.shape\n",
    "    \n",
    "    M = Model(\"l2norm\")\n",
    "    w = M.variable(m)\n",
    "    t = M.variable()\n",
    "    \n",
    "    M.objective(ObjectiveSense.Minimize, t)\n",
    "    \n",
    "    res = Expr.sub(Expr.mul(X,w), y)\n",
    "    M.constraint(Expr.vstack(t, res), Domain.inQCone())\n",
    "    \n",
    "    #M.setLogHandler(sys.stdout)\n",
    "    M.solve()\n",
    "    \n",
    "    # Return the weights vector and the residuals\n",
    "    w = w.level()\n",
    "    return w, X.dot(w)-y\n",
    "\n",
    "X,y = dataset(10,1000)\n",
    "w, res = l2norm(X,y)"
   ]
  },
  {
   "cell_type": "markdown",
   "metadata": {},
   "source": [
    "If everything went well, we should have recovered the weight vector of all ones and normally distributed residuals, as below:"
   ]
  },
  {
   "cell_type": "code",
   "execution_count": 4,
   "metadata": {},
   "outputs": [
    {
     "name": "stdout",
     "output_type": "stream",
     "text": [
      "|w-1|_2: 0.025785996710141198\n"
     ]
    },
    {
     "data": {
      "image/png": "[encoded data removed]",
      "text/plain": [
       "<matplotlib.figure.Figure at 0x7f8235d157b8>"
      ]
     },
     "metadata": {},
     "output_type": "display_data"
    }
   ],
   "source": [
    "print(\"|w-1|_2:\", np.linalg.norm(w-np.ones(10)))\n",
    "plt.hist(res,40)\n",
    "plt.title(\"Histogram of residuals (l2 norm)\")\n",
    "plt.show()"
   ]
  },
  {
   "cell_type": "markdown",
   "metadata": {},
   "source": [
    "## $\\ell_1$-norm\n",
    "\n",
    "Under the $\\ell_1$-norm we minimize $\\sum_i |r_i|$. The corresponding linear formulation is\n",
    "\n",
    "$$\n",
    "\\begin{array}{ll}\n",
    "\\mbox{minimize}  & \\sum_i t_i \\\\\n",
    "\\mbox{s.t.} & t\\geq Xw-y,\\\\\n",
    " & t \\geq -(Xw-y), \\\\\n",
    " & w\\in\\mathbb{R}^m, t\\in\\mathbb{R}^n,\n",
    "\\end{array}\n",
    "$$ \n",
    "\n",
    "which simply expresses the bound $t_i\\geq |r_i|$. Below is a corresponding Fusion model."
   ]
  },
  {
   "cell_type": "code",
   "execution_count": 5,
   "metadata": {},
   "outputs": [
    {
     "name": "stdout",
     "output_type": "stream",
     "text": [
      "|w-1|_2: 0.034229179355081116\n"
     ]
    },
    {
     "data": {
      "image/png": "[encoded data removed]",
      "text/plain": [
       "<matplotlib.figure.Figure at 0x7f81cab32cf8>"
      ]
     },
     "metadata": {},
     "output_type": "display_data"
    }
   ],
   "source": [
    "def l1norm(X,y):\n",
    "    n,m=X.shape\n",
    "    \n",
    "    M = Model(\"l1norm\")\n",
    "    w = M.variable(m)\n",
    "    t = M.variable(n)\n",
    "    \n",
    "    M.objective(ObjectiveSense.Minimize, Expr.sum(t))\n",
    "    \n",
    "    res = Expr.sub(Expr.mul(X,w), y)\n",
    "    M.constraint(Expr.sub(t, res), Domain.greaterThan(0))\n",
    "    M.constraint(Expr.add(t, res), Domain.greaterThan(0))\n",
    "    \n",
    "    #M.setLogHandler(sys.stdout)\n",
    "    M.solve()\n",
    "    \n",
    "    # Return the weights vector and the residuals\n",
    "    w = w.level()\n",
    "    return w, X.dot(w)-y\n",
    "\n",
    "w, res = l1norm(X,y)\n",
    "print(\"|w-1|_2:\", np.linalg.norm(w-np.ones(10)))\n",
    "plt.hist(res,40)\n",
    "plt.title(\"Histogram of residuals (l1 norm)\")\n",
    "plt.show()"
   ]
  },
  {
   "cell_type": "markdown",
   "metadata": {},
   "source": [
    "## $\\ell_p$-norm\n",
    "\n",
    "The $\\ell_p$ norm\n",
    "\n",
    "$$\\phi(r) = \\| r \\|_p = \\left( \\sum_i |r_i|^p \\right)^{1/p}$$\n",
    "\n",
    "For a general $p>1$ we can model it using the power cone. The standard representation of the epigraph $t\\geq\\|r\\|_p$ as a conic model can be found in https://docs.mosek.com/modeling-cookbook/powo.html#norm-cones\n",
    "\n",
    "$$\n",
    "\\begin{array}{l}\n",
    "\\sum_i s_i = t\\\\\n",
    "s_it^{p-1} \\geq |r_i|^p, \\ i=1,\\ldots,n\n",
    "\\end{array}\n",
    "$$\n",
    "\n",
    "and the last constraint can be expressed using a power cone. In Fusion all of these individual conic constraints can be specified at once in matrix for, where, as always in Fusion, \"matrix in a cone\" is a shorthand for \"each row of the matrix is in the cone\"."
   ]
  },
  {
   "cell_type": "code",
   "execution_count": 6,
   "metadata": {},
   "outputs": [
    {
     "name": "stdout",
     "output_type": "stream",
     "text": [
      "|w-1|_2: 0.025786431917413328\n"
     ]
    },
    {
     "data": {
      "image/png": "[encoded data removed]",
      "text/plain": [
       "<matplotlib.figure.Figure at 0x7f825428cb70>"
      ]
     },
     "metadata": {},
     "output_type": "display_data"
    }
   ],
   "source": [
    "def lpnorm(X,y,p):\n",
    "    n,m=X.shape\n",
    "    \n",
    "    M = Model(\"lpnorm\")\n",
    "    w = M.variable(m)\n",
    "    t = M.variable()\n",
    "    s = M.variable(n)\n",
    "    \n",
    "    M.objective(ObjectiveSense.Minimize, t)\n",
    "    \n",
    "    M.constraint(Expr.sub(Expr.sum(s),t), Domain.equalsTo(0))\n",
    "    \n",
    "    res = Expr.sub(Expr.mul(X,w), y)\n",
    "    M.constraint(Expr.hstack(s, Var.repeat(t,n), res), Domain.inPPowerCone(1.0/p))\n",
    "    \n",
    "    #M.setLogHandler(sys.stdout)\n",
    "    M.solve()\n",
    "\n",
    "    # Return the weights vector and the residuals\n",
    "    w = w.level()\n",
    "    return w, X.dot(w)-y\n",
    "\n",
    "w, res = lpnorm(X,y,p=2)\n",
    "print(\"|w-1|_2:\", np.linalg.norm(w-np.ones(10)))\n",
    "plt.hist(res,40)\n",
    "plt.title(\"Histogram of residuals (lp norm)\")\n",
    "plt.show()"
   ]
  },
  {
   "cell_type": "markdown",
   "metadata": {},
   "source": [
    "# Deadzone-linear\n",
    "\n",
    "This approach steams from the $\\ell_1$ norm approximation, but ignoring small errors. Given a threshold $a\\geq 0$, we define \n",
    "\n",
    "$$ \\phi(r) = \\sum_i \\max(0, |r_i|-a )$$\n",
    "\n",
    "The conic optimization model takes the form:\n",
    "\n",
    "$$\n",
    "\\begin{array}{ll}\n",
    "\\mbox{minimize} &  \\sum_i t_i\\\\\n",
    "\\mbox{s.t.} & t \\geq |Xw-y|-a,\\\\\n",
    "& t\\geq 0 \n",
    "\\end{array}\n",
    "$$ \n",
    "\n",
    "Again, removing the absolute value we obtain in compact form:\n",
    "\n",
    "$$\n",
    "\\begin{array}{ll}\n",
    "\\mbox{minimize} &  \\sum_i t_i\\\\\n",
    "\\mbox{s.t.} & t \\geq Xw-y-a,\\\\\n",
    "  & t \\geq -(Xw-y)-a,\\\\\n",
    "& t\\geq 0.\n",
    "\\end{array}\n",
    "$$ "
   ]
  },
  {
   "cell_type": "code",
   "execution_count": 7,
   "metadata": {},
   "outputs": [
    {
     "name": "stdout",
     "output_type": "stream",
     "text": [
      "|w-1|_2: 0.03798164802353423\n"
     ]
    },
    {
     "data": {
      "image/png": "[encoded data removed]",
      "text/plain": [
       "<matplotlib.figure.Figure at 0x7f81bf9b1278>"
      ]
     },
     "metadata": {},
     "output_type": "display_data"
    }
   ],
   "source": [
    "def deadzone(X,y,a):\n",
    "    n,m=X.shape\n",
    "    \n",
    "    M = Model(\"deadzone\")\n",
    "    w = M.variable(m)\n",
    "    t = M.variable(n, Domain.greaterThan(0))\n",
    "    \n",
    "    M.objective(ObjectiveSense.Minimize, Expr.sum(t))\n",
    "    \n",
    "    res = Expr.sub(Expr.mul(X,w), y)\n",
    "    M.constraint(Expr.sub(t, res), Domain.greaterThan(-a))\n",
    "    M.constraint(Expr.add(t, res), Domain.greaterThan(-a))\n",
    "    \n",
    "    #M.setLogHandler(sys.stdout)\n",
    "    M.solve()\n",
    "    \n",
    "    # Return the weights vector and the residuals\n",
    "    w = w.level()\n",
    "    return w, X.dot(w)-y\n",
    "\n",
    "w, res = deadzone(X,y,0.05)\n",
    "print(\"|w-1|_2:\", np.linalg.norm(w-np.ones(10)))\n",
    "plt.hist(res,40)\n",
    "plt.title(\"Histogram of residuals (deadzone)\")\n",
    "plt.show()"
   ]
  },
  {
   "cell_type": "markdown",
   "metadata": {},
   "source": [
    "## Chebyshev Approximation\n",
    "\n",
    "Sometimes referred as the *minmax* approximation, it uses \n",
    "\n",
    "$$\\phi(r) = \\max_i( |r_i| ) = \\|r\\|_{\\infty}$$\n",
    "\n",
    "as penalty function. It is a limit case of $\\ell_p-$norms as $p\\rightarrow \\infty$. The effect is to only look at the largest error in absolute value. The formulation of our problem is therefore\n",
    "\n",
    "$$\n",
    "\\begin{array}{ll}\n",
    "\\mbox{minimize} & t\\\\\n",
    "\\mbox{s.t.} & te \\geq Xw-y,\\\\\n",
    "  & te \\geq -(Xw-y),\n",
    "\\end{array}\n",
    "$$ \n",
    "where $e$ is the all-ones vector."
   ]
  },
  {
   "cell_type": "code",
   "execution_count": 8,
   "metadata": {
    "scrolled": true
   },
   "outputs": [
    {
     "name": "stdout",
     "output_type": "stream",
     "text": [
      "|w-1|_2: 0.16455126712218598\n"
     ]
    },
    {
     "data": {
      "image/png": "[encoded data removed]",
      "text/plain": [
       "<matplotlib.figure.Figure at 0x7f81bf9727b8>"
      ]
     },
     "metadata": {},
     "output_type": "display_data"
    }
   ],
   "source": [
    "def minmax(X,y):\n",
    "    n,m=X.shape\n",
    "    \n",
    "    M = Model(\"minmax\")\n",
    "    w = M.variable(m)\n",
    "    t = M.variable()\n",
    "    \n",
    "    M.objective(ObjectiveSense.Minimize, t)\n",
    "    \n",
    "    res = Expr.sub(Expr.mul(X,w), y)\n",
    "    t_repeat = Var.repeat(t,n)\n",
    "    M.constraint(Expr.sub(t_repeat, res), Domain.greaterThan(0))\n",
    "    M.constraint(Expr.add(t_repeat, res), Domain.greaterThan(0))\n",
    "    \n",
    "    #M.setLogHandler(sys.stdout)\n",
    "    M.solve()\n",
    "    \n",
    "    # Return the weights vector and the residuals\n",
    "    w = w.level()\n",
    "    return w, X.dot(w)-y\n",
    "\n",
    "w, res = minmax(X,y)\n",
    "print(\"|w-1|_2:\", np.linalg.norm(w-np.ones(10)))\n",
    "plt.hist(res,40)\n",
    "plt.title(\"Histogram of residuals (minmax)\")\n",
    "plt.show()"
   ]
  },
  {
   "cell_type": "markdown",
   "metadata": {},
   "source": [
    "## Sum of the largest $k$ residuals\n",
    "\n",
    "The penalty function $\\phi$ is defined as \n",
    "\n",
    "$$\\phi(u) = \\sum_{i=1}^k | r_{[i]} |, $$\n",
    "\n",
    "where the notation $r_{[i]}$ indicates the $i$-th element of $r$ sorted. It means that the penalty depends on the $k$ largest (in absolute value) residuals. This is a generalization of the minmax norm, which here corresponds to $k=1$, and of the $\\ell_1$-norm, which corresponds to $k=n$. As shown in https://docs.mosek.com/modeling-cookbook/linear.html#sum-of-largest-elements whis problem can be modeled in a linear fashion:\n",
    "\n",
    "$$\n",
    "\\begin{array}{ll}\n",
    "\\mbox{minimize} & ks+\\sum u_i\\\\\n",
    "\\mbox{s.t.} & se + u \\geq Xw -y\\\\\n",
    "            & se + u \\geq -(Xw -y)\\\\\n",
    "            & u\\geq 0,\\\\\n",
    "            & u\\in \\mathbb{R}^n,s\\in \\mathbb{R},w\\in\\mathbb{R}^m.\n",
    "\\end{array}\n",
    "$$"
   ]
  },
  {
   "cell_type": "code",
   "execution_count": 9,
   "metadata": {},
   "outputs": [
    {
     "name": "stdout",
     "output_type": "stream",
     "text": [
      "|w-1|_2: 0.08698784890647508\n"
     ]
    },
    {
     "data": {
      "image/png": "[encoded data removed]",
      "text/plain": [
       "<matplotlib.figure.Figure at 0x7f81b60b82e8>"
      ]
     },
     "metadata": {},
     "output_type": "display_data"
    }
   ],
   "source": [
    "def sumkmax(X,y,k):\n",
    "    n,m=X.shape\n",
    "    \n",
    "    M = Model(\"sumkmax\")\n",
    "    w = M.variable(m)\n",
    "    s = M.variable()\n",
    "    u = M.variable(n, Domain.greaterThan(0))\n",
    "    \n",
    "    M.objective(ObjectiveSense.Minimize, Expr.add(Expr.sum(u), Expr.mul(k,s)))\n",
    "    \n",
    "    res = Expr.sub(Expr.mul(X,w), y)\n",
    "    lhs = Expr.add(u, Var.repeat(s,n))\n",
    "    M.constraint(Expr.sub(lhs, res), Domain.greaterThan(0))\n",
    "    M.constraint(Expr.add(lhs, res), Domain.greaterThan(0))\n",
    "    \n",
    "    #M.setLogHandler(sys.stdout)\n",
    "    M.solve()\n",
    "    \n",
    "    # Return the weights vector and the residuals\n",
    "    w = w.level()\n",
    "    return w, X.dot(w)-y\n",
    "\n",
    "w, res = sumkmax(X,y,20)\n",
    "print(\"|w-1|_2:\", np.linalg.norm(w-np.ones(10)))\n",
    "plt.hist(res,40)\n",
    "plt.title(\"Histogram of residuals (sumkmax)\")\n",
    "plt.show()"
   ]
  },
  {
   "cell_type": "markdown",
   "metadata": {},
   "source": [
    "## Some observations\n",
    "\n",
    "All the regression models presented in this tutorial lead to either a linear or a second-order cone or a power cone  optimization problem. That means that\n",
    "\n",
    "* they can be solved in polynomial time by standard optimization algorithms;\n",
    "* add additional (conic)constraints on the weights can be easily included;\n",
    "* sparsity in the input, i.e. in $X$, can be easily handled and usually leads to great savings in time and memory;\n",
    "* the solver will automatically choose between the primal and dual formulation;"
   ]
  },
  {
   "cell_type": "markdown",
   "metadata": {},
   "source": [
    "<a rel=\"license\" href=\"http://creativecommons.org/licenses/by/4.0/\"><img alt=\"Creative Commons License\" style=\"border-width:0\" src=\"https://i.creativecommons.org/l/by/4.0/80x15.png\" /></a><br />This work is licensed under a <a rel=\"license\" href=\"http://creativecommons.org/licenses/by/4.0/\">Creative Commons Attribution 4.0 International License</a>. The **MOSEK** logo and name are trademarks of <a href=\"http://mosek.com\">Mosek ApS</a>. The code is provided as-is. Compatibility with future release of **MOSEK** or the `Fusion API` are not guaranteed. For more information contact our [support](mailto:support@mosek.com). "
   ]
  }
 ],
 "metadata": {
  "anaconda-cloud": {},
  "kernelspec": {
   "display_name": "Python 3",
   "language": "python",
   "name": "python3"
  },
  "language_info": {
   "codemirror_mode": {
    "name": "ipython",
    "version": 3
   },
   "file_extension": ".py",
   "mimetype": "text/x-python",
   "name": "python",
   "nbconvert_exporter": "python",
   "pygments_lexer": "ipython3",
   "version": "3.6.4"
  }
 },
 "nbformat": 4,
 "nbformat_minor": 1
}
