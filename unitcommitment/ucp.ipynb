{
 "cells": [
  {
   "cell_type": "markdown",
   "metadata": {},
   "source": [
    "![MOSEK ApS](https://www.mosek.com/static/images/branding/webgraphmoseklogocolor.png )"
   ]
  },
  {
   "cell_type": "markdown",
   "metadata": {},
   "source": [
    "## The Unit Commitment Problem (UCP)\n",
    "\n",
    "The Unit Commitment Problem is an optimization problem in electrical power production. The goal is to assign production levels and switch-on/switch-off times to generators in a network so that the total production at any time meets the predicted demand for electricity. In this demonstration we consider minimizing production cost subject to constraints on the generating units: minimal/maximal production levels, minimum uptime/downtime and maximum ramp-up/ramp-down. The cost consists of quadratic production costs, fixed operating cost and start-up costs. That makes our version of UCP a Mixed Integer Conic Quadratic Optimization problem (MICQO).\n",
    "\n",
    "These are the most basic constraint types for a UCP model, see for example [this paper](http://pierrepinson.com/docs/HeideJorgensenetal2016.pdf) and references therein. We only model the total power generation of thermal units with constant startup costs, but not the storage capacity of hydro units nor cascades, power flow or bidding aspects; see for instance [a more thorough real-world model](https://www.ferc.gov/legal/staff-reports/rto-COMMITMENT-TEST.pdf). Many of those features could be added by extending our linear model. We use examples derived from datasets from the [OR-library](http://people.brunel.ac.uk/~mastjjb/jeb/info.html) (data is modified to fit into our framework). They are loaded with the script:"
   ]
  },
  {
   "cell_type": "code",
   "execution_count": 1,
   "metadata": {},
   "outputs": [],
   "source": [
    "import ucpParser"
   ]
  },
  {
   "cell_type": "markdown",
   "metadata": {},
   "source": [
    "The source file and examples are available in the GitHub repository containing this notebook. \n",
    "\n",
    "We demonstrate such aspects of working with MOSEK as:\n",
    "* setting up a model,\n",
    "* using variable slices to effectively write constraints,\n",
    "* retrieving optimizer statistics,\n",
    "* reoptimization."
   ]
  },
  {
   "cell_type": "code",
   "execution_count": 2,
   "metadata": {},
   "outputs": [],
   "source": [
    "%matplotlib inline\n",
    "import matplotlib.pyplot as plt\n",
    "import matplotlib.cm as cm\n",
    "import numpy as np\n",
    "import sys\n",
    "from mosek.fusion import *"
   ]
  },
  {
   "cell_type": "markdown",
   "metadata": {},
   "source": [
    "## Problem formulation\n",
    "\n",
    "In the UCP problem we are given a number $N$ of generators (*units*), a time horizon of $T$ *periods* (usually hours or half-hours) and initial conditions (see later). The goal is to determine electricity production levels for all units and all periods so that a total predicted *demand* is satisfied in each period. The operation of the units is subject to technical constraints which will be introduced below. The operating costs are known for each unit and can be split into *production costs*, *fixed operating costs* when the unit is on and *startup costs* incurred when the unit is switched on.\n",
    "\n",
    "We can model this setup using these simple variables:\n",
    "\n",
    "* a continous variable $p\\in\\mathbb{R}_+^{N\\times T}$ such that $p_{i,t}$ is the power generation of unit $i$ at time $t$,\n",
    "* a binary variable $u\\in\\{0,1\\}^{N\\times T}$, where $u_{i,t}$ indicates if unit $i$ is *on* (producing energy) at time $t$,\n",
    "* a binary variable $v\\in\\{0,1\\}^{N\\times T}$, where $v_{i,t}$ indicates if unit $i$ has been started (switched from *off* to *on*) at time $t$, in other words $v_{i,t}=\\max(u_{i,t}-u_{i-1,t},\\ 0)$.\n",
    "\n",
    "It will be convenient to declare variables of size $N\\times(T+1)$ and use the first column for initial conditions, that is production levels and on/off status at the beginning of the simulation. The code that initializes a Fusion model is shown below."
   ]
  },
  {
   "cell_type": "code",
   "execution_count": 3,
   "metadata": {},
   "outputs": [],
   "source": [
    "class UCP:\n",
    "    # Initialize with input data\n",
    "    def __init__(self, T, N):\n",
    "        self.T, self.N = T, N\n",
    "        self.M = Model()\n",
    "\n",
    "        # Production level --- p_ih\n",
    "        self.p = self.M.variable([self.N, self.T+1], Domain.greaterThan(0.0))   \n",
    "        # Is active? --- u_ih\n",
    "        self.u = self.M.variable([self.N, self.T+1], Domain.binary())   \n",
    "        # Is at startup? --- v_ih >= u_ih-u_(i-1)h\n",
    "        self.v = self.M.variable([self.N, self.T+1], Domain.binary())   \n",
    "        self.M.constraint(Expr.sub(\n",
    "                            self.v.slice([0,1],[N,T+1]), \n",
    "                            Expr.sub(self.u.slice([0,1], [N,T+1]), self.u.slice([0,0], [N,T]))), \n",
    "                          Domain.greaterThan(0.0))"
   ]
  },
  {
   "cell_type": "markdown",
   "metadata": {},
   "source": [
    "Note how we use slicing to express the constraint $v_{i,t}\\geq u_{i,t}-u_{i-1,t}$ simultaneously for all $i,t$. The two slices of $u$ have the same dimensions but are shifted by $1$ with respect to each other. The $i,t$-entry of the constraint expression is now just $v_{i,t}-(u_{i,t}-u_{i-1,t})\\geq 0$ as required. We are going to use this type of slicing heavily in what follows. Beacuse most of the operational constraints of the units will need to be broadcasted to all time periods, this repeat method will come in handy."
   ]
  },
  {
   "cell_type": "code",
   "execution_count": 4,
   "metadata": {},
   "outputs": [],
   "source": [
    "# Create a matrix with R columns each equal to v (horizontal repeat)\n",
    "def repeat(v, R):\n",
    "    return np.repeat(v, R).reshape(len(v), R)"
   ]
  },
  {
   "cell_type": "markdown",
   "metadata": {},
   "source": [
    "### Production constraints\n",
    "\n",
    "Each unit, when in use, operates between a minimal and maximal power level $p^{\\textrm{min}}_i$ and $p^{\\textrm{max}}_i$. If the unit is off, its production is $0$:\n",
    "\n",
    "$$p^{\\textrm{min}}_i u_{i,t}\\leq p_{i,t}\\leq p^{\\textrm{max}}_i u_{i,t}.$$\n",
    "\n",
    "Moreover, at each time $t$ the total production must satisfy the current demand $d_t$:\n",
    "\n",
    "$$\\sum_i p_{i,t} \\geq d_t,\\quad t=1,\\ldots,T.$$"
   ]
  },
  {
   "cell_type": "code",
   "execution_count": 5,
   "metadata": {},
   "outputs": [],
   "source": [
    "# Production constraints\n",
    "def consProd(ucp, pmin, pmax, demand):\n",
    "    N, T, p, u, v = ucp.N, ucp.T, ucp.p, ucp.u, ucp.v\n",
    "    # Maximal and minimal production of each unit\n",
    "    ucp.M.constraint(Expr.sub(p, Expr.mulElm(repeat(pmax, T+1), u)), Domain.lessThan(0.0))\n",
    "    ucp.M.constraint(Expr.sub(p, Expr.mulElm(repeat(pmin, T+1), u)), Domain.greaterThan(0.0))\n",
    "    # Total demand in periods is achieved\n",
    "    ucp.M.constraint(Expr.sum(p, 0).slice(1,T+1), Domain.greaterThan(demand))"
   ]
  },
  {
   "cell_type": "markdown",
   "metadata": {},
   "source": [
    "Here we used the ``Expr.sum(p, 0)`` operator to sum the $p$ matrix along the $0$-th dimension i.e. to compute sums within each column."
   ]
  },
  {
   "cell_type": "markdown",
   "metadata": {},
   "source": [
    "### Ramp constraints\n",
    "\n",
    "Ramp-up and ramp-down constraints indicate that the output of a generator cannot vary too rapidly between periods. \n",
    "\n",
    "$$p_{i-1,t}-r^{\\textrm{down}}_i\\leq p_{i,t}\\leq p_{i-1,t}+r^{\\textrm{up}}_i.$$"
   ]
  },
  {
   "cell_type": "code",
   "execution_count": 6,
   "metadata": {},
   "outputs": [],
   "source": [
    "# Ramp constraints \n",
    "def consRamp(ucp, rdown, rup):\n",
    "    N, T, p, u, v = ucp.N, ucp.T, ucp.p, ucp.u, ucp.v\n",
    "    Delta = Expr.sub(p.slice([0,1], [N,T+1]), p.slice([0,0], [N,T]))\n",
    "    ucp.M.constraint(Delta, Domain.lessThan(repeat(rup, T)))\n",
    "    ucp.M.constraint(Delta, Domain.greaterThan(-repeat(rdown, T)))"
   ]
  },
  {
   "cell_type": "markdown",
   "metadata": {},
   "source": [
    "### Initial values\n",
    "\n",
    "We also input the state of the system in the last period before the start of the simulation. We will load that information by fixing the values in the $0$-th column of the variables. For each generator the initial state is described by the values $p_{i,0}$ and $u_{i,0}$ as well as $l_i$ - the number of periods the unit has already spent in its current state (on/off). This will be required to properly handle the initial uptime/downtime constraint (see next)."
   ]
  },
  {
   "cell_type": "code",
   "execution_count": 7,
   "metadata": {},
   "outputs": [],
   "source": [
    "# Initial values\n",
    "def consInit(ucp, p0, u0, l0):\n",
    "    N, T, p, u, v = ucp.N, ucp.T, ucp.p, ucp.u, ucp.v\n",
    "    # Fix production in the immediately preceeding period\n",
    "    ucp.M.constraint(p.slice([0,0],[N,1]), Domain.equalsTo(p0).withShape([N,1]))\n",
    "    ucp.M.constraint(u.slice([0,0],[N,1]), Domain.equalsTo(u0).withShape([N,1]))"
   ]
  },
  {
   "cell_type": "markdown",
   "metadata": {},
   "source": [
    "### Minimal downtime/uptime\n",
    "\n",
    "When a large thermal unit is turned on/off it will often be impossible to turn it back off/on before a minimal uptime/downtime $m^{\\textrm{up}}_i/m^{\\textrm{down}}_i$ (measured in periods) has elapsed. \n",
    "\n",
    "These conditions are modelled with the binary variable $u$. If the $i$-th unit is off at two times $t$ and $t+w$ with $w<m^{\\textrm{up}}_i$ then it must be off at all times $s$ in between not to violate the minimum uptime condition. This is equivalent to\n",
    "\n",
    "$$u_{i,t}+u_{i,t+w}\\geq u_{i,t+s},\\quad 1 < s< w < m^{\\textrm{up}}_i.$$\n",
    "\n",
    "This condition can again be expressed by combining three slices of $u$ with offsets $0,s,w$ (this time separately for each row of $u$). A similar linear inequality is used to model minimum downtime.\n",
    "\n",
    "Finally the initial condition $l_i$ may require fixing some $u_{i,t}$ for small $t$ if historically a unit was not on/off long enough to fill the minimum uptime/downtime conditions at the beginning of the process."
   ]
  },
  {
   "cell_type": "code",
   "execution_count": 8,
   "metadata": {},
   "outputs": [],
   "source": [
    "# Minimal downtime/uptime requirements\n",
    "def consMinT(ucp, mdown, mup, u0, l0):\n",
    "    N, T, p, u, v = ucp.N, ucp.T, ucp.p, ucp.u, ucp.v\n",
    "    # Different units will have different requirements\n",
    "    for unit in range(N):\n",
    "        # First, take care of neighbourhood of initial conditions\n",
    "        if u0[unit] == 0 and l0[unit] < mdown[unit]:\n",
    "            ucp.M.constraint(u.slice([unit,1],[unit+1,mdown[unit]-l0[unit]+1]), Domain.equalsTo(0))\n",
    "        if u0[unit] == 1 and l0[unit] < mup[unit]:\n",
    "            ucp.M.constraint(u.slice([unit,1],[unit+1,mup[unit]-l0[unit]+1]), Domain.equalsTo(1))\n",
    "        # If we are off in i and i+w (w<mup), we must be off in between:\n",
    "        for w in range(1,mup[unit]):\n",
    "            for s in range(1,w):\n",
    "                ucp.M.constraint(\n",
    "                    Expr.sub(\n",
    "                        Expr.add(u.slice([unit,0],[unit+1,T-w+1]), \n",
    "                                 u.slice([unit,w],[unit+1,T+1])),\n",
    "                        u.slice([unit,s],[unit+1,T-w+1+s])),\n",
    "                    Domain.greaterThan(0))\n",
    "        # If we are on in i and i+w (w<mdown), we must be on in between:\n",
    "        for w in range(1,mdown[unit]):\n",
    "            for s in range(1,w):\n",
    "                ucp.M.constraint(\n",
    "                    Expr.sub(\n",
    "                        Expr.add(u.slice([unit,0],[unit+1,T-w+1]), \n",
    "                                 u.slice([unit,w],[unit+1,T+1])),\n",
    "                        u.slice([unit,s],[unit+1,T-w+1+s])),\n",
    "                    Domain.lessThan(1))"
   ]
  },
  {
   "cell_type": "markdown",
   "metadata": {},
   "source": [
    "### Objective: cost minimization\n",
    "\n",
    "We consider three types of power generation costs per unit $i$ per period:\n",
    "\n",
    "* production cost $C_i(p) = a_ip^2+b_ip+c_i$ depending quadratically on power generation $p$,\n",
    "* a fixed cost of $\\textrm{fx}_i$ when in production ($u_{i,t}=1$),\n",
    "* a fixed startup cost $\\textrm{sc}_i$ whenever the unit is being switched on ($v_{i,t}=1$).\n",
    "\n",
    "The total cost is the sum of all these costs. The costs associated to $b, \\textrm{fx}, \\textrm{sc}$ can be added up simply using inner product (note that the ``Expr.dot`` does the right thing for any two objects of the same shape). The quadratic terms (optional) are upper-bounded using auxiliary variables $t_i$ with rotated quadratic cone inequalities:\n",
    "\n",
    "$$2\\cdot\\frac12\\cdot t_i\\geq \\sum_{t}p_{i,t}^2.$$\n",
    "\n",
    "There is one such constraint per row, but they are bundled together in matrix form."
   ]
  },
  {
   "cell_type": "code",
   "execution_count": 9,
   "metadata": {},
   "outputs": [],
   "source": [
    "# Objective\n",
    "def objective(ucp, a, b, c, fx, sc, onlyLinear=False):\n",
    "    N, T, p, u, v = ucp.N, ucp.T, ucp.p, ucp.u, ucp.v\n",
    "    # Startup costs and fixed operating costs\n",
    "    scCost = Expr.dot(v.slice([0,1],[N,T+1]), repeat(sc, T))\n",
    "    fxCost = Expr.dot(u.slice([0,1],[N,T+1]), repeat(fx, T))\n",
    "    # Linear part of production cost bp\n",
    "    bCost = Expr.sum(Expr.mul(b, p.slice([0,1],[N,T+1])))\n",
    "    allCosts = [bCost, Expr.constTerm(sum(c)*ucp.T), fxCost, scCost]\n",
    "    # Quadratic part of production cost ap^2\n",
    "    if not onlyLinear:\n",
    "        t = ucp.M.variable(ucp.N) \n",
    "        ucp.M.constraint(Expr.hstack(Expr.constTerm(N, 0.5), t, p.slice([0,1],[N,T+1])), Domain.inRotatedQCone())\n",
    "        aCost = Expr.dot(a, t)\n",
    "        allCosts.append(aCost)\n",
    "    # Total\n",
    "    ucp.M.objective(ObjectiveSense.Minimize, Expr.add(allCosts))"
   ]
  },
  {
   "cell_type": "markdown",
   "metadata": {},
   "source": [
    "## Example\n",
    "\n",
    "The available datasets span over a time horizon of $T=24$ hours, but the parser allows to extend them by repeating periodically over a given number of days. We load the data and apply all the constraints defined previously."
   ]
  },
  {
   "cell_type": "code",
   "execution_count": 10,
   "metadata": {},
   "outputs": [],
   "source": [
    "example='RCUC/T-Ramp/20_0_3_w.mod'\n",
    "numDays = 3\n",
    "\n",
    "T, N, demand, pmin, pmax, rdown, rup, mdown, mup, a, b, c, sc, fx, p0, u0, l0 = ucpParser.loadModel(example, numDays)\n",
    "\n",
    "ucp = UCP(T, N)\n",
    "consProd(ucp, pmin, pmax, demand)\n",
    "consRamp(ucp, rdown, rup)\n",
    "consInit(ucp, p0, u0, l0)\n",
    "consMinT(ucp, mdown, mup, u0, l0)\n",
    "objective(ucp, a, b, c, fx, sc)"
   ]
  },
  {
   "cell_type": "markdown",
   "metadata": {},
   "source": [
    "We can now solve the model. It is recommended to relax termination critieria for the mixed-integer optimizer using MOSEK parameters. Here we will accept solutions with relative optimality tolerance $0.6\\%$, i.e. $0.6\\%$ from the objective bound. Another option is to set a time limit."
   ]
  },
  {
   "cell_type": "code",
   "execution_count": 11,
   "metadata": {},
   "outputs": [
    {
     "name": "stdout",
     "output_type": "stream",
     "text": [
      "Problem\n",
      "  Name                   :                 \n",
      "  Objective sense        : min             \n",
      "  Type                   : CONIC (conic optimization problem)\n",
      "  Constraints            : 45186           \n",
      "  Cones                  : 20              \n",
      "  Scalar variables       : 5880            \n",
      "  Matrix variables       : 0               \n",
      "  Integer variables      : 2920            \n",
      "\n",
      "Optimizer started.\n",
      "Mixed integer optimizer started.\n",
      "Threads used: 20\n",
      "Presolve started.\n",
      "Presolve terminated. Time = 0.60\n",
      "Presolved problem: 4202 variables, 23928 constraints, 68589 non-zeros\n",
      "Presolved problem: 6 general integer, 2722 binary, 1474 continuous\n",
      "Clique table size: 264\n",
      "BRANCHES RELAXS   ACT_NDS  DEPTH    BEST_INT_OBJ         BEST_RELAX_OBJ       REL_GAP(%)  TIME  \n",
      "0        1        0        0        NA                   1.0194202063e+07     NA          2.1   \n",
      "0        1        0        0        1.0274207592e+07     1.0194202063e+07     0.78        4.2   \n",
      "0        1        0        0        1.0273069330e+07     1.0194202063e+07     0.77        6.7   \n",
      "Cut generation started.\n",
      "0        2        0        0        1.0273069330e+07     1.0194202076e+07     0.77        11.8  \n",
      "Cut generation terminated. Time = 2.10\n",
      "15       18       16       3        1.0273069330e+07     1.0195441291e+07     0.76        20.6  \n",
      "31       34       32       4        1.0273069330e+07     1.0196172229e+07     0.75        23.9  \n",
      "51       54       52       5        1.0273069330e+07     1.0196172229e+07     0.75        28.1  \n",
      "91       94       92       6        1.0273069330e+07     1.0196440912e+07     0.75        36.6  \n",
      "171      174      172      9        1.0273069330e+07     1.0196888331e+07     0.74        57.6  \n",
      "331      334      332      17       1.0273069330e+07     1.0196888331e+07     0.74        97.6  \n",
      "585      588      586      30       1.0253254768e+07     1.0196888331e+07     0.55        161.4 \n",
      "An optimal solution satisfying the relative gap tolerance of 6.00e-01(%) has been located.\n",
      "The relative gap is 5.50e-01(%).\n",
      "\n",
      "Objective of best integer solution : 1.025325476809e+07      \n",
      "Best objective bound               : 1.019688833111e+07      \n",
      "Construct solution objective       : Not employed\n",
      "Construct solution # roundings     : 0\n",
      "User objective cut value           : 0\n",
      "Number of cuts generated           : 0\n",
      "Number of branches                 : 585\n",
      "Number of relaxations solved       : 588\n",
      "Number of interior point iterations: 26487\n",
      "Number of simplex iterations       : 0\n",
      "Time spend presolving the root     : 0.60\n",
      "Time spend in the heuristic        : 0.00\n",
      "Time spend in the sub optimizers   : 0.00\n",
      "  Time spend optimizing the root   : 1.40\n",
      "Mixed integer optimizer terminated. Time: 161.56\n",
      "\n",
      "Optimizer terminated. Time: 161.75  \n",
      "\n",
      "\n",
      "Integer solution solution summary\n",
      "  Problem status  : PRIMAL_FEASIBLE\n",
      "  Solution status : INTEGER_OPTIMAL\n",
      "  Primal.  obj: 1.0253254768e+07    nrm: 5e+06    Viol.  con: 7e-15    var: 0e+00    cones: 1e-08    itg: 0e+00  \n"
     ]
    }
   ],
   "source": [
    "ucp.M.setLogHandler(sys.stdout)\n",
    "ucp.M.setSolverParam(\"mioTolRelGap\", 0.03) # 3%\n",
    "#ucp.M.setSolverParam(\"mioMaxTime\", 30.0)   # 30 sec.\n",
    "ucp.M.solve()"
   ]
  },
  {
   "cell_type": "markdown",
   "metadata": {},
   "source": [
    "Next, we print some solution statistics and fetch the solution values for $p$ and $u$:"
   ]
  },
  {
   "cell_type": "code",
   "execution_count": 12,
   "metadata": {},
   "outputs": [
    {
     "name": "stdout",
     "output_type": "stream",
     "text": [
      "Solution status: SolutionStatus.Optimal\n",
      "Relative optimiality gap: 0.55%\n",
      "Total solution time: 161.75s\n"
     ]
    }
   ],
   "source": [
    "# Fetch results\n",
    "def results(ucp):\n",
    "    N, T, p, u, v = ucp.N, ucp.T, ucp.p, ucp.u, ucp.v\n",
    "    # Check if problem is feasible\n",
    "    if ucp.M.getProblemStatus(SolutionType.Default) in [ProblemStatus.PrimalFeasible]:\n",
    "        # For time-constrained optimization it may be wise to accept any feasible solution\n",
    "        ucp.M.acceptedSolutionStatus(AccSolutionStatus.Feasible)\n",
    "        \n",
    "        # Some statistics:\n",
    "        print('Solution status: {0}'.format(ucp.M.getPrimalSolutionStatus()))\n",
    "        print('Relative optimiality gap: {:.2f}%'.format(100*ucp.M.getSolverDoubleInfo(\"mioObjRelGap\")))\n",
    "        print('Total solution time: {:.2f}s'.format(ucp.M.getSolverDoubleInfo(\"optimizerTime\")))\n",
    "\n",
    "        return p.level().reshape([N,T+1]), u.level().reshape([N,T+1])\n",
    "    else:\n",
    "        raise ValueError(\"No solution\")\n",
    "\n",
    "pVal, uVal = results(ucp)"
   ]
  },
  {
   "cell_type": "markdown",
   "metadata": {},
   "source": [
    "The solution status is reported as optimal because we previously requested that solutions with relative optimiality gap less than $0.6\\%$ are treated as such. We can also plot interesting statistics. For example:"
   ]
  },
  {
   "cell_type": "code",
   "execution_count": 13,
   "metadata": {},
   "outputs": [
    {
     "data": {
      "image/png": "[encoded data removed]",
      "text/plain": [
       "<matplotlib.figure.Figure at 0x7faacc512c18>"
      ]
     },
     "metadata": {},
     "output_type": "display_data"
    }
   ],
   "source": [
    "# Display some statistics\n",
    "def displayProduction(ucp, pVal, uVal, pmax):\n",
    "    N, T, p, u, v = ucp.N, ucp.T, ucp.p, ucp.u, ucp.v    \n",
    "    f, axarr = plt.subplots(5, sharex=True, figsize=[10,10])\n",
    "    # Production relative to global maximum\n",
    "    axarr[0].imshow(pVal/max(pmax), extent=(0,T+1,0,N),\n",
    "               interpolation='nearest', cmap=cm.YlOrRd,\n",
    "               vmin=0, vmax=1, aspect='auto')\n",
    "    # Production relative to maximum of each unit\n",
    "    axarr[1].imshow(pVal/repeat(pmax, T+1), extent=(0,T+1,0,N),\n",
    "               interpolation='nearest', cmap=cm.YlOrRd,\n",
    "               vmin=0, vmax=1, aspect='auto')\n",
    "    # On/off status\n",
    "    axarr[2].imshow(uVal, extent=(0,T+1,0,N),\n",
    "               interpolation='nearest', cmap=cm.YlOrRd,\n",
    "               vmin=0, vmax=1, aspect='auto')    \n",
    "    # Number of units in operation\n",
    "    axarr[3].plot(np.sum(uVal, axis=0))\n",
    "    # Demand coverage and spinning reserve\n",
    "    axarr[4].plot(demand, 'r', np.sum(repeat(pmax,T)*uVal[:,1:], axis=0), 'g')\n",
    "\n",
    "    plt.show()\n",
    "    \n",
    "displayProduction(ucp, pVal, uVal, pmax)"
   ]
  },
  {
   "cell_type": "markdown",
   "metadata": {},
   "source": [
    "The horizontal axis is time. In the first three plots the history of each unit is represented by a single row. From top to bottom the five plots are:\n",
    "\n",
    "1. Production level of each unit relative to the maximal possible production of any unit ($\\frac{p_{i,t}}{\\max_i(p^{\\textrm{max}}_i)}$).\n",
    "2. Production level of each unit relative to its own maximal possible production ($\\frac{p_{i,t}}{p^{\\textrm{max}}_i}$).\n",
    "3. Which units are active/inactive ($u_{i,t}$).\n",
    "4. The number of active units.\n",
    "5. Red - the demand at time periods. Green - the maximal total power of all units active at any given period. The difference is the *spinning reserve* of the system."
   ]
  },
  {
   "cell_type": "markdown",
   "metadata": {},
   "source": [
    "## Reoptimization\n",
    "\n",
    "We can easily add new constraints to an existing Fusion model. For example, we could generate a list of random failures by declaring certain $u_{i,t}$ to be $0$:"
   ]
  },
  {
   "cell_type": "code",
   "execution_count": 14,
   "metadata": {},
   "outputs": [],
   "source": [
    "# Random switch-off of some generators\n",
    "np.random.seed(0)\n",
    "def consSOff(ucp, num):\n",
    "    N, T, p, u, v = ucp.N, ucp.T, ucp.p, ucp.u, ucp.v   \n",
    "    ucp.M.constraint(u.pick(list(np.random.randint(0,N,size=num)), list(np.random.randint(5,T,size=num))), \n",
    "        Domain.equalsTo(0.0))"
   ]
  },
  {
   "cell_type": "markdown",
   "metadata": {},
   "source": [
    "We can now reoptimize the old model with the extra new constraints:"
   ]
  },
  {
   "cell_type": "code",
   "execution_count": 15,
   "metadata": {},
   "outputs": [
    {
     "name": "stdout",
     "output_type": "stream",
     "text": [
      "Problem\n",
      "  Name                   :                 \n",
      "  Objective sense        : min             \n",
      "  Type                   : CONIC (conic optimization problem)\n",
      "  Constraints            : 45196           \n",
      "  Cones                  : 20              \n",
      "  Scalar variables       : 5880            \n",
      "  Matrix variables       : 0               \n",
      "  Integer variables      : 2920            \n",
      "\n",
      "Optimizer started.\n",
      "Mixed integer optimizer started.\n",
      "Threads used: 20\n",
      "Presolve started.\n",
      "Presolve terminated. Time = 1.05\n",
      "Presolved problem: 4172 variables, 23792 constraints, 67807 non-zeros\n",
      "Presolved problem: 18 general integer, 2692 binary, 1462 continuous\n",
      "Clique table size: 680\n",
      "BRANCHES RELAXS   ACT_NDS  DEPTH    BEST_INT_OBJ         BEST_RELAX_OBJ       REL_GAP(%)  TIME  \n",
      "0        1        0        0        NA                   1.0237076498e+07     NA          2.2   \n",
      "0        1        0        0        1.0298496877e+07     1.0237076498e+07     0.60        4.3   \n",
      "An optimal solution satisfying the relative gap tolerance of 7.00e-01(%) has been located.\n",
      "The relative gap is 5.96e-01(%).\n",
      "\n",
      "Objective of best integer solution : 1.029849687703e+07      \n",
      "Best objective bound               : 1.023707649758e+07      \n",
      "Construct solution objective       : Unsuccessful\n",
      "Construct solution # roundings     : 0\n",
      "User objective cut value           : 0\n",
      "Number of cuts generated           : 0\n",
      "Number of branches                 : 0\n",
      "Number of relaxations solved       : 1\n",
      "Number of interior point iterations: 49\n",
      "Number of simplex iterations       : 0\n",
      "Time spend presolving the root     : 1.05\n",
      "Time spend in the heuristic        : 0.00\n",
      "Time spend in the sub optimizers   : 0.00\n",
      "  Time spend optimizing the root   : 1.12\n",
      "Mixed integer optimizer terminated. Time: 4.29\n",
      "\n",
      "Optimizer terminated. Time: 4.31    \n",
      "\n",
      "\n",
      "Integer solution solution summary\n",
      "  Problem status  : PRIMAL_FEASIBLE\n",
      "  Solution status : INTEGER_OPTIMAL\n",
      "  Primal.  obj: 1.0298496877e+07    nrm: 4e+06    Viol.  con: 7e-15    var: 0e+00    cones: 1e-08    itg: 0e+00  \n",
      "Solution status: SolutionStatus.Optimal\n",
      "Relative optimiality gap: 0.60%\n",
      "Total solution time: 4.31s\n"
     ]
    },
    {
     "data": {
      "image/png": "[encoded data removed]",
      "text/plain": [
       "<matplotlib.figure.Figure at 0x7faacd8f2cf8>"
      ]
     },
     "metadata": {},
     "output_type": "display_data"
    }
   ],
   "source": [
    "consSOff(ucp, 10)\n",
    "ucp.M.setSolverParam(\"mioTolRelGap\", 0.02) # 2%\n",
    "ucp.M.solve()\n",
    "pVal, uVal = results(ucp)\n",
    "displayProduction(ucp, pVal, uVal, pmax)"
   ]
  },
  {
   "cell_type": "markdown",
   "metadata": {
    "collapsed": true
   },
   "source": [
    "<a rel=\"license\" href=\"http://creativecommons.org/licenses/by/4.0/\"><img alt=\"Creative Commons License\" style=\"border-width:0\" src=\"https://i.creativecommons.org/l/by/4.0/80x15.png\" /></a><br />This work is licensed under a <a rel=\"license\" href=\"http://creativecommons.org/licenses/by/4.0/\">Creative Commons Attribution 4.0 International License</a>. The **MOSEK** logo and name are trademarks of <a href=\"http://mosek.com\">Mosek ApS</a>. The code is provided as-is. Compatibility with future release of **MOSEK** or the `Fusion API` are not guaranteed. For more information contact our [support](mailto:support@mosek.com). "
   ]
  },
  {
   "cell_type": "code",
   "execution_count": null,
   "metadata": {},
   "outputs": [],
   "source": []
  }
 ],
 "metadata": {
  "anaconda-cloud": {},
  "kernelspec": {
   "display_name": "Python 3",
   "language": "python",
   "name": "python3"
  },
  "language_info": {
   "codemirror_mode": {
    "name": "ipython",
    "version": 3
   },
   "file_extension": ".py",
   "mimetype": "text/x-python",
   "name": "python",
   "nbconvert_exporter": "python",
   "pygments_lexer": "ipython3",
   "version": "3.6.4"
  }
 },
 "nbformat": 4,
 "nbformat_minor": 1
}
