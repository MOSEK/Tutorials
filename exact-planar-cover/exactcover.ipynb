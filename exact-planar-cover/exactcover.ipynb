{
 "cells": [
  {
   "cell_type": "markdown",
   "metadata": {},
   "source": [
    "![MOSEK ApS](https://www.mosek.com/static/images/branding/webgraphmoseklogocolor.png )"
   ]
  },
  {
   "cell_type": "markdown",
   "metadata": {},
   "source": [
    "In this notebook we show how to define an integer problem using the Optimizer API and visualize the solution. We also mention how in this case an infeasibility certificate for the linear relaxation can be given a clear combinatorial interpretation.\n",
    "\n",
    "# Exact planar covering"
   ]
  },
  {
   "cell_type": "code",
   "execution_count": 1,
   "metadata": {},
   "outputs": [],
   "source": [
    "%matplotlib inline\n",
    "from mosek import *\n",
    "import numpy as np\n",
    "from itertools import product\n",
    "import matplotlib.pyplot as plt\n",
    "import matplotlib.patches as patches"
   ]
  },
  {
   "cell_type": "markdown",
   "metadata": {},
   "source": [
    "### Problem formulation\n",
    "\n",
    "In the *exact planar covering problem* we are given an $n\\times m$ rectangle (possibly with holes) and a collection of shapes (bricks). We ask if the rectangle can be tightly covered (without overlaps) with the given shapes. For example, can a $21\\times 21$ square be divided into $1\\times 8$ and $1\\times 9$ rectangles (allowing rotations)? Variants of the problem involve limited or unlimited number of bricks, maximizing the covered area, counting the coverings, etc. We assume that the shapes are built from unit squares and only consider grid-aligned coverings. See for instance the articles on [Polyominos](https://en.wikipedia.org/wiki/Polyomino) and [Tetrominos](https://en.wikipedia.org/wiki/Tetromino).\n",
    "\n",
    "A shape is defined as a list of unit squares, or rather offsets with respect to one fixed square, for example:"
   ]
  },
  {
   "cell_type": "code",
   "execution_count": 2,
   "metadata": {},
   "outputs": [],
   "source": [
    "# The shape of a rectangle \n",
    "def shape_rectangle(a, b):\n",
    "    return list(product(range(0, a), range(0, b)))\n",
    "\n",
    "# Shapes of a subset of Tetris blocks\n",
    "shapes_tetris = [\n",
    "    [(0,0), (0,1), (0,2), (-1,1)],\n",
    "    [(0,0), (0,1), (0,2), (1,1)],\n",
    "    [(0,0), (0,1), (-1,1), (-2,1)],\n",
    "    [(0,0), (0,1), (1,1), (1,2)],\n",
    "    [(0,0), (0,1), (-1,1), (-1,2)],\n",
    "    [(0,0), (1,0), (1,1), (1,2)]\n",
    "]"
   ]
  },
  {
   "cell_type": "markdown",
   "metadata": {},
   "source": [
    "When a shape is actually placed in the rectangle, we say it is *anchored*. Not all positions are suitable for anchoring a shape - it may not stick out of the rectangle."
   ]
  },
  {
   "cell_type": "code",
   "execution_count": 3,
   "metadata": {},
   "outputs": [],
   "source": [
    "# Anchor a shape at a given point p,q\n",
    "# return the list of coordinates it occupies\n",
    "# or return None if it would go outside the board or cover a forbidden spot (from noncov)\n",
    "def anchorShape(shp, n, m, p, q, noncov=[]):\n",
    "    pts = [(p + x, q + y) for x,y in shp]\n",
    "    if all(0<= x and x<n and 0<=y and y<m and (x,y) not in noncov for x,y in pts):\n",
    "        return pts\n",
    "    else:\n",
    "        return None"
   ]
  },
  {
   "cell_type": "markdown",
   "metadata": {},
   "source": [
    "### Integer optimization model\n",
    "\n",
    "We can model the covering problem as a linear problem with binary variables in a standard way. Let $x_{ijk}\\in\\{0,1\\}$ be a binary variable which takes value $1$ if a brick of shape $k$ is anchored at position $(i,j)$ and $0$ otherwise. \n",
    "\n",
    "We have the variable bounds \n",
    "\n",
    "$$x_{ijk}=0$$ \n",
    "\n",
    "whenever the corresponding brick placement is forbidden (hangs out of the board or covers a removed hole). \n",
    "\n",
    "Let us write briefly *$ijk$ covers $pq$* if a brick of type $k$, placed at $(i,j)$, covers the square $(p,q)$. Then  in the exact covering problem we have the constraints \n",
    "\n",
    "$$\\sum_{i,j,k~:~ijk\\textrm{ covers }pq}=1$$\n",
    "\n",
    "for every position $(p,q)$ on the board which is available (not a hole). In the maximal area covering we need the inequality\n",
    "\n",
    "$$\\sum_{i,j,k~:~ijk\\textrm{ covers }pq}\\leq 1.$$\n",
    "\n",
    "That guarantees each grid square present is covered exactly once (resp. at most once).\n",
    "\n",
    "To express the problem in Optimizer API we need a linear indexing of the variables $x_{ijk}$ and of the constraints. Assuming the number of brick shapes is $t$, we can do for example:"
   ]
  },
  {
   "cell_type": "code",
   "execution_count": 4,
   "metadata": {},
   "outputs": [],
   "source": [
    "# Encode bricks and positions\n",
    "def encodeBrick(n, m, t, p, q, l):\n",
    "    return p*m*t + q*t + l\n",
    "def encodePos(n, m, p, q):\n",
    "    return p*m + q"
   ]
  },
  {
   "cell_type": "markdown",
   "metadata": {},
   "source": [
    "Note that the linear constraints have the form \n",
    "\n",
    "$$Ax=b$$ \n",
    "\n",
    "where $A$ is the adjacency matrix between bricks and positions, i.e. $A_{ijk,pq}=1$ if $ijk$ covers $pq$. The matrix $A$ has $nm$ rows and $nmt$ columns, corresponding to positions and anchored bricks, respectively. That makes it very easy to define $A$ column by column by listing the positions covered by a given anchored shape.\n",
    "\n",
    "As a small extension we can for example limit the number of times each shape is used. This requires constraints\n",
    "\n",
    "$$\\sum_{i,j}x_{ijk}\\leq r, \\textrm{ for all } k=1,\\ldots,t.$$\n",
    "\n",
    "### Implementation"
   ]
  },
  {
   "cell_type": "code",
   "execution_count": 5,
   "metadata": {},
   "outputs": [],
   "source": [
    "# Build a model for n x m rectangle with brick shapes T\n",
    "# noncov is the list of fields not to be covered\n",
    "# exact = True -  exact covering\n",
    "# exact = False - find a covering of maximal area\n",
    "# rep   = max number of repetitions of each brick, 0 denotes no limit\n",
    "def model(n, m, t, T, noncov=[], exact=True, rep=0, timelimit=60.0, logging=None):\n",
    "    numvar = n * m * t\n",
    "    numcon = n * m\n",
    "\n",
    "    with Env() as env:\n",
    "        with env.Task(numcon, numvar) as task:\n",
    "            # Add variables and make them binary\n",
    "            task.appendvars(numvar)\n",
    "            task.appendcons(numcon)\n",
    "            task.putvartypelist(range(numvar), [variabletype.type_int] * numvar)\n",
    "            task.putvarboundslice(0, numvar, [boundkey.ra] * numvar, [0.0] * numvar, [1.0] * numvar)\n",
    "\n",
    "            # List of forbidden positions\n",
    "            forb = []\n",
    "\n",
    "            for p,q,k in product(range(n), range(m), range(t)):\n",
    "                # Find points covered by the shape\n",
    "                pts = anchorShape(T[k], n, m, p, q, noncov)\n",
    "                bCode = encodeBrick(n,m,t,p,q,k)\n",
    "                if pts is None:\n",
    "                    forb.append(bCode)\n",
    "                else:\n",
    "                    task.putacol(bCode, [encodePos(n,m,x,y) for x,y in pts], [1.0] * len(pts))\n",
    "\n",
    "            # Require all fields to be exactly once or at most once\n",
    "            # Except for the positions in noncov\n",
    "            key = boundkey.fx if exact else boundkey.up\n",
    "            task.putconboundslice(0, numcon, [key] * numcon, [1.0] * numcon, [1.0] * numcon)\n",
    "            task.putconboundlist([encodePos(n,m,x,y) for x,y in noncov], [boundkey.fx] * len(noncov), [0.0] * len(noncov), [0.0] * len(noncov))\n",
    "\n",
    "            # Objective - total area covered\n",
    "            # This makes no difference in the exact covering (feasibility) problem            \n",
    "            areas = [ (encodeBrick(n,m,t,p,q,k), len(T[k])) for p,q,k in product(range(n), range(m), range(t)) ]\n",
    "            subj, val = zip(*areas)\n",
    "            task.putclist(subj, val)\n",
    "            task.putobjsense(objsense.maximize)\n",
    "\n",
    "            # Forbidden brick placements\n",
    "            task.putvarboundlist(forb, [boundkey.fx] * len(forb), [0.0] * len(forb), [0.0] * len(forb))\n",
    "\n",
    "            # Use each brick at most rep times\n",
    "            if rep > 0:\n",
    "                task.appendcons(t)\n",
    "                task.putconboundslice(numcon, numcon + t, [boundkey.up] * t, [rep] * t, [rep] * t)\n",
    "                for k in range(t):\n",
    "                    task.putarow(numcon + k, [ encodeBrick(n,m,t,p,q,k) for p,q in product(range(n), range(m)) ], [1.0] * (n*m))\n",
    "\n",
    "            # Optimize and get the results back\n",
    "            if logging:\n",
    "                task.set_Stream(streamtype.log, logging)\n",
    "            task.putdouparam(dparam.mio_max_time, timelimit)\n",
    "            task.optimize()\n",
    "\n",
    "            prosta = task.getprosta(soltype.itg)\n",
    "            if prosta == prosta.prim_infeas:\n",
    "                print(\"No covering\\nLooking for infeasibility certificate for the relaxation\")\n",
    "                attemptCertificate(n, m, noncov, task)\n",
    "            else:\n",
    "                xx = np.zeros(numvar, dtype=float)\n",
    "                task.getxx(soltype.itg, xx)\n",
    "                sol = [(p,q,k) for p,q,k in product(range(n), range(m), range(t)) if xx[encodeBrick(n,m,t,p,q,k)] > 0.8]\n",
    "                display(n, m, sol, T, ['blue', 'yellow', 'green', 'red', 'violet', 'orange'])\n",
    "                if not exact:\n",
    "                    print(\"Covered area {0}, best bound found {1}, total board area {2}\".format(\n",
    "                        int(task.getprimalobj(soltype.itg)), \n",
    "                        int(task.getdouinf(dinfitem.mio_obj_bound)),\n",
    "                        n*m-len(noncov)))"
   ]
  },
  {
   "cell_type": "markdown",
   "metadata": {},
   "source": [
    "The code above models and solves the problem. It is easier to add exactly $nm$ linear constraints even if some fields are excluded. In this case the corresponding constraint is fixed to zero (this follows anyway from the variable bounds in such case). Plotting the result is done with the function shown next."
   ]
  },
  {
   "cell_type": "code",
   "execution_count": 6,
   "metadata": {},
   "outputs": [],
   "source": [
    "# Plot a solution\n",
    "def display(n, m, sol, T, col):\n",
    "    fig,ax = plt.subplots(1)\n",
    "    # Plot all small squares for each brick\n",
    "    for p,q,k in sol:\n",
    "        for x,y in anchorShape(T[k], n, m, p, q):\n",
    "            ax.add_patch(patches.Rectangle((x,y), 1, 1, linewidth=0, facecolor=col[k]))\n",
    "    # Plot grid\n",
    "    xs, ys = np.linspace(0, n, n+1), np.linspace(0, m, m+1)\n",
    "    for x in xs: plt.plot([x, x], [ys[0], ys[-1]], color='black')\n",
    "    for y in ys: plt.plot([xs[0], xs[-1]], [y, y], color='black') \n",
    "    ax.axis([0, n, 0, m])\n",
    "    ax.axis('off')\n",
    "    ax.set_aspect('equal')\n",
    "    plt.show()"
   ]
  },
  {
   "cell_type": "markdown",
   "metadata": {},
   "source": [
    "### Examples\n",
    "\n",
    "From the introduction: a covering of the $21\\times 21$ square with $1\\times 8$ and $1\\times 9$ rectangles."
   ]
  },
  {
   "cell_type": "code",
   "execution_count": 7,
   "metadata": {},
   "outputs": [
    {
     "data": {
      "image/png": "[encoded data removed]",
      "text/plain": [
       "<matplotlib.figure.Figure at 0x7fe9f7fd7668>"
      ]
     },
     "metadata": {},
     "output_type": "display_data"
    }
   ],
   "source": [
    "n, m = 21, 21\n",
    "T = [shape_rectangle(1,8), shape_rectangle(8,1), shape_rectangle(1,9), shape_rectangle(9,1)]\n",
    "t = len(T)\n",
    "model(n, m, t, T)"
   ]
  },
  {
   "cell_type": "markdown",
   "metadata": {},
   "source": [
    "Another rectangle and set of blocks. "
   ]
  },
  {
   "cell_type": "code",
   "execution_count": 8,
   "metadata": {},
   "outputs": [
    {
     "data": {
      "image/png": "[encoded data removed]",
      "text/plain": [
       "<matplotlib.figure.Figure at 0x7fe9f218e128>"
      ]
     },
     "metadata": {},
     "output_type": "display_data"
    }
   ],
   "source": [
    "n, m = 22, 27\n",
    "T = [shape_rectangle(8,2), shape_rectangle(5,2), shape_rectangle(1,7)]\n",
    "t = len(T)\n",
    "model(n, m, t, T)"
   ]
  },
  {
   "cell_type": "markdown",
   "metadata": {},
   "source": [
    "Next, we consider an example with a small subset of Tetris blocks we defined earlier. These blocks are:"
   ]
  },
  {
   "cell_type": "code",
   "execution_count": 9,
   "metadata": {},
   "outputs": [
    {
     "data": {
      "image/png": "[encoded data removed]",
      "text/plain": [
       "<matplotlib.figure.Figure at 0x7fe9f2110d30>"
      ]
     },
     "metadata": {},
     "output_type": "display_data"
    },
    {
     "name": "stdout",
     "output_type": "stream",
     "text": [
      "Covered area 24, best bound found 24, total board area 33\n"
     ]
    }
   ],
   "source": [
    "model(11, 3, len(shapes_tetris), shapes_tetris, noncov=[], exact=False, rep=1)"
   ]
  },
  {
   "cell_type": "markdown",
   "metadata": {},
   "source": [
    "We now ask MOSEK for the maximal-area covering of a sample rectangle with holes by our Tetris blocks. You may want to enable logging to track the mixed-integer optimizer's progress."
   ]
  },
  {
   "cell_type": "code",
   "execution_count": 10,
   "metadata": {},
   "outputs": [
    {
     "data": {
      "image/png": "[encoded data removed]",
      "text/plain": [
       "<matplotlib.figure.Figure at 0x7fe9f21067f0>"
      ]
     },
     "metadata": {},
     "output_type": "display_data"
    },
    {
     "name": "stdout",
     "output_type": "stream",
     "text": [
      "Covered area 172, best bound found 172, total board area 177\n"
     ]
    }
   ],
   "source": [
    "# Define a stream printer to grab output from MOSEK\n",
    "def streamprinter(text):\n",
    "    sys.stdout.write(text)\n",
    "    sys.stdout.flush()\n",
    "n, m = 11, 17\n",
    "T = shapes_tetris\n",
    "t = len(T)\n",
    "noncov = [(0,0), (1,3), (9,13), (8,8), (7,7), (5,5), (4,4), (3,3), (3,1), (8,12)]\n",
    "model(n, m, t, T, noncov, exact = False, rep = 0, timelimit = 20.0, logging = None)"
   ]
  },
  {
   "cell_type": "markdown",
   "metadata": {},
   "source": [
    "### Combinatorial interpretation of infeasibility\n",
    "\n",
    "In some cases the integer problem is declared as infeasible already because its linear relaxation is infeasible. This case deserves some attention in our example. The linear relaxation of the exact covering problem has the form\n",
    "\n",
    "$$\n",
    "\\begin{array}{l}\n",
    "Ax = b, \\\\\n",
    "x\\geq 0,\n",
    "\\end{array}\n",
    "$$\n",
    "\n",
    "where $A$ is the adjacency matrix discussed previously and $b$ is the characteristic vector of available positions on the board.\n",
    "\n",
    "Standard duality for linear programing and Farkas lemma imply that a [certificate of primal infeasibility](http://docs.mosek.com/modeling-cookbook/linear.html#infeasibility-in-linear-optimization) is a vector $y$ satisfying\n",
    "\n",
    "$$\n",
    "\\begin{array}{l}\n",
    "A^Ty \\geq 0, \\\\\n",
    "b^Ty < 0.\n",
    "\\end{array}\n",
    "$$\n",
    "\n",
    "It means that an infeasibility certificate is an assignment of a real number to every position on the board so that:\n",
    "\n",
    "* every possible placement of a single brick covers positions with non-negative sum\n",
    "* the sum of all numbers on the board is negative\n",
    "\n",
    "It is combinatorially obvious that the existence of such an assignment implies an exact covering does not exist (unfortunately not vice-versa since the covering problem is NP-hard in general; in other words integer infeasibility does not imply continuous infeasibility).\n",
    "\n",
    "It is very easy to compute a relaxed infeasibility certificate, if one exists. All we need to do is reoptimize the task changing all integer variables to continuous ones and read off the certificate stored in the dual variables corresponding to constraints."
   ]
  },
  {
   "cell_type": "code",
   "execution_count": 11,
   "metadata": {},
   "outputs": [],
   "source": [
    "# Check if the linear relaxation is infeasible\n",
    "# And if so, print the infeasibility certificate\n",
    "# as a labeling of the rectangle grid.\n",
    "def attemptCertificate(n, m, noncov, task):\n",
    "    # Now we make the problem continuous\n",
    "    task.putvartypelist(range(task.getnumvar()), [variabletype.type_cont] * task.getnumvar())\n",
    "    task.optimize()\n",
    "    if task.getprosta(soltype.itr) == prosta.prim_infeas:\n",
    "        # Read the dual variables containing the certificate\n",
    "        y = np.zeros(n * m, dtype=float)\n",
    "        task.getyslice(soltype.itr, 0, n * m, y)\n",
    "        for p in range(n):\n",
    "            print(' '.join('    ' if (p,q) in noncov else '{: 3.1f}'.format(y[encodePos(n, m, p, q)])for q in range(m)))\n",
    "        print('Certificate with sum = {0}'.format(sum(y)))\n",
    "    else:\n",
    "        print('No certificate found')\n"
   ]
  },
  {
   "cell_type": "markdown",
   "metadata": {},
   "source": [
    "### Certificate example\n",
    "\n",
    "Let us use MOSEK to solve the following [puzzle from cut-the-knot](https://www.cut-the-knot.org/blue/Defective12x12Square.shtml). Can the $12\\times 12$ square with three corners removed be covered using $1\\times 3$ and $3\\times 1$ tiles?\n",
    "\n",
    "We solve this problem as follows:"
   ]
  },
  {
   "cell_type": "code",
   "execution_count": 12,
   "metadata": {},
   "outputs": [
    {
     "name": "stdout",
     "output_type": "stream",
     "text": [
      "No covering\n",
      "Looking for infeasibility certificate for the relaxation\n",
      "     -1.0 -0.0  1.0 -1.0 -0.0  1.0 -1.0 -0.0  1.0 -1.0     \n",
      "-1.0  1.0 -0.0 -1.0  1.0 -0.0 -1.0  1.0 -0.0 -1.0  1.0 -0.0\n",
      "-0.0 -0.0 -0.0 -0.0 -0.0 -0.0 -0.0 -0.0 -0.0 -0.0 -0.0 -0.0\n",
      " 1.0 -1.0 -0.0  1.0 -1.0 -0.0  1.0 -1.0 -0.0  1.0 -1.0 -0.0\n",
      "-1.0  1.0 -0.0 -1.0  1.0 -0.0 -1.0  1.0 -0.0 -1.0  1.0 -0.0\n",
      "-0.0 -0.0 -0.0 -0.0 -0.0 -0.0 -0.0 -0.0 -0.0 -0.0 -0.0 -0.0\n",
      " 1.0 -1.0 -0.0  1.0 -1.0 -0.0  1.0 -1.0 -0.0  1.0 -1.0 -0.0\n",
      "-1.0  1.0 -0.0 -1.0  1.0 -0.0 -1.0  1.0 -0.0 -1.0  1.0 -0.0\n",
      "-0.0 -0.0 -0.0 -0.0 -0.0 -0.0 -0.0 -0.0  0.0  0.0 -0.0 -0.0\n",
      " 1.0 -1.0 -0.0  1.0 -1.0 -0.0  1.0 -1.0  0.0  1.0 -1.0 -0.0\n",
      "-1.0  1.0 -0.0 -1.0  1.0 -0.0 -1.0  1.0 -0.0 -1.0  1.0 -0.0\n",
      "     -0.0 -0.0 -0.0 -0.0 -0.0 -0.0 -0.0 -0.0 -0.0 -0.0 -0.0\n",
      "Certificate with sum = -1.0\n"
     ]
    }
   ],
   "source": [
    "model(n = 12, m = 12,\n",
    "      t = 2, T = [shape_rectangle(1,3), shape_rectangle(3,1)],\n",
    "      noncov = [(0, 0), (0, 11), (11, 0)])"
   ]
  },
  {
   "cell_type": "markdown",
   "metadata": {},
   "source": [
    "We displayed the infeasibility certificate. Every $1\\times 3$ or $3\\times 1$ brick covers fields with nonnegative sum (in this case, in fact, exactly $0$), while the sum of all numbers is $-1$. That proves a covering does not exist."
   ]
  },
  {
   "cell_type": "markdown",
   "metadata": {},
   "source": [
    "### Acknowledgement\n",
    "\n",
    "\n",
    "Thanks to Jaroslaw Wroblewski for inspiring problems and discussions originating from his newsletter [Trapez](http://www.math.uni.wroc.pl/~jwr/trapez/)."
   ]
  },
  {
   "cell_type": "markdown",
   "metadata": {
    "collapsed": true
   },
   "source": [
    "<a rel=\"license\" href=\"http://creativecommons.org/licenses/by/4.0/\"><img alt=\"Creative Commons License\" style=\"border-width:0\" src=\"https://i.creativecommons.org/l/by/4.0/80x15.png\" /></a><br />This work is licensed under a <a rel=\"license\" href=\"http://creativecommons.org/licenses/by/4.0/\">Creative Commons Attribution 4.0 International License</a>. The **MOSEK** logo and name are trademarks of <a href=\"http://mosek.com\">Mosek ApS</a>. The code is provided as-is. Compatibility with future release of **MOSEK** or the `Fusion API` are not guaranteed. For more information contact our [support](mailto:support@mosek.com). "
   ]
  },
  {
   "cell_type": "code",
   "execution_count": null,
   "metadata": {
    "collapsed": true
   },
   "outputs": [],
   "source": []
  }
 ],
 "metadata": {
  "anaconda-cloud": {},
  "kernelspec": {
   "display_name": "Python 3",
   "language": "python",
   "name": "python3"
  },
  "language_info": {
   "codemirror_mode": {
    "name": "ipython",
    "version": 3
   },
   "file_extension": ".py",
   "mimetype": "text/x-python",
   "name": "python",
   "nbconvert_exporter": "python",
   "pygments_lexer": "ipython3",
   "version": "3.6.4"
  }
 },
 "nbformat": 4,
 "nbformat_minor": 1
}
