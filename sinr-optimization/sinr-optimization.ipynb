{
 "cells": [
  {
   "cell_type": "markdown",
   "metadata": {},
   "source": [
    "![MOSEK ApS](https://www.mosek.com/static/images/branding/webgraphmoseklogocolor.png )"
   ]
  },
  {
   "cell_type": "markdown",
   "metadata": {},
   "source": [
    "# Optimization for multiuser communications"
   ]
  },
  {
   "cell_type": "markdown",
   "metadata": {},
   "source": [
    "We consider a multiple-input multiple-output (MIMO) communication system \n",
    "with $n$ transmitters and $n$ receivers. Each transmitter transmits with power $p_j$ and the \n",
    "gain from transmitter $j$ to receiver $i$ is $G_{ij}$. The signal power from transmitter $i$ to receiver $i$ is then\n",
    "\n",
    "$$ S_i = G_{ii} p_i $$\n",
    "\n",
    "and the interference is\n",
    "\n",
    "$$ I_i = \\sum_{j\\neq i} G_{ij} p_j + \\sigma_i $$\n",
    "\n",
    "where $\\sigma_i$ is an additive noise component. In this notebook we consider different strategies for optimizing the signal-to-inference-plus-noise ratio (SINR)\n",
    "\n",
    "$$ s_i = \\frac{G_{ii} p_i}{\\sum_{j\\neq i} G_{ij} p_j + \\sigma_i} $$\n",
    "\n",
    "with a bound on the total transmitted power $ \\sum_i p_i \\leq P $."
   ]
  },
  {
   "cell_type": "markdown",
   "metadata": {},
   "source": [
    "## Minimizing total power for given SINRs\n",
    "Suppose we are given lower bounds $s_i \\geq \\gamma_i$. We can then minimize the required power\n",
    "$$ \n",
    "\\begin{array}{ll}\n",
    "\\text{minimize}   & \\sum_i p_i \\\\\n",
    "\\text{subject to} & s_i \\geq \\gamma_i \\\\\n",
    "                  & \\sum_i p_i \\leq P,\n",
    "\\end{array}\n",
    "$$\n",
    "which is equivalent to a linear optimization problem\n",
    "$$ \n",
    "\\begin{array}{ll}\n",
    "\\text{minimize}   & \\sum_i p_i \\\\\n",
    "\\text{subject to} & G_{ii} p_i \\geq \\gamma_i\\left ( \\sum_{j\\neq i} G_{ij} p_j + \\sigma_i \\right ) \\\\\n",
    "                  & \\sum_i p_i \\leq P.\n",
    "\\end{array}\n",
    "$$"
   ]
  },
  {
   "cell_type": "markdown",
   "metadata": {},
   "source": [
    "## Maximizing the worst SINR\n",
    "Alternatively we can maximize the smallest $s_i$,\n",
    "\n",
    "$$\n",
    "\\begin{array}{ll}\n",
    "\\text{maximize}   & t \\\\\n",
    "\\text{subject to} & s_i \\geq t \\\\\n",
    "                  & \\sum_i p_i \\leq P.\n",
    "\\end{array}\n",
    "$$\n",
    "\n",
    "Equivalently we can minimize the inverse, \n",
    "\n",
    "$$\n",
    "\\begin{array}{ll}\n",
    "\\text{minimize}   & t^{-1} \\\\\n",
    "\\text{subject to} & t \\left ( \\sum_{j\\neq i} G_{ij} p_j + \\sigma_i \\right ) G_{ii}^{-1} p_i^{-1} \\leq 1 \\\\\n",
    "                  & \\sum_i p_i \\leq P,\n",
    "\\end{array}\n",
    "$$\n",
    "\n",
    "which can be rewritten as a geometric programming problem\n",
    "\n",
    "$$\n",
    "\\begin{array}{ll}\n",
    "\\text{minimize} & -z\\\\\n",
    "\\text{subject to} &\n",
    "\\log \\left ( \\sum_{j\\neq i}e^{z + q_j - q_i + \\log(G_{ij}/G_{ii})} + e^{z - q_i + \\log(\\sigma_i/G_{ii})} \\right ) \\leq 0\\\\\n",
    "& \\log \\left ( \\sum_i e^{q_i-\\log P}\\right) \\leq 0\n",
    "\\end{array}\n",
    "$$\n",
    "\n",
    "with $p_i := e^{q_i}$ and $t := e^z$. To rewrite the geometric program into conic form, we note that\n",
    "\n",
    "$$ \n",
    "\\log \\left( \\sum_{i=1}^n e^{a_i^T x + b_i}\\right) \\leq 0 \\qquad \\Longleftrightarrow \\qquad \n",
    "\\sum_i u_i\\leq 1, \\quad (u_i, 1, a_i^Tx + b_i)\\in K_\\text{exp}, \\: i=1,\\dots n.\n",
    "$$"
   ]
  },
  {
   "cell_type": "code",
   "execution_count": 1,
   "metadata": {},
   "outputs": [],
   "source": [
    "import sys\n",
    "import numpy as np\n",
    "from mosek.fusion import *\n",
    "import matplotlib.pyplot as plt"
   ]
  },
  {
   "cell_type": "code",
   "execution_count": 2,
   "metadata": {},
   "outputs": [],
   "source": [
    "def logsumexp(M, A, x, b):    \n",
    "    u = M.variable(A.shape[0])\n",
    "    M.constraint( Expr.sum(u), Domain.lessThan(1.0))\n",
    "    M.constraint( Expr.hstack(u,\n",
    "                              Expr.constTerm(A.shape[0], 1.0),\n",
    "                              Expr.add(Expr.mul(A, x), b)), Domain.inPExpCone())"
   ]
  },
  {
   "cell_type": "code",
   "execution_count": 3,
   "metadata": {},
   "outputs": [],
   "source": [
    "def max_worst_sinr(G, P, sigma):\n",
    "    n = G.shape[0]\n",
    "    with Model('MAX_WORST_SINR') as M:\n",
    "        qz = M.variable('qz', n+1) # concatenation of q and z\n",
    "        M.objective('Objective',ObjectiveSense.Minimize,Expr.neg(qz.index(n)))\n",
    "        for i in range(n):\n",
    "            #u = M.variable(n)\n",
    "            A = np.zeros((n,n+1))\n",
    "            b = np.zeros(n)\n",
    "            for j in [k for k in range(n) if k!=i]:\n",
    "                A[j,[i,j,n]] = [-1, 1, 1]\n",
    "                b[j] = G[i,j]/G[i,i]\n",
    "            A[i, [i, n]] = [-1, 1]\n",
    "            b[i] = sigma[i]/G[i,i]\n",
    "            # If any Gij == 0, then we filter out row j\n",
    "            idx = np.nonzero(b)[0] \n",
    "            logsumexp(M, A[idx,:], qz, np.log(b[idx]))\n",
    "    \n",
    "        logsumexp(M, np.eye(n), qz.slice(0,n), np.log(P)*np.ones(n))\n",
    "        M.setLogHandler(sys.stdout)\n",
    "\n",
    "        M.solve()\n",
    "        pt = np.exp(qz.level())\n",
    "        return (pt[0:n], pt[n])"
   ]
  },
  {
   "cell_type": "code",
   "execution_count": 4,
   "metadata": {},
   "outputs": [],
   "source": [
    "P = 1.0\n",
    "        \n",
    "# G = np.array([[1.0,0.1,0.2],\n",
    "#               [0.1,1.0,0.1],\n",
    "#               [0.2,0.1,2.0]])\n",
    "\n",
    "G = np.array([[1.0,0.1,0.2,0.1,0.0],\n",
    "              [0.1,1.0,0.1,0.1,0.0],\n",
    "              [0.2,0.1,2.0,0.2,0.2],\n",
    "              [0.1,0.1,0.2,1.0,0.1],\n",
    "              [0.0,0.0,0.2,0.1,1.0]])\n",
    "\n",
    "sigma = 0.1*np.ones(G.shape[0])"
   ]
  },
  {
   "cell_type": "code",
   "execution_count": 5,
   "metadata": {
    "scrolled": true
   },
   "outputs": [
    {
     "name": "stdout",
     "output_type": "stream",
     "text": [
      "Problem\n",
      "  Name                   : MAX_WORST_SINR  \n",
      "  Objective sense        : min             \n",
      "  Type                   : CONIC (conic optimization problem)\n",
      "  Constraints            : 84              \n",
      "  Cones                  : 26              \n",
      "  Scalar variables       : 110             \n",
      "  Matrix variables       : 0               \n",
      "  Integer variables      : 0               \n",
      "\n",
      "Optimizer started.\n",
      "Presolve started.\n",
      "Linear dependency checker started.\n",
      "Linear dependency checker terminated.\n",
      "Eliminator started.\n",
      "Freed constraints in eliminator : 1\n",
      "Eliminator terminated.\n",
      "Eliminator - tries                  : 1                 time                   : 0.00            \n",
      "Lin. dep.  - tries                  : 1                 time                   : 0.00            \n",
      "Lin. dep.  - number                 : 0               \n",
      "Presolve terminated. Time: 0.00    \n",
      "Problem\n",
      "  Name                   : MAX_WORST_SINR  \n",
      "  Objective sense        : min             \n",
      "  Type                   : CONIC (conic optimization problem)\n",
      "  Constraints            : 84              \n",
      "  Cones                  : 26              \n",
      "  Scalar variables       : 110             \n",
      "  Matrix variables       : 0               \n",
      "  Integer variables      : 0               \n",
      "\n",
      "Optimizer  - threads                : 20              \n",
      "Optimizer  - solved problem         : the primal      \n",
      "Optimizer  - Constraints            : 26\n",
      "Optimizer  - Cones                  : 26\n",
      "Optimizer  - Scalar variables       : 84                conic                  : 78              \n",
      "Optimizer  - Semi-definite variables: 0                 scalarized             : 0               \n",
      "Factor     - setup time             : 0.00              dense det. time        : 0.00            \n",
      "Factor     - ML order time          : 0.00              GP order time          : 0.00            \n",
      "Factor     - nonzeros before factor : 273               after factor           : 274             \n",
      "Factor     - dense dim.             : 0                 flops                  : 6.44e+03        \n",
      "ITE PFEAS    DFEAS    GFEAS    PRSTATUS   POBJ              DOBJ              MU       TIME  \n",
      "0   5.5e+00  1.3e+00  2.4e+01  0.00e+00   -6.469082949e-01  -2.323523713e+01  1.0e+00  0.02  \n",
      "1   7.1e-01  1.7e-01  1.9e+00  2.60e-01   4.859056630e-01   -3.711859210e+00  1.3e-01  0.03  \n",
      "2   1.4e-01  3.4e-02  7.5e-02  1.32e+00   5.230194020e-01   -1.741862045e-01  2.6e-02  0.03  \n",
      "3   3.2e-02  7.6e-03  7.9e-03  1.50e+00   -1.098876253e-01  -2.363502006e-01  5.9e-03  0.03  \n",
      "4   3.8e-03  9.0e-04  3.2e-04  1.10e+00   -2.021699466e-01  -2.163371765e-01  7.0e-04  0.03  \n",
      "5   1.9e-04  4.6e-05  3.6e-06  1.01e+00   -2.145322102e-01  -2.152447601e-01  3.5e-05  0.03  \n",
      "6   8.3e-06  2.0e-06  3.2e-08  1.00e+00   -2.151399370e-01  -2.151705875e-01  1.5e-06  0.04  \n",
      "7   1.0e-06  2.4e-07  1.4e-09  1.00e+00   -2.151617606e-01  -2.151654785e-01  1.8e-07  0.04  \n",
      "8   8.3e-08  2.0e-08  3.2e-11  1.00e+00   -2.151642748e-01  -2.151645803e-01  1.5e-08  0.04  \n",
      "9   5.9e-09  1.4e-09  5.9e-13  1.00e+00   -2.151644755e-01  -2.151644966e-01  1.0e-09  0.04  \n",
      "Optimizer terminated. Time: 0.04    \n",
      "\n",
      "\n",
      "Interior-point solution summary\n",
      "  Problem status  : PRIMAL_AND_DUAL_FEASIBLE\n",
      "  Solution status : OPTIMAL\n",
      "  Primal.  obj: -2.1516447549e-01   nrm: 3e+00    Viol.  con: 5e-09    var: 0e+00    cones: 0e+00  \n",
      "  Dual.    obj: -2.1516449664e-01   nrm: 5e-01    Viol.  con: 6e-17    var: 8e-10    cones: 0e+00  \n"
     ]
    }
   ],
   "source": [
    "p1, t1 = max_worst_sinr(G, P, sigma)"
   ]
  },
  {
   "cell_type": "code",
   "execution_count": 6,
   "metadata": {},
   "outputs": [
    {
     "name": "stdout",
     "output_type": "stream",
     "text": [
      "[0.21653447 0.19949097 0.15448378 0.23769449 0.19179628] 1.24006584063517\n"
     ]
    }
   ],
   "source": [
    "print (p1, t1)"
   ]
  },
  {
   "cell_type": "code",
   "execution_count": 7,
   "metadata": {},
   "outputs": [
    {
     "name": "stdout",
     "output_type": "stream",
     "text": [
      "[1.24006585 1.24006586 1.24006586 1.24006585 1.24006586]\n"
     ]
    }
   ],
   "source": [
    "SINR1 = (np.diagonal(G)*p1)/(np.dot(G,p1) - np.diagonal(G)*p1 + sigma)\n",
    "print(SINR1)"
   ]
  },
  {
   "cell_type": "markdown",
   "metadata": {},
   "source": [
    "## Maximizing the best SINR\n",
    "The solution to\n",
    "$$\n",
    "\\begin{array}{ll}\n",
    "\\text{maximize}   & t_i \\\\\n",
    "\\text{subject to} & s_i \\leq t_i \\\\\n",
    "                  & \\sum_i p_i \\leq P\n",
    "\\end{array}\n",
    "$$\n",
    "is trivial; we choose the index $k$ maximizing $P_{ii}/\\sigma_i$ and take $p_k=P$ and $p_j=0,\\: j\\neq k$."
   ]
  },
  {
   "cell_type": "code",
   "execution_count": 8,
   "metadata": {},
   "outputs": [],
   "source": [
    "def max_best_SINR(G,P,sigma):\n",
    "    GSD = [G[i][i]/sigma[i] for i in range(G.shape[0])]\n",
    "    P_max = max(GSD)\n",
    "    #Thus, maximum of the best SINR is equal to...\n",
    "    return(P_max*P)"
   ]
  },
  {
   "cell_type": "code",
   "execution_count": 9,
   "metadata": {},
   "outputs": [
    {
     "name": "stdout",
     "output_type": "stream",
     "text": [
      "20.0\n"
     ]
    }
   ],
   "source": [
    "print(max_best_SINR(G,P,sigma))"
   ]
  },
  {
   "cell_type": "markdown",
   "metadata": {},
   "source": [
    "## Maximizing average SINR\n",
    "We can maximize the average SINR as\n",
    "$$\n",
    "\\begin{array}{ll}\n",
    "\\text{maximize}   & \\sum_i t_i \\\\\n",
    "\\text{subject to} & s_i \\geq t_i \\\\\n",
    "                  & 0 \\leq p_i \\leq P_i \\\\\n",
    "                  & \\sum_i p_i \\leq P,\n",
    "\\end{array}\n",
    "$$\n",
    "which corresponds to an intractable non-convex bilinear optimization problem. However, in the low-SINR regime, we can approximate the above problem by maximizing $\\sum_i \\log t_i$, or equivalently minimizing $\\prod_i t_i^{-1}$:\n",
    "$$\n",
    "\\begin{array}{ll}\n",
    "\\text{minimize}   & \\prod_i t_i^{-1} \\\\\n",
    "\\text{subject to} & t_i \\left ( \\sum_{j\\neq i} G_{ij} p_j + \\sigma_i \\right ) G_{ii}^{-1} p_i^{-1} \\leq 1 \\\\\n",
    "                  & 0 \\leq p_i \\leq P_i \\\\\n",
    "                  & \\sum_i p_i \\leq P,\n",
    "\\end{array}\n",
    "$$\n",
    "which again corresponds to a geometric programming problem."
   ]
  },
  {
   "cell_type": "code",
   "execution_count": 10,
   "metadata": {},
   "outputs": [],
   "source": [
    "def min_Geo_mean(G,P,sigma):\n",
    "    n = G.shape[0]\n",
    "    with Model('MIN_GEO_MEAN') as M:\n",
    "        t = M.variable('t',n)\n",
    "        x = M.variable('x',n)\n",
    "        q = M.variable('q',n)\n",
    "            \n",
    "        logsumexp(M,np.eye(n),q,np.log(P)*np.ones(n))\n",
    "        \n",
    "        M.constraint(Expr.hstack(x,Expr.constTerm(n, 1.0),Expr.neg(t)),Domain.inPExpCone())\n",
    "        M.objective('Objective',ObjectiveSense.Minimize,Expr.sum(x))\n",
    "        \n",
    "        for i in range(n):\n",
    "            A = np.zeros((n,n+1))\n",
    "            b = np.zeros(n)\n",
    "            for j in [k for k in range(n) if k!=i]:\n",
    "                A[j,[i,j,n]] = [-1,1,1]\n",
    "                b[j] = G[i,j]/G[i,i]\n",
    "            A[i,[i,n]] = [-1,1]\n",
    "            b[i] = sigma[i]/G[i,i]\n",
    "            idx = np.nonzero(b)[0]\n",
    "            logsumexp(M,A[idx,:],Expr.vstack(q,t.index(i)),np.log(b[idx]))\n",
    "        \n",
    "        M.setLogHandler(sys.stdout)\n",
    "        \n",
    "        M.solve()\n",
    "        T = t.level()\n",
    "        p = np.exp(q.level())\n",
    "        return(T,p)"
   ]
  },
  {
   "cell_type": "code",
   "execution_count": 11,
   "metadata": {},
   "outputs": [
    {
     "name": "stdout",
     "output_type": "stream",
     "text": [
      "Problem\n",
      "  Name                   : MIN_GEO_MEAN    \n",
      "  Objective sense        : min             \n",
      "  Type                   : CONIC (conic optimization problem)\n",
      "  Constraints            : 99              \n",
      "  Cones                  : 31              \n",
      "  Scalar variables       : 134             \n",
      "  Matrix variables       : 0               \n",
      "  Integer variables      : 0               \n",
      "\n",
      "Optimizer started.\n",
      "Presolve started.\n",
      "Linear dependency checker started.\n",
      "Linear dependency checker terminated.\n",
      "Eliminator started.\n",
      "Freed constraints in eliminator : 0\n",
      "Eliminator terminated.\n",
      "Eliminator - tries                  : 1                 time                   : 0.00            \n",
      "Lin. dep.  - tries                  : 1                 time                   : 0.00            \n",
      "Lin. dep.  - number                 : 0               \n",
      "Presolve terminated. Time: 0.00    \n",
      "Problem\n",
      "  Name                   : MIN_GEO_MEAN    \n",
      "  Objective sense        : min             \n",
      "  Type                   : CONIC (conic optimization problem)\n",
      "  Constraints            : 99              \n",
      "  Cones                  : 31              \n",
      "  Scalar variables       : 134             \n",
      "  Matrix variables       : 0               \n",
      "  Integer variables      : 0               \n",
      "\n",
      "Optimizer  - threads                : 20              \n",
      "Optimizer  - solved problem         : the primal      \n",
      "Optimizer  - Constraints            : 27\n",
      "Optimizer  - Cones                  : 31\n",
      "Optimizer  - Scalar variables       : 99                conic                  : 93              \n",
      "Optimizer  - Semi-definite variables: 0                 scalarized             : 0               \n",
      "Factor     - setup time             : 0.00              dense det. time        : 0.00            \n",
      "Factor     - ML order time          : 0.00              GP order time          : 0.00            \n",
      "Factor     - nonzeros before factor : 185               after factor           : 201             \n",
      "Factor     - dense dim.             : 0                 flops                  : 3.06e+03        \n",
      "ITE PFEAS    DFEAS    GFEAS    PRSTATUS   POBJ              DOBJ              MU       TIME  \n",
      "0   9.4e+00  2.2e+00  5.6e+01  0.00e+00   6.454638549e+00   -2.495816205e+01  3.0e+00  0.01  \n",
      "1   1.0e+00  2.5e-01  2.9e+00  4.72e-01   5.075171100e+00   6.031818405e-01   3.3e-01  0.01  \n",
      "2   1.7e-01  4.1e-02  1.7e-01  1.09e+00   4.290496988e+00   3.593173171e+00   5.5e-02  0.01  \n",
      "3   2.2e-02  5.2e-03  7.5e-03  1.06e+00   4.041407095e+00   3.954973253e+00   7.0e-03  0.02  \n",
      "4   6.0e-04  1.4e-04  3.3e-05  1.01e+00   4.006264165e+00   4.003947018e+00   1.9e-04  0.02  \n",
      "5   2.8e-05  6.6e-06  3.3e-07  1.00e+00   4.005655725e+00   4.005546554e+00   8.9e-06  0.02  \n",
      "6   2.8e-06  6.6e-07  1.0e-08  1.00e+00   4.005636456e+00   4.005625638e+00   8.8e-07  0.02  \n",
      "7   3.5e-07  8.4e-08  4.7e-10  1.00e+00   4.005635083e+00   4.005633711e+00   1.1e-07  0.02  \n",
      "8   5.0e-08  1.2e-08  2.4e-11  1.00e+00   4.005634944e+00   4.005634754e+00   1.6e-08  0.02  \n",
      "9   4.4e-08  9.8e-09  1.9e-11  1.00e+00   4.005634935e+00   4.005634775e+00   1.3e-08  0.02  \n",
      "10  3.2e-08  6.1e-09  9.3e-12  1.00e+00   4.005634937e+00   4.005634837e+00   8.1e-09  0.02  \n",
      "11  2.4e-08  3.8e-09  4.6e-12  1.00e+00   4.005634918e+00   4.005634856e+00   5.3e-09  0.02  \n",
      "12  2.1e-09  3.3e-10  1.2e-13  1.00e+00   4.005634919e+00   4.005634913e+00   4.6e-10  0.02  \n",
      "Optimizer terminated. Time: 0.03    \n",
      "\n",
      "\n",
      "Interior-point solution summary\n",
      "  Problem status  : PRIMAL_AND_DUAL_FEASIBLE\n",
      "  Solution status : OPTIMAL\n",
      "  Primal.  obj: 4.0056349189e+00    nrm: 3e+00    Viol.  con: 1e-09    var: 0e+00    cones: 6e-10  \n",
      "  Dual.    obj: 4.0056349135e+00    nrm: 2e+00    Viol.  con: 3e-16    var: 1e-10    cones: 0e+00  \n"
     ]
    }
   ],
   "source": [
    "t2,p2 = min_Geo_mean(G, P, sigma)"
   ]
  },
  {
   "cell_type": "code",
   "execution_count": 12,
   "metadata": {},
   "outputs": [
    {
     "name": "stdout",
     "output_type": "stream",
     "text": [
      "The powers for an optimum average would be: [0.21244427 0.21244413 0.15022304 0.21244423 0.21244434]\n",
      "The corresponding SINRs: [1.23132227 1.3487561  1.2080129  1.09632857 1.40422832]\n"
     ]
    }
   ],
   "source": [
    "SINR2 = (np.diagonal(G)*p2)/(np.dot(G,p2) - np.diagonal(G)*p2 + sigma)\n",
    "print('The powers for an optimum average would be: {}'.format(p2))\n",
    "print('The corresponding SINRs: {}'.format(SINR2))"
   ]
  },
  {
   "cell_type": "markdown",
   "metadata": {},
   "source": [
    "# Comparing the SINR for the cases above..."
   ]
  },
  {
   "cell_type": "code",
   "execution_count": 13,
   "metadata": {},
   "outputs": [
    {
     "data": {
      "image/png": "[encoded data removed]",
      "text/plain": [
       "<matplotlib.figure.Figure at 0x7fac8bca9438>"
      ]
     },
     "metadata": {},
     "output_type": "display_data"
    }
   ],
   "source": [
    "fig,ax = plt.subplots(figsize = (13,10))\n",
    "bar_width = 0.35\n",
    "p_num = np.arange(1,G.shape[0]+1)\n",
    "\n",
    "B1 = ax.bar(p_num,SINR1,bar_width,label = 'Max Worst SINR')\n",
    "B2 = ax.bar(p_num+bar_width,SINR2,bar_width,label = 'Max Average SINR')\n",
    "\n",
    "ax.set_ylabel('SINR')\n",
    "ax.set_xticks(p_num + bar_width/2)\n",
    "x_tiK = ['p{}'.format(i+1) for i in range(G.shape[0])]\n",
    "ax.set_xticklabels(x_tiK)\n",
    "ax.set_xlabel('Transmitter')\n",
    "ax.legend()\n",
    "plt.show()"
   ]
  },
  {
   "cell_type": "markdown",
   "metadata": {},
   "source": [
    "Note: The second case, that is the one with maximum best SINR is not plotted as it is just one transmitter (transmitter number 3) with a power of 1, and an SINR of 20."
   ]
  },
  {
   "cell_type": "markdown",
   "metadata": {},
   "source": [
    "<a rel=\"license\" href=\"http://creativecommons.org/licenses/by/4.0/\"><img alt=\"Creative Commons License\" style=\"border-width:0\" src=\"https://i.creativecommons.org/l/by/4.0/80x15.png\" /></a><br />This work is licensed under a <a rel=\"license\" href=\"http://creativecommons.org/licenses/by/4.0/\">Creative Commons Attribution 4.0 International License</a>. The **MOSEK** logo and name are trademarks of <a href=\"http://mosek.com\">Mosek ApS</a>. The code is provided as-is. Compatibility with future release of **MOSEK** or the `Fusion API` are not guaranteed. For more information contact our [support](mailto:support@mosek.com). "
   ]
  }
 ],
 "metadata": {
  "kernelspec": {
   "display_name": "Python 3",
   "language": "python",
   "name": "python3"
  },
  "language_info": {
   "codemirror_mode": {
    "name": "ipython",
    "version": 3
   },
   "file_extension": ".py",
   "mimetype": "text/x-python",
   "name": "python",
   "nbconvert_exporter": "python",
   "pygments_lexer": "ipython3",
   "version": "3.6.4"
  }
 },
 "nbformat": 4,
 "nbformat_minor": 2
}
